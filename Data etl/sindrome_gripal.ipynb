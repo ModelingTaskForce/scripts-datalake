{
 "cells": [
  {
   "cell_type": "code",
   "execution_count": 6,
   "id": "f82c7420-1834-4796-9173-ef890e600952",
   "metadata": {},
   "outputs": [],
   "source": [
    "# importando bibliotecas"
   ]
  },
  {
   "cell_type": "code",
   "execution_count": 7,
   "id": "511e9918-61e3-4051-9386-82f8c2a53cbc",
   "metadata": {},
   "outputs": [],
   "source": [
    "import os\n",
    "import string\n",
    "import re\n",
    "import unidecode"
   ]
  },
  {
   "cell_type": "code",
   "execution_count": 8,
   "id": "d5567976-a8d9-4afc-9e59-6e94fe963937",
   "metadata": {},
   "outputs": [],
   "source": [
    "from core import spark, F, T"
   ]
  },
  {
   "cell_type": "code",
   "execution_count": 9,
   "id": "db10c086-d24d-4fd7-8f08-7080bc89990e",
   "metadata": {},
   "outputs": [],
   "source": [
    "# configurando pasta de input\n",
    "# isso é firula pra nao ultrapassar o limite da pep (79)"
   ]
  },
  {
   "cell_type": "code",
   "execution_count": 10,
   "id": "9402ffb6-5295-474e-8bca-c47632722a86",
   "metadata": {},
   "outputs": [],
   "source": [
    "datalake = '/media/fabio/19940C2755DB566F/PAMepi/datalake/'\n",
    "raw_version = 'raw_data_covid19_version-2022-01-25'\n",
    "folder_sg = 'data-notificacao_sindrome_gripal/'\n",
    "\n",
    "sg_input = os.path.join(datalake, raw_version, folder_sg)"
   ]
  },
  {
   "cell_type": "code",
   "execution_count": 11,
   "id": "217386a7-0e97-480d-9be9-d157bf7ac216",
   "metadata": {},
   "outputs": [
    {
     "name": "stderr",
     "output_type": "stream",
     "text": [
      "                                                                                \r"
     ]
    }
   ],
   "source": [
    "raw = spark.read.csv('/home/fabio/Downloads/sindrome_gripal/', header=True)"
   ]
  },
  {
   "cell_type": "code",
   "execution_count": 12,
   "id": "2c6e2a1c-da92-4739-be64-b189b6b3c657",
   "metadata": {},
   "outputs": [
    {
     "name": "stdout",
     "output_type": "stream",
     "text": [
      "-RECORD 0------------------------------\n",
      " id                       | 8OQItgBNg6 \n",
      " estadoNotificacao        | São Paulo  \n",
      " estadoNotificacaoIBGE    | null       \n",
      " municipioNotificacao     | São Paulo  \n",
      " municipioNotificacaoIBGE | null       \n",
      " profissionalSaude        | null       \n",
      " profissionalSeguranca    | null       \n",
      " cbo                      | null       \n",
      " sexo                     | null       \n",
      " racaCor                  | null       \n",
      " estado                   | null       \n",
      " estadoIBGE               | null       \n",
      " municipio                | null       \n",
      " municipioIBGE            | null       \n",
      " dataNotificacao          | null       \n",
      " sintomas                 | null       \n",
      " outrosSintomas           | null       \n",
      " dataInicioSintomas       | null       \n",
      " condicoes                | null       \n",
      " estadoTeste              | null       \n",
      " dataTeste                | null       \n",
      " tipoTeste                | null       \n",
      " resultadoTeste           | null       \n",
      " classificacaoFinal       | null       \n",
      " evolucaoCaso             | null       \n",
      " dataEncerramento         | null       \n",
      " cnes                     | null       \n",
      " idade                    | null       \n",
      "only showing top 1 row\n",
      "\n"
     ]
    }
   ],
   "source": [
    "raw.show(1, vertical=True, truncate=False)"
   ]
  },
  {
   "cell_type": "code",
   "execution_count": 13,
   "id": "8e025b1f-7640-4945-932f-d352cd89483f",
   "metadata": {},
   "outputs": [],
   "source": [
    "def remove_special_character(row):\n",
    "    try:\n",
    "        chars = re.escape(string.punctuation)\n",
    "        row_sub = re.sub(r'['+chars+']', ' ', row)\n",
    "        row_uni = unidecode.unidecode(row_sub).lower()\n",
    "        row_split = row_uni.split(' ')\n",
    "        for s in range(len(row_split)):\n",
    "            try:\n",
    "                row_split.remove('')\n",
    "            except ValueError:\n",
    "                pass\n",
    "        return ' '.join(row_split)\n",
    "    except TypeError:\n",
    "        return None"
   ]
  },
  {
   "cell_type": "code",
   "execution_count": 14,
   "id": "d1238d2f-b4ae-4389-8f2c-ef79ba7e12a3",
   "metadata": {},
   "outputs": [],
   "source": [
    "remove_special_character_udf = F.udf(remove_special_character, T.StringType())"
   ]
  },
  {
   "cell_type": "code",
   "execution_count": 15,
   "id": "266edc3c-d5c8-4b4e-bc7a-cc2a4245c3d3",
   "metadata": {},
   "outputs": [],
   "source": [
    "integer_columns = [\n",
    "    'estadoNotificacaoIBGE', 'municipioNotificacaoIBGE',\n",
    "    'municipioIBGE', 'cnes', 'idade',\n",
    "]\n",
    "\n",
    "string_columns = [\n",
    "    'id', 'cbo', 'estadoNotificacao', 'municipioNotificacao',\n",
    "    'profissionalSaude', 'profissionalSeguranca', 'sexo', 'racaCor', \n",
    "    'sintomas', 'outrosSintomas', 'condicoes', 'estadoTeste', 'tipoTeste',\n",
    "    'resultadoTeste', 'classificacaoFinal', 'evolucaoCaso','estadoIBGE',\n",
    "]\n",
    "\n",
    "date_columns = [\n",
    "    'dataNotificacao', 'dataInicioSintomas', 'dataTeste', 'dataEncerramento',\n",
    "]"
   ]
  },
  {
   "cell_type": "code",
   "execution_count": 16,
   "id": "039cb9e1-ddaa-4b4c-aaf3-05854841deed",
   "metadata": {},
   "outputs": [],
   "source": [
    "# apenas confirmados e que não tenham sido cancelado"
   ]
  },
  {
   "cell_type": "code",
   "execution_count": 17,
   "id": "2f5fdbde-b512-4e6d-8a22-71c96ede65bc",
   "metadata": {},
   "outputs": [],
   "source": [
    "cases_conf = raw.filter((raw['classificacaoFinal'].startswith('Conf')) &\n",
    "                        (raw['evolucaoCaso'] != 'Cancelado'))"
   ]
  },
  {
   "cell_type": "code",
   "execution_count": 18,
   "id": "a4d713d5-3c79-4623-b59e-400acafd64da",
   "metadata": {},
   "outputs": [],
   "source": [
    "for col in string_columns:\n",
    "    cases_conf = cases_conf.withColumn(col, remove_special_character_udf(col))"
   ]
  },
  {
   "cell_type": "code",
   "execution_count": 19,
   "id": "59dfd916-6918-4e32-8032-aec93b0d243f",
   "metadata": {},
   "outputs": [],
   "source": [
    "for col in integer_columns:\n",
    "    cases_conf = cases_conf.withColumn(col, F.col(col).cast(T.IntegerType()))"
   ]
  },
  {
   "cell_type": "code",
   "execution_count": 20,
   "id": "ad27f7b5-4ae3-49b8-a325-cd55eba20254",
   "metadata": {},
   "outputs": [],
   "source": [
    "for col in date_columns:\n",
    "    cases_conf = cases_conf.withColumn(col, F.col(col).cast(T.DateType()))"
   ]
  },
  {
   "cell_type": "code",
   "execution_count": 21,
   "id": "81481785-5e19-42bb-95cf-3c43fa6cbb56",
   "metadata": {},
   "outputs": [],
   "source": [
    "cases_conf = cases_conf.withColumn(\n",
    "    'sexo', F.when(F.col('sexo').startswith('f'), 1) \\\n",
    "    .when(F.col('sexo').startswith('m'), 2) \\\n",
    "    .when(F.col('sexo').startswith('i'), 9) \\\n",
    "    .otherwise(F.lit(None)))"
   ]
  },
  {
   "cell_type": "code",
   "execution_count": 22,
   "id": "5a2e0a20-ce06-48dd-af2e-a95bdfad8e0c",
   "metadata": {},
   "outputs": [],
   "source": [
    "cases_conf = cases_conf.withColumn(\n",
    "    'racaCor', F.when(F.col('racaCor').startswith('ignorado'), 9) \\\n",
    "    .when(F.col('racaCor').startswith('pret'), 1) \\\n",
    "    .when(F.col('racaCor').startswith('indigena'), 2) \\\n",
    "    .when(F.col('racaCor').startswith('amarel'), 3) \\\n",
    "    .when(F.col('racaCor').startswith('branc'), 4) \\\n",
    "    .when(F.col('racaCor').startswith('pard'), 5) \\\n",
    "    .otherwise(F.lit(None)))"
   ]
  },
  {
   "cell_type": "code",
   "execution_count": 23,
   "id": "f6393aa1-4040-47bf-bd96-dfc67949f397",
   "metadata": {},
   "outputs": [],
   "source": [
    "cases_conf = cases_conf.withColumn(\n",
    "    'tipoTeste', F.when(F.col('tipoTeste') == 'quimioluminescencia clia', 1) \\\n",
    "    .when(F.col('tipoTeste') == 'teste rapido antigeno', 2) \\\n",
    "    .when(F.col('tipoTeste') \\\n",
    "          .startswith('imunoensaio por eletroquimioluminescencia'), 3) \\\n",
    "    .when(F.col('tipoTeste').startswith('enzimaimunoensaio'), 4) \\\n",
    "    .when(F.col('tipoTeste') == 'teste rapido anticorpo', 5) \\\n",
    "    .when(F.col('tipoTeste') == 'rt pcr', 6) \\\n",
    "    .otherwise(F.col('tipoTeste')))"
   ]
  },
  {
   "cell_type": "code",
   "execution_count": 24,
   "id": "2321baf2-ca19-44fe-a669-99d33cf71e9b",
   "metadata": {},
   "outputs": [],
   "source": [
    "cases_conf = cases_conf.withColumn(\n",
    "    'evolucaoCaso', F.when(F.col('evolucaoCaso') == 'ignorado', 9) \\\n",
    "    .when(F.col('evolucaoCaso') == 'internado em uti', 2) \\\n",
    "    .when(F.col('evolucaoCaso') == 'internado', 3) \\\n",
    "    .when(F.col('evolucaoCaso') == 'em tratamento domiciliar', 4) \\\n",
    "    .when(F.col('evolucaoCaso') == 'cura', 5) \\\n",
    "    .when(F.col('evolucaoCaso') == 'obito', 6) \\\n",
    "    .otherwise(F.col('evolucaoCaso')))"
   ]
  },
  {
   "cell_type": "code",
   "execution_count": 25,
   "id": "722c7624-fc03-4dea-b006-4e914ed39398",
   "metadata": {},
   "outputs": [],
   "source": [
    "cases_conf = cases_conf.withColumn(\n",
    "    'classificacaoFinal', F.when(F.col('classificacaoFinal') \\\n",
    "                                 .endswith('confirmado'), 1) \\\n",
    "    .when(F.col('classificacaoFinal').endswith('clinico'), 2) \\\n",
    "    .when(F.col('classificacaoFinal').endswith('imagem'), 3) \\\n",
    "    .when(F.col('classificacaoFinal').endswith('epidemiologico'), 4) \\\n",
    "    .when(F.col('classificacaoFinal').endswith('laboratorial'), 5) \\\n",
    "    .otherwise(F.col('classificacaoFinal')))"
   ]
  },
  {
   "cell_type": "code",
   "execution_count": 26,
   "id": "8daa2e28-9f8b-4b9d-bc5a-4f75a39de5fe",
   "metadata": {},
   "outputs": [],
   "source": [
    "cases_conf = cases_conf.withColumn(\n",
    "    'resultadoTeste', F.when(F.col('resultadoTeste') == 'positivo', 1) \\\n",
    "    .when(F.col('resultadoTeste') == 'negativo', 2) \\\n",
    "    .when(F.col('resultadoTeste') == 'inconclusivo ou indeterminado', 3) \\\n",
    "    .otherwise(F.col('resultadoTeste')))"
   ]
  },
  {
   "cell_type": "code",
   "execution_count": 27,
   "id": "1e344982-ce93-43c9-baa4-d9c225fe415a",
   "metadata": {},
   "outputs": [],
   "source": [
    "# escrevendo apenas casos confirmados "
   ]
  },
  {
   "cell_type": "code",
   "execution_count": 28,
   "id": "bcc40485-b0d3-481b-bfcc-102c8d99ee15",
   "metadata": {},
   "outputs": [
    {
     "name": "stderr",
     "output_type": "stream",
     "text": [
      "                                                                                \r"
     ]
    }
   ],
   "source": [
    "cases_conf.write.csv('sindrome_gripal_conf_', mode='overwrite', header=True)"
   ]
  },
  {
   "cell_type": "code",
   "execution_count": 29,
   "id": "cb587664-83fe-42dc-ab44-e92b90bf6557",
   "metadata": {},
   "outputs": [],
   "source": [
    "# lendo apenas casos confirmados"
   ]
  },
  {
   "cell_type": "code",
   "execution_count": 30,
   "id": "c104b38b-0c7f-4ff0-a87a-eb64da6d0bc4",
   "metadata": {},
   "outputs": [],
   "source": [
    "raw = spark.read.csv('sindrome_gripal_conf_', header=True)"
   ]
  },
  {
   "cell_type": "code",
   "execution_count": 31,
   "id": "01af2570-7e56-42b6-8036-95183db4b67c",
   "metadata": {},
   "outputs": [],
   "source": [
    "# alguns ajustes para Felipe"
   ]
  },
  {
   "cell_type": "code",
   "execution_count": 32,
   "id": "fc0c998c-e643-483d-a6e5-00405597355a",
   "metadata": {},
   "outputs": [],
   "source": [
    "raw = raw.withColumn(\n",
    "    'dataNotificacao', F.when(\n",
    "        (F.col('dataNotificacao').isNull()) &\n",
    "        (F.col('dataInicioSintomas') >= '2020-03-01') &\n",
    "        (F.col('dataInicioSintomas') <= '2022-01-25'),\n",
    "        F.col('dataInicioSintomas')) \\\n",
    "    \n",
    "    .when(\n",
    "        ((F.col('dataNotificacao') < '2020-03-01') |\n",
    "        (F.col('dataNotificacao') > '2022-01-25')) &\n",
    "        (F.col('dataInicioSintomas') >= '2020-03-01') &\n",
    "        (F.col('dataInicioSintomas') <= '2022-01-25'),\n",
    "        F.col('dataInicioSintomas')) \\\n",
    "    \n",
    "    .when(\n",
    "        ((F.col('dataNotificacao').isNull()) |\n",
    "        (F.col('dataNotificacao') < '2020-03-01') |\n",
    "        (F.col('dataNotificacao') > '2022-01-25')) &\n",
    "        (F.col('dataTeste') >= '2020-03-01') &\n",
    "        (F.col('dataTeste') <= '2022-01-25'),\n",
    "        F.col('dataTeste') \\\n",
    "        \n",
    "    ).otherwise(F.col('dataNotificacao')))"
   ]
  },
  {
   "cell_type": "code",
   "execution_count": 33,
   "id": "54895f6b-c949-4949-90da-814e01470328",
   "metadata": {},
   "outputs": [],
   "source": [
    "raw = raw.withColumn(\n",
    "    'dataInicioSintomas', F.when(\n",
    "        (F.col('dataInicioSintomas').isNull()) &\n",
    "        (F.col('dataNotificacao') >= '2020-02-23') &\n",
    "        (F.col('dataNotificacao') <= '2022-01-25'),\n",
    "        F.col('dataNotificacao')) \\\n",
    "    \n",
    "    .when(\n",
    "        ((F.col('dataInicioSintomas') < '2020-02-23') |\n",
    "        (F.col('dataInicioSintomas') > '2022-01-25')) &\n",
    "        (F.col('dataNotificacao') >= '2020-03-01') &\n",
    "        (F.col('dataNotificacao') <= '2022-01-25'),\n",
    "        F.col('dataNotificacao')) \\\n",
    "    \n",
    "    .when(\n",
    "        ((F.col('dataInicioSintomas').isNull()) |\n",
    "        (F.col('dataInicioSintomas') < '2020-02-23') |\n",
    "        (F.col('dataInicioSintomas') > '2022-01-25')) &\n",
    "        (F.col('dataTeste') >= '2020-03-01') &\n",
    "        (F.col('dataTeste') <= '2022-01-25'),\n",
    "        F.col('dataTeste') \\\n",
    "        \n",
    "    ).otherwise(F.col('dataInicioSintomas')))"
   ]
  },
  {
   "cell_type": "code",
   "execution_count": 34,
   "id": "c8019bfd-477c-4bfe-8f9c-cc3c68e3d1ac",
   "metadata": {},
   "outputs": [],
   "source": [
    "columns = [\n",
    "    'dataNotificacao', 'dataInicioSintomas', 'dataEncerramento', 'estadoIBGE',\n",
    "    'estadoNotificacao', 'municipioIBGE', 'municipioNotificacao', 'sexo',\n",
    "    'racaCor', 'idade', 'condicoes', 'evolucaoCaso'\n",
    "]"
   ]
  },
  {
   "cell_type": "code",
   "execution_count": 35,
   "id": "6fb19391-b28e-4904-9b49-2506763df602",
   "metadata": {},
   "outputs": [
    {
     "name": "stderr",
     "output_type": "stream",
     "text": [
      "                                                                                \r"
     ]
    }
   ],
   "source": [
    "raw.filter(raw['dataNotificacao'] <= '2021-11-15').select(columns) \\\n",
    ".coalesce(1).write.csv('sindrome_gripal_again', mode='overwrite', header=True)"
   ]
  }
 ],
 "metadata": {
  "kernelspec": {
   "display_name": "Python 3 (ipykernel)",
   "language": "python",
   "name": "python3"
  },
  "language_info": {
   "codemirror_mode": {
    "name": "ipython",
    "version": 3
   },
   "file_extension": ".py",
   "mimetype": "text/x-python",
   "name": "python",
   "nbconvert_exporter": "python",
   "pygments_lexer": "ipython3",
   "version": "3.8.10"
  }
 },
 "nbformat": 4,
 "nbformat_minor": 5
}
