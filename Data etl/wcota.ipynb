{
 "cells": [
  {
   "cell_type": "code",
   "execution_count": 1,
   "id": "78af4013-a335-458d-a23a-cd98115be610",
   "metadata": {},
   "outputs": [],
   "source": [
    "import os"
   ]
  },
  {
   "cell_type": "code",
   "execution_count": 2,
   "id": "55136a9a-af2e-436d-8e53-02d1ea4e1b14",
   "metadata": {},
   "outputs": [],
   "source": [
    "import pyspark.sql.functions as F\n",
    "import pyspark.sql.types as T"
   ]
  },
  {
   "cell_type": "code",
   "execution_count": 3,
   "id": "91be0d6c-d85a-42fe-964d-7de423045474",
   "metadata": {},
   "outputs": [
    {
     "name": "stderr",
     "output_type": "stream",
     "text": [
      "22/04/25 18:07:24 WARN Utils: Your hostname, eniac resolves to a loopback address: 127.0.1.1; using 192.168.100.6 instead (on interface wlp3s0)\n",
      "22/04/25 18:07:24 WARN Utils: Set SPARK_LOCAL_IP if you need to bind to another address\n",
      "Using Spark's default log4j profile: org/apache/spark/log4j-defaults.properties\n",
      "Setting default log level to \"WARN\".\n",
      "To adjust logging level use sc.setLogLevel(newLevel). For SparkR, use setLogLevel(newLevel).\n",
      "22/04/25 18:07:24 WARN NativeCodeLoader: Unable to load native-hadoop library for your platform... using builtin-java classes where applicable\n",
      "22/04/25 18:07:24 WARN SparkConf: Note that spark.local.dir will be overridden by the value set by the cluster manager (via SPARK_LOCAL_DIRS in mesos/standalone/kubernetes and LOCAL_DIRS in YARN).\n"
     ]
    }
   ],
   "source": [
    "from config import spark"
   ]
  },
  {
   "cell_type": "code",
   "execution_count": 4,
   "id": "c68e8168-03a5-49af-a26c-54ceab910387",
   "metadata": {},
   "outputs": [],
   "source": [
    "datalake = '/media/fabio/19940C2755DB566F/PAMepi/datalake/DATALAKE'"
   ]
  },
  {
   "cell_type": "code",
   "execution_count": 5,
   "id": "6ff33427-3e0e-4c41-a19f-bdcbcdf45ca0",
   "metadata": {},
   "outputs": [],
   "source": [
    "version = '2022-04-19/'"
   ]
  },
  {
   "cell_type": "code",
   "execution_count": 6,
   "id": "536b42d1-6ed0-413a-980b-5ab24f40265a",
   "metadata": {},
   "outputs": [],
   "source": [
    "df = spark.read.csv(os.path.join(datalake, version, 'wcota'), header=True)"
   ]
  },
  {
   "cell_type": "code",
   "execution_count": 8,
   "id": "74a83d4f-1662-443e-985d-12f22088a7e5",
   "metadata": {},
   "outputs": [],
   "source": [
    "df = df.withColumnRenamed('ibgeID', 'code_mun_ibge')"
   ]
  },
  {
   "cell_type": "code",
   "execution_count": 12,
   "id": "6da3ca5e-818c-498e-a29a-f761d2ee3987",
   "metadata": {},
   "outputs": [],
   "source": [
    "columns = ['date', 'code_mun_ibge', 'newDeaths', 'deaths', 'newCases', 'totalCases']"
   ]
  },
  {
   "cell_type": "code",
   "execution_count": 15,
   "id": "1fec30ff-1a81-4fda-8990-b1a81cafab4b",
   "metadata": {},
   "outputs": [
    {
     "name": "stderr",
     "output_type": "stream",
     "text": [
      "                                                                                \r"
     ]
    }
   ],
   "source": [
    "df.select(columns) \\\n",
    "    .where(F.col('code_mun_ibge') != 0) \\\n",
    "    .filter(\n",
    "        (F.col('date') >= '2020-01-01') &\n",
    "        (F.col('date') <= '2022-04-19')\n",
    "    ).orderBy('date').write.csv(\n",
    "        os.path.join(datalake, version, 'preprocess', 'wcota'),\n",
    "        header=True, mode='overwrite'\n",
    "    )"
   ]
  }
 ],
 "metadata": {
  "kernelspec": {
   "display_name": "Python 3 (ipykernel)",
   "language": "python",
   "name": "python3"
  },
  "language_info": {
   "codemirror_mode": {
    "name": "ipython",
    "version": 3
   },
   "file_extension": ".py",
   "mimetype": "text/x-python",
   "name": "python",
   "nbconvert_exporter": "python",
   "pygments_lexer": "ipython3",
   "version": "3.10.4"
  }
 },
 "nbformat": 4,
 "nbformat_minor": 5
}
