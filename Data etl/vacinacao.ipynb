{
 "cells": [
  {
   "cell_type": "code",
   "execution_count": 1,
   "id": "503304b4-8d00-4691-9918-d46d7e2c3ebe",
   "metadata": {},
   "outputs": [],
   "source": [
    "import pyspark.sql.functions as F\n",
    "import pyspark.sql.types as T"
   ]
  },
  {
   "cell_type": "code",
   "execution_count": 2,
   "id": "1b3d84a7-b2b8-475d-9e4e-df15b5d3b7a7",
   "metadata": {},
   "outputs": [],
   "source": [
    "from unidecode import unidecode"
   ]
  },
  {
   "cell_type": "code",
   "execution_count": 3,
   "id": "4d0076ed-7e51-489a-ae92-2c9181a18685",
   "metadata": {},
   "outputs": [
    {
     "name": "stderr",
     "output_type": "stream",
     "text": [
      "22/03/18 09:45:47 WARN Utils: Your hostname, pop-os resolves to a loopback address: 127.0.1.1; using 192.168.100.6 instead (on interface wlp3s0)\n",
      "22/03/18 09:45:47 WARN Utils: Set SPARK_LOCAL_IP if you need to bind to another address\n",
      "Using Spark's default log4j profile: org/apache/spark/log4j-defaults.properties\n",
      "Setting default log level to \"WARN\".\n",
      "To adjust logging level use sc.setLogLevel(newLevel). For SparkR, use setLogLevel(newLevel).\n",
      "22/03/18 09:45:48 WARN NativeCodeLoader: Unable to load native-hadoop library for your platform... using builtin-java classes where applicable\n",
      "22/03/18 09:45:48 WARN SparkConf: Note that spark.local.dir will be overridden by the value set by the cluster manager (via SPARK_LOCAL_DIRS in mesos/standalone/kubernetes and LOCAL_DIRS in YARN).\n"
     ]
    }
   ],
   "source": [
    "from config import spark"
   ]
  },
  {
   "cell_type": "code",
   "execution_count": 4,
   "id": "f124defa-a289-4274-977e-860c1b313f7b",
   "metadata": {},
   "outputs": [],
   "source": [
    "HD = '/media/fabio/19940C2755DB566F/'\n",
    "DATALAKE = 'PAMepi/datalake/'\n",
    "RAW = 'raw_data_covid19_version-2022-02-23/IRECE'"
   ]
  },
  {
   "cell_type": "code",
   "execution_count": 5,
   "id": "f344c45b-1f04-4f3c-96d6-feb8b86c14db",
   "metadata": {},
   "outputs": [
    {
     "name": "stderr",
     "output_type": "stream",
     "text": [
      "                                                                                \r"
     ]
    }
   ],
   "source": [
    "df = spark.read.csv(HD + DATALAKE + RAW, header=True, sep=';')"
   ]
  },
  {
   "cell_type": "code",
   "execution_count": 53,
   "id": "4d350704",
   "metadata": {},
   "outputs": [
    {
     "name": "stderr",
     "output_type": "stream",
     "text": [
      "                                                                                \r"
     ]
    },
    {
     "data": {
      "text/plain": [
       "114889"
      ]
     },
     "execution_count": 53,
     "metadata": {},
     "output_type": "execute_result"
    }
   ],
   "source": [
    "df.count()"
   ]
  },
  {
   "cell_type": "code",
   "execution_count": 13,
   "id": "8324eab6-7e43-485f-bed4-b34c2fbc0c51",
   "metadata": {},
   "outputs": [
    {
     "data": {
      "text/plain": [
       "['paciente_id',\n",
       " 'paciente_idade',\n",
       " 'paciente_enumSexoBiologico',\n",
       " 'paciente_racaCor_valor',\n",
       " 'paciente_endereco_coIbgeMunicipio',\n",
       " 'paciente_endereco_nmMunicipio',\n",
       " 'paciente_endereco_uf',\n",
       " 'vacina_dataAplicacao',\n",
       " 'vacina_descricao_dose',\n",
       " 'vacina_nome']"
      ]
     },
     "execution_count": 13,
     "metadata": {},
     "output_type": "execute_result"
    }
   ],
   "source": [
    "df.columns"
   ]
  },
  {
   "cell_type": "code",
   "execution_count": 15,
   "id": "1c1de8ed",
   "metadata": {},
   "outputs": [],
   "source": [
    "for col in df.columns:\n",
    "    df = df.withColumnRenamed(col, col.lower())"
   ]
  },
  {
   "cell_type": "code",
   "execution_count": 17,
   "id": "599e29fa-42de-4399-ae6f-2211f930d1d5",
   "metadata": {},
   "outputs": [],
   "source": [
    "df = df.withColumnRenamed('paciente_id', 'id') \\\n",
    "    .withColumnRenamed('paciente_idade', 'idade') \\\n",
    "    .withColumnRenamed('paciente_enumsexobiologico', 'sexo') \\\n",
    "    .withColumnRenamed('paciente_racacor_valor', 'raca') \\\n",
    "    .withColumnRenamed('paciente_endereco_coibgemunicipio', 'mun_res') \\\n",
    "    .withColumnRenamed('paciente_endereco_nmmunicipio', 'nome_mun_res') \\\n",
    "    .withColumnRenamed('paciente_endereco_uf', 'uf_res') \\\n",
    "    .withColumnRenamed('vacina_dataaplicacao', 'data') \\\n",
    "    .withColumnRenamed('vacina_descricao_dose', 'dose') \\\n",
    "    .withColumnRenamed('vacina_nome', 'vacina')"
   ]
  },
  {
   "cell_type": "code",
   "execution_count": 18,
   "id": "a13aa234-f763-4c0b-bb5b-c1112b9e360d",
   "metadata": {},
   "outputs": [],
   "source": [
    "columns = [\n",
    "    'data', 'id', 'idade', 'sexo', 'raca', 'uf_res', 'nome_mun_res',\n",
    "    'mun_res', 'vacina', 'dose'\n",
    "]"
   ]
  },
  {
   "cell_type": "code",
   "execution_count": 19,
   "id": "95604e1d-f1c3-4374-b0b2-1f162b9c7e5f",
   "metadata": {},
   "outputs": [
    {
     "name": "stdout",
     "output_type": "stream",
     "text": [
      "+----------+--------------------+-----+----+--------------+------+------------+-------+--------------------+-------+\n",
      "|      data|                  id|idade|sexo|          raca|uf_res|nome_mun_res|mun_res|              vacina|   dose|\n",
      "+----------+--------------------+-----+----+--------------+------+------------+-------+--------------------+-------+\n",
      "|2021-07-06|8b5dcadea57759162...|   50|   M|SEM INFORMACAO|    BA|       IRECE| 291460|COVID-19 PFIZER -...|1ª Dose|\n",
      "|2021-09-20|f9ee5ff50c418dd49...|   44|   M|       AMARELA|    BA|       IRECE| 291460|COVID-19 PFIZER -...|2ª Dose|\n",
      "|2021-06-28|51a9e30784797576f...|   59|   M|        BRANCA|    BA|       IRECE| 291460|COVID-19 PFIZER -...|1ª Dose|\n",
      "|2021-06-16|1b49149a9136191a6...|   52|   M|       AMARELA|    BA|       IRECE| 291460|COVID-19 ASTRAZEN...|1ª Dose|\n",
      "|2021-08-16|d48d645a0e39beced...|   28|   F|       AMARELA|    BA|       IRECE| 291460|COVID-19 PFIZER -...|1ª Dose|\n",
      "|2021-10-14|cc3198945e285ebe1...|   39|   M|       AMARELA|    BA|       IRECE| 291460|COVID-19 ASTRAZEN...|2ª Dose|\n",
      "|2021-07-20|dd4b1bb12b1a44632...|   40|   M|       AMARELA|    BA|       IRECE| 291460|COVID-19 ASTRAZEN...|1ª Dose|\n",
      "|2021-03-30|9627d016d52c877c1...|   65|   M|SEM INFORMACAO|    BA|       IRECE| 291460|COVID-19 ASTRAZEN...|1ª Dose|\n",
      "|2022-01-27|442d44eac3fa8a310...|   53|   M|       AMARELA|    BA|       IRECE| 291460|COVID-19 PFIZER -...|Reforço|\n",
      "|2021-06-22|246c07a6aa071a75a...|   65|   F|       AMARELA|    BA|       IRECE| 291460|COVID-19 ASTRAZEN...|2ª Dose|\n",
      "|2021-07-19|f7eb4d44ae969f15d...|   27|   F|        BRANCA|    BA|       IRECE| 291460|COVID-19 ASTRAZEN...|2ª Dose|\n",
      "|2021-06-16|0d61dbabe9074cbdc...|   50|   F|       AMARELA|    BA|       IRECE| 291460|COVID-19 ASTRAZEN...|1ª Dose|\n",
      "|2021-09-03|d2d7622c4bc931a35...|   19|   M|SEM INFORMACAO|    BA|       IRECE| 291460|COVID-19 ASTRAZEN...|2ª Dose|\n",
      "|2021-10-05|d13dbd641025c844c...|   15|   M|       AMARELA|    BA|       IRECE| 291460|COVID-19 PFIZER -...|1ª Dose|\n",
      "|2021-08-12|010007a74ae5f1cc4...|   31|   F|        BRANCA|    BA|       IRECE| 291460|COVID-19 PFIZER -...|1ª Dose|\n",
      "|2021-10-26|e5d1612845c7c6a60...|   22|   F|       AMARELA|    BA|       IRECE| 291460|COVID-19 PFIZER -...|2ª Dose|\n",
      "|2021-11-03|3c228a7068b18da17...|   33|   F|        BRANCA|    BA|       IRECE| 291460|COVID-19 PFIZER -...|2ª Dose|\n",
      "|2021-08-27|fd1c291c5fa0a58f0...|   57|   F|         PARDA|    BA|       IRECE| 291460|COVID-19 ASTRAZEN...|2ª Dose|\n",
      "|2021-11-30|8c3ff948115fe0c8c...|   15|   F|        BRANCA|    BA|       IRECE| 291460|COVID-19 PFIZER -...|2ª Dose|\n",
      "|2021-10-19|00a69af4f20f53762...|   39|   M|       AMARELA|    BA|       IRECE| 291460|COVID-19 ASTRAZEN...|2ª Dose|\n",
      "+----------+--------------------+-----+----+--------------+------+------------+-------+--------------------+-------+\n",
      "only showing top 20 rows\n",
      "\n"
     ]
    }
   ],
   "source": [
    "df.select(columns).show()"
   ]
  },
  {
   "cell_type": "code",
   "execution_count": 194,
   "id": "05c5c9e3",
   "metadata": {},
   "outputs": [],
   "source": [
    "unidecode_udf = F.udf(\n",
    "    lambda string: unidecode(string).lower() if string is not None else None,\n",
    "    T.StringType()\n",
    ")"
   ]
  },
  {
   "cell_type": "code",
   "execution_count": 195,
   "id": "6c09ed5b-c351-4236-b222-2a4b3c1d0776",
   "metadata": {},
   "outputs": [],
   "source": [
    "df = df.withColumn('sexo', unidecode_udf('sexo')) \\\n",
    "    .withColumn('uf_res', unidecode_udf('uf_res')) \\\n",
    "    .withColumn('nome_mun_res', unidecode_udf('nome_mun_res')) \\\n",
    "    .withColumn('vacina', unidecode_udf('vacina')) \\\n",
    "    .withColumn('dose', unidecode_udf('dose')) \\\n",
    "    .withColumn('raca', unidecode_udf('raca'))"
   ]
  },
  {
   "cell_type": "code",
   "execution_count": 196,
   "id": "d90451c0-68ad-4316-9e22-fe51d0701df6",
   "metadata": {},
   "outputs": [
    {
     "name": "stdout",
     "output_type": "stream",
     "text": [
      "+----------+--------------------+-----+----+--------------+------+------------+-------+------+-------+\n",
      "|      data|                  id|idade|sexo|          raca|uf_res|nome_mun_res|mun_res|vacina|   dose|\n",
      "+----------+--------------------+-----+----+--------------+------+------------+-------+------+-------+\n",
      "|2021-07-06|8b5dcadea57759162...|   50|   m|sem informacao|    ba|       irece| 291460|     3|1a dose|\n",
      "|2021-09-20|f9ee5ff50c418dd49...|   44|   m|       amarela|    ba|       irece| 291460|     3|2a dose|\n",
      "|2021-06-28|51a9e30784797576f...|   59|   m|        branca|    ba|       irece| 291460|     3|1a dose|\n",
      "|2021-06-16|1b49149a9136191a6...|   52|   m|       amarela|    ba|       irece| 291460|     1|1a dose|\n",
      "|2021-08-16|d48d645a0e39beced...|   28|   f|       amarela|    ba|       irece| 291460|     3|1a dose|\n",
      "|2021-10-14|cc3198945e285ebe1...|   39|   m|       amarela|    ba|       irece| 291460|     1|2a dose|\n",
      "|2021-07-20|dd4b1bb12b1a44632...|   40|   m|       amarela|    ba|       irece| 291460|     1|1a dose|\n",
      "|2021-03-30|9627d016d52c877c1...|   65|   m|sem informacao|    ba|       irece| 291460|     1|1a dose|\n",
      "|2021-06-22|246c07a6aa071a75a...|   65|   f|       amarela|    ba|       irece| 291460|     1|2a dose|\n",
      "|2021-07-19|f7eb4d44ae969f15d...|   27|   f|        branca|    ba|       irece| 291460|     1|2a dose|\n",
      "|2021-06-16|0d61dbabe9074cbdc...|   50|   f|       amarela|    ba|       irece| 291460|     1|1a dose|\n",
      "|2021-09-03|d2d7622c4bc931a35...|   19|   m|sem informacao|    ba|       irece| 291460|     1|2a dose|\n",
      "|2021-10-05|d13dbd641025c844c...|   15|   m|       amarela|    ba|       irece| 291460|     3|1a dose|\n",
      "|2021-08-12|010007a74ae5f1cc4...|   31|   f|        branca|    ba|       irece| 291460|     3|1a dose|\n",
      "|2021-10-26|e5d1612845c7c6a60...|   22|   f|       amarela|    ba|       irece| 291460|     3|2a dose|\n",
      "|2021-11-03|3c228a7068b18da17...|   33|   f|        branca|    ba|       irece| 291460|     3|2a dose|\n",
      "|2021-08-27|fd1c291c5fa0a58f0...|   57|   f|         parda|    ba|       irece| 291460|     1|2a dose|\n",
      "|2021-10-19|00a69af4f20f53762...|   39|   m|       amarela|    ba|       irece| 291460|     1|2a dose|\n",
      "|2021-07-12|ba53a798281b6e57d...|   61|   m|sem informacao|    ba|       irece| 291460|     1|2a dose|\n",
      "|2021-09-01|aff4405808b0c9225...|   37|   m|        branca|    ba|       irece| 291460|     2|2a dose|\n",
      "+----------+--------------------+-----+----+--------------+------+------------+-------+------+-------+\n",
      "only showing top 20 rows\n",
      "\n"
     ]
    }
   ],
   "source": [
    "df.select(columns).show()"
   ]
  },
  {
   "cell_type": "code",
   "execution_count": 197,
   "id": "3ca90613-8154-4d3a-9582-aad6fa43a07d",
   "metadata": {},
   "outputs": [
    {
     "name": "stderr",
     "output_type": "stream",
     "text": [
      "[Stage 600:=====================================================> (41 + 1) / 42]\r"
     ]
    },
    {
     "name": "stdout",
     "output_type": "stream",
     "text": [
      "+------+\n",
      "|vacina|\n",
      "+------+\n",
      "|3     |\n",
      "|1     |\n",
      "|4     |\n",
      "|2     |\n",
      "+------+\n",
      "\n"
     ]
    },
    {
     "name": "stderr",
     "output_type": "stream",
     "text": [
      "\r",
      "                                                                                \r"
     ]
    }
   ],
   "source": [
    "df.select('vacina').distinct().show(truncate=False)"
   ]
  },
  {
   "cell_type": "code",
   "execution_count": 198,
   "id": "283ae80f",
   "metadata": {},
   "outputs": [
    {
     "name": "stderr",
     "output_type": "stream",
     "text": [
      "\r",
      "[Stage 605:======================================>                (14 + 6) / 20]\r",
      "\r",
      "                                                                                \r"
     ]
    },
    {
     "name": "stdout",
     "output_type": "stream",
     "text": [
      "+----------+------+-----+\n",
      "|      data|vacina| dose|\n",
      "+----------+------+-----+\n",
      "|2021-07-08|     4|unica|\n",
      "|2021-06-28|     4|unica|\n",
      "|2021-06-28|     4|unica|\n",
      "|2021-07-14|     4|unica|\n",
      "|2021-10-14|     4|unica|\n",
      "|2021-07-07|     4|unica|\n",
      "+----------+------+-----+\n",
      "\n"
     ]
    },
    {
     "name": "stderr",
     "output_type": "stream",
     "text": [
      "\r",
      "[Stage 606:===================================================>   (16 + 1) / 17]\r",
      "\r",
      "                                                                                \r"
     ]
    }
   ],
   "source": [
    "df.select('data', 'vacina', 'dose').where(df.dose == 'unica').show()"
   ]
  },
  {
   "cell_type": "code",
   "execution_count": 199,
   "id": "3daee472-9f7e-49cd-b6c3-84f2c0e06704",
   "metadata": {},
   "outputs": [],
   "source": [
    "df = df.withColumn(\n",
    "    'vacina',\n",
    "    F.when(\n",
    "        F.col('vacina').contains('astrazeneca'),\n",
    "        F.lit(1)\n",
    "    ).when(\n",
    "        F.col('vacina').contains('coronavac'),\n",
    "        F.lit(2)\n",
    "    ).when(\n",
    "        F.col('vacina').contains('pfizer'),\n",
    "        F.lit(3)\n",
    "    ).when(\n",
    "        F.col('vacina').contains('janssen'),\n",
    "        F.lit(4)\n",
    "    ).otherwise(F.col('vacina'))\n",
    ")"
   ]
  },
  {
   "cell_type": "code",
   "execution_count": 200,
   "id": "861b58ed-e7dc-47bf-bc14-220346820759",
   "metadata": {},
   "outputs": [],
   "source": [
    "df = df.filter(df.data <= '2021-11-15')"
   ]
  },
  {
   "cell_type": "code",
   "execution_count": null,
   "id": "b9223077",
   "metadata": {},
   "outputs": [],
   "source": [
    "# df.select(columns) \\\n",
    "# .write.csv(HD + DATALAKE + '/vacinacao_paper', header=True)"
   ]
  },
  {
   "cell_type": "code",
   "execution_count": 188,
   "id": "b8e31bbc-d4f0-40d7-9c68-10a621b9d70a",
   "metadata": {},
   "outputs": [
    {
     "name": "stderr",
     "output_type": "stream",
     "text": [
      "                                                                                \r"
     ]
    }
   ],
   "source": [
    "# df = spark.read.csv(HD + DATALAKE + '/vacinacao_paper', header=True)"
   ]
  },
  {
   "cell_type": "code",
   "execution_count": 201,
   "id": "107388ae-c1ba-462e-bdcd-9e2b85261ca2",
   "metadata": {},
   "outputs": [
    {
     "name": "stderr",
     "output_type": "stream",
     "text": [
      "                                                                                \r"
     ]
    }
   ],
   "source": [
    "d1 = df.groupby('id').pivot('dose') \\\n",
    ".agg(F.concat_ws(',', F.first(F.col('data')), F.first(F.col('vacina'))))\n",
    "\n",
    "d2 = df.groupby('id').agg(F.collect_set(F.col('sexo')).alias('sexo'))\n",
    "\n",
    "d3 = df.groupby('id').agg(F.collect_set(F.col('raca')).alias('raca'))\n",
    "\n",
    "d4 = df.groupby('id').agg(F.collect_set(F.col('idade')).alias('idade'))\n",
    "\n",
    "d5 = df.groupby('id').agg(F.collect_set(F.col('mun_res')).alias('mun_res'))"
   ]
  },
  {
   "cell_type": "code",
   "execution_count": 198,
   "id": "71dd8bcc-8cb3-4b4c-a641-4309a476560b",
   "metadata": {},
   "outputs": [
    {
     "name": "stderr",
     "output_type": "stream",
     "text": [
      "                                                                                \r"
     ]
    }
   ],
   "source": [
    "# d1.write.csv('doses', header=True, compression='gzip')\n",
    "\n",
    "# d2.withColumn('sexo', F.col('sexo').cast(T.StringType())) \\\n",
    "# .write.csv('sexo', header=True, compression='gzip')\n",
    "\n",
    "# d3.withColumn('raca', F.col('raca').cast(T.StringType())) \\\n",
    "# .write.csv('raca', header=True, compression='gzip')\n",
    "\n",
    "# d4.withColumn('idade', F.col('idade').cast(T.StringType())) \\\n",
    "# .write.csv('idade', header=True, compression='gzip')\n",
    "\n",
    "# d5.withColumn('mun_res', F.col('mun_res').cast(T.StringType())) \\\n",
    "# .write.csv('mun_res', header=True, compression='gzip')"
   ]
  },
  {
   "cell_type": "code",
   "execution_count": 202,
   "id": "9b3711c3",
   "metadata": {},
   "outputs": [],
   "source": [
    "df1 = d1.join(d2, on=['id']).join(d3, on=['id']).join(d4, on=['id']).join(d5, on=['id'])"
   ]
  },
  {
   "cell_type": "code",
   "execution_count": 203,
   "id": "c5cde56d",
   "metadata": {},
   "outputs": [
    {
     "name": "stderr",
     "output_type": "stream",
     "text": [
      "                                                                                \r"
     ]
    },
    {
     "data": {
      "text/plain": [
       "65287"
      ]
     },
     "execution_count": 203,
     "metadata": {},
     "output_type": "execute_result"
    }
   ],
   "source": [
    "df1.count()"
   ]
  },
  {
   "cell_type": "code",
   "execution_count": 210,
   "id": "348018f1",
   "metadata": {},
   "outputs": [
    {
     "name": "stderr",
     "output_type": "stream",
     "text": [
      "[Stage 634:=============================================>         (35 + 7) / 42]\r"
     ]
    },
    {
     "name": "stdout",
     "output_type": "stream",
     "text": [
      "-RECORD 0------------------------------\n",
      " id             | 0000261e4a37da441... \n",
      " 1a dose        | 2021-08-19,3         \n",
      " 2a dose        |                      \n",
      " 3a dose        |                      \n",
      " dose           |                      \n",
      " dose adicional |                      \n",
      " reforco        |                      \n",
      " unica          |                      \n",
      " sexo           | [f]                  \n",
      " raca           | [parda]              \n",
      " idade          | [25]                 \n",
      " mun_res        | [291460]             \n",
      "only showing top 1 row\n",
      "\n"
     ]
    },
    {
     "name": "stderr",
     "output_type": "stream",
     "text": [
      "\r",
      "                                                                                \r"
     ]
    }
   ],
   "source": [
    "df1.show(1, vertical=True)"
   ]
  },
  {
   "cell_type": "code",
   "execution_count": 211,
   "id": "667d8e6c",
   "metadata": {},
   "outputs": [],
   "source": [
    "df1 = df1.withColumn('sexo_n', F.size('sexo')) \\\n",
    "        .withColumn('raca_n', F.size('raca')) \\\n",
    "        .withColumn('idade_n', F.size('idade')) \\\n",
    "        .withColumn('mun_res_n', F.size('mun_res'))"
   ]
  },
  {
   "cell_type": "code",
   "execution_count": 48,
   "id": "43f5e5fc",
   "metadata": {},
   "outputs": [
    {
     "name": "stderr",
     "output_type": "stream",
     "text": [
      "                                                                                \r"
     ]
    },
    {
     "name": "stdout",
     "output_type": "stream",
     "text": [
      "+------+\n",
      "|sexo_n|\n",
      "+------+\n",
      "|     1|\n",
      "|     2|\n",
      "+------+\n",
      "\n"
     ]
    }
   ],
   "source": [
    "df1.select('sexo_n').distinct().show()"
   ]
  },
  {
   "cell_type": "code",
   "execution_count": 49,
   "id": "9fdcb26a",
   "metadata": {},
   "outputs": [
    {
     "name": "stderr",
     "output_type": "stream",
     "text": [
      "                                                                                \r"
     ]
    },
    {
     "name": "stdout",
     "output_type": "stream",
     "text": [
      "+------+\n",
      "|raca_n|\n",
      "+------+\n",
      "|     1|\n",
      "|     2|\n",
      "+------+\n",
      "\n"
     ]
    }
   ],
   "source": [
    "df1.select('raca_n').distinct().show()\n"
   ]
  },
  {
   "cell_type": "code",
   "execution_count": 50,
   "id": "b7deb0b8",
   "metadata": {},
   "outputs": [
    {
     "name": "stderr",
     "output_type": "stream",
     "text": [
      "                                                                                \r"
     ]
    },
    {
     "name": "stdout",
     "output_type": "stream",
     "text": [
      "+-------+\n",
      "|idade_n|\n",
      "+-------+\n",
      "|      1|\n",
      "|      2|\n",
      "+-------+\n",
      "\n"
     ]
    }
   ],
   "source": [
    "df1.select('idade_n').distinct().show()\n"
   ]
  },
  {
   "cell_type": "code",
   "execution_count": 51,
   "id": "7fe7c002",
   "metadata": {},
   "outputs": [
    {
     "name": "stderr",
     "output_type": "stream",
     "text": [
      "                                                                                \r"
     ]
    },
    {
     "name": "stdout",
     "output_type": "stream",
     "text": [
      "+---------+\n",
      "|mun_res_n|\n",
      "+---------+\n",
      "|        1|\n",
      "+---------+\n",
      "\n"
     ]
    }
   ],
   "source": [
    "df1.select('mun_res_n').distinct().show()"
   ]
  },
  {
   "cell_type": "code",
   "execution_count": 212,
   "id": "5d68475c-81c0-4366-af78-8cd8fc14cfdf",
   "metadata": {},
   "outputs": [],
   "source": [
    "@F.udf()\n",
    "def fx_etaria(idade):\n",
    "    try:\n",
    "        if (idade >= 0 and idade < 18):\n",
    "            return '0-17'\n",
    "        elif (idade >= 18 and idade < 30):\n",
    "            return '18-29'\n",
    "        elif (idade >= 30 and idade < 40):\n",
    "            return '30-39'\n",
    "        elif (idade >= 40 and idade < 50):\n",
    "            return '40-49'\n",
    "        elif (idade >= 50 and idade < 65):\n",
    "            return '50-64'\n",
    "        elif (idade >= 65 and idade < 75):\n",
    "            return '65-74'\n",
    "        elif (idade >= 75 and idade < 85):\n",
    "            return '75-84'\n",
    "        else:\n",
    "            return '85+'\n",
    "    except TypeError:\n",
    "        None"
   ]
  },
  {
   "cell_type": "code",
   "execution_count": 55,
   "id": "f77b5229",
   "metadata": {},
   "outputs": [],
   "source": [
    "###### IRECE ######"
   ]
  },
  {
   "cell_type": "code",
   "execution_count": null,
   "id": "abf0289a",
   "metadata": {},
   "outputs": [],
   "source": [
    "# sexo"
   ]
  },
  {
   "cell_type": "code",
   "execution_count": 94,
   "id": "52412e8d",
   "metadata": {},
   "outputs": [
    {
     "name": "stderr",
     "output_type": "stream",
     "text": [
      "                                                                                \r"
     ]
    }
   ],
   "source": [
    "df1.withColumn('sexo', F.col('sexo').cast(T.StringType())) \\\n",
    "    .withColumn('m', F.when(F.col('sexo').contains('m'), F.lit(1)).otherwise(F.lit(0))) \\\n",
    "    .withColumn('f', F.when(F.col('sexo').contains('f'), F.lit(1)).otherwise(F.lit(0))) \\\n",
    "    .withColumn('i', F.when(F.col('sexo').contains('i'), F.lit(1)).otherwise(F.lit(0))) \\\n",
    "    .groupby('f', 'm', 'i').count().coalesce(1).write.csv(HD + DATALAKE + '/irece_sexo', header=True)"
   ]
  },
  {
   "cell_type": "code",
   "execution_count": 95,
   "id": "671bfbc9",
   "metadata": {},
   "outputs": [],
   "source": [
    "# raca"
   ]
  },
  {
   "cell_type": "code",
   "execution_count": 104,
   "id": "347edaba",
   "metadata": {},
   "outputs": [
    {
     "name": "stderr",
     "output_type": "stream",
     "text": [
      "                                                                                \r"
     ]
    }
   ],
   "source": [
    "df1.withColumn('idade', F.col('idade').cast(T.StringType())) \\\n",
    "    .withColumn('idade_c', F.regexp_extract(F.col('idade'), r'(\\d+)', 1)) \\\n",
    "    .withColumn('fx_etaria', fx_etaria(F.col('idade_c').cast(T.IntegerType()))) \\\n",
    "    .groupby('fx_etaria').count().coalesce(1).write.csv(HD + DATALAKE + '/irece_fxetaria', header=True)"
   ]
  },
  {
   "cell_type": "code",
   "execution_count": 106,
   "id": "bcd8d1d3",
   "metadata": {},
   "outputs": [],
   "source": [
    "# doses"
   ]
  },
  {
   "cell_type": "code",
   "execution_count": 297,
   "id": "29f818ca",
   "metadata": {},
   "outputs": [],
   "source": [
    "doses = ['1a dose', '2a dose', '3a dose', 'dose', 'dose adicional', 'reforco', 'unica']"
   ]
  },
  {
   "cell_type": "code",
   "execution_count": 298,
   "id": "99ad9ad2",
   "metadata": {},
   "outputs": [],
   "source": [
    "for dose in doses:\n",
    "    df1 = df1.withColumn(dose, F.when(F.length(F.col(dose)) == 0, None).otherwise(F.col(dose)))\n",
    "    df1 = df1.withColumn(dose, F.split(F.col(dose), ',').getItem(0))\n"
   ]
  },
  {
   "cell_type": "code",
   "execution_count": 299,
   "id": "f09b6bf8",
   "metadata": {},
   "outputs": [],
   "source": [
    "df2 = adjust_dose_date(df1)"
   ]
  },
  {
   "cell_type": "code",
   "execution_count": 300,
   "id": "50fcfa1a",
   "metadata": {},
   "outputs": [],
   "source": [
    "df2 = generate_labels_dose(df2)"
   ]
  },
  {
   "cell_type": "code",
   "execution_count": 301,
   "id": "aa284a2e",
   "metadata": {},
   "outputs": [
    {
     "name": "stderr",
     "output_type": "stream",
     "text": [
      "                                                                                \r"
     ]
    },
    {
     "name": "stdout",
     "output_type": "stream",
     "text": [
      "+----------+----------+-------+----+--------------+-------+-----+----------+----------+---------+\n",
      "|   1a dose|   2a dose|3a dose|dose|dose adicional|reforco|unica| prim_dose| vac_s_ref|vac_c_ref|\n",
      "+----------+----------+-------+----+--------------+-------+-----+----------+----------+---------+\n",
      "|2021-08-19|      null|   null|null|          null|   null| null|2021-08-19|      null|     null|\n",
      "|2021-10-22|      null|   null|null|          null|   null| null|2021-10-22|      null|     null|\n",
      "|2021-08-19|2021-09-22|   null|null|          null|   null| null|      null|2021-09-22|     null|\n",
      "|2021-08-17|2021-11-11|   null|null|          null|   null| null|      null|2021-11-11|     null|\n",
      "|2021-10-21|      null|   null|null|          null|   null| null|2021-10-21|      null|     null|\n",
      "|2021-03-24|2021-04-22|   null|null|          null|   null| null|      null|2021-04-22|     null|\n",
      "|2021-06-23|2021-09-20|   null|null|          null|   null| null|      null|2021-09-20|     null|\n",
      "|2021-07-20|2021-11-03|   null|null|          null|   null| null|      null|2021-11-03|     null|\n",
      "|2021-07-28|2021-08-25|   null|null|          null|   null| null|      null|2021-08-25|     null|\n",
      "|2021-06-07|2021-09-01|   null|null|          null|   null| null|      null|2021-09-01|     null|\n",
      "|2021-05-28|2021-08-20|   null|null|          null|   null| null|      null|2021-08-20|     null|\n",
      "|2021-06-02|2021-08-25|   null|null|          null|   null| null|      null|2021-08-25|     null|\n",
      "|2021-05-18|2021-08-12|   null|null|          null|   null| null|      null|2021-08-12|     null|\n",
      "|2021-08-23|      null|   null|null|          null|   null| null|2021-08-23|      null|     null|\n",
      "|2021-04-20|2021-07-13|   null|null|          null|   null| null|      null|2021-07-13|     null|\n",
      "|2021-08-30|2021-09-27|   null|null|          null|   null| null|      null|2021-09-27|     null|\n",
      "|2021-11-09|      null|   null|null|          null|   null| null|2021-11-09|      null|     null|\n",
      "|2021-07-28|      null|   null|null|          null|   null| null|2021-07-28|      null|     null|\n",
      "|2021-07-22|2021-10-19|   null|null|          null|   null| null|      null|2021-10-19|     null|\n",
      "|2021-07-22|2021-10-14|   null|null|          null|   null| null|      null|2021-10-14|     null|\n",
      "+----------+----------+-------+----+--------------+-------+-----+----------+----------+---------+\n",
      "only showing top 20 rows\n",
      "\n"
     ]
    }
   ],
   "source": [
    "df2.select(*doses, 'prim_dose', 'vac_s_ref', 'vac_c_ref').show()"
   ]
  },
  {
   "cell_type": "code",
   "execution_count": 302,
   "id": "e5e6f720",
   "metadata": {},
   "outputs": [
    {
     "name": "stderr",
     "output_type": "stream",
     "text": [
      "                                                                                \r"
     ]
    }
   ],
   "source": [
    "df2.groupby('prim_dose', 'vac_s_ref', 'vac_c_ref').count().coalesce(1) \\\n",
    ".write.csv(HD + DATALAKE + '/irece_ciclo_vacinal', mode='overwrite', header=True)"
   ]
  },
  {
   "cell_type": "code",
   "execution_count": 306,
   "id": "476e73b6",
   "metadata": {},
   "outputs": [],
   "source": [
    "df2 = df2.withColumn('dt_pattern', F.lit('2021-11-15'))"
   ]
  },
  {
   "cell_type": "code",
   "execution_count": 309,
   "id": "3bfc2570",
   "metadata": {},
   "outputs": [],
   "source": [
    "df2 = df2.withColumn(\n",
    "    'i >= 6',\n",
    "    F.when(\n",
    "        F.col('prim_dose').isNotNull(),\n",
    "        F.when(F.months_between(\n",
    "            F.col('dt_pattern'),\n",
    "            F.col('prim_dose')\n",
    "        ) > 6, 1)\n",
    "    )\n",
    ").withColumn(\n",
    "    'i >= 2 < 6',\n",
    "    F.when(\n",
    "        F.col('prim_dose').isNotNull(),\n",
    "        F.when(\n",
    "            (F.months_between(\n",
    "                F.col('dt_pattern'),\n",
    "                F.col('prim_dose')) >= 2\n",
    "             ) &\n",
    "            (F.months_between(\n",
    "                F.col('dt_pattern'),\n",
    "                F.col('prim_dose')) < 6\n",
    "             ), 1)\n",
    "    )\n",
    ").withColumn(\n",
    "    'i < 2',\n",
    "    F.when(\n",
    "        F.col('prim_dose').isNotNull(),\n",
    "        F.when(\n",
    "            F.months_between(\n",
    "                F.col('dt_pattern'),\n",
    "                F.col('prim_dose')\n",
    "            ) < 2, 1\n",
    "        )\n",
    "    )\n",
    ")"
   ]
  },
  {
   "cell_type": "code",
   "execution_count": 314,
   "id": "edbc4877",
   "metadata": {},
   "outputs": [],
   "source": [
    "df2= df2.withColumn(\n",
    "    'c >= 6',\n",
    "    F.when(\n",
    "        F.col('vac_s_ref').isNotNull(),\n",
    "        F.when(\n",
    "            F.months_between(\n",
    "                F.col('dt_pattern'),\n",
    "                F.col('vac_s_ref')\n",
    "            ) >= 6, 1\n",
    "        )\n",
    "    )\n",
    ")\n",
    "\n",
    "df2 = df2.withColumn(\n",
    "    'c >= 2 < 6',\n",
    "    F.when(\n",
    "        F.col('vac_s_ref').isNotNull(),\n",
    "        F.when(\n",
    "            (F.months_between(\n",
    "                F.col('dt_pattern'),\n",
    "                F.col('vac_s_ref')) >= 2\n",
    "             ) &\n",
    "            (F.months_between(\n",
    "                F.col('dt_pattern'),\n",
    "                F.col('vac_s_ref')) < 6\n",
    "             ), 1\n",
    "        )\n",
    "    )\n",
    ")\n",
    "\n",
    "\n",
    "df2 = df2.withColumn(\n",
    "    'c < 2',\n",
    "    F.when(\n",
    "        F.col('vac_s_ref').isNotNull(),\n",
    "        F.when(\n",
    "            F.months_between(\n",
    "                F.col('dt_pattern'),\n",
    "                F.col('vac_s_ref')\n",
    "            ) < 2, 1\n",
    "        )\n",
    "    )\n",
    ")"
   ]
  },
  {
   "cell_type": "code",
   "execution_count": 315,
   "id": "8f29966f",
   "metadata": {},
   "outputs": [],
   "source": [
    "df2= df2.withColumn(\n",
    "    'cb >= 6',\n",
    "    F.when(\n",
    "        F.col('vac_c_ref').isNotNull(),\n",
    "        F.when(\n",
    "            F.months_between(\n",
    "                F.col('dt_pattern'),\n",
    "                F.col('vac_c_ref')\n",
    "            ) >= 6, 1\n",
    "        )\n",
    "    )\n",
    ")\n",
    "\n",
    "df2 = df2.withColumn(\n",
    "    'cb >= 2 < 6',\n",
    "    F.when(\n",
    "        F.col('vac_c_ref').isNotNull(),\n",
    "        F.when(\n",
    "            (F.months_between(\n",
    "                F.col('dt_pattern'),\n",
    "                F.col('vac_c_ref')) >= 2\n",
    "             ) &\n",
    "            (F.months_between(\n",
    "                F.col('dt_pattern'),\n",
    "                F.col('vac_c_ref')) < 6\n",
    "             ), 1\n",
    "        )\n",
    "    )\n",
    ")\n",
    "\n",
    "\n",
    "df2 = df2.withColumn(\n",
    "    'cb < 2',\n",
    "    F.when(\n",
    "        F.col('vac_c_ref').isNotNull(),\n",
    "        F.when(\n",
    "            F.months_between(\n",
    "                F.col('dt_pattern'),\n",
    "                F.col('vac_c_ref')\n",
    "            ) < 2, 1\n",
    "        )\n",
    "    )\n",
    ")"
   ]
  },
  {
   "cell_type": "code",
   "execution_count": 352,
   "id": "64d3951d",
   "metadata": {},
   "outputs": [
    {
     "name": "stderr",
     "output_type": "stream",
     "text": [
      "                                                                                \r"
     ]
    },
    {
     "name": "stdout",
     "output_type": "stream",
     "text": [
      "+--------------------+--------------------+--------------------+\n",
      "|apenas primeira dose|completa sem reforço|completa com reforço|\n",
      "+--------------------+--------------------+--------------------+\n",
      "|      16792 (25.72%)|       44916 (68.8%)|        2470 (3.78%)|\n",
      "+--------------------+--------------------+--------------------+\n",
      "\n"
     ]
    }
   ],
   "source": [
    "df2.withColumn('n prim_dose', F.when(F.col('prim_dose').isNotNull(), 1)) \\\n",
    "    .withColumn('n vac_s_ref', F.when(F.col('vac_s_ref').isNotNull(), 1)) \\\n",
    "    .withColumn('n vac_c_ref', F.when(F.col('vac_c_ref').isNotNull(), 1)) \\\n",
    ".agg(\n",
    "    F.concat(\n",
    "        F.count('n prim_dose'),\n",
    "        F.lit(' ('),\n",
    "        F.round((100 * F.count('n prim_dose')) / 65287, 2),\n",
    "        F.lit('%)')\n",
    "    ).alias('apenas primeira dose'),\n",
    "    F.concat(\n",
    "        F.count('n vac_s_ref'), \n",
    "        F.lit(' ('),\n",
    "        F.round((100 * F.count('n vac_s_ref')) / 65287, 2),\n",
    "        F.lit('%)')\n",
    "    ).alias('completa sem reforço'),\n",
    "    F.concat(\n",
    "        F.count('n vac_c_ref'),\n",
    "        F.lit(' ('),\n",
    "        F.round((100 * F.count('n vac_c_ref')) / 65287, 2),\n",
    "        F.lit('%)')\n",
    "    ).alias('completa com reforço')\n",
    ").show()"
   ]
  },
  {
   "cell_type": "code",
   "execution_count": 331,
   "id": "70652c33",
   "metadata": {},
   "outputs": [
    {
     "name": "stderr",
     "output_type": "stream",
     "text": [
      "                                                                                \r"
     ]
    },
    {
     "name": "stdout",
     "output_type": "stream",
     "text": [
      "+-----------+-----------+-----------+-----+\n",
      "|n prim_dose|n vac_s_ref|n vac_c_ref|count|\n",
      "+-----------+-----------+-----------+-----+\n",
      "|       null|       null|       null| 1109|\n",
      "|          1|       null|       null|16792|\n",
      "|       null|          1|       null|44916|\n",
      "|       null|       null|          1| 2470|\n",
      "+-----------+-----------+-----------+-----+\n",
      "\n"
     ]
    }
   ],
   "source": [
    "df2.withColumn('n prim_dose', F.when(F.col('prim_dose').isNotNull(), 1)) \\\n",
    "    .withColumn('n vac_s_ref', F.when(F.col('vac_s_ref').isNotNull(), 1)) \\\n",
    "    .withColumn('n vac_c_ref', F.when(F.col('vac_c_ref').isNotNull(), 1)) \\\n",
    ".groupby('n prim_dose', 'n vac_s_ref', 'n vac_c_ref').count().show()"
   ]
  },
  {
   "cell_type": "code",
   "execution_count": 359,
   "id": "d1041248",
   "metadata": {},
   "outputs": [
    {
     "name": "stderr",
     "output_type": "stream",
     "text": [
      "                                                                                \r"
     ]
    },
    {
     "name": "stdout",
     "output_type": "stream",
     "text": [
      "-RECORD 0---------------------\n",
      " i >= 6      | 1083 (1.66%)   \n",
      " i >= 2 < 6  | 10107 (15.48%) \n",
      " i < 2       | 5601 (8.58%)   \n",
      " c >= 6      | 4852 (7.43%)   \n",
      " c >= 2 < 6  | 20457 (31.33%) \n",
      " c < 2       | 19607 (30.03%) \n",
      " cb >= 6     | 1 (0.0%)       \n",
      " cb >= 2 < 6 | 58 (0.09%)     \n",
      " cb < 2      | 2411 (3.69%)   \n",
      "\n"
     ]
    }
   ],
   "source": [
    "df2.agg(\n",
    "    F.concat(\n",
    "        F.count('i >= 6'),\n",
    "        F.lit(' ('),\n",
    "        F.round((100 * F.count('i >= 6')) / 65287, 2),\n",
    "        F.lit('%)')\n",
    "    ).alias('i >= 6'),\n",
    "    \n",
    "    F.concat(\n",
    "        F.count('i >= 2 < 6'),\n",
    "        F.lit(' ('),\n",
    "        F.round((100 * F.count('i >= 2 < 6')) / 65287, 2),\n",
    "        F.lit('%)')\n",
    "    ).alias('i >= 2 < 6'),\n",
    "    \n",
    "    F.concat(\n",
    "        F.count('i < 2'),\n",
    "        F.lit(' ('),\n",
    "        F.round((100 * F.count('i < 2')) / 65287, 2),\n",
    "        F.lit('%)')\n",
    "    ).alias('i < 2'),\n",
    "    \n",
    "    F.concat(\n",
    "        F.count('c >= 6'),\n",
    "        F.lit(' ('),\n",
    "        F.round((100 * F.count('c >= 6')) / 65287, 2),\n",
    "        F.lit('%)')\n",
    "    ).alias('c >= 6'),\n",
    "    \n",
    "    F.concat(\n",
    "        F.count('c >= 2 < 6'),\n",
    "        F.lit(' ('),\n",
    "        F.round((100 * F.count('c >= 2 < 6')) / 65287, 2),\n",
    "        F.lit('%)')\n",
    "    ).alias('c >= 2 < 6'),\n",
    "    \n",
    "    F.concat(\n",
    "        F.count('c < 2'),\n",
    "        F.lit(' ('),\n",
    "        F.round((100 * F.count('c < 2')) / 65287, 2),\n",
    "        F.lit('%)')\n",
    "    ).alias('c < 2'),\n",
    "    \n",
    "    F.concat(\n",
    "        F.count('cb >= 6'),\n",
    "        F.lit(' ('),\n",
    "        F.round((100 * F.count('cb >= 6')) / 65287, 2),\n",
    "        F.lit('%)')\n",
    "    ).alias('cb >= 6'),\n",
    "    \n",
    "    F.concat(\n",
    "        F.count('cb >= 2 < 6'),\n",
    "        F.lit(' ('),\n",
    "        F.round((100 * F.count('cb >= 2 < 6')) / 65287, 2),\n",
    "        F.lit('%)')\n",
    "    ).alias('cb >= 2 < 6'),\n",
    "    \n",
    "    F.concat(\n",
    "        F.count('cb < 2'),\n",
    "        F.lit(' ('),\n",
    "        F.round((100 * F.count('cb < 2')) / 65287, 2),\n",
    "        F.lit('%)')\n",
    "    ).alias('cb < 2'),\n",
    "    \n",
    "    \n",
    ").show(vertical=True, truncate=False)"
   ]
  },
  {
   "cell_type": "code",
   "execution_count": 319,
   "id": "161474c4",
   "metadata": {},
   "outputs": [
    {
     "name": "stderr",
     "output_type": "stream",
     "text": [
      "                                                                                \r"
     ]
    }
   ],
   "source": [
    "df2.agg(\n",
    "    F.count('i >= 6').astype('int').alias('i >= 6'),\n",
    "    F.count('i >= 2 < 6').astype('int').alias('i >= 2 < 6'),\n",
    "    F.count('i < 2').astype('int').alias('i < 2'),\n",
    "\n",
    "    F.count('c >= 6').astype('int').alias('c >= 6'),\n",
    "    F.count('c >= 2 < 6').astype('int').alias('c >= 2 < 6'),\n",
    "    F.count('c < 2').astype('int').alias('c < 2'),\n",
    "\n",
    "    F.count('cb >= 6').astype('int').alias('cb >= 6'),\n",
    "    F.count('cb >= 2 < 6').astype('int').alias('cb >= 2 < 6'),\n",
    "    F.count('cb < 2').astype('int').alias('cb < 2'),\n",
    ").coalesce(1).write.csv(HD + DATALAKE + '/irece_ciclo_vacinal_tempo', mode='overwrite', header=True)"
   ]
  },
  {
   "cell_type": "code",
   "execution_count": 56,
   "id": "5b4c589e",
   "metadata": {},
   "outputs": [],
   "source": [
    "##### PAPER #####"
   ]
  },
  {
   "cell_type": "code",
   "execution_count": 120,
   "id": "303171a1-13f1-4a42-9e90-4f665edc0988",
   "metadata": {},
   "outputs": [],
   "source": [
    "df_sexo = spark.read.csv('sexo', header=True)"
   ]
  },
  {
   "cell_type": "code",
   "execution_count": 10,
   "id": "1bd9124c-070a-4142-bdf0-574cbd5eaad9",
   "metadata": {},
   "outputs": [
    {
     "name": "stderr",
     "output_type": "stream",
     "text": [
      "                                                                                \r"
     ]
    },
    {
     "data": {
      "text/plain": [
       "161029567"
      ]
     },
     "execution_count": 10,
     "metadata": {},
     "output_type": "execute_result"
    }
   ],
   "source": [
    "df_sexo.count()"
   ]
  },
  {
   "cell_type": "code",
   "execution_count": 121,
   "id": "e91e5820-e843-411c-9b05-011853a3891d",
   "metadata": {},
   "outputs": [
    {
     "name": "stdout",
     "output_type": "stream",
     "text": [
      "+--------------------+---------+\n",
      "|                  id|     sexo|\n",
      "+--------------------+---------+\n",
      "|000009b2e3aaae800...|   [m, m]|\n",
      "|00001904b82ec2994...|[m, m, m]|\n",
      "|00002e4d7a02621aa...|[m, m, m]|\n",
      "|000042056ba50ed6d...|   [f, f]|\n",
      "|00004eadf6e493c07...|   [f, f]|\n",
      "+--------------------+---------+\n",
      "only showing top 5 rows\n",
      "\n"
     ]
    }
   ],
   "source": [
    "df_sexo.show(5)"
   ]
  },
  {
   "cell_type": "code",
   "execution_count": 122,
   "id": "bbf11c9b-41be-42c9-911a-7421dd530eb0",
   "metadata": {},
   "outputs": [],
   "source": [
    "df_sexo = df_sexo.withColumn(\n",
    "    'num_sexo',\n",
    "    F.udf(len)(F.udf(set)(\n",
    "        F.split(\n",
    "            F.regexp_replace(\n",
    "                F.col('sexo'), r'^\\[|\\]$', ''\n",
    "            ), ', '\n",
    "        )\n",
    "    ))\n",
    ")"
   ]
  },
  {
   "cell_type": "code",
   "execution_count": 301,
   "id": "21972650-7c3d-49d6-8c94-f3e38054e218",
   "metadata": {},
   "outputs": [],
   "source": [
    "df_sexo = df_sexo.withColumn(\n",
    "    'sexo_set',\n",
    "    F.udf(set)(\n",
    "        F.split(\n",
    "            F.regexp_replace(\n",
    "                F.col('sexo'), r'^\\[|\\]$', ''\n",
    "            ), ', ')\n",
    "    )\n",
    ")"
   ]
  },
  {
   "cell_type": "code",
   "execution_count": 124,
   "id": "1de6a73e-e027-417b-beba-42b14efa379a",
   "metadata": {},
   "outputs": [
    {
     "name": "stdout",
     "output_type": "stream",
     "text": [
      "+--------------------+---------+--------+--------+\n",
      "|                  id|     sexo|num_sexo|sexo_set|\n",
      "+--------------------+---------+--------+--------+\n",
      "|000009b2e3aaae800...|   [m, m]|       1|     [m]|\n",
      "|00001904b82ec2994...|[m, m, m]|       1|     [m]|\n",
      "|00002e4d7a02621aa...|[m, m, m]|       1|     [m]|\n",
      "|000042056ba50ed6d...|   [f, f]|       1|     [f]|\n",
      "|00004eadf6e493c07...|   [f, f]|       1|     [f]|\n",
      "+--------------------+---------+--------+--------+\n",
      "only showing top 5 rows\n",
      "\n"
     ]
    },
    {
     "name": "stderr",
     "output_type": "stream",
     "text": [
      "Traceback (most recent call last):\n",
      "  File \"/opt/spark-3.2.0-bin-hadoop3.2/python/lib/pyspark.zip/pyspark/daemon.py\", line 186, in manager\n",
      "  File \"/opt/spark-3.2.0-bin-hadoop3.2/python/lib/pyspark.zip/pyspark/daemon.py\", line 74, in worker\n",
      "  File \"/opt/spark-3.2.0-bin-hadoop3.2/python/lib/pyspark.zip/pyspark/worker.py\", line 663, in main\n",
      "    if read_int(infile) == SpecialLengths.END_OF_STREAM:\n",
      "  File \"/opt/spark-3.2.0-bin-hadoop3.2/python/lib/pyspark.zip/pyspark/serializers.py\", line 564, in read_int\n",
      "    raise EOFError\n",
      "EOFError\n"
     ]
    }
   ],
   "source": [
    "df_sexo.show(5)"
   ]
  },
  {
   "cell_type": "code",
   "execution_count": 125,
   "id": "48238e31-b2f1-43af-aeac-6640f579a70b",
   "metadata": {},
   "outputs": [
    {
     "name": "stderr",
     "output_type": "stream",
     "text": [
      "[Stage 129:====================================================>  (48 + 2) / 50]\r"
     ]
    },
    {
     "name": "stdout",
     "output_type": "stream",
     "text": [
      "+-------------+\n",
      "|max(num_sexo)|\n",
      "+-------------+\n",
      "|            2|\n",
      "+-------------+\n",
      "\n"
     ]
    },
    {
     "name": "stderr",
     "output_type": "stream",
     "text": [
      "                                                                                \r"
     ]
    }
   ],
   "source": [
    "df_sexo.agg({'num_sexo': 'max'}).show()"
   ]
  },
  {
   "cell_type": "code",
   "execution_count": 22,
   "id": "fd63f991-9652-49fe-aac5-4b3a2101134c",
   "metadata": {},
   "outputs": [
    {
     "name": "stderr",
     "output_type": "stream",
     "text": [
      "                                                                                \r"
     ]
    },
    {
     "data": {
      "text/plain": [
       "8088"
      ]
     },
     "execution_count": 22,
     "metadata": {},
     "output_type": "execute_result"
    }
   ],
   "source": [
    "df_sexo.where(F.col('num_sexo') > 1).count()"
   ]
  },
  {
   "cell_type": "code",
   "execution_count": 127,
   "id": "71e089d8-72b9-4a65-97f4-d947f98c3ab8",
   "metadata": {},
   "outputs": [
    {
     "name": "stdout",
     "output_type": "stream",
     "text": [
      "+--------------------+---------+--------+--------+\n",
      "|                  id|     sexo|num_sexo|sexo_set|\n",
      "+--------------------+---------+--------+--------+\n",
      "|000009b2e3aaae800...|   [m, m]|       1|     [m]|\n",
      "|00001904b82ec2994...|[m, m, m]|       1|     [m]|\n",
      "|00002e4d7a02621aa...|[m, m, m]|       1|     [m]|\n",
      "|000042056ba50ed6d...|   [f, f]|       1|     [f]|\n",
      "|00004eadf6e493c07...|   [f, f]|       1|     [f]|\n",
      "+--------------------+---------+--------+--------+\n",
      "only showing top 5 rows\n",
      "\n"
     ]
    },
    {
     "name": "stderr",
     "output_type": "stream",
     "text": [
      "Traceback (most recent call last):\n",
      "  File \"/opt/spark-3.2.0-bin-hadoop3.2/python/lib/pyspark.zip/pyspark/daemon.py\", line 186, in manager\n",
      "  File \"/opt/spark-3.2.0-bin-hadoop3.2/python/lib/pyspark.zip/pyspark/daemon.py\", line 74, in worker\n",
      "  File \"/opt/spark-3.2.0-bin-hadoop3.2/python/lib/pyspark.zip/pyspark/worker.py\", line 663, in main\n",
      "    if read_int(infile) == SpecialLengths.END_OF_STREAM:\n",
      "  File \"/opt/spark-3.2.0-bin-hadoop3.2/python/lib/pyspark.zip/pyspark/serializers.py\", line 564, in read_int\n",
      "    raise EOFError\n",
      "EOFError\n"
     ]
    }
   ],
   "source": [
    "df_sexo.show(5)"
   ]
  },
  {
   "cell_type": "code",
   "execution_count": 116,
   "id": "f6235e3a-6742-4d11-9207-536e49b535ce",
   "metadata": {},
   "outputs": [
    {
     "name": "stderr",
     "output_type": "stream",
     "text": [
      "[Stage 122:>                                                        (0 + 1) / 1]\r"
     ]
    },
    {
     "name": "stdout",
     "output_type": "stream",
     "text": [
      "+--------------------+---------+--------+--------+\n",
      "|                  id|     sexo|num_sexo|sexo_set|\n",
      "+--------------------+---------+--------+--------+\n",
      "|02e86c1bd6e25322c...|   [m, f]|       2|  [f, m]|\n",
      "|03d7e6146998df740...|[m, f, f]|       2|  [f, m]|\n",
      "|0e40ce65ea5cfddaa...|   [f, m]|       2|  [f, m]|\n",
      "|0fa045ad8d0bbdb01...|   [f, m]|       2|  [f, m]|\n",
      "|15d2c63285b265729...|   [f, m]|       2|  [f, m]|\n",
      "+--------------------+---------+--------+--------+\n",
      "only showing top 5 rows\n",
      "\n"
     ]
    },
    {
     "name": "stderr",
     "output_type": "stream",
     "text": [
      "                                                                                \r"
     ]
    }
   ],
   "source": [
    "df_sexo.where(F.col('num_sexo') > 1).show(5)"
   ]
  },
  {
   "cell_type": "code",
   "execution_count": 128,
   "id": "fcf934a4-b2d2-4d35-9baf-40be58b42617",
   "metadata": {},
   "outputs": [],
   "source": [
    "df_sexo = df_sexo.withColumn(\n",
    "    'm',\n",
    "    F.when(\n",
    "        F.col('sexo_set').contains('m'), F.lit(1)\n",
    "    ).otherwise(F.lit(0))\n",
    ").withColumn(\n",
    "    'f',\n",
    "    F.when(\n",
    "        F.col('sexo_set').contains('f'), F.lit(1)\n",
    "    ).otherwise(F.lit(0))\n",
    ").withColumn(\n",
    "    'i',\n",
    "    F.when(\n",
    "        F.col('sexo_set').contains('i'), F.lit(1)\n",
    "    ).otherwise(F.lit(0))\n",
    ")"
   ]
  },
  {
   "cell_type": "code",
   "execution_count": 132,
   "id": "c53de77b-3e1e-4aff-8d49-ee4a136d3692",
   "metadata": {},
   "outputs": [
    {
     "name": "stderr",
     "output_type": "stream",
     "text": [
      "                                                                                \r"
     ]
    }
   ],
   "source": [
    "df_sexo.groupby('f', 'm', 'i').count().coalesce(1) \\\n",
    ".write.csv('tabela_sexo', header=True)"
   ]
  },
  {
   "cell_type": "code",
   "execution_count": 133,
   "id": "72f530c0-e134-4883-a4c0-c06622f22040",
   "metadata": {},
   "outputs": [],
   "source": [
    "df_mun = spark.read.csv('mun_res', header=True)"
   ]
  },
  {
   "cell_type": "code",
   "execution_count": 136,
   "id": "8910609f-2bd8-4897-9f55-9103ace775c3",
   "metadata": {},
   "outputs": [
    {
     "name": "stdout",
     "output_type": "stream",
     "text": [
      "+----------------------------------------------------------------+------------------------+\n",
      "|id                                                              |mun_res                 |\n",
      "+----------------------------------------------------------------+------------------------+\n",
      "|000009b2e3aaae8009a4bc0e505720682eff8ab275c093514d6c1faf53e39b5e|[330455, 330455]        |\n",
      "|00001904b82ec29942a5749c9a78ecb641f8a3a09600d21c6cfc320d009c880a|[330455, 330455, 330455]|\n",
      "|00002e4d7a02621aac1b1b094f40a8d92370775f4a5df902bb97d02df682840b|[290687, 290687, 290687]|\n",
      "|000042056ba50ed6de4f1a1070583935cc6177a1df0fe0bfd0633b8118f2a049|[150680, 150680]        |\n",
      "|00004eadf6e493c07663ee4084ef60d3f02829ef29b5f94809c37422b676cd0c|[410370, 410370]        |\n",
      "+----------------------------------------------------------------+------------------------+\n",
      "only showing top 5 rows\n",
      "\n"
     ]
    }
   ],
   "source": [
    "df_mun.show(5, truncate=False)"
   ]
  },
  {
   "cell_type": "code",
   "execution_count": 137,
   "id": "5f506ce9-97f6-41a8-a926-7b84f32e471c",
   "metadata": {},
   "outputs": [
    {
     "name": "stderr",
     "output_type": "stream",
     "text": [
      "                                                                                \r"
     ]
    },
    {
     "data": {
      "text/plain": [
       "161029567"
      ]
     },
     "execution_count": 137,
     "metadata": {},
     "output_type": "execute_result"
    }
   ],
   "source": [
    "df_mun.count()"
   ]
  },
  {
   "cell_type": "code",
   "execution_count": 138,
   "id": "eb1197d7-eeb6-4fb3-932a-72128ec96459",
   "metadata": {},
   "outputs": [],
   "source": [
    "df_mun = df_mun.withColumn(\n",
    "    'num_mun',\n",
    "    F.udf(len)(F.udf(set)(\n",
    "        F.split(\n",
    "            F.regexp_replace(F.col('mun_res'), r'^\\[|\\]$', ''), ', '\n",
    "        )\n",
    "    ))\n",
    ")"
   ]
  },
  {
   "cell_type": "code",
   "execution_count": 139,
   "id": "cce3e19b-cd47-453b-907f-d95054b6d3a3",
   "metadata": {},
   "outputs": [],
   "source": [
    "df_mun = df_mun.withColumn(\n",
    "    'mun_set', \n",
    "    F.udf(set)(F.split(\n",
    "        F.regexp_replace(F.col('mun_res'), r'^\\[|\\]$', ''), ', '\n",
    "    ))\n",
    ")"
   ]
  },
  {
   "cell_type": "code",
   "execution_count": 140,
   "id": "3be5bbed-1b96-4e64-b22d-ead4d7ac1c21",
   "metadata": {},
   "outputs": [
    {
     "name": "stdout",
     "output_type": "stream",
     "text": [
      "+----------------------------------------------------------------+------------------------+-------+--------+\n",
      "|id                                                              |mun_res                 |num_mun|mun_set |\n",
      "+----------------------------------------------------------------+------------------------+-------+--------+\n",
      "|000009b2e3aaae8009a4bc0e505720682eff8ab275c093514d6c1faf53e39b5e|[330455, 330455]        |1      |[330455]|\n",
      "|00001904b82ec29942a5749c9a78ecb641f8a3a09600d21c6cfc320d009c880a|[330455, 330455, 330455]|1      |[330455]|\n",
      "|00002e4d7a02621aac1b1b094f40a8d92370775f4a5df902bb97d02df682840b|[290687, 290687, 290687]|1      |[290687]|\n",
      "|000042056ba50ed6de4f1a1070583935cc6177a1df0fe0bfd0633b8118f2a049|[150680, 150680]        |1      |[150680]|\n",
      "|00004eadf6e493c07663ee4084ef60d3f02829ef29b5f94809c37422b676cd0c|[410370, 410370]        |1      |[410370]|\n",
      "+----------------------------------------------------------------+------------------------+-------+--------+\n",
      "only showing top 5 rows\n",
      "\n"
     ]
    },
    {
     "name": "stderr",
     "output_type": "stream",
     "text": [
      "Traceback (most recent call last):\n",
      "  File \"/opt/spark-3.2.0-bin-hadoop3.2/python/lib/pyspark.zip/pyspark/daemon.py\", line 186, in manager\n",
      "  File \"/opt/spark-3.2.0-bin-hadoop3.2/python/lib/pyspark.zip/pyspark/daemon.py\", line 74, in worker\n",
      "  File \"/opt/spark-3.2.0-bin-hadoop3.2/python/lib/pyspark.zip/pyspark/worker.py\", line 663, in main\n",
      "    if read_int(infile) == SpecialLengths.END_OF_STREAM:\n",
      "  File \"/opt/spark-3.2.0-bin-hadoop3.2/python/lib/pyspark.zip/pyspark/serializers.py\", line 564, in read_int\n",
      "    raise EOFError\n",
      "EOFError\n"
     ]
    }
   ],
   "source": [
    "df_mun.show(5, truncate=False)"
   ]
  },
  {
   "cell_type": "code",
   "execution_count": 141,
   "id": "b7796145-92db-4181-a90c-ca0293f31c77",
   "metadata": {},
   "outputs": [
    {
     "name": "stderr",
     "output_type": "stream",
     "text": [
      "[Stage 147:=====================================================> (65 + 2) / 67]\r"
     ]
    },
    {
     "name": "stdout",
     "output_type": "stream",
     "text": [
      "+------------+\n",
      "|max(num_mun)|\n",
      "+------------+\n",
      "|           3|\n",
      "+------------+\n",
      "\n"
     ]
    },
    {
     "name": "stderr",
     "output_type": "stream",
     "text": [
      "                                                                                \r"
     ]
    }
   ],
   "source": [
    "df_mun.agg({'num_mun': 'max'}).show()"
   ]
  },
  {
   "cell_type": "code",
   "execution_count": 144,
   "id": "7e9bd45b-bfe3-435e-ad02-cc133de50bd4",
   "metadata": {},
   "outputs": [
    {
     "name": "stderr",
     "output_type": "stream",
     "text": [
      "                                                                                \r"
     ]
    },
    {
     "data": {
      "text/plain": [
       "160124557"
      ]
     },
     "execution_count": 144,
     "metadata": {},
     "output_type": "execute_result"
    }
   ],
   "source": [
    "df_mun.where(F.col('num_mun') == 1).count()"
   ]
  },
  {
   "cell_type": "code",
   "execution_count": 145,
   "id": "3d7a359c-b69b-4c33-9089-f60e09b92376",
   "metadata": {},
   "outputs": [
    {
     "name": "stderr",
     "output_type": "stream",
     "text": [
      "                                                                                \r"
     ]
    },
    {
     "data": {
      "text/plain": [
       "904606"
      ]
     },
     "execution_count": 145,
     "metadata": {},
     "output_type": "execute_result"
    }
   ],
   "source": [
    "df_mun.where(F.col('num_mun') == 2).count()"
   ]
  },
  {
   "cell_type": "code",
   "execution_count": 146,
   "id": "48176986-af0d-412a-b480-acbf210fcaf0",
   "metadata": {},
   "outputs": [
    {
     "name": "stderr",
     "output_type": "stream",
     "text": [
      "                                                                                \r"
     ]
    },
    {
     "data": {
      "text/plain": [
       "404"
      ]
     },
     "execution_count": 146,
     "metadata": {},
     "output_type": "execute_result"
    }
   ],
   "source": [
    "df_mun.where(F.col('num_mun') == 3).count()"
   ]
  },
  {
   "cell_type": "code",
   "execution_count": 149,
   "id": "4bc6361c-671b-44ef-b774-f0160db46cd6",
   "metadata": {},
   "outputs": [
    {
     "name": "stderr",
     "output_type": "stream",
     "text": [
      "[Stage 167:>                                                        (0 + 2) / 2]\r"
     ]
    },
    {
     "name": "stdout",
     "output_type": "stream",
     "text": [
      "+------------------------+\n",
      "|mun_set                 |\n",
      "+------------------------+\n",
      "|[412215, 500568, 411330]|\n",
      "|[355040, 354780, 353870]|\n",
      "|[170200, 520750, 500270]|\n",
      "|[351380, 313210, 313520]|\n",
      "|[500110, 353550, 500270]|\n",
      "+------------------------+\n",
      "only showing top 5 rows\n",
      "\n"
     ]
    },
    {
     "name": "stderr",
     "output_type": "stream",
     "text": [
      "                                                                                \r"
     ]
    }
   ],
   "source": [
    "df_mun.select('mun_set').where(F.col('num_mun') == 3).show(5, truncate=False)"
   ]
  },
  {
   "cell_type": "code",
   "execution_count": 170,
   "id": "dc1c4fe0-458b-4c9b-a3e8-43595ea40cb6",
   "metadata": {},
   "outputs": [],
   "source": [
    "df_mun = df_mun.withColumn(\n",
    "    'mun_set_c',\n",
    "    F.regexp_extract(F.col('mun_set'), r'(\\d+)', 1)\n",
    ")"
   ]
  },
  {
   "cell_type": "code",
   "execution_count": 171,
   "id": "98e0d5d0-be9b-4b7f-ac0c-654ddfb8f948",
   "metadata": {},
   "outputs": [
    {
     "name": "stderr",
     "output_type": "stream",
     "text": [
      "                                                                                \r"
     ]
    }
   ],
   "source": [
    "df_mun.groupby('mun_set_c').count().coalesce(1) \\\n",
    ".write.csv('tabela_mun_res', header=True)"
   ]
  },
  {
   "cell_type": "code",
   "execution_count": 172,
   "id": "6cd7bd0f-e523-45f7-bc76-7f7272017e63",
   "metadata": {},
   "outputs": [],
   "source": [
    "df_idade = spark.read.csv('idade', header=True)"
   ]
  },
  {
   "cell_type": "code",
   "execution_count": 174,
   "id": "f52b7e17-22f7-44a8-bab1-6ec42d4490f7",
   "metadata": {},
   "outputs": [
    {
     "name": "stdout",
     "output_type": "stream",
     "text": [
      "+--------------------+------------+\n",
      "|                  id|       idade|\n",
      "+--------------------+------------+\n",
      "|000009b2e3aaae800...|    [50, 50]|\n",
      "|00001904b82ec2994...|[61, 61, 62]|\n",
      "|00002e4d7a02621aa...|[69, 69, 69]|\n",
      "|000042056ba50ed6d...|    [34, 34]|\n",
      "|00004eadf6e493c07...|    [35, 35]|\n",
      "+--------------------+------------+\n",
      "only showing top 5 rows\n",
      "\n"
     ]
    }
   ],
   "source": [
    "df_idade.show(5)"
   ]
  },
  {
   "cell_type": "code",
   "execution_count": 175,
   "id": "665be482-896d-4d2f-b5ac-2f92fe77a8f8",
   "metadata": {},
   "outputs": [],
   "source": [
    "df_idade = df_idade.withColumn(\n",
    "    'num_idade', \n",
    "    F.udf(len)(F.udf(set)(\n",
    "        F.split(F.regexp_replace(F.col('idade'), r'^\\[|\\]$', ''), ', ')\n",
    "    ))\n",
    ")"
   ]
  },
  {
   "cell_type": "code",
   "execution_count": 176,
   "id": "f5606185-72e8-4b39-a547-31b0b909b616",
   "metadata": {},
   "outputs": [],
   "source": [
    "df_idade = df_idade.withColumn(\n",
    "    'idade_set',\n",
    "    F.udf(set)(\n",
    "        F.split(F.regexp_replace(F.col('idade'), r'^\\[|\\]$', ''), ', ')\n",
    "    )\n",
    ")"
   ]
  },
  {
   "cell_type": "code",
   "execution_count": 177,
   "id": "4582e2ff-a3c9-48a2-a43e-199a08376e95",
   "metadata": {},
   "outputs": [
    {
     "name": "stdout",
     "output_type": "stream",
     "text": [
      "+--------------------+------------+---------+---------+\n",
      "|                  id|       idade|num_idade|idade_set|\n",
      "+--------------------+------------+---------+---------+\n",
      "|000009b2e3aaae800...|    [50, 50]|        1|     [50]|\n",
      "|00001904b82ec2994...|[61, 61, 62]|        2| [61, 62]|\n",
      "|00002e4d7a02621aa...|[69, 69, 69]|        1|     [69]|\n",
      "|000042056ba50ed6d...|    [34, 34]|        1|     [34]|\n",
      "|00004eadf6e493c07...|    [35, 35]|        1|     [35]|\n",
      "+--------------------+------------+---------+---------+\n",
      "only showing top 5 rows\n",
      "\n"
     ]
    }
   ],
   "source": [
    "df_idade.show(5)"
   ]
  },
  {
   "cell_type": "code",
   "execution_count": 178,
   "id": "601d9121-6a40-4e66-9cf4-7088f1483592",
   "metadata": {},
   "outputs": [
    {
     "name": "stderr",
     "output_type": "stream",
     "text": [
      "[Stage 192:=====================================================> (65 + 2) / 67]\r"
     ]
    },
    {
     "name": "stdout",
     "output_type": "stream",
     "text": [
      "+--------------+\n",
      "|max(num_idade)|\n",
      "+--------------+\n",
      "|             4|\n",
      "+--------------+\n",
      "\n"
     ]
    },
    {
     "name": "stderr",
     "output_type": "stream",
     "text": [
      "                                                                                \r"
     ]
    }
   ],
   "source": [
    "df_idade.agg({'num_idade': 'max'}).show()"
   ]
  },
  {
   "cell_type": "code",
   "execution_count": 179,
   "id": "a2e808ad-c411-49c9-9feb-f87986b81d96",
   "metadata": {},
   "outputs": [],
   "source": [
    "df_idade = df_idade.withColumn('idade_c', F.regexp_extract(F.col('idade_set'), r'(\\d+)', 1))"
   ]
  },
  {
   "cell_type": "code",
   "execution_count": 217,
   "id": "dacdf70d-35d9-44c1-b6ec-cecf07e8a9da",
   "metadata": {},
   "outputs": [],
   "source": [
    "df_idade = df_idade.withColumn(\n",
    "    'idade_c',\n",
    "    F.col('idade_c').cast('int')\n",
    ").withColumn(\n",
    "    'fx_etaria',\n",
    "    fx_etaria(F.col('idade_c'))\n",
    ")"
   ]
  },
  {
   "cell_type": "code",
   "execution_count": 218,
   "id": "740d1dcb-4449-41ad-9a57-498aa83bd5f7",
   "metadata": {},
   "outputs": [
    {
     "name": "stderr",
     "output_type": "stream",
     "text": [
      "                                                                                \r"
     ]
    }
   ],
   "source": [
    "df_idade.groupby('fx_etaria').count().coalesce(1) \\\n",
    ".write.csv('tabela_faixa_etaria', mode='overwrite', header=True)"
   ]
  },
  {
   "cell_type": "code",
   "execution_count": 230,
   "id": "1a7b3dd6-281b-4d92-9746-b5a3c4957b1a",
   "metadata": {},
   "outputs": [
    {
     "name": "stderr",
     "output_type": "stream",
     "text": [
      "                                                                                \r"
     ]
    }
   ],
   "source": [
    "df_dose = spark.read.csv('doses', header=True)"
   ]
  },
  {
   "cell_type": "code",
   "execution_count": 193,
   "id": "0164a2ee-8573-48e2-89bf-c2609083c24e",
   "metadata": {},
   "outputs": [
    {
     "name": "stderr",
     "output_type": "stream",
     "text": [
      "                                                                                \r"
     ]
    },
    {
     "data": {
      "text/plain": [
       "153"
      ]
     },
     "execution_count": 193,
     "metadata": {},
     "output_type": "execute_result"
    }
   ],
   "source": [
    "df_dose.select('1a dose').where(F.col('1a dose') < '2020-01-17').count()"
   ]
  },
  {
   "cell_type": "code",
   "execution_count": 195,
   "id": "02687f41-aac8-475f-b3b2-acbb5089afa6",
   "metadata": {},
   "outputs": [
    {
     "name": "stderr",
     "output_type": "stream",
     "text": [
      "                                                                                \r"
     ]
    },
    {
     "data": {
      "text/plain": [
       "1"
      ]
     },
     "execution_count": 195,
     "metadata": {},
     "output_type": "execute_result"
    }
   ],
   "source": [
    "df_dose.select('unica').where(F.col('unica') < '2020-01-17').count()"
   ]
  },
  {
   "cell_type": "code",
   "execution_count": 196,
   "id": "538d3c4e-cf85-4250-a921-7848b362261c",
   "metadata": {},
   "outputs": [
    {
     "name": "stderr",
     "output_type": "stream",
     "text": [
      "                                                                                \r"
     ]
    },
    {
     "data": {
      "text/plain": [
       "194"
      ]
     },
     "execution_count": 196,
     "metadata": {},
     "output_type": "execute_result"
    }
   ],
   "source": [
    "df_dose.select('2a dose').where(F.col('2a dose') < '2020-01-17').count()"
   ]
  },
  {
   "cell_type": "code",
   "execution_count": 197,
   "id": "06552046-e138-4bb0-ad3e-c495af9cf234",
   "metadata": {},
   "outputs": [
    {
     "name": "stderr",
     "output_type": "stream",
     "text": [
      "                                                                                \r"
     ]
    },
    {
     "data": {
      "text/plain": [
       "9"
      ]
     },
     "execution_count": 197,
     "metadata": {},
     "output_type": "execute_result"
    }
   ],
   "source": [
    "df_dose.select('reforco').where(F.col('reforco') < '2020-01-17').count()"
   ]
  },
  {
   "cell_type": "code",
   "execution_count": 108,
   "id": "8c6dc2c4",
   "metadata": {},
   "outputs": [],
   "source": [
    "# Essa função é uma adapatação de emergência para trabalhar os dados de Irece\n",
    "def adjust_dose_date(df):\n",
    "    df = df.withColumn(\n",
    "        '1a dose',\n",
    "        F.when(\n",
    "            F.split(F.col('1a dose'), ',').getItem(0) < '2020-01-17',\n",
    "            F.concat_ws(\n",
    "                ',',\n",
    "                F.lit('2020-01-17'),\n",
    "                F.split(F.col('1a dose'), ',').getItem(1)\n",
    "            )\n",
    "        ).otherwise(F.col('1a dose'))\n",
    "    ).withColumn(\n",
    "        'unica',\n",
    "        F.when(\n",
    "            F.split(F.col('unica'), ',').getItem(0) < '2020-01-17',\n",
    "            F.concat_ws(\n",
    "                ',',\n",
    "                F.lit('2020-01-17'),\n",
    "                F.split(F.col('unica'), ',').getItem(1)\n",
    "            )\n",
    "        ).otherwise(F.col('unica'))\n",
    "    ).withColumn(\n",
    "        '2a dose',\n",
    "        F.when(\n",
    "            (F.split(F.col('2a dose'), ',').getItem(0) < '2020-01-17') &\n",
    "            (F.split(F.col('1a dose'), ',').getItem(0) >= '2020-01-17'),\n",
    "            F.concat_ws(\n",
    "                ',',\n",
    "                F.add_months(F.split(F.col('1a dose'), ',').getItem(0), 3),\n",
    "                F.split(F.col('2a dose'), ',').getItem(1)\n",
    "            )\n",
    "        ).otherwise(F.col('2a dose'))\n",
    "    ).withColumn(\n",
    "        'reforco',\n",
    "        F.when(\n",
    "            (F.split(F.col('reforco'), ',').getItem(0) <\n",
    "             F.split(F.col('2a dose'), ',').getItem(0)),\n",
    "            F.concat_ws(\n",
    "                ',',\n",
    "                F.add_months(F.split(F.col('2a dose'), ',').getItem(0), 3),\n",
    "                F.split(F.col('reforco'), ',').getItem(1)\n",
    "            )\n",
    "        ).otherwise(F.col('reforco'))\n",
    "    )\n",
    "    \n",
    "    return df"
   ]
  },
  {
   "cell_type": "code",
   "execution_count": 231,
   "id": "13a0bfe9-e23f-476f-96ce-c1fbe305cffd",
   "metadata": {},
   "outputs": [],
   "source": [
    "df_dose = df_dose.withColumn(\n",
    "    '1a dose',\n",
    "    F.when(\n",
    "        F.split(F.col('1a dose'), ',').getItem(0) < '2020-01-17',\n",
    "        F.concat_ws(\n",
    "            ',',\n",
    "            F.lit('2020-01-17'),\n",
    "            F.split(F.col('1a dose'), ',').getItem(1)\n",
    "        )\n",
    "    ).otherwise(F.col('1a dose'))\n",
    ").withColumn(\n",
    "    'unica',\n",
    "    F.when(\n",
    "        F.split(F.col('unica'), ',').getItem(0) < '2020-01-17',\n",
    "        F.concat_ws(\n",
    "            ',',\n",
    "            F.lit('2020-01-17'),\n",
    "            F.split(F.col('unica'), ',').getItem(1)\n",
    "        )\n",
    "    ).otherwise(F.col('unica'))\n",
    ").withColumn(\n",
    "    '2a dose',\n",
    "    F.when(\n",
    "        (F.split(F.col('2a dose'), ',').getItem(0) < '2020-01-17') &\n",
    "        (F.split(F.col('1a dose'), ',').getItem(0) >= '2020-01-17'),\n",
    "        F.concat_ws(\n",
    "            ',',\n",
    "            F.add_months(F.split(F.col('1a dose'), ',').getItem(0), 3),\n",
    "            F.split(F.col('2a dose'), ',').getItem(1)\n",
    "        )\n",
    "    ).when(\n",
    "        (F.split(F.col('2a dose'), ',').getItem(0) < '2020-01-17') &\n",
    "        (F.split(F.col('dose inicial'), ',').getItem(0) >= '2020-01-17'),\n",
    "        F.concat_ws(\n",
    "            ',',\n",
    "            F.add_months(F.split(F.col('dose inicial'), ',').getItem(0), 3),\n",
    "            F.split(F.col('2a dose'), ',').getItem(1)\n",
    "        )\n",
    "    ).otherwise(F.col('2a dose'))\n",
    ").withColumn(\n",
    "    'reforco',\n",
    "    F.when(\n",
    "        (F.split(F.col('reforco'), ',').getItem(0) <\n",
    "         F.split(F.col('2a dose'), ',').getItem(0)),\n",
    "        F.concat_ws(\n",
    "            ',',\n",
    "            F.add_months(F.split(F.col('2a dose'), ',').getItem(0), 3),\n",
    "            F.split(F.col('reforco'), ',').getItem(1)\n",
    "        )\n",
    "    ).otherwise(F.col('reforco'))\n",
    ")"
   ]
  },
  {
   "cell_type": "code",
   "execution_count": 223,
   "id": "ec0b775f-724a-444b-926b-cf9a7f398803",
   "metadata": {},
   "outputs": [
    {
     "name": "stderr",
     "output_type": "stream",
     "text": [
      "[Stage 277:=====================================================> (41 + 1) / 42]\r"
     ]
    },
    {
     "name": "stdout",
     "output_type": "stream",
     "text": [
      "+-------+------------+-----+------------+\n",
      "|1a dose|dose inicial|unica|2a dose     |\n",
      "+-------+------------+-----+------------+\n",
      "|null   |null        |null |1995-05-23,3|\n",
      "|null   |null        |null |1975-08-27,1|\n",
      "|null   |null        |null |1986-02-19,3|\n",
      "|null   |null        |null |2001-05-24,1|\n",
      "+-------+------------+-----+------------+\n",
      "\n"
     ]
    },
    {
     "name": "stderr",
     "output_type": "stream",
     "text": [
      "                                                                                \r"
     ]
    }
   ],
   "source": [
    "df_dose.select('1a dose', 'dose inicial', 'unica', '2a dose') \\\n",
    ".where(F.col('2a dose') < '2020-01-17').show(truncate=False)"
   ]
  },
  {
   "cell_type": "code",
   "execution_count": 232,
   "id": "ad84c70a-8139-4468-9893-fe16a13c5746",
   "metadata": {},
   "outputs": [
    {
     "name": "stderr",
     "output_type": "stream",
     "text": [
      "[Stage 296:=====================================================> (41 + 1) / 42]\r"
     ]
    },
    {
     "name": "stdout",
     "output_type": "stream",
     "text": [
      "+-------+-------+-----+------------+------------+\n",
      "|1a dose|2a dose|unica|dose inicial|reforco     |\n",
      "+-------+-------+-----+------------+------------+\n",
      "|null   |null   |null |null        |1932-06-03,3|\n",
      "+-------+-------+-----+------------+------------+\n",
      "\n"
     ]
    },
    {
     "name": "stderr",
     "output_type": "stream",
     "text": [
      "                                                                                \r"
     ]
    }
   ],
   "source": [
    "df_dose.select('1a dose', '2a dose', 'unica', 'dose inicial', 'reforco') \\\n",
    ".where(F.col('reforco') < '2020-01-17').show(truncate=False)"
   ]
  },
  {
   "cell_type": "code",
   "execution_count": 221,
   "id": "60d700f5",
   "metadata": {},
   "outputs": [],
   "source": [
    "def generate_labels_dose(df):\n",
    "    df = df.withColumn(\n",
    "        'prim_dose',\n",
    "        F.when(\n",
    "            (F.col('2a dose').isNull()) &\n",
    "            (F.col('reforco').isNull()) &\n",
    "            (F.col('3a dose').isNull()),\n",
    "            F.when(\n",
    "                F.col('1a dose').isNotNull(),\n",
    "                F.regexp_extract('1a dose', '\\\\d{4}-\\\\d{1,2}-\\\\d{1,2}', 0)\n",
    "            )\n",
    "        )\n",
    "    ).withColumn(\n",
    "        'vac_s_ref',\n",
    "        F.when(\n",
    "            (F.col('1a dose').isNotNull()) &\n",
    "            (F.col('2a dose').isNotNull()) &\n",
    "            (F.col('unica').isNull()) &\n",
    "                # (F.col('1o reforco').isNull()) &\n",
    "            (F.col('reforco').isNull()) &\n",
    "            (F.col('3a dose').isNull()),\n",
    "            F.regexp_extract(F.col('2a dose'), '\\\\d{4}-\\\\d{1,2}-\\\\d{1,2}', 0)\n",
    "        ).when(\n",
    "                # (F.col('dose inicial').isNotNull()) &\n",
    "            (F.col('2a dose').isNotNull()) &\n",
    "            (F.col('unica').isNull()) &\n",
    "\n",
    "                # (F.col('1o reforco').isNull()) &\n",
    "            (F.col('reforco').isNull()) &\n",
    "            (F.col('3a dose').isNull()),\n",
    "            F.regexp_extract(F.col('2a dose'), '\\\\d{4}-\\\\d{1,2}-\\\\d{1,2}', 0)\n",
    "        ).when(\n",
    "            (F.col('unica').isNotNull()) &\n",
    "            (F.col('1a dose').isNull()) &\n",
    "                # (F.col('dose inicial').isNull()) &\n",
    "            (F.col('2a dose').isNull()) &\n",
    "\n",
    "                # (F.col('1o reforco').isNull()) &\n",
    "            (F.col('reforco').isNull()) &\n",
    "            (F.col('3a dose').isNull()),\n",
    "            F.regexp_extract(F.col('unica'), '\\\\d{4}-\\\\d{1,2}-\\\\d{1,2}', 0)\n",
    "        )\n",
    "    ).withColumn(\n",
    "        'vac_c_ref',\n",
    "        F.when(\n",
    "            (F.col('1a dose').isNotNull()) &\n",
    "            (F.col('2a dose').isNotNull()) &\n",
    "            (F.col('unica').isNull()),\n",
    "            F.when(\n",
    "                F.col('reforco').isNotNull(), F.regexp_extract(F.col('reforco'), '\\\\d{4}-\\\\d{1,2}-\\\\d{1,2}', 0)\n",
    "\n",
    "            ).when(\n",
    "                F.col('3a dose').isNotNull(), F.regexp_extract(F.col('3a dose'), '\\\\d{4}-\\\\d{1,2}-\\\\d{1,2}', 0)\n",
    "            )\n",
    "            ).when(\n",
    "                (F.col('2a dose').isNotNull()) &\n",
    "                (F.col('unica').isNull()),\n",
    "                F.when(\n",
    "                    F.col('reforco').isNotNull(), F.regexp_extract(F.col('reforco'), '\\\\d{4}-\\\\d{1,2}-\\\\d{1,2}', 0)\n",
    "                ).when(\n",
    "                    F.col('3a dose').isNotNull(), F.regexp_extract(F.col('3a dose'), '\\\\d{4}-\\\\d{1,2}-\\\\d{1,2}', 0)\n",
    "                )\n",
    "            ).when(\n",
    "                (F.col('unica').isNotNull()) &\n",
    "                (F.col('1a dose').isNull()) &\n",
    "                (F.col('2a dose').isNull()),\n",
    "                F.when(\n",
    "                    F.col('reforco').isNotNull(), F.regexp_extract(F.col('reforco'), '\\\\d{4}-\\\\d{1,2}-\\\\d{1,2}', 0)\n",
    "                ).when(\n",
    "                    F.col('3a dose').isNotNull(), F.regexp_extract(F.col('3a dose'), '\\\\d{4}-\\\\d{1,2}-\\\\d{1,2}', 0)\n",
    "                )\n",
    "        )\n",
    "    )\n",
    "\n",
    "    return df"
   ]
  },
  {
   "cell_type": "code",
   "execution_count": 294,
   "id": "ccccbbb7-24bc-4276-af1e-83c715c7fe33",
   "metadata": {},
   "outputs": [],
   "source": [
    "df_dose = df_dose.withColumn(\n",
    "    'prim_dose',\n",
    "    F.when(\n",
    "        (F.col('2a dose').isNull()) &\n",
    "        (F.col('1o reforco').isNull()) &\n",
    "        (F.col('reforco').isNull()) &\n",
    "        (F.col('3a dose').isNull()) &\n",
    "        (F.col('dose adicional').isNull()),\n",
    "        F.when(\n",
    "            F.col('1a dose').isNotNull(),\n",
    "            (F.col('1a dose'))\n",
    "        ).when(\n",
    "            F.col('dose inicial').isNotNull(),\n",
    "            (F.col('dose inicial'))\n",
    "        ).when(\n",
    "            (F.col('dose inicial').isNotNull()) &\n",
    "            (F.col('1a dose').isNotNull()),\n",
    "            F.col('1a dose'))\n",
    "    )\n",
    ").withColumn(\n",
    "    'vac_s_ref',\n",
    "    F.when(\n",
    "        (F.col('1a dose').isNotNull()) &\n",
    "        (F.col('2a dose').isNotNull()) &\n",
    "        (F.col('unica').isNull()) &\n",
    "        \n",
    "        (F.col('1o reforco').isNull()) &\n",
    "        (F.col('reforco').isNull()) &\n",
    "        (F.col('3a dose').isNull()) &\n",
    "        (F.col('dose adicional').isNull()),\n",
    "        \n",
    "        F.col('2a dose')\n",
    "    ).when(\n",
    "        (F.col('dose inicial').isNotNull()) &\n",
    "        (F.col('2a dose').isNotNull()) &\n",
    "        (F.col('unica').isNull()) &\n",
    "        \n",
    "        (F.col('1o reforco').isNull()) &\n",
    "        (F.col('reforco').isNull()) &\n",
    "        (F.col('3a dose').isNull()) &\n",
    "        (F.col('dose adicional').isNull()),\n",
    "        \n",
    "        (F.col('2a dose'))\n",
    "    ).when(\n",
    "        (F.col('unica').isNotNull()) &\n",
    "        (F.col('1a dose').isNull()) &\n",
    "        (F.col('dose inicial').isNull()) &\n",
    "        (F.col('2a dose').isNull()) &\n",
    "        \n",
    "        (F.col('1o reforco').isNull()) &\n",
    "        (F.col('reforco').isNull()) &\n",
    "        (F.col('3a dose').isNull()) &\n",
    "        (F.col('dose adicional').isNull()),\n",
    "        \n",
    "        F.col('unica')\n",
    "    )\n",
    ").withColumn(\n",
    "    'vac_c_ref',\n",
    "    F.when(\n",
    "        (F.col('1a dose').isNotNull()) &\n",
    "        (F.col('2a dose').isNotNull()) &\n",
    "        (F.col('unica').isNull()),\n",
    "        F.when(\n",
    "            F.col('1o reforco').isNotNull(), F.col('1o reforco')\n",
    "        ).when(\n",
    "            F.col('reforco').isNotNull(), F.col('reforco')\n",
    "        ).when(\n",
    "            F.col('3a dose').isNotNull(), F.col('3a dose')\n",
    "        ).when(\n",
    "            F.col('dose adicional').isNotNull(), F.col('dose adicional')\n",
    "        )\n",
    "    ).when(\n",
    "        (F.col('dose inicial').isNotNull()) &\n",
    "        (F.col('2a dose').isNotNull()) &\n",
    "        (F.col('unica').isNull()),\n",
    "        F.when(\n",
    "            F.col('1o reforco').isNotNull(), F.col('1o reforco')\n",
    "        ).when(\n",
    "            F.col('reforco').isNotNull(), F.col('reforco')\n",
    "        ).when(\n",
    "            F.col('3a dose').isNotNull(), F.col('3a dose')\n",
    "        ).when(\n",
    "            F.col('dose adicional').isNotNull(), F.col('dose adicional')\n",
    "        )\n",
    "    ).when(\n",
    "        (F.col('unica').isNotNull()) &\n",
    "        (F.col('1a dose').isNull()) &\n",
    "        (F.col('dose inicial').isNull()) &\n",
    "        (F.col('2a dose').isNull()),\n",
    "        F.when(\n",
    "            F.col('1o reforco').isNotNull(), F.col('1o reforco')\n",
    "        ).when(\n",
    "            F.col('reforco').isNotNull(), F.col('reforco')\n",
    "        ).when(\n",
    "            F.col('3a dose').isNotNull(), F.col('3a dose')\n",
    "        ).when(\n",
    "            F.col('dose adicional').isNotNull(), F.col('dose adicional')\n",
    "        )\n",
    "    )\n",
    ")"
   ]
  },
  {
   "cell_type": "raw",
   "id": "0b8d5772-8085-4edf-8659-5ff85706a3e8",
   "metadata": {},
   "source": [
    "astrazeneca = 1\n",
    "coronavac = 2\n",
    "pfizer = 3\n",
    "janssen = 4"
   ]
  },
  {
   "cell_type": "code",
   "execution_count": 125,
   "id": "cbab3774",
   "metadata": {},
   "outputs": [],
   "source": [
    "def rename_dose(df):\n",
    "    df = df.withColumn(\n",
    "        'apenas_primeira_dose_nome',\n",
    "        F.when(\n",
    "            F.split(F.col('prim_dose'), ',').getItem(1) == 1, 'astrazeneca'\n",
    "        ).when(\n",
    "            F.split(F.col('prim_dose'), ',').getItem(1) == 2, 'coronavac'\n",
    "        ).when(\n",
    "            F.split(F.col('prim_dose'), ',').getItem(1) == 3, 'pfizer'\n",
    "        ).when(\n",
    "            F.split(F.col('prim_dose'), ',').getItem(1) == 4, 'janssen'\n",
    "        )\n",
    "    ).withColumn(\n",
    "        'vacinados_sem_reforco_nome',\n",
    "        F.when(\n",
    "            F.split(F.col('vac_s_ref'), ',').getItem(1) == 1, 'astrazeneca'\n",
    "        ).when(\n",
    "            F.split(F.col('vac_s_ref'), ',').getItem(1) == 2, 'coronavac'\n",
    "        ).when(\n",
    "            F.split(F.col('vac_s_ref'), ',').getItem(1) == 3, 'pfizer'\n",
    "        ).when(\n",
    "            F.split(F.col('vac_s_ref'), ',').getItem(1) == 4, 'janssen'\n",
    "        )\n",
    "    ).withColumn(\n",
    "        'vacinados_com_reforco_nome',\n",
    "        F.when(\n",
    "            F.split(F.col('vac_c_ref'), ',').getItem(1) == 1, 'astrazeneca'\n",
    "        ).when(\n",
    "            F.split(F.col('vac_c_ref'), ',').getItem(1) == 2, 'coronavac'\n",
    "        ).when(\n",
    "            F.split(F.col('vac_c_ref'), ',').getItem(1) == 3, 'pfizer'\n",
    "        ).when(\n",
    "            F.split(F.col('vac_c_ref'), ',').getItem(1) == 4, 'janssen'\n",
    "        )\n",
    "    )\n",
    "    \n",
    "    return df"
   ]
  },
  {
   "cell_type": "code",
   "execution_count": 295,
   "id": "28bc5408-46f1-4e06-acaf-9166c92fd350",
   "metadata": {},
   "outputs": [],
   "source": [
    "df_dose = df_dose.withColumn(\n",
    "    'apenas_primeira_dose_nome',\n",
    "    F.when(\n",
    "        F.split(F.col('prim_dose'), ',').getItem(1) == 1, 'astrazeneca'\n",
    "    ).when(\n",
    "        F.split(F.col('prim_dose'), ',').getItem(1) == 2, 'coronavac'\n",
    "    ).when(\n",
    "        F.split(F.col('prim_dose'), ',').getItem(1) == 3, 'pfizer'\n",
    "    ).when(\n",
    "        F.split(F.col('prim_dose'), ',').getItem(1) == 4, 'janssen'\n",
    "    )\n",
    ").withColumn(\n",
    "    'vacinados_sem_reforco_nome',\n",
    "    F.when(\n",
    "        F.split(F.col('vac_s_ref'), ',').getItem(1) == 1, 'astrazeneca'\n",
    "    ).when(\n",
    "        F.split(F.col('vac_s_ref'), ',').getItem(1) == 2, 'coronavac'\n",
    "    ).when(\n",
    "        F.split(F.col('vac_s_ref'), ',').getItem(1) == 3, 'pfizer'\n",
    "    ).when(\n",
    "        F.split(F.col('vac_s_ref'), ',').getItem(1) == 4, 'janssen'\n",
    "    )\n",
    ").withColumn(\n",
    "    'vacinados_com_reforco_nome',\n",
    "    F.when(\n",
    "        F.split(F.col('vac_c_ref'), ',').getItem(1) == 1, 'astrazeneca'\n",
    "    ).when(\n",
    "        F.split(F.col('vac_c_ref'), ',').getItem(1) == 2, 'coronavac'\n",
    "    ).when(\n",
    "        F.split(F.col('vac_c_ref'), ',').getItem(1) == 3, 'pfizer'\n",
    "    ).when(\n",
    "        F.split(F.col('vac_c_ref'), ',').getItem(1) == 4, 'janssen'\n",
    "    )\n",
    ")"
   ]
  },
  {
   "cell_type": "code",
   "execution_count": 126,
   "id": "b1bb66aa",
   "metadata": {},
   "outputs": [],
   "source": [
    "def p_dose_date(df):\n",
    "    df = df.withColumn(\n",
    "        'apenas_primeira_dose_data',\n",
    "        F.split(F.col('prim_dose'), ',').getItem(0)\n",
    "    ).withColumn(\n",
    "        'vacinados_sem_reforco_data',\n",
    "        F.split(F.col('vac_s_ref'), ',').getItem(0)\n",
    "    ).withColumn(\n",
    "        'vacinados_com_reforco_data',\n",
    "        F.split(F.col('vac_c_ref'), ',').getItem(0)\n",
    "    )\n",
    "    \n",
    "    return df"
   ]
  },
  {
   "cell_type": "code",
   "execution_count": 296,
   "id": "9cdb9f86-a59d-4686-920c-e7c82775521d",
   "metadata": {},
   "outputs": [],
   "source": [
    "df_dose = df_dose.withColumn(\n",
    "    'apenas_primeira_dose_data',\n",
    "    F.split(F.col('prim_dose'), ',').getItem(0)\n",
    ").withColumn(\n",
    "    'vacinados_sem_reforco_data',\n",
    "    F.split(F.col('vac_s_ref'), ',').getItem(0)\n",
    ").withColumn(\n",
    "    'vacinados_com_reforco_data',\n",
    "    F.split(F.col('vac_c_ref'), ',').getItem(0)\n",
    ")"
   ]
  },
  {
   "cell_type": "code",
   "execution_count": 298,
   "id": "227c1d00-0b5c-497d-adb7-e3b881bee174",
   "metadata": {},
   "outputs": [
    {
     "name": "stderr",
     "output_type": "stream",
     "text": [
      "                                                                                \r"
     ]
    }
   ],
   "source": [
    "df_dose.groupby('apenas_primeira_dose_nome',\n",
    "                 'vacinados_sem_reforco_nome',\n",
    "                 'vacinados_com_reforco_nome') \\\n",
    ".count() \\\n",
    ".coalesce(1) \\\n",
    ".write \\\n",
    ".csv('tabela_doses_nome', mode='overwrite', header=True)"
   ]
  },
  {
   "cell_type": "code",
   "execution_count": 299,
   "id": "f4772ad7-bb27-4f82-8d26-cf6735b1843f",
   "metadata": {},
   "outputs": [
    {
     "name": "stderr",
     "output_type": "stream",
     "text": [
      "                                                                                \r"
     ]
    }
   ],
   "source": [
    "df_dose.groupby('apenas_primeira_dose_data',\n",
    "                 'vacinados_sem_reforco_data',\n",
    "                 'vacinados_com_reforco_data') \\\n",
    ".count() \\\n",
    ".coalesce(1) \\\n",
    ".write \\\n",
    ".csv('tabela_doses_data', mode='overwrite', header=True)"
   ]
  }
 ],
 "metadata": {
  "kernelspec": {
   "display_name": "Python 3 (ipykernel)",
   "language": "python",
   "name": "python3"
  },
  "language_info": {
   "codemirror_mode": {
    "name": "ipython",
    "version": 3
   },
   "file_extension": ".py",
   "mimetype": "text/x-python",
   "name": "python",
   "nbconvert_exporter": "python",
   "pygments_lexer": "ipython3",
   "version": "3.8.10"
  }
 },
 "nbformat": 4,
 "nbformat_minor": 5
}
