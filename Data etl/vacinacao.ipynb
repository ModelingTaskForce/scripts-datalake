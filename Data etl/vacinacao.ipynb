{
 "cells": [
  {
   "cell_type": "code",
   "execution_count": 1,
   "id": "503304b4-8d00-4691-9918-d46d7e2c3ebe",
   "metadata": {},
   "outputs": [],
   "source": [
    "import pyspark.sql.functions as F\n",
    "import pyspark.sql.types as T"
   ]
  },
  {
   "cell_type": "code",
   "execution_count": 3,
   "id": "1b3d84a7-b2b8-475d-9e4e-df15b5d3b7a7",
   "metadata": {},
   "outputs": [],
   "source": [
    "from unidecode import unidecode"
   ]
  },
  {
   "cell_type": "code",
   "execution_count": 4,
   "id": "4d0076ed-7e51-489a-ae92-2c9181a18685",
   "metadata": {},
   "outputs": [
    {
     "name": "stderr",
     "output_type": "stream",
     "text": [
      "22/03/09 07:43:03 WARN Utils: Your hostname, eniac resolves to a loopback address: 127.0.1.1; using 192.168.100.6 instead (on interface wlp3s0)\n",
      "22/03/09 07:43:03 WARN Utils: Set SPARK_LOCAL_IP if you need to bind to another address\n",
      "Using Spark's default log4j profile: org/apache/spark/log4j-defaults.properties\n",
      "Setting default log level to \"WARN\".\n",
      "To adjust logging level use sc.setLogLevel(newLevel). For SparkR, use setLogLevel(newLevel).\n",
      "22/03/09 07:43:09 WARN SparkConf: Note that spark.local.dir will be overridden by the value set by the cluster manager (via SPARK_LOCAL_DIRS in mesos/standalone/kubernetes and LOCAL_DIRS in YARN).\n"
     ]
    }
   ],
   "source": [
    "from config import spark"
   ]
  },
  {
   "cell_type": "code",
   "execution_count": null,
   "id": "f124defa-a289-4274-977e-860c1b313f7b",
   "metadata": {},
   "outputs": [],
   "source": [
    "HD = '/media/fabio/19940C2755DB566F/'\n",
    "DATALAKE = 'PAMepi/datalake/'\n",
    "RAW = 'part-00000-a9fa6c84-7d08-410d-bdc8-fd5f338134c4-c000.csv'"
   ]
  },
  {
   "cell_type": "code",
   "execution_count": 187,
   "id": "f344c45b-1f04-4f3c-96d6-feb8b86c14db",
   "metadata": {},
   "outputs": [],
   "source": [
    "df = spark.read.csv(HD + DATALAKE + RAW, header=True, sep=';')"
   ]
  },
  {
   "cell_type": "code",
   "execution_count": 19,
   "id": "8324eab6-7e43-485f-bed4-b34c2fbc0c51",
   "metadata": {},
   "outputs": [
    {
     "data": {
      "text/plain": [
       "['document_id',\n",
       " 'paciente_id',\n",
       " 'paciente_idade',\n",
       " 'paciente_datanascimento',\n",
       " 'paciente_enumsexobiologico',\n",
       " 'paciente_racacor_codigo',\n",
       " 'paciente_racacor_valor',\n",
       " 'paciente_endereco_coibgemunicipio',\n",
       " 'paciente_endereco_copais',\n",
       " 'paciente_endereco_nmmunicipio',\n",
       " 'paciente_endereco_nmpais',\n",
       " 'paciente_endereco_uf',\n",
       " 'paciente_endereco_cep',\n",
       " 'paciente_nacionalidade_enumnacionalidade',\n",
       " 'estabelecimento_valor',\n",
       " 'estabelecimento_razaosocial',\n",
       " 'estalecimento_nofantasia',\n",
       " 'estabelecimento_municipio_codigo',\n",
       " 'estabelecimento_municipio_nome',\n",
       " 'estabelecimento_uf',\n",
       " 'vacina_grupoatendimento_codigo',\n",
       " 'vacina_grupoatendimento_nome',\n",
       " 'vacina_categoria_codigo',\n",
       " 'vacina_categoria_nome',\n",
       " 'vacina_lote',\n",
       " 'vacina_fabricante_nome',\n",
       " 'vacina_fabricante_referencia',\n",
       " 'vacina_dataaplicacao',\n",
       " 'vacina_descricao_dose',\n",
       " 'vacina_codigo',\n",
       " 'vacina_nome',\n",
       " 'sistema_origem',\n",
       " 'data_importacao_rnds',\n",
       " 'id_sistema_origem',\n",
       " 'vacina_numdose']"
      ]
     },
     "execution_count": 19,
     "metadata": {},
     "output_type": "execute_result"
    }
   ],
   "source": [
    "df.columns"
   ]
  },
  {
   "cell_type": "code",
   "execution_count": 20,
   "id": "599e29fa-42de-4399-ae6f-2211f930d1d5",
   "metadata": {},
   "outputs": [],
   "source": [
    "df = df.withColumnRenamed('paciente_id', 'id') \\\n",
    "    .withColumnRenamed('paciente_idade', 'idade') \\\n",
    "    .withColumnRenamed('paciente_enumsexobiologico', 'sexo') \\\n",
    "    .withColumnRenamed('paciente_racacor_codigo', 'raca') \\\n",
    "    .withColumnRenamed('paciente_endereco_coibgemunicipio', 'mun_res') \\\n",
    "    .withColumnRenamed('paciente_endereco_nmmunicipio', 'nome_mun_res') \\\n",
    "    .withColumnRenamed('paciente_endereco_uf', 'uf_res') \\\n",
    "    .withColumnRenamed('vacina_dataaplicacao', 'data') \\\n",
    "    .withColumnRenamed('vacina_descricao_dose', 'dose') \\\n",
    "    .withColumnRenamed('vacina_nome', 'vacina')"
   ]
  },
  {
   "cell_type": "code",
   "execution_count": 29,
   "id": "a13aa234-f763-4c0b-bb5b-c1112b9e360d",
   "metadata": {},
   "outputs": [],
   "source": [
    "columns = [\n",
    "    'data', 'id', 'idade', 'sexo', 'raca', 'uf_res', 'nome_mun_res',\n",
    "    'mun_res', 'vacina', 'dose'\n",
    "]"
   ]
  },
  {
   "cell_type": "code",
   "execution_count": 30,
   "id": "95604e1d-f1c3-4374-b0b2-1f162b9c7e5f",
   "metadata": {},
   "outputs": [
    {
     "name": "stdout",
     "output_type": "stream",
     "text": [
      "+----------+--------------------+-----+----+----+------+-----------------+-------+--------------------+-------+\n",
      "|      data|                  id|idade|sexo|raca|uf_res|     nome_mun_res|mun_res|              vacina|   dose|\n",
      "+----------+--------------------+-----+----+----+------+-----------------+-------+--------------------+-------+\n",
      "|2021-03-26|4cc05cb74a857154d...|   71|   F|  03|    SP|        SAO PAULO| 355030|COVID-19 SINOVAC/...|1ª Dose|\n",
      "|2021-03-03|c6e434ee9e9c7dfce...|   82|   F|  03|    MG|    MONTES CLAROS| 314330|COVID-19 SINOVAC/...|1ª Dose|\n",
      "|2021-03-04|c1dc811e8a88c185f...|   78|   F|  01|    SP|     ITAPETININGA| 352230|COVID-19 ASTRAZEN...|1ª Dose|\n",
      "|2021-03-24|13824e8fd9bae9ab4...|   74|   F|  04|    AL|      QUEBRANGULO| 270760|COVID-19 SINOVAC/...|1ª Dose|\n",
      "|2021-03-11|c10fffd9c3008c2f7...|   64|   F|  03|    AM|           MANAUS| 130260|COVID-19 ASTRAZEN...|1ª Dose|\n",
      "|2021-03-20|8eace4ee42f75a3a5...|   72|   F|  03|    SE|       SIMAO DIAS| 280710|COVID-19 SINOVAC/...|1ª Dose|\n",
      "|2021-01-28|cd73780c86d5701fb...|   75|   M|  03|    RJ|   RIO DE JANEIRO| 330455|COVID-19 ASTRAZEN...|1ª Dose|\n",
      "|2021-03-09|1ff176fe6cd00e6e5...|   32|   M|  04|    SP|            COTIA| 351300|COVID-19 SINOVAC/...|1ª Dose|\n",
      "|2021-03-18|12304a38fd6ebaffa...|   80|   M|  03|    MG|      TRES MARIAS| 316935|COVID-19 SINOVAC/...|1ª Dose|\n",
      "|2021-03-05|d0e665b6bf2588db6...|   77|   F|  03|    GO|SANTA FE DE GOIAS| 521925|COVID-19 SINOVAC/...|1ª Dose|\n",
      "|2021-03-11|d8b75bd90ca97b07e...|   74|   F|  99|    RO|    GUAJARA-MIRIM| 110010|COVID-19 ASTRAZEN...|1ª Dose|\n",
      "|2021-03-24|7798c96d9448c8583...|   70|   F|  99|    RJ|          RESENDE| 330420|COVID-19 SINOVAC/...|1ª Dose|\n",
      "|2021-02-12|aa633a46639d6e5b5...|   85|   F|  03|    RJ|  DUQUE DE CAXIAS| 330170|COVID-19 SINOVAC/...|1ª Dose|\n",
      "|2021-03-24|f647f462ec4e97d27...|   85|   F|  03|    MA|      COELHO NETO| 210340|COVID-19 SINOVAC/...|1ª Dose|\n",
      "|2021-03-10|55f20c47292f44894...|   66|   M|  04|    AM|          HUMAITA| 130170|COVID-19 SINOVAC/...|1ª Dose|\n",
      "|2021-02-24|7507c5e94bcab49ef...|   54|   F|  03|    RR|        BOA VISTA| 140010|COVID-19 SINOVAC/...|1ª Dose|\n",
      "|2021-03-25|00927003e7aad6ad9...|   70|   M|  01|    RS|  MATO CASTELHANO| 431213|COVID-19 SINOVAC/...|1ª Dose|\n",
      "|2021-03-03|8c3638e9224f1e7a0...|   46|   M|  03|    RN|             JAPI| 240540|COVID-19 SINOVAC/...|1ª Dose|\n",
      "|2021-03-25|2d759bfc431cd0950...|   67|   F|  99|    PE|           RECIFE| 261160|COVID-19 SINOVAC/...|1ª Dose|\n",
      "|2021-03-26|3dac45e927f14ba15...|   68|   M|  04|    BA|          ITABUNA| 291480|COVID-19 SINOVAC/...|1ª Dose|\n",
      "+----------+--------------------+-----+----+----+------+-----------------+-------+--------------------+-------+\n",
      "only showing top 20 rows\n",
      "\n"
     ]
    }
   ],
   "source": [
    "df.select(columns).show()"
   ]
  },
  {
   "cell_type": "code",
   "execution_count": 26,
   "id": "06d4a27d-48b0-4fed-8436-f14eb229fa74",
   "metadata": {},
   "outputs": [],
   "source": [
    "unidecode_udf = F.udf(\n",
    "    lambda string: unidecode(string).lower() if string is not None else '999',\n",
    "    T.StringType()\n",
    ")"
   ]
  },
  {
   "cell_type": "code",
   "execution_count": 32,
   "id": "6c09ed5b-c351-4236-b222-2a4b3c1d0776",
   "metadata": {},
   "outputs": [],
   "source": [
    "df = df.withColumn('sexo', unidecode_udf('sexo')) \\\n",
    "    .withColumn('uf_res', unidecode_udf('uf_res')) \\\n",
    "    .withColumn('nome_mun_res', unidecode_udf('nome_mun_res')) \\\n",
    "    .withColumn('vacina', unidecode_udf('vacina')) \\\n",
    "    .withColumn('dose', unidecode_udf('dose'))"
   ]
  },
  {
   "cell_type": "code",
   "execution_count": 33,
   "id": "d90451c0-68ad-4316-9e22-fe51d0701df6",
   "metadata": {},
   "outputs": [
    {
     "name": "stdout",
     "output_type": "stream",
     "text": [
      "+----------+--------------------+-----+----+----+------+-----------------+-------+--------------------+-------+\n",
      "|      data|                  id|idade|sexo|raca|uf_res|     nome_mun_res|mun_res|              vacina|   dose|\n",
      "+----------+--------------------+-----+----+----+------+-----------------+-------+--------------------+-------+\n",
      "|2021-03-26|4cc05cb74a857154d...|   71|   f|  03|    sp|        sao paulo| 355030|covid-19 sinovac/...|1a dose|\n",
      "|2021-03-03|c6e434ee9e9c7dfce...|   82|   f|  03|    mg|    montes claros| 314330|covid-19 sinovac/...|1a dose|\n",
      "|2021-03-04|c1dc811e8a88c185f...|   78|   f|  01|    sp|     itapetininga| 352230|covid-19 astrazen...|1a dose|\n",
      "|2021-03-24|13824e8fd9bae9ab4...|   74|   f|  04|    al|      quebrangulo| 270760|covid-19 sinovac/...|1a dose|\n",
      "|2021-03-11|c10fffd9c3008c2f7...|   64|   f|  03|    am|           manaus| 130260|covid-19 astrazen...|1a dose|\n",
      "|2021-03-20|8eace4ee42f75a3a5...|   72|   f|  03|    se|       simao dias| 280710|covid-19 sinovac/...|1a dose|\n",
      "|2021-01-28|cd73780c86d5701fb...|   75|   m|  03|    rj|   rio de janeiro| 330455|covid-19 astrazen...|1a dose|\n",
      "|2021-03-09|1ff176fe6cd00e6e5...|   32|   m|  04|    sp|            cotia| 351300|covid-19 sinovac/...|1a dose|\n",
      "|2021-03-18|12304a38fd6ebaffa...|   80|   m|  03|    mg|      tres marias| 316935|covid-19 sinovac/...|1a dose|\n",
      "|2021-03-05|d0e665b6bf2588db6...|   77|   f|  03|    go|santa fe de goias| 521925|covid-19 sinovac/...|1a dose|\n",
      "|2021-03-11|d8b75bd90ca97b07e...|   74|   f|  99|    ro|    guajara-mirim| 110010|covid-19 astrazen...|1a dose|\n",
      "|2021-03-24|7798c96d9448c8583...|   70|   f|  99|    rj|          resende| 330420|covid-19 sinovac/...|1a dose|\n",
      "|2021-02-12|aa633a46639d6e5b5...|   85|   f|  03|    rj|  duque de caxias| 330170|covid-19 sinovac/...|1a dose|\n",
      "|2021-03-24|f647f462ec4e97d27...|   85|   f|  03|    ma|      coelho neto| 210340|covid-19 sinovac/...|1a dose|\n",
      "|2021-03-10|55f20c47292f44894...|   66|   m|  04|    am|          humaita| 130170|covid-19 sinovac/...|1a dose|\n",
      "|2021-02-24|7507c5e94bcab49ef...|   54|   f|  03|    rr|        boa vista| 140010|covid-19 sinovac/...|1a dose|\n",
      "|2021-03-25|00927003e7aad6ad9...|   70|   m|  01|    rs|  mato castelhano| 431213|covid-19 sinovac/...|1a dose|\n",
      "|2021-03-03|8c3638e9224f1e7a0...|   46|   m|  03|    rn|             japi| 240540|covid-19 sinovac/...|1a dose|\n",
      "|2021-03-25|2d759bfc431cd0950...|   67|   f|  99|    pe|           recife| 261160|covid-19 sinovac/...|1a dose|\n",
      "|2021-03-26|3dac45e927f14ba15...|   68|   m|  04|    ba|          itabuna| 291480|covid-19 sinovac/...|1a dose|\n",
      "+----------+--------------------+-----+----+----+------+-----------------+-------+--------------------+-------+\n",
      "only showing top 20 rows\n",
      "\n"
     ]
    }
   ],
   "source": [
    "df.select(columns).show()"
   ]
  },
  {
   "cell_type": "code",
   "execution_count": 34,
   "id": "3ca90613-8154-4d3a-9582-aad6fa43a07d",
   "metadata": {},
   "outputs": [
    {
     "name": "stderr",
     "output_type": "stream",
     "text": [
      "[Stage 12:>                                                         (0 + 1) / 1]\r"
     ]
    },
    {
     "name": "stdout",
     "output_type": "stream",
     "text": [
      "+-----------------------------------------+\n",
      "|vacina                                   |\n",
      "+-----------------------------------------+\n",
      "|covid-19 astrazeneca/fiocruz - covishield|\n",
      "|covid-19 pfizer - comirnaty              |\n",
      "|covid-19 astrazeneca - chadox1-s         |\n",
      "|covid-19 janssen - ad26.cov2.s           |\n",
      "|covid-19 sinovac/butantan - coronavac    |\n",
      "|inf3                                     |\n",
      "+-----------------------------------------+\n",
      "\n"
     ]
    },
    {
     "name": "stderr",
     "output_type": "stream",
     "text": [
      "                                                                                \r"
     ]
    }
   ],
   "source": [
    "df.select('vacina').distinct().show(truncate=False)"
   ]
  },
  {
   "cell_type": "code",
   "execution_count": 39,
   "id": "3daee472-9f7e-49cd-b6c3-84f2c0e06704",
   "metadata": {},
   "outputs": [],
   "source": [
    "df = df.withColumn(\n",
    "    'vacina',\n",
    "    F.when(\n",
    "        F.col('vacina').contains('astrazeneca'),\n",
    "        F.lit(1)\n",
    "    ).when(\n",
    "        F.col('vacina').contains('coronavac'),\n",
    "        F.lit(2)\n",
    "    ).when(\n",
    "        F.col('vacina').contains('pfizer'),\n",
    "        F.lit(3)\n",
    "    ).when(\n",
    "        F.col('vacina').contains('janssen'),\n",
    "        F.lit(4)\n",
    "    ).otherwise(F.col('vacina'))\n",
    ")"
   ]
  },
  {
   "cell_type": "code",
   "execution_count": 43,
   "id": "861b58ed-e7dc-47bf-bc14-220346820759",
   "metadata": {},
   "outputs": [
    {
     "name": "stderr",
     "output_type": "stream",
     "text": [
      "                                                                                \r"
     ]
    }
   ],
   "source": [
    "df.filter(df.data <= '2021-11-15') \\\n",
    ".select(columns) \\\n",
    ".write.csv(HD + DATALAKE + '/vacinacao_paper', header=True)"
   ]
  },
  {
   "cell_type": "code",
   "execution_count": 188,
   "id": "b8e31bbc-d4f0-40d7-9c68-10a621b9d70a",
   "metadata": {},
   "outputs": [
    {
     "name": "stderr",
     "output_type": "stream",
     "text": [
      "                                                                                \r"
     ]
    }
   ],
   "source": [
    "df = spark.read.csv(HD + DATALAKE + '/vacinacao_paper', header=True)"
   ]
  },
  {
   "cell_type": "code",
   "execution_count": 197,
   "id": "107388ae-c1ba-462e-bdcd-9e2b85261ca2",
   "metadata": {},
   "outputs": [],
   "source": [
    "d1 = df.groupby('id').pivot('dose') \\\n",
    ".agg(F.concat_ws(',', F.first(F.col('data')), F.first(F.col('vacina'))))\n",
    "\n",
    "d2 = df.groupby('id').agg(F.collect_list(F.col('sexo')).alias('sexo'))\n",
    "\n",
    "d3 = df.groupby('id').agg(F.collect_list(F.col('raca')).alias('raca'))\n",
    "\n",
    "d4 = df.groupby('id').agg(F.collect_list(F.col('idade')).alias('idade'))\n",
    "\n",
    "d5 = df.groupby('id').agg(F.collect_list(F.col('mun_res')).alias('mun_res'))"
   ]
  },
  {
   "cell_type": "code",
   "execution_count": 198,
   "id": "71dd8bcc-8cb3-4b4c-a641-4309a476560b",
   "metadata": {},
   "outputs": [
    {
     "name": "stderr",
     "output_type": "stream",
     "text": [
      "                                                                                \r"
     ]
    }
   ],
   "source": [
    "d1.write.csv('doses', header=True, compression='gzip')\n",
    "\n",
    "d2.withColumn('sexo', F.col('sexo').cast(T.StringType())) \\\n",
    ".write.csv('sexo', header=True, compression='gzip')\n",
    "\n",
    "d3.withColumn('raca', F.col('raca').cast(T.StringType())) \\\n",
    ".write.csv('raca', header=True, compression='gzip')\n",
    "\n",
    "d4.withColumn('idade', F.col('idade').cast(T.StringType())) \\\n",
    ".write.csv('idade', header=True, compression='gzip')\n",
    "\n",
    "d5.withColumn('mun_res', F.col('mun_res').cast(T.StringType())) \\\n",
    ".write.csv('mun_res', header=True, compression='gzip')"
   ]
  },
  {
   "cell_type": "code",
   "execution_count": 216,
   "id": "5d68475c-81c0-4366-af78-8cd8fc14cfdf",
   "metadata": {},
   "outputs": [],
   "source": [
    "@F.udf()\n",
    "def fx_etaria(idade):\n",
    "    try:\n",
    "        if (idade >= 0 and idade < 18):\n",
    "            return '0-17'\n",
    "        elif (idade >= 18 and idade < 30):\n",
    "            return '18-29'\n",
    "        elif (idade >= 30 and idade < 40):\n",
    "            return '30-39'\n",
    "        elif (idade >= 40 and idade < 50):\n",
    "            return '40-49'\n",
    "        elif (idade >= 50 and idade < 65):\n",
    "            return '50-64'\n",
    "        elif (idade >= 65 and idade < 75):\n",
    "            return '65-74'\n",
    "        elif (idade >= 75 and idade < 85):\n",
    "            return '75-84'\n",
    "        else:\n",
    "            return '85+'\n",
    "    except TypeError:\n",
    "        None"
   ]
  },
  {
   "cell_type": "code",
   "execution_count": 120,
   "id": "303171a1-13f1-4a42-9e90-4f665edc0988",
   "metadata": {},
   "outputs": [],
   "source": [
    "df_sexo = spark.read.csv('sexo', header=True)"
   ]
  },
  {
   "cell_type": "code",
   "execution_count": 10,
   "id": "1bd9124c-070a-4142-bdf0-574cbd5eaad9",
   "metadata": {},
   "outputs": [
    {
     "name": "stderr",
     "output_type": "stream",
     "text": [
      "                                                                                \r"
     ]
    },
    {
     "data": {
      "text/plain": [
       "161029567"
      ]
     },
     "execution_count": 10,
     "metadata": {},
     "output_type": "execute_result"
    }
   ],
   "source": [
    "df_sexo.count()"
   ]
  },
  {
   "cell_type": "code",
   "execution_count": 121,
   "id": "e91e5820-e843-411c-9b05-011853a3891d",
   "metadata": {},
   "outputs": [
    {
     "name": "stdout",
     "output_type": "stream",
     "text": [
      "+--------------------+---------+\n",
      "|                  id|     sexo|\n",
      "+--------------------+---------+\n",
      "|000009b2e3aaae800...|   [m, m]|\n",
      "|00001904b82ec2994...|[m, m, m]|\n",
      "|00002e4d7a02621aa...|[m, m, m]|\n",
      "|000042056ba50ed6d...|   [f, f]|\n",
      "|00004eadf6e493c07...|   [f, f]|\n",
      "+--------------------+---------+\n",
      "only showing top 5 rows\n",
      "\n"
     ]
    }
   ],
   "source": [
    "df_sexo.show(5)"
   ]
  },
  {
   "cell_type": "code",
   "execution_count": 122,
   "id": "bbf11c9b-41be-42c9-911a-7421dd530eb0",
   "metadata": {},
   "outputs": [],
   "source": [
    "df_sexo = df_sexo.withColumn(\n",
    "    'num_sexo',\n",
    "    F.udf(len)(F.udf(set)(\n",
    "        F.split(\n",
    "            F.regexp_replace(\n",
    "                F.col('sexo'), r'^\\[|\\]$', ''\n",
    "            ), ', '\n",
    "        )\n",
    "    ))\n",
    ")"
   ]
  },
  {
   "cell_type": "code",
   "execution_count": 301,
   "id": "21972650-7c3d-49d6-8c94-f3e38054e218",
   "metadata": {},
   "outputs": [],
   "source": [
    "df_sexo = df_sexo.withColumn(\n",
    "    'sexo_set',\n",
    "    F.udf(set)(\n",
    "        F.split(\n",
    "            F.regexp_replace(\n",
    "                F.col('sexo'), r'^\\[|\\]$', ''\n",
    "            ), ', ')\n",
    "    )\n",
    ")"
   ]
  },
  {
   "cell_type": "code",
   "execution_count": 124,
   "id": "1de6a73e-e027-417b-beba-42b14efa379a",
   "metadata": {},
   "outputs": [
    {
     "name": "stdout",
     "output_type": "stream",
     "text": [
      "+--------------------+---------+--------+--------+\n",
      "|                  id|     sexo|num_sexo|sexo_set|\n",
      "+--------------------+---------+--------+--------+\n",
      "|000009b2e3aaae800...|   [m, m]|       1|     [m]|\n",
      "|00001904b82ec2994...|[m, m, m]|       1|     [m]|\n",
      "|00002e4d7a02621aa...|[m, m, m]|       1|     [m]|\n",
      "|000042056ba50ed6d...|   [f, f]|       1|     [f]|\n",
      "|00004eadf6e493c07...|   [f, f]|       1|     [f]|\n",
      "+--------------------+---------+--------+--------+\n",
      "only showing top 5 rows\n",
      "\n"
     ]
    },
    {
     "name": "stderr",
     "output_type": "stream",
     "text": [
      "Traceback (most recent call last):\n",
      "  File \"/opt/spark-3.2.0-bin-hadoop3.2/python/lib/pyspark.zip/pyspark/daemon.py\", line 186, in manager\n",
      "  File \"/opt/spark-3.2.0-bin-hadoop3.2/python/lib/pyspark.zip/pyspark/daemon.py\", line 74, in worker\n",
      "  File \"/opt/spark-3.2.0-bin-hadoop3.2/python/lib/pyspark.zip/pyspark/worker.py\", line 663, in main\n",
      "    if read_int(infile) == SpecialLengths.END_OF_STREAM:\n",
      "  File \"/opt/spark-3.2.0-bin-hadoop3.2/python/lib/pyspark.zip/pyspark/serializers.py\", line 564, in read_int\n",
      "    raise EOFError\n",
      "EOFError\n"
     ]
    }
   ],
   "source": [
    "df_sexo.show(5)"
   ]
  },
  {
   "cell_type": "code",
   "execution_count": 125,
   "id": "48238e31-b2f1-43af-aeac-6640f579a70b",
   "metadata": {},
   "outputs": [
    {
     "name": "stderr",
     "output_type": "stream",
     "text": [
      "[Stage 129:====================================================>  (48 + 2) / 50]\r"
     ]
    },
    {
     "name": "stdout",
     "output_type": "stream",
     "text": [
      "+-------------+\n",
      "|max(num_sexo)|\n",
      "+-------------+\n",
      "|            2|\n",
      "+-------------+\n",
      "\n"
     ]
    },
    {
     "name": "stderr",
     "output_type": "stream",
     "text": [
      "                                                                                \r"
     ]
    }
   ],
   "source": [
    "df_sexo.agg({'num_sexo': 'max'}).show()"
   ]
  },
  {
   "cell_type": "code",
   "execution_count": 22,
   "id": "fd63f991-9652-49fe-aac5-4b3a2101134c",
   "metadata": {},
   "outputs": [
    {
     "name": "stderr",
     "output_type": "stream",
     "text": [
      "                                                                                \r"
     ]
    },
    {
     "data": {
      "text/plain": [
       "8088"
      ]
     },
     "execution_count": 22,
     "metadata": {},
     "output_type": "execute_result"
    }
   ],
   "source": [
    "df_sexo.where(F.col('num_sexo') > 1).count()"
   ]
  },
  {
   "cell_type": "code",
   "execution_count": 127,
   "id": "71e089d8-72b9-4a65-97f4-d947f98c3ab8",
   "metadata": {},
   "outputs": [
    {
     "name": "stdout",
     "output_type": "stream",
     "text": [
      "+--------------------+---------+--------+--------+\n",
      "|                  id|     sexo|num_sexo|sexo_set|\n",
      "+--------------------+---------+--------+--------+\n",
      "|000009b2e3aaae800...|   [m, m]|       1|     [m]|\n",
      "|00001904b82ec2994...|[m, m, m]|       1|     [m]|\n",
      "|00002e4d7a02621aa...|[m, m, m]|       1|     [m]|\n",
      "|000042056ba50ed6d...|   [f, f]|       1|     [f]|\n",
      "|00004eadf6e493c07...|   [f, f]|       1|     [f]|\n",
      "+--------------------+---------+--------+--------+\n",
      "only showing top 5 rows\n",
      "\n"
     ]
    },
    {
     "name": "stderr",
     "output_type": "stream",
     "text": [
      "Traceback (most recent call last):\n",
      "  File \"/opt/spark-3.2.0-bin-hadoop3.2/python/lib/pyspark.zip/pyspark/daemon.py\", line 186, in manager\n",
      "  File \"/opt/spark-3.2.0-bin-hadoop3.2/python/lib/pyspark.zip/pyspark/daemon.py\", line 74, in worker\n",
      "  File \"/opt/spark-3.2.0-bin-hadoop3.2/python/lib/pyspark.zip/pyspark/worker.py\", line 663, in main\n",
      "    if read_int(infile) == SpecialLengths.END_OF_STREAM:\n",
      "  File \"/opt/spark-3.2.0-bin-hadoop3.2/python/lib/pyspark.zip/pyspark/serializers.py\", line 564, in read_int\n",
      "    raise EOFError\n",
      "EOFError\n"
     ]
    }
   ],
   "source": [
    "df_sexo.show(5)"
   ]
  },
  {
   "cell_type": "code",
   "execution_count": 116,
   "id": "f6235e3a-6742-4d11-9207-536e49b535ce",
   "metadata": {},
   "outputs": [
    {
     "name": "stderr",
     "output_type": "stream",
     "text": [
      "[Stage 122:>                                                        (0 + 1) / 1]\r"
     ]
    },
    {
     "name": "stdout",
     "output_type": "stream",
     "text": [
      "+--------------------+---------+--------+--------+\n",
      "|                  id|     sexo|num_sexo|sexo_set|\n",
      "+--------------------+---------+--------+--------+\n",
      "|02e86c1bd6e25322c...|   [m, f]|       2|  [f, m]|\n",
      "|03d7e6146998df740...|[m, f, f]|       2|  [f, m]|\n",
      "|0e40ce65ea5cfddaa...|   [f, m]|       2|  [f, m]|\n",
      "|0fa045ad8d0bbdb01...|   [f, m]|       2|  [f, m]|\n",
      "|15d2c63285b265729...|   [f, m]|       2|  [f, m]|\n",
      "+--------------------+---------+--------+--------+\n",
      "only showing top 5 rows\n",
      "\n"
     ]
    },
    {
     "name": "stderr",
     "output_type": "stream",
     "text": [
      "                                                                                \r"
     ]
    }
   ],
   "source": [
    "df_sexo.where(F.col('num_sexo') > 1).show(5)"
   ]
  },
  {
   "cell_type": "code",
   "execution_count": 128,
   "id": "fcf934a4-b2d2-4d35-9baf-40be58b42617",
   "metadata": {},
   "outputs": [],
   "source": [
    "df_sexo = df_sexo.withColumn(\n",
    "    'm',\n",
    "    F.when(\n",
    "        F.col('sexo_set').contains('m'), F.lit(1)\n",
    "    ).otherwise(F.lit(0))\n",
    ").withColumn(\n",
    "    'f',\n",
    "    F.when(\n",
    "        F.col('sexo_set').contains('f'), F.lit(1)\n",
    "    ).otherwise(F.lit(0))\n",
    ").withColumn(\n",
    "    'i',\n",
    "    F.when(\n",
    "        F.col('sexo_set').contains('i'), F.lit(1)\n",
    "    ).otherwise(F.lit(0))\n",
    ")"
   ]
  },
  {
   "cell_type": "code",
   "execution_count": 132,
   "id": "c53de77b-3e1e-4aff-8d49-ee4a136d3692",
   "metadata": {},
   "outputs": [
    {
     "name": "stderr",
     "output_type": "stream",
     "text": [
      "                                                                                \r"
     ]
    }
   ],
   "source": [
    "df_sexo.groupby('f', 'm', 'i').count().coalesce(1) \\\n",
    ".write.csv('tabela_sexo', header=True)"
   ]
  },
  {
   "cell_type": "code",
   "execution_count": 133,
   "id": "72f530c0-e134-4883-a4c0-c06622f22040",
   "metadata": {},
   "outputs": [],
   "source": [
    "df_mun = spark.read.csv('mun_res', header=True)"
   ]
  },
  {
   "cell_type": "code",
   "execution_count": 136,
   "id": "8910609f-2bd8-4897-9f55-9103ace775c3",
   "metadata": {},
   "outputs": [
    {
     "name": "stdout",
     "output_type": "stream",
     "text": [
      "+----------------------------------------------------------------+------------------------+\n",
      "|id                                                              |mun_res                 |\n",
      "+----------------------------------------------------------------+------------------------+\n",
      "|000009b2e3aaae8009a4bc0e505720682eff8ab275c093514d6c1faf53e39b5e|[330455, 330455]        |\n",
      "|00001904b82ec29942a5749c9a78ecb641f8a3a09600d21c6cfc320d009c880a|[330455, 330455, 330455]|\n",
      "|00002e4d7a02621aac1b1b094f40a8d92370775f4a5df902bb97d02df682840b|[290687, 290687, 290687]|\n",
      "|000042056ba50ed6de4f1a1070583935cc6177a1df0fe0bfd0633b8118f2a049|[150680, 150680]        |\n",
      "|00004eadf6e493c07663ee4084ef60d3f02829ef29b5f94809c37422b676cd0c|[410370, 410370]        |\n",
      "+----------------------------------------------------------------+------------------------+\n",
      "only showing top 5 rows\n",
      "\n"
     ]
    }
   ],
   "source": [
    "df_mun.show(5, truncate=False)"
   ]
  },
  {
   "cell_type": "code",
   "execution_count": 137,
   "id": "5f506ce9-97f6-41a8-a926-7b84f32e471c",
   "metadata": {},
   "outputs": [
    {
     "name": "stderr",
     "output_type": "stream",
     "text": [
      "                                                                                \r"
     ]
    },
    {
     "data": {
      "text/plain": [
       "161029567"
      ]
     },
     "execution_count": 137,
     "metadata": {},
     "output_type": "execute_result"
    }
   ],
   "source": [
    "df_mun.count()"
   ]
  },
  {
   "cell_type": "code",
   "execution_count": 138,
   "id": "eb1197d7-eeb6-4fb3-932a-72128ec96459",
   "metadata": {},
   "outputs": [],
   "source": [
    "df_mun = df_mun.withColumn(\n",
    "    'num_mun',\n",
    "    F.udf(len)(F.udf(set)(\n",
    "        F.split(\n",
    "            F.regexp_replace(F.col('mun_res'), r'^\\[|\\]$', ''), ', '\n",
    "        )\n",
    "    ))\n",
    ")"
   ]
  },
  {
   "cell_type": "code",
   "execution_count": 139,
   "id": "cce3e19b-cd47-453b-907f-d95054b6d3a3",
   "metadata": {},
   "outputs": [],
   "source": [
    "df_mun = df_mun.withColumn(\n",
    "    'mun_set', \n",
    "    F.udf(set)(F.split(\n",
    "        F.regexp_replace(F.col('mun_res'), r'^\\[|\\]$', ''), ', '\n",
    "    ))\n",
    ")"
   ]
  },
  {
   "cell_type": "code",
   "execution_count": 140,
   "id": "3be5bbed-1b96-4e64-b22d-ead4d7ac1c21",
   "metadata": {},
   "outputs": [
    {
     "name": "stdout",
     "output_type": "stream",
     "text": [
      "+----------------------------------------------------------------+------------------------+-------+--------+\n",
      "|id                                                              |mun_res                 |num_mun|mun_set |\n",
      "+----------------------------------------------------------------+------------------------+-------+--------+\n",
      "|000009b2e3aaae8009a4bc0e505720682eff8ab275c093514d6c1faf53e39b5e|[330455, 330455]        |1      |[330455]|\n",
      "|00001904b82ec29942a5749c9a78ecb641f8a3a09600d21c6cfc320d009c880a|[330455, 330455, 330455]|1      |[330455]|\n",
      "|00002e4d7a02621aac1b1b094f40a8d92370775f4a5df902bb97d02df682840b|[290687, 290687, 290687]|1      |[290687]|\n",
      "|000042056ba50ed6de4f1a1070583935cc6177a1df0fe0bfd0633b8118f2a049|[150680, 150680]        |1      |[150680]|\n",
      "|00004eadf6e493c07663ee4084ef60d3f02829ef29b5f94809c37422b676cd0c|[410370, 410370]        |1      |[410370]|\n",
      "+----------------------------------------------------------------+------------------------+-------+--------+\n",
      "only showing top 5 rows\n",
      "\n"
     ]
    },
    {
     "name": "stderr",
     "output_type": "stream",
     "text": [
      "Traceback (most recent call last):\n",
      "  File \"/opt/spark-3.2.0-bin-hadoop3.2/python/lib/pyspark.zip/pyspark/daemon.py\", line 186, in manager\n",
      "  File \"/opt/spark-3.2.0-bin-hadoop3.2/python/lib/pyspark.zip/pyspark/daemon.py\", line 74, in worker\n",
      "  File \"/opt/spark-3.2.0-bin-hadoop3.2/python/lib/pyspark.zip/pyspark/worker.py\", line 663, in main\n",
      "    if read_int(infile) == SpecialLengths.END_OF_STREAM:\n",
      "  File \"/opt/spark-3.2.0-bin-hadoop3.2/python/lib/pyspark.zip/pyspark/serializers.py\", line 564, in read_int\n",
      "    raise EOFError\n",
      "EOFError\n"
     ]
    }
   ],
   "source": [
    "df_mun.show(5, truncate=False)"
   ]
  },
  {
   "cell_type": "code",
   "execution_count": 141,
   "id": "b7796145-92db-4181-a90c-ca0293f31c77",
   "metadata": {},
   "outputs": [
    {
     "name": "stderr",
     "output_type": "stream",
     "text": [
      "[Stage 147:=====================================================> (65 + 2) / 67]\r"
     ]
    },
    {
     "name": "stdout",
     "output_type": "stream",
     "text": [
      "+------------+\n",
      "|max(num_mun)|\n",
      "+------------+\n",
      "|           3|\n",
      "+------------+\n",
      "\n"
     ]
    },
    {
     "name": "stderr",
     "output_type": "stream",
     "text": [
      "                                                                                \r"
     ]
    }
   ],
   "source": [
    "df_mun.agg({'num_mun': 'max'}).show()"
   ]
  },
  {
   "cell_type": "code",
   "execution_count": 144,
   "id": "7e9bd45b-bfe3-435e-ad02-cc133de50bd4",
   "metadata": {},
   "outputs": [
    {
     "name": "stderr",
     "output_type": "stream",
     "text": [
      "                                                                                \r"
     ]
    },
    {
     "data": {
      "text/plain": [
       "160124557"
      ]
     },
     "execution_count": 144,
     "metadata": {},
     "output_type": "execute_result"
    }
   ],
   "source": [
    "df_mun.where(F.col('num_mun') == 1).count()"
   ]
  },
  {
   "cell_type": "code",
   "execution_count": 145,
   "id": "3d7a359c-b69b-4c33-9089-f60e09b92376",
   "metadata": {},
   "outputs": [
    {
     "name": "stderr",
     "output_type": "stream",
     "text": [
      "                                                                                \r"
     ]
    },
    {
     "data": {
      "text/plain": [
       "904606"
      ]
     },
     "execution_count": 145,
     "metadata": {},
     "output_type": "execute_result"
    }
   ],
   "source": [
    "df_mun.where(F.col('num_mun') == 2).count()"
   ]
  },
  {
   "cell_type": "code",
   "execution_count": 146,
   "id": "48176986-af0d-412a-b480-acbf210fcaf0",
   "metadata": {},
   "outputs": [
    {
     "name": "stderr",
     "output_type": "stream",
     "text": [
      "                                                                                \r"
     ]
    },
    {
     "data": {
      "text/plain": [
       "404"
      ]
     },
     "execution_count": 146,
     "metadata": {},
     "output_type": "execute_result"
    }
   ],
   "source": [
    "df_mun.where(F.col('num_mun') == 3).count()"
   ]
  },
  {
   "cell_type": "code",
   "execution_count": 149,
   "id": "4bc6361c-671b-44ef-b774-f0160db46cd6",
   "metadata": {},
   "outputs": [
    {
     "name": "stderr",
     "output_type": "stream",
     "text": [
      "[Stage 167:>                                                        (0 + 2) / 2]\r"
     ]
    },
    {
     "name": "stdout",
     "output_type": "stream",
     "text": [
      "+------------------------+\n",
      "|mun_set                 |\n",
      "+------------------------+\n",
      "|[412215, 500568, 411330]|\n",
      "|[355040, 354780, 353870]|\n",
      "|[170200, 520750, 500270]|\n",
      "|[351380, 313210, 313520]|\n",
      "|[500110, 353550, 500270]|\n",
      "+------------------------+\n",
      "only showing top 5 rows\n",
      "\n"
     ]
    },
    {
     "name": "stderr",
     "output_type": "stream",
     "text": [
      "                                                                                \r"
     ]
    }
   ],
   "source": [
    "df_mun.select('mun_set').where(F.col('num_mun') == 3).show(5, truncate=False)"
   ]
  },
  {
   "cell_type": "code",
   "execution_count": 170,
   "id": "dc1c4fe0-458b-4c9b-a3e8-43595ea40cb6",
   "metadata": {},
   "outputs": [],
   "source": [
    "df_mun = df_mun.withColumn(\n",
    "    'mun_set_c',\n",
    "    F.regexp_extract(F.col('mun_set'), r'(\\d+)', 1)\n",
    ")"
   ]
  },
  {
   "cell_type": "code",
   "execution_count": 171,
   "id": "98e0d5d0-be9b-4b7f-ac0c-654ddfb8f948",
   "metadata": {},
   "outputs": [
    {
     "name": "stderr",
     "output_type": "stream",
     "text": [
      "                                                                                \r"
     ]
    }
   ],
   "source": [
    "df_mun.groupby('mun_set_c').count().coalesce(1) \\\n",
    ".write.csv('tabela_mun_res', header=True)"
   ]
  },
  {
   "cell_type": "code",
   "execution_count": 172,
   "id": "6cd7bd0f-e523-45f7-bc76-7f7272017e63",
   "metadata": {},
   "outputs": [],
   "source": [
    "df_idade = spark.read.csv('idade', header=True)"
   ]
  },
  {
   "cell_type": "code",
   "execution_count": 174,
   "id": "f52b7e17-22f7-44a8-bab1-6ec42d4490f7",
   "metadata": {},
   "outputs": [
    {
     "name": "stdout",
     "output_type": "stream",
     "text": [
      "+--------------------+------------+\n",
      "|                  id|       idade|\n",
      "+--------------------+------------+\n",
      "|000009b2e3aaae800...|    [50, 50]|\n",
      "|00001904b82ec2994...|[61, 61, 62]|\n",
      "|00002e4d7a02621aa...|[69, 69, 69]|\n",
      "|000042056ba50ed6d...|    [34, 34]|\n",
      "|00004eadf6e493c07...|    [35, 35]|\n",
      "+--------------------+------------+\n",
      "only showing top 5 rows\n",
      "\n"
     ]
    }
   ],
   "source": [
    "df_idade.show(5)"
   ]
  },
  {
   "cell_type": "code",
   "execution_count": 175,
   "id": "665be482-896d-4d2f-b5ac-2f92fe77a8f8",
   "metadata": {},
   "outputs": [],
   "source": [
    "df_idade = df_idade.withColumn(\n",
    "    'num_idade', \n",
    "    F.udf(len)(F.udf(set)(\n",
    "        F.split(F.regexp_replace(F.col('idade'), r'^\\[|\\]$', ''), ', ')\n",
    "    ))\n",
    ")"
   ]
  },
  {
   "cell_type": "code",
   "execution_count": 176,
   "id": "f5606185-72e8-4b39-a547-31b0b909b616",
   "metadata": {},
   "outputs": [],
   "source": [
    "df_idade = df_idade.withColumn(\n",
    "    'idade_set',\n",
    "    F.udf(set)(\n",
    "        F.split(F.regexp_replace(F.col('idade'), r'^\\[|\\]$', ''), ', ')\n",
    "    )\n",
    ")"
   ]
  },
  {
   "cell_type": "code",
   "execution_count": 177,
   "id": "4582e2ff-a3c9-48a2-a43e-199a08376e95",
   "metadata": {},
   "outputs": [
    {
     "name": "stdout",
     "output_type": "stream",
     "text": [
      "+--------------------+------------+---------+---------+\n",
      "|                  id|       idade|num_idade|idade_set|\n",
      "+--------------------+------------+---------+---------+\n",
      "|000009b2e3aaae800...|    [50, 50]|        1|     [50]|\n",
      "|00001904b82ec2994...|[61, 61, 62]|        2| [61, 62]|\n",
      "|00002e4d7a02621aa...|[69, 69, 69]|        1|     [69]|\n",
      "|000042056ba50ed6d...|    [34, 34]|        1|     [34]|\n",
      "|00004eadf6e493c07...|    [35, 35]|        1|     [35]|\n",
      "+--------------------+------------+---------+---------+\n",
      "only showing top 5 rows\n",
      "\n"
     ]
    }
   ],
   "source": [
    "df_idade.show(5)"
   ]
  },
  {
   "cell_type": "code",
   "execution_count": 178,
   "id": "601d9121-6a40-4e66-9cf4-7088f1483592",
   "metadata": {},
   "outputs": [
    {
     "name": "stderr",
     "output_type": "stream",
     "text": [
      "[Stage 192:=====================================================> (65 + 2) / 67]\r"
     ]
    },
    {
     "name": "stdout",
     "output_type": "stream",
     "text": [
      "+--------------+\n",
      "|max(num_idade)|\n",
      "+--------------+\n",
      "|             4|\n",
      "+--------------+\n",
      "\n"
     ]
    },
    {
     "name": "stderr",
     "output_type": "stream",
     "text": [
      "                                                                                \r"
     ]
    }
   ],
   "source": [
    "df_idade.agg({'num_idade': 'max'}).show()"
   ]
  },
  {
   "cell_type": "code",
   "execution_count": 179,
   "id": "a2e808ad-c411-49c9-9feb-f87986b81d96",
   "metadata": {},
   "outputs": [],
   "source": [
    "df_idade = df_idade.withColumn('idade_c', F.regexp_extract(F.col('idade_set'), r'(\\d+)', 1))"
   ]
  },
  {
   "cell_type": "code",
   "execution_count": 217,
   "id": "dacdf70d-35d9-44c1-b6ec-cecf07e8a9da",
   "metadata": {},
   "outputs": [],
   "source": [
    "df_idade = df_idade.withColumn(\n",
    "    'idade_c',\n",
    "    F.col('idade_c').cast('int')\n",
    ").withColumn(\n",
    "    'fx_etaria',\n",
    "    fx_etaria(F.col('idade_c'))\n",
    ")"
   ]
  },
  {
   "cell_type": "code",
   "execution_count": 218,
   "id": "740d1dcb-4449-41ad-9a57-498aa83bd5f7",
   "metadata": {},
   "outputs": [
    {
     "name": "stderr",
     "output_type": "stream",
     "text": [
      "                                                                                \r"
     ]
    }
   ],
   "source": [
    "df_idade.groupby('fx_etaria').count().coalesce(1) \\\n",
    ".write.csv('tabela_faixa_etaria', mode='overwrite', header=True)"
   ]
  },
  {
   "cell_type": "code",
   "execution_count": 230,
   "id": "1a7b3dd6-281b-4d92-9746-b5a3c4957b1a",
   "metadata": {},
   "outputs": [
    {
     "name": "stderr",
     "output_type": "stream",
     "text": [
      "                                                                                \r"
     ]
    }
   ],
   "source": [
    "df_dose = spark.read.csv('doses', header=True)"
   ]
  },
  {
   "cell_type": "code",
   "execution_count": 193,
   "id": "0164a2ee-8573-48e2-89bf-c2609083c24e",
   "metadata": {},
   "outputs": [
    {
     "name": "stderr",
     "output_type": "stream",
     "text": [
      "                                                                                \r"
     ]
    },
    {
     "data": {
      "text/plain": [
       "153"
      ]
     },
     "execution_count": 193,
     "metadata": {},
     "output_type": "execute_result"
    }
   ],
   "source": [
    "df_dose.select('1a dose').where(F.col('1a dose') < '2020-01-17').count()"
   ]
  },
  {
   "cell_type": "code",
   "execution_count": 195,
   "id": "02687f41-aac8-475f-b3b2-acbb5089afa6",
   "metadata": {},
   "outputs": [
    {
     "name": "stderr",
     "output_type": "stream",
     "text": [
      "                                                                                \r"
     ]
    },
    {
     "data": {
      "text/plain": [
       "1"
      ]
     },
     "execution_count": 195,
     "metadata": {},
     "output_type": "execute_result"
    }
   ],
   "source": [
    "df_dose.select('unica').where(F.col('unica') < '2020-01-17').count()"
   ]
  },
  {
   "cell_type": "code",
   "execution_count": 196,
   "id": "538d3c4e-cf85-4250-a921-7848b362261c",
   "metadata": {},
   "outputs": [
    {
     "name": "stderr",
     "output_type": "stream",
     "text": [
      "                                                                                \r"
     ]
    },
    {
     "data": {
      "text/plain": [
       "194"
      ]
     },
     "execution_count": 196,
     "metadata": {},
     "output_type": "execute_result"
    }
   ],
   "source": [
    "df_dose.select('2a dose').where(F.col('2a dose') < '2020-01-17').count()"
   ]
  },
  {
   "cell_type": "code",
   "execution_count": 197,
   "id": "06552046-e138-4bb0-ad3e-c495af9cf234",
   "metadata": {},
   "outputs": [
    {
     "name": "stderr",
     "output_type": "stream",
     "text": [
      "                                                                                \r"
     ]
    },
    {
     "data": {
      "text/plain": [
       "9"
      ]
     },
     "execution_count": 197,
     "metadata": {},
     "output_type": "execute_result"
    }
   ],
   "source": [
    "df_dose.select('reforco').where(F.col('reforco') < '2020-01-17').count()"
   ]
  },
  {
   "cell_type": "code",
   "execution_count": 231,
   "id": "13a0bfe9-e23f-476f-96ce-c1fbe305cffd",
   "metadata": {},
   "outputs": [],
   "source": [
    "df_dose = df_dose.withColumn(\n",
    "    '1a dose',\n",
    "    F.when(\n",
    "        F.split(F.col('1a dose'), ',').getItem(0) < '2020-01-17',\n",
    "        F.concat_ws(\n",
    "            ',',\n",
    "            F.lit('2020-01-17'),\n",
    "            F.split(F.col('1a dose'), ',').getItem(1)\n",
    "        )\n",
    "    ).otherwise(F.col('1a dose'))\n",
    ").withColumn(\n",
    "    'unica',\n",
    "    F.when(\n",
    "        F.split(F.col('unica'), ',').getItem(0) < '2020-01-17',\n",
    "        F.concat_ws(\n",
    "            ',',\n",
    "            F.lit('2020-01-17'),\n",
    "            F.split(F.col('unica'), ',').getItem(1)\n",
    "        )\n",
    "    ).otherwise(F.col('unica'))\n",
    ").withColumn(\n",
    "    '2a dose',\n",
    "    F.when(\n",
    "        (F.split(F.col('2a dose'), ',').getItem(0) < '2020-01-17') &\n",
    "        (F.split(F.col('1a dose'), ',').getItem(0) >= '2020-01-17'),\n",
    "        F.concat_ws(\n",
    "            ',',\n",
    "            F.add_months(F.split(F.col('1a dose'), ',').getItem(0), 3),\n",
    "            F.split(F.col('2a dose'), ',').getItem(1)\n",
    "        )\n",
    "    ).when(\n",
    "        (F.split(F.col('2a dose'), ',').getItem(0) < '2020-01-17') &\n",
    "        (F.split(F.col('dose inicial'), ',').getItem(0) >= '2020-01-17'),\n",
    "        F.concat_ws(\n",
    "            ',',\n",
    "            F.add_months(F.split(F.col('dose inicial'), ',').getItem(0), 3),\n",
    "            F.split(F.col('2a dose'), ',').getItem(1)\n",
    "        )\n",
    "    ).otherwise(F.col('2a dose'))\n",
    ").withColumn(\n",
    "    'reforco',\n",
    "    F.when(\n",
    "        (F.split(F.col('reforco'), ',').getItem(0) <\n",
    "         F.split(F.col('2a dose'), ',').getItem(0)),\n",
    "        F.concat_ws(\n",
    "            ',',\n",
    "            F.add_months(F.split(F.col('2a dose'), ',').getItem(0), 3),\n",
    "            F.split(F.col('reforco'), ',').getItem(1)\n",
    "        )\n",
    "    ).otherwise(F.col('reforco'))\n",
    ")"
   ]
  },
  {
   "cell_type": "code",
   "execution_count": 223,
   "id": "ec0b775f-724a-444b-926b-cf9a7f398803",
   "metadata": {},
   "outputs": [
    {
     "name": "stderr",
     "output_type": "stream",
     "text": [
      "[Stage 277:=====================================================> (41 + 1) / 42]\r"
     ]
    },
    {
     "name": "stdout",
     "output_type": "stream",
     "text": [
      "+-------+------------+-----+------------+\n",
      "|1a dose|dose inicial|unica|2a dose     |\n",
      "+-------+------------+-----+------------+\n",
      "|null   |null        |null |1995-05-23,3|\n",
      "|null   |null        |null |1975-08-27,1|\n",
      "|null   |null        |null |1986-02-19,3|\n",
      "|null   |null        |null |2001-05-24,1|\n",
      "+-------+------------+-----+------------+\n",
      "\n"
     ]
    },
    {
     "name": "stderr",
     "output_type": "stream",
     "text": [
      "                                                                                \r"
     ]
    }
   ],
   "source": [
    "df_dose.select('1a dose', 'dose inicial', 'unica', '2a dose') \\\n",
    ".where(F.col('2a dose') < '2020-01-17').show(truncate=False)"
   ]
  },
  {
   "cell_type": "code",
   "execution_count": 232,
   "id": "ad84c70a-8139-4468-9893-fe16a13c5746",
   "metadata": {},
   "outputs": [
    {
     "name": "stderr",
     "output_type": "stream",
     "text": [
      "[Stage 296:=====================================================> (41 + 1) / 42]\r"
     ]
    },
    {
     "name": "stdout",
     "output_type": "stream",
     "text": [
      "+-------+-------+-----+------------+------------+\n",
      "|1a dose|2a dose|unica|dose inicial|reforco     |\n",
      "+-------+-------+-----+------------+------------+\n",
      "|null   |null   |null |null        |1932-06-03,3|\n",
      "+-------+-------+-----+------------+------------+\n",
      "\n"
     ]
    },
    {
     "name": "stderr",
     "output_type": "stream",
     "text": [
      "                                                                                \r"
     ]
    }
   ],
   "source": [
    "df_dose.select('1a dose', '2a dose', 'unica', 'dose inicial', 'reforco') \\\n",
    ".where(F.col('reforco') < '2020-01-17').show(truncate=False)"
   ]
  },
  {
   "cell_type": "code",
   "execution_count": 294,
   "id": "ccccbbb7-24bc-4276-af1e-83c715c7fe33",
   "metadata": {},
   "outputs": [],
   "source": [
    "df_dose = df_dose.withColumn(\n",
    "    'prim_dose',\n",
    "    F.when(\n",
    "        (F.col('2a dose').isNull()) &\n",
    "        (F.col('1o reforco').isNull()) &\n",
    "        (F.col('reforco').isNull()) &\n",
    "        (F.col('3a dose').isNull()) &\n",
    "        (F.col('dose adicional').isNull()),\n",
    "        F.when(\n",
    "            F.col('1a dose').isNotNull(),\n",
    "            (F.col('1a dose'))\n",
    "        ).when(\n",
    "            F.col('dose inicial').isNotNull(),\n",
    "            (F.col('dose inicial'))\n",
    "        ).when(\n",
    "            (F.col('dose inicial').isNotNull()) &\n",
    "            (F.col('1a dose').isNotNull()),\n",
    "            F.col('1a dose'))\n",
    "    )\n",
    ").withColumn(\n",
    "    'vac_s_ref',\n",
    "    F.when(\n",
    "        (F.col('1a dose').isNotNull()) &\n",
    "        (F.col('2a dose').isNotNull()) &\n",
    "        (F.col('unica').isNull()) &\n",
    "        \n",
    "        (F.col('1o reforco').isNull()) &\n",
    "        (F.col('reforco').isNull()) &\n",
    "        (F.col('3a dose').isNull()) &\n",
    "        (F.col('dose adicional').isNull()),\n",
    "        \n",
    "        F.col('2a dose')\n",
    "    ).when(\n",
    "        (F.col('dose inicial').isNotNull()) &\n",
    "        (F.col('2a dose').isNotNull()) &\n",
    "        (F.col('unica').isNull()) &\n",
    "        \n",
    "        (F.col('1o reforco').isNull()) &\n",
    "        (F.col('reforco').isNull()) &\n",
    "        (F.col('3a dose').isNull()) &\n",
    "        (F.col('dose adicional').isNull()),\n",
    "        \n",
    "        (F.col('2a dose'))\n",
    "    ).when(\n",
    "        (F.col('unica').isNotNull()) &\n",
    "        (F.col('1a dose').isNull()) &\n",
    "        (F.col('dose inicial').isNull()) &\n",
    "        (F.col('2a dose').isNull()) &\n",
    "        \n",
    "        (F.col('1o reforco').isNull()) &\n",
    "        (F.col('reforco').isNull()) &\n",
    "        (F.col('3a dose').isNull()) &\n",
    "        (F.col('dose adicional').isNull()),\n",
    "        \n",
    "        F.col('unica')\n",
    "    )\n",
    ").withColumn(\n",
    "    'vac_c_ref',\n",
    "    F.when(\n",
    "        (F.col('1a dose').isNotNull()) &\n",
    "        (F.col('2a dose').isNotNull()) &\n",
    "        (F.col('unica').isNull()),\n",
    "        F.when(\n",
    "            F.col('1o reforco').isNotNull(), F.col('1o reforco')\n",
    "        ).when(\n",
    "            F.col('reforco').isNotNull(), F.col('reforco')\n",
    "        ).when(\n",
    "            F.col('3a dose').isNotNull(), F.col('3a dose')\n",
    "        ).when(\n",
    "            F.col('dose adicional').isNotNull(), F.col('dose adicional')\n",
    "        )\n",
    "    ).when(\n",
    "        (F.col('dose inicial').isNotNull()) &\n",
    "        (F.col('2a dose').isNotNull()) &\n",
    "        (F.col('unica').isNull()),\n",
    "        F.when(\n",
    "            F.col('1o reforco').isNotNull(), F.col('1o reforco')\n",
    "        ).when(\n",
    "            F.col('reforco').isNotNull(), F.col('reforco')\n",
    "        ).when(\n",
    "            F.col('3a dose').isNotNull(), F.col('3a dose')\n",
    "        ).when(\n",
    "            F.col('dose adicional').isNotNull(), F.col('dose adicional')\n",
    "        )\n",
    "    ).when(\n",
    "        (F.col('unica').isNotNull()) &\n",
    "        (F.col('1a dose').isNull()) &\n",
    "        (F.col('dose inicial').isNull()) &\n",
    "        (F.col('2a dose').isNull()),\n",
    "        F.when(\n",
    "            F.col('1o reforco').isNotNull(), F.col('1o reforco')\n",
    "        ).when(\n",
    "            F.col('reforco').isNotNull(), F.col('reforco')\n",
    "        ).when(\n",
    "            F.col('3a dose').isNotNull(), F.col('3a dose')\n",
    "        ).when(\n",
    "            F.col('dose adicional').isNotNull(), F.col('dose adicional')\n",
    "        )\n",
    "    )\n",
    ")"
   ]
  },
  {
   "cell_type": "raw",
   "id": "0b8d5772-8085-4edf-8659-5ff85706a3e8",
   "metadata": {},
   "source": [
    "astrazeneca = 1\n",
    "coronavac = 2\n",
    "pfizer = 3\n",
    "janssen = 4"
   ]
  },
  {
   "cell_type": "code",
   "execution_count": 295,
   "id": "28bc5408-46f1-4e06-acaf-9166c92fd350",
   "metadata": {},
   "outputs": [],
   "source": [
    "df_dose = df_dose.withColumn(\n",
    "    'apenas_primeira_dose_nome',\n",
    "    F.when(\n",
    "        F.split(F.col('prim_dose'), ',').getItem(1) == 1, 'astrazeneca'\n",
    "    ).when(\n",
    "        F.split(F.col('prim_dose'), ',').getItem(1) == 2, 'coronavac'\n",
    "    ).when(\n",
    "        F.split(F.col('prim_dose'), ',').getItem(1) == 3, 'pfizer'\n",
    "    ).when(\n",
    "        F.split(F.col('prim_dose'), ',').getItem(1) == 4, 'janssen'\n",
    "    )\n",
    ").withColumn(\n",
    "    'vacinados_sem_reforco_nome',\n",
    "    F.when(\n",
    "        F.split(F.col('vac_s_ref'), ',').getItem(1) == 1, 'astrazeneca'\n",
    "    ).when(\n",
    "        F.split(F.col('vac_s_ref'), ',').getItem(1) == 2, 'coronavac'\n",
    "    ).when(\n",
    "        F.split(F.col('vac_s_ref'), ',').getItem(1) == 3, 'pfizer'\n",
    "    ).when(\n",
    "        F.split(F.col('vac_s_ref'), ',').getItem(1) == 4, 'janssen'\n",
    "    )\n",
    ").withColumn(\n",
    "    'vacinados_com_reforco_nome',\n",
    "    F.when(\n",
    "        F.split(F.col('vac_c_ref'), ',').getItem(1) == 1, 'astrazeneca'\n",
    "    ).when(\n",
    "        F.split(F.col('vac_c_ref'), ',').getItem(1) == 2, 'coronavac'\n",
    "    ).when(\n",
    "        F.split(F.col('vac_c_ref'), ',').getItem(1) == 3, 'pfizer'\n",
    "    ).when(\n",
    "        F.split(F.col('vac_c_ref'), ',').getItem(1) == 4, 'janssen'\n",
    "    )\n",
    ")"
   ]
  },
  {
   "cell_type": "code",
   "execution_count": 296,
   "id": "9cdb9f86-a59d-4686-920c-e7c82775521d",
   "metadata": {},
   "outputs": [],
   "source": [
    "df_dose = df_dose.withColumn(\n",
    "    'apenas_primeira_dose_data',\n",
    "    F.split(F.col('prim_dose'), ',').getItem(0)\n",
    ").withColumn(\n",
    "    'vacinados_sem_reforco_data',\n",
    "    F.split(F.col('vac_s_ref'), ',').getItem(0)\n",
    ").withColumn(\n",
    "    'vacinados_com_reforco_data',\n",
    "    F.split(F.col('vac_c_ref'), ',').getItem(0)\n",
    ")"
   ]
  },
  {
   "cell_type": "code",
   "execution_count": 298,
   "id": "227c1d00-0b5c-497d-adb7-e3b881bee174",
   "metadata": {},
   "outputs": [
    {
     "name": "stderr",
     "output_type": "stream",
     "text": [
      "                                                                                \r"
     ]
    }
   ],
   "source": [
    "df_dose.groupby('apenas_primeira_dose_nome',\n",
    "                 'vacinados_sem_reforco_nome',\n",
    "                 'vacinados_com_reforco_nome') \\\n",
    ".count() \\\n",
    ".coalesce(1) \\\n",
    ".write \\\n",
    ".csv('tabela_doses_nome', mode='overwrite', header=True)"
   ]
  },
  {
   "cell_type": "code",
   "execution_count": 299,
   "id": "f4772ad7-bb27-4f82-8d26-cf6735b1843f",
   "metadata": {},
   "outputs": [
    {
     "name": "stderr",
     "output_type": "stream",
     "text": [
      "                                                                                \r"
     ]
    }
   ],
   "source": [
    "df_dose.groupby('apenas_primeira_dose_data',\n",
    "                 'vacinados_sem_reforco_data',\n",
    "                 'vacinados_com_reforco_data') \\\n",
    ".count() \\\n",
    ".coalesce(1) \\\n",
    ".write \\\n",
    ".csv('tabela_doses_data', mode='overwrite', header=True)"
   ]
  }
 ],
 "metadata": {
  "kernelspec": {
   "display_name": "Python 3 (ipykernel)",
   "language": "python",
   "name": "python3"
  },
  "language_info": {
   "codemirror_mode": {
    "name": "ipython",
    "version": 3
   },
   "file_extension": ".py",
   "mimetype": "text/x-python",
   "name": "python",
   "nbconvert_exporter": "python",
   "pygments_lexer": "ipython3",
   "version": "3.8.10"
  }
 },
 "nbformat": 4,
 "nbformat_minor": 5
}
