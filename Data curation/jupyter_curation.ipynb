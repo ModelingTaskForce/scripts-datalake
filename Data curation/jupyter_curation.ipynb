{
 "cells": [
  {
   "cell_type": "markdown",
   "id": "d9577952-9cc2-4b7b-b7dc-1ad8591bfb85",
   "metadata": {},
   "source": [
    "## Limpeza e harmonização dos dados"
   ]
  },
  {
   "cell_type": "markdown",
   "id": "b6522a48-35f2-464f-a0fb-cb29687f6183",
   "metadata": {},
   "source": [
    "<p>Importando bibliotecas</p>"
   ]
  },
  {
   "cell_type": "code",
   "execution_count": 1,
   "id": "3f978538-20c9-4665-aa2a-2fa789eab7a7",
   "metadata": {},
   "outputs": [],
   "source": [
    "import os"
   ]
  },
  {
   "cell_type": "code",
   "execution_count": 2,
   "id": "592cefa8-e969-4912-a682-408fce925b28",
   "metadata": {},
   "outputs": [],
   "source": [
    "from functools import reduce"
   ]
  },
  {
   "cell_type": "code",
   "execution_count": 14,
   "id": "d143c17f-5672-422f-a3c3-66ee374c960b",
   "metadata": {},
   "outputs": [],
   "source": [
    "from pyspark.sql import SparkSession\n",
    "import pyspark.sql.functions as F\n",
    "import pyspark.sql.types as T"
   ]
  },
  {
   "cell_type": "code",
   "execution_count": 4,
   "id": "90df08f0-5212-4c82-972e-d22f7a211209",
   "metadata": {},
   "outputs": [],
   "source": [
    "from myfunctions import corrige_data, remove_caracter_special, strings_sg_para_numeros, renomeia_vacina"
   ]
  },
  {
   "cell_type": "markdown",
   "id": "8f403e57-ec6a-495b-bf47-899b95e41cc3",
   "metadata": {},
   "source": [
    "Definindo pastas de trabalho"
   ]
  },
  {
   "cell_type": "code",
   "execution_count": 5,
   "id": "07d36740-bd28-41da-977b-120a7a44411e",
   "metadata": {},
   "outputs": [],
   "source": [
    "local_dir = os.path.dirname('__file__')"
   ]
  },
  {
   "cell_type": "code",
   "execution_count": 6,
   "id": "7eed557a-0b9d-45af-83b1-1066eda14e11",
   "metadata": {},
   "outputs": [],
   "source": [
    "output_dir = os.path.join(local_dir, 'curation')"
   ]
  },
  {
   "cell_type": "code",
   "execution_count": 7,
   "id": "8c927084-4a94-4ba2-b66c-9f25dea712fa",
   "metadata": {},
   "outputs": [],
   "source": [
    "datalake = '/media/fabio/19940C2755DB566F/PAMepi/datalake/DATALAKE/2022-04-19/'"
   ]
  },
  {
   "cell_type": "markdown",
   "id": "e24cfc51-8dbc-41ed-b0e3-fefe251e3dd7",
   "metadata": {},
   "source": [
    "Criando sessão spark"
   ]
  },
  {
   "cell_type": "code",
   "execution_count": 8,
   "id": "33c91de9-4cb4-4189-9879-8200a4e3962e",
   "metadata": {},
   "outputs": [
    {
     "name": "stderr",
     "output_type": "stream",
     "text": [
      "22/05/05 15:51:24 WARN Utils: Your hostname, eniac resolves to a loopback address: 127.0.1.1; using 192.168.100.6 instead (on interface wlp3s0)\n",
      "22/05/05 15:51:24 WARN Utils: Set SPARK_LOCAL_IP if you need to bind to another address\n",
      "Using Spark's default log4j profile: org/apache/spark/log4j-defaults.properties\n",
      "Setting default log level to \"WARN\".\n",
      "To adjust logging level use sc.setLogLevel(newLevel). For SparkR, use setLogLevel(newLevel).\n",
      "22/05/05 15:51:25 WARN NativeCodeLoader: Unable to load native-hadoop library for your platform... using builtin-java classes where applicable\n"
     ]
    }
   ],
   "source": [
    "spark = SparkSession.builder.appName('curation').getOrCreate()"
   ]
  },
  {
   "cell_type": "markdown",
   "id": "e9c205d7-8a70-4eb1-a741-31dcf48d2c5f",
   "metadata": {},
   "source": [
    "### Sindrome gripal"
   ]
  },
  {
   "cell_type": "code",
   "execution_count": 9,
   "id": "27f9e8a4-5d02-40e6-a57f-baa88a2bb936",
   "metadata": {},
   "outputs": [],
   "source": [
    "dir_sg = ['sindrome_gripal-2020', 'sindrome_gripal-2021', 'sindrome_gripal-2022']"
   ]
  },
  {
   "cell_type": "code",
   "execution_count": 10,
   "id": "7fff55f6-39a2-4235-8935-c1b4baad84e0",
   "metadata": {},
   "outputs": [
    {
     "name": "stderr",
     "output_type": "stream",
     "text": [
      "                                                                                \r"
     ]
    }
   ],
   "source": [
    "dfs = [spark.read.csv(os.path.join(datalake, folder), header=True, sep=';') for folder in dir_sg]"
   ]
  },
  {
   "cell_type": "code",
   "execution_count": 11,
   "id": "4117a240-1a28-4a93-aee1-c7709d90cd4e",
   "metadata": {},
   "outputs": [],
   "source": [
    "sg = reduce(lambda d1, d2: d1.unionAll(d2), dfs)"
   ]
  },
  {
   "cell_type": "code",
   "execution_count": 12,
   "id": "0abf7319-6b9d-4577-931a-14bf0b3c1f28",
   "metadata": {},
   "outputs": [],
   "source": [
    "columns = df.columns"
   ]
  },
  {
   "cell_type": "code",
   "execution_count": 13,
   "id": "09bc9877-b28c-4daf-beaf-f02cfb5fef90",
   "metadata": {},
   "outputs": [],
   "source": [
    "for col in columns[1:]:\n",
    "    sg = sg.withColumn(col, corrige_data(col))\n",
    "    sg = sg.withColumn(col, strings_sg_para_numeros(remove_caracter_special(col)))"
   ]
  },
  {
   "cell_type": "code",
   "execution_count": null,
   "id": "71e2ac49-c335-46ca-bbbf-00a9617fbadc",
   "metadata": {},
   "outputs": [],
   "source": [
    "sg = sg.withColumn(\n",
    "    'date',\n",
    "    F.when(\n",
    "        F.col('dataInicioSintomas').isNotNull(),\n",
    "        F.lit(F.col('dataInicioSintomas'))\n",
    "    ).when(\n",
    "        F.col('dataInicioSintomas').isNull(),\n",
    "        F.when(\n",
    "            F.col('dataColetaTeste4').isNotNull(),\n",
    "            F.lit(F.col('dataColetaTeste4'))\n",
    "        ).when(\n",
    "            F.col('dataColetaTeste4').isNull(),\n",
    "            F.when(\n",
    "                F.col('dataColetaTeste3').isNotNull(),\n",
    "                F.lit(F.col('dataColetaTeste3'))\n",
    "            ).when(\n",
    "                F.col('dataColetaTeste3').isNull(),\n",
    "                F.when(\n",
    "                    F.col('dataColetaTeste2').isNotNull(),\n",
    "                    F.lit(F.col('dataColetaTeste2'))\n",
    "                ).when(\n",
    "                    F.col('dataColetaTeste2').isNull(),\n",
    "                    F.lit(F.col('dataColetaTeste1'))\n",
    "                ).otherwise(F.col('dataNotificacao'))\n",
    "            )\n",
    "        )\n",
    "    )\n",
    ")"
   ]
  },
  {
   "cell_type": "code",
   "execution_count": null,
   "id": "f9a8442b-40a8-4518-9dd8-39941ddf23e9",
   "metadata": {},
   "outputs": [],
   "source": [
    "sg = sg.withColumn(\n",
    "    'municipioIBGE',\n",
    "    F.when(\n",
    "        F.col('municipioIBGE').isNull(),\n",
    "        F.lit(F.col('municipioNotificacaoIBGE'))\n",
    "    ).otherwise(F.col('municipioIBGE'))\n",
    ")"
   ]
  },
  {
   "cell_type": "code",
   "execution_count": null,
   "id": "3dccfa2b-ddec-4d96-a55b-eb2aff4fd29d",
   "metadata": {},
   "outputs": [],
   "source": [
    "sg = sg.withColumnRenamed('municipioIBGE', 'code_mun_ibge')"
   ]
  },
  {
   "cell_type": "code",
   "execution_count": null,
   "id": "8d953d5e-b627-434a-8cd1-2392cd9480c2",
   "metadata": {},
   "outputs": [],
   "source": [
    "sg = sg.withColumn(\n",
    "    'newCases_SG',\n",
    "    F.when(\n",
    "        (F.col('classificacaoFinal') == 1) |\n",
    "        (F.col('classificacaoFinal') == 2) |\n",
    "        (F.col('lcassificacaoFinal') == 3) |\n",
    "        (F.col('classificacaoFinal') == 4) |\n",
    "        (F.col('classificacaoFinal') == 5),\n",
    "        F.lit(1)\n",
    "    )\n",
    ")\n",
    "\n",
    "sg = sg.withColumn('new_des_SG', F.when(F.col('classificacaoFinal') == 7, F.lit(1)))\n",
    "\n",
    "sg = sg.withColumn('new_undefined_SG', F.when(F.col('classificacaoFinal').isNull(), F.lit(1)))"
   ]
  },
  {
   "cell_type": "code",
   "execution_count": null,
   "id": "4efcb19c-8f5e-474f-8e73-3752f0a8c1b5",
   "metadata": {},
   "outputs": [],
   "source": [
    "sg = sg.withColumn(\n",
    "    'newDeath_SG',\n",
    "    F.when(\n",
    "        (F.col('newCases_SG').isNotNull()) &\n",
    "        (F.col('evolucaoCaso') == 1), F.lit(1)\n",
    "    )\n",
    ").withColumn(\n",
    "    'newDeath_des_SG',\n",
    "    F.when(\n",
    "        (F.col('new_des_SG').isNotNull()) &\n",
    "        (F.col('evolucaoCaso') == 1), F.lit(1)\n",
    "    )\n",
    ").withColumn(\n",
    "    'newDeath_undefined_SG',\n",
    "    F.when(\n",
    "        (F.col('new_undefined_SG').isNotNull()) &\n",
    "        (F.col('evolucaoCaso') == 1), F.lit(1)\n",
    "    )\n",
    ")"
   ]
  },
  {
   "cell_type": "code",
   "execution_count": null,
   "id": "00b9d224-7971-4aff-836a-ce2b06e298d3",
   "metadata": {},
   "outputs": [],
   "source": [
    "sg = sg.withColumn(\n",
    "    'new_recovered_SG',\n",
    "    F.when(\n",
    "        (F.col('newCases_SG').isNotNull()) &\n",
    "        (F.col('evolucaoCaso') == 2), F.lit(1)\n",
    "    )\n",
    ").withColumn(\n",
    "    'new_recovered_des_SG',\n",
    "    F.when(\n",
    "        (F.col('new_des_SG').isNotNull()) &\n",
    "        (F.col('evolucaoCaso') == 2), F.lit(1)\n",
    "    )\n",
    ").withColumn(\n",
    "    'new_recovered_undefined_SG',\n",
    "    F.when(\n",
    "        (F.col('new_undefined_SG').isNotNull()) &\n",
    "        (F.col('evolucaoCaso') == 2), F.lit(1)\n",
    "    )\n",
    ")"
   ]
  },
  {
   "cell_type": "code",
   "execution_count": null,
   "id": "315d142c-f5f7-4578-93f7-081fe02754e0",
   "metadata": {},
   "outputs": [],
   "source": [
    "sg = sg.withColumn(\n",
    "    'hosp_uti_SG',\n",
    "    F.when(\n",
    "        (F.col('newCases_SG').isNotNull()) &\n",
    "        (F.col('evolucaoCaso') == 4),\n",
    "        F.lit(1)\n",
    "    )\n",
    ").withColumn(\n",
    "    'hosp_uti_des_SG',\n",
    "    F.when(\n",
    "        (F.col('new_des_sg').isNotNull()) &\n",
    "        (F.col('evolucaoCaso') == 4),\n",
    "        F.lit(1)\n",
    "    )\n",
    ").withColumn(\n",
    "    'hosp_uti_undefined_SG',\n",
    "    F.when(\n",
    "        (F.col('new_undefined_SG').isNotNull()) &\n",
    "        (F.col('evolucaoCaso') == 4),\n",
    "        F.lit(1)\n",
    "    )\n",
    ")"
   ]
  },
  {
   "cell_type": "code",
   "execution_count": null,
   "id": "f80cfdd5-52f5-42d8-8a18-90099225e48e",
   "metadata": {},
   "outputs": [],
   "source": [
    "sg = sg.withColumn(\n",
    "    'dom_trat_SG',\n",
    "    F.when(\n",
    "        (F.col('newCases_SG').isNotNull()) &\n",
    "        (F.col('evolucaoCaso') == 6),\n",
    "        F.lit(1)\n",
    "    )\n",
    ").withColumn(\n",
    "    'dom_trat_des_SG',\n",
    "    F.when(\n",
    "        (F.col('new_des_sg').isNotNull()) &\n",
    "        (F.col('evolucaoCaso') == 6),\n",
    "        F.lit(1)\n",
    "    )\n",
    ").withColumn(\n",
    "    'dom_trat_undefined_SG',\n",
    "    F.when(\n",
    "        (F.col('new_undefined_sg').isNotNull()) &\n",
    "        (F.col('evolucaoCaso') == 6),\n",
    "        F.lit(1)\n",
    "    )\n",
    ")"
   ]
  },
  {
   "cell_type": "code",
   "execution_count": null,
   "id": "dddf2395-c0f4-41fb-ae35-67198c425893",
   "metadata": {},
   "outputs": [],
   "source": [
    "sg = sg.withColumn(\n",
    "    'hos_clinc_SG',\n",
    "    F.when(\n",
    "        (F.col('newCases_SG').isNotNull()) &\n",
    "        (F.col('evolucaoCaso') == 3),\n",
    "        F.lit(1)\n",
    "    )\n",
    ").withColumn(\n",
    "    'hos_clinc_des_SG',\n",
    "    F.when(\n",
    "        (F.col('new_des_SG').isNotNull()) &\n",
    "        (F.col('evolucaoCaso') == 3),\n",
    "        F.lit(1)\n",
    "    )\n",
    ").withColumn(\n",
    "    'hos_clinc_undefined_SG',\n",
    "    F.when(\n",
    "        (F.col('new_undefined_SG').isNotNull()) &\n",
    "        (F.col('evolucaoCaso') == 3),\n",
    "        F.lit(1)\n",
    "    )\n",
    ")"
   ]
  },
  {
   "cell_type": "code",
   "execution_count": null,
   "id": "6891b16b-bb89-454f-b695-fc2f6593d71d",
   "metadata": {},
   "outputs": [],
   "source": [
    "new_columns = [\n",
    "    'newCases_SG', 'new_des_SG', 'new_undefined_SG',\n",
    "    'newDeath_SG', 'newDeath_des_SG', 'newDeath_undefined_SG',\n",
    "    'new_recovered_SG', 'new_recovered_des_SG', 'new_recovered_undefined_SG',\n",
    "    'hosp_uti_SG', 'hosp_uti_des_SG', 'hosp_uti_undefined_SG',\n",
    "    'dom_trat_SG', 'dom_trat_des_SG', 'dom_trat_undefined_SG',\n",
    "    'hos_clinc_SG', 'hos_clinc_des_SG', 'hos_clinc_undefined_SG',\n",
    "\n",
    "]"
   ]
  },
  {
   "cell_type": "code",
   "execution_count": null,
   "id": "583b1ec1-1860-4c70-b655-d828f102df01",
   "metadata": {},
   "outputs": [],
   "source": [
    "df.groupby('date', 'code_mun_ibge').agg(\n",
    "    *[F.count(col).alias(col) for col in new_columns]\n",
    ").filter(F.col('date') >= '2020-01-01').orderBy('date') \\\n",
    ".write.csv(os.path.join(output_dir, 'sindrome_gripal'), header=True, mode='overwrite')"
   ]
  },
  {
   "cell_type": "markdown",
   "id": "fb3b51c9-ec00-4fb2-adf9-27e2eb6ef9d3",
   "metadata": {},
   "source": [
    "### Vacinação"
   ]
  },
  {
   "cell_type": "code",
   "execution_count": 9,
   "id": "32ccb86b-4fa0-4950-aff2-c114e92ff612",
   "metadata": {},
   "outputs": [],
   "source": [
    "vac = spark.read.csv(os.path.join(datalake, 'vacinacao'), header=True, sep=';')"
   ]
  },
  {
   "cell_type": "code",
   "execution_count": 10,
   "id": "be3da71a-4029-445e-9c3f-d766d6052dd7",
   "metadata": {},
   "outputs": [
    {
     "name": "stderr",
     "output_type": "stream",
     "text": [
      "22/05/05 15:51:42 WARN package: Truncated the string representation of a plan since it was too large. This behavior can be adjusted by setting 'spark.sql.debug.maxToStringFields'.\n"
     ]
    },
    {
     "name": "stdout",
     "output_type": "stream",
     "text": [
      "-RECORD 0----------------------------------------------------------------------------------------------------\n",
      " document_id                              | 00462514-0d0e-4082-807c-1b7868a02367-i0b0                        \n",
      " paciente_id                              | 43f9ad3984ca1276c0557d43af4fd66a285dc907a76c9324b911d42029500250 \n",
      " paciente_idade                           | 60                                                               \n",
      " paciente_dataNascimento                  | 1960-11-12                                                       \n",
      " paciente_enumSexoBiologico               | M                                                                \n",
      " paciente_racaCor_codigo                  | 02                                                               \n",
      " paciente_racaCor_valor                   | PRETA                                                            \n",
      " paciente_endereco_coIbgeMunicipio        | 410690                                                           \n",
      " paciente_endereco_coPais                 | 10                                                               \n",
      " paciente_endereco_nmMunicipio            | CURITIBA                                                         \n",
      " paciente_endereco_nmPais                 | BRASIL                                                           \n",
      " paciente_endereco_uf                     | PR                                                               \n",
      " paciente_endereco_cep                    | 81570                                                            \n",
      " paciente_nacionalidade_enumNacionalidade | B                                                                \n",
      " estabelecimento_valor                    | 2639408                                                          \n",
      " estabelecimento_razaoSocial              | MUNICIPIO DE CURITIBA                                            \n",
      " estalecimento_noFantasia                 | UMS UBERABA DE CIMA                                              \n",
      " estabelecimento_municipio_codigo         | 410690                                                           \n",
      " estabelecimento_municipio_nome           | CURITIBA                                                         \n",
      " estabelecimento_uf                       | PR                                                               \n",
      " vacina_grupoAtendimento_codigo           | 000201                                                           \n",
      " vacina_grupoAtendimento_nome             | Pessoas de 18 a 64 anos                                          \n",
      " vacina_categoria_codigo                  | 2                                                                \n",
      " vacina_categoria_nome                    | Faixa Etária                                                     \n",
      " vacina_lote                              | 215VCD163Z                                                       \n",
      " vacina_fabricante_nome                   | ASTRAZENECA/FIOCRUZ                                              \n",
      " vacina_fabricante_referencia             | null                                                             \n",
      " vacina_dataAplicacao                     | 2021-07-28                                                       \n",
      " vacina_descricao_dose                    | 2ª Dose                                                          \n",
      " vacina_codigo                            | 85                                                               \n",
      " vacina_nome                              | COVID-19 ASTRAZENECA/FIOCRUZ - COVISHIELD                        \n",
      " sistema_origem                           | E-saúde Curitiba                                                 \n",
      "only showing top 1 row\n",
      "\n"
     ]
    }
   ],
   "source": [
    "vac.show(1, truncate=False, vertical=True)"
   ]
  },
  {
   "cell_type": "code",
   "execution_count": 11,
   "id": "f347686d-06f0-4009-ad41-2e079a264680",
   "metadata": {},
   "outputs": [],
   "source": [
    "for col in vac.columns[2:]:\n",
    "    vac = vac.withColumn(col, corrige_data(col))\n",
    "    vac = vac.withColumn(col, strings_sg_para_numeros(remove_caracter_special(col)))\n",
    "vac = vac.withColumn('vacina_nome', renomeia_vacina('vacina_nome'))"
   ]
  },
  {
   "cell_type": "code",
   "execution_count": 15,
   "id": "c4c3690a-8262-423c-ba06-0671fc26c76e",
   "metadata": {},
   "outputs": [],
   "source": [
    "vac = vac.withColumn('dt_pattern', F.lit('2022-04-19'))"
   ]
  },
  {
   "cell_type": "code",
   "execution_count": 12,
   "id": "b3a36450-9490-4bb5-8e36-4e330c280376",
   "metadata": {},
   "outputs": [
    {
     "name": "stdout",
     "output_type": "stream",
     "text": [
      "-RECORD 0----------------------------------------------------------------------------------------------------\n",
      " document_id                              | 00462514-0d0e-4082-807c-1b7868a02367-i0b0                        \n",
      " paciente_id                              | 43f9ad3984ca1276c0557d43af4fd66a285dc907a76c9324b911d42029500250 \n",
      " paciente_idade                           | 60                                                               \n",
      " paciente_dataNascimento                  | 1960-11-12                                                       \n",
      " paciente_enumSexoBiologico               | m                                                                \n",
      " paciente_racaCor_codigo                  | 02                                                               \n",
      " paciente_racaCor_valor                   | 2                                                                \n",
      " paciente_endereco_coIbgeMunicipio        | 410690                                                           \n",
      " paciente_endereco_coPais                 | 10                                                               \n",
      " paciente_endereco_nmMunicipio            | curitiba                                                         \n",
      " paciente_endereco_nmPais                 | brasil                                                           \n",
      " paciente_endereco_uf                     | pr                                                               \n",
      " paciente_endereco_cep                    | 81570                                                            \n",
      " paciente_nacionalidade_enumNacionalidade | b                                                                \n",
      " estabelecimento_valor                    | 2639408                                                          \n",
      " estabelecimento_razaoSocial              | municipio de curitiba                                            \n",
      " estalecimento_noFantasia                 | ums uberaba de cima                                              \n",
      " estabelecimento_municipio_codigo         | 410690                                                           \n",
      " estabelecimento_municipio_nome           | curitiba                                                         \n",
      " estabelecimento_uf                       | pr                                                               \n",
      " vacina_grupoAtendimento_codigo           | 000201                                                           \n",
      " vacina_grupoAtendimento_nome             | pessoas de 18 a 64 anos                                          \n",
      " vacina_categoria_codigo                  | 2                                                                \n",
      " vacina_categoria_nome                    | faixa etaria                                                     \n",
      " vacina_lote                              | 215vcd163z                                                       \n",
      " vacina_fabricante_nome                   | astrazeneca/fiocruz                                              \n",
      " vacina_fabricante_referencia             | null                                                             \n",
      " vacina_dataAplicacao                     | 2021-07-28                                                       \n",
      " vacina_descricao_dose                    | 2a dose                                                          \n",
      " vacina_codigo                            | 85                                                               \n",
      " vacina_nome                              | 1                                                                \n",
      " sistema_origem                           | e-saude curitiba                                                 \n",
      "only showing top 1 row\n",
      "\n"
     ]
    }
   ],
   "source": [
    "vac.show(1, truncate=False, vertical=True)"
   ]
  },
  {
   "cell_type": "code",
   "execution_count": null,
   "id": "4c5ffd80-736e-4110-8510-dabf9c0e9121",
   "metadata": {},
   "outputs": [],
   "source": [
    "vac = vac.withColumn(\n",
    "    'num_dose_reg_VAC',\n",
    "    F.when(\n",
    "        (F.col('1a dose').isNotNull()) |\n",
    "        (F.col('1o reforco').isNotNull()) |\n",
    "        (F.col('2a dose').isNotNull()) |\n",
    "        (F.col('2o reforco').isNotNull()) |\n",
    "        (F.col('3a dose').isNotNull()) |\n",
    "        (F.col('3o reforco').isNotNull()) |\n",
    "        (F.col('4a dose').isNotNull()) |\n",
    "        (F.col('5a dose').isNotNull()) |\n",
    "        (F.col('revacinacao').isNotNull()) |\n",
    "        (F.col('1a dose revacinacao').isNotNull()) |\n",
    "        (F.col('2a dose revacinacao').isNotNull()) |\n",
    "        (F.col('3a dose revacinacao').isNotNull()) |\n",
    "        (F.col('dose inicial').isNotNull()) |\n",
    "        (F.col('dose adicional').isNotNull()) |\n",
    "        (F.col('reforco').isNotNull()) |\n",
    "        (F.col('unica').isNotNull()) |\n",
    "        (F.col('tratamento com uma dose').isNotNull()) |\n",
    "        (F.col('tratamento com dezessete doses').isNotNull()),\n",
    "        F.lit(1)\n",
    "    )\n",
    ").withColumn(\n",
    "    'num_dose_pri_VAC',\n",
    "    F.when(\n",
    "        ((F.col('1a dose').isNotNull()) |\n",
    "        (F.col('dose inicial').isNotNull())) &\n",
    "        (F.col('2a dose').isNull()),\n",
    "        F.lit(1)\n",
    "    )\n",
    ").withColumn(\n",
    "    'num_dose_sec_uni_VAC',\n",
    "    F.when(\n",
    "        (F.col('2a dose').isNotNull()) |\n",
    "        (F.col('unica').isNotNull()),\n",
    "        F.lit(1)\n",
    "    )\n",
    ").withColumn(\n",
    "    'num_dose_reinforcment_VAC',\n",
    "    F.when(\n",
    "        (F.col('3a dose').isNotNull()) |\n",
    "        (F.col('4a dose').isNotNull()) |\n",
    "        (F.col('5a dose').isNotNull()) |\n",
    "        (F.col('dose adicional').isNotNull()) |\n",
    "        (F.col('1a dose revacinacao').isNotNull()) |\n",
    "        (F.col('2a dose revacinacao').isNotNull()) |\n",
    "        (F.col('3a dose revacinacao').isNotNull()) |\n",
    "        (F.col('dose adicional').isNotNull()) |\n",
    "        (F.col('reforco').isNotNull()) |\n",
    "        (F.col('1o reforco').isNotNull()) |\n",
    "        (F.col('2o reforco').isNotNull()) |\n",
    "        (F.col('3o reforco').isNotNull()),\n",
    "        F.lit(1)\n",
    "    )\n",
    ").withColumn(\n",
    "    'num_dose_non_reg_VAC',\n",
    "    F.when(F.col('dose').isNotNull(), F.lit(1))\n",
    ").withColumn(\n",
    "    'total_dose_VAC',\n",
    "    F.col('num_dose_reg_VAC')+F.col('num_dose_non_reg_VAC')\n",
    ")"
   ]
  },
  {
   "cell_type": "code",
   "execution_count": null,
   "id": "5a6ff3c0-78f6-4028-af7e-d10ea01fb3b6",
   "metadata": {},
   "outputs": [],
   "source": [
    "vac = vac.withColumn(\n",
    "    'num_vac_type_1_VAC',\n",
    "    F.when(\n",
    "        (F.col('1a dose') == 1) |\n",
    "        (F.col('1o reforco') == 1) |\n",
    "        (F.col('2a dose') == 1) |\n",
    "        (F.col('2o reforco') == 1) |\n",
    "        (F.col('3a dose') == 1) |\n",
    "        (F.col('3o reforco') == 1) |\n",
    "        (F.col('4a dose') == 1) |\n",
    "        (F.col('5a dose') == 1) |\n",
    "        (F.col('revacinacao') == 1) |\n",
    "        (F.col('1a dose revacinacao') == 1) |\n",
    "        (F.col('2a dose revacinacao') == 1) |\n",
    "        (F.col('3a dose revacinacao') == 1) |\n",
    "        (F.col('dose inicial') == 1) |\n",
    "        (F.col('dose adicional') == 1) |\n",
    "        (F.col('reforco') == 1) |\n",
    "        (F.col('unica') == 1) |\n",
    "        (F.col('tratamento com uma dose') == 1) |\n",
    "        (F.col('tratamento com dezessete doses') == 1),\n",
    "        F.lit(1)\n",
    "    )\n",
    ").withColumn(\n",
    "    'num_vac_type_2_VAC',\n",
    "    F.when(\n",
    "        (F.col('1a dose') == 2) |\n",
    "        (F.col('1o reforco') == 2) |\n",
    "        (F.col('2a dose') == 2) |\n",
    "        (F.col('2o reforco') == 2) |\n",
    "        (F.col('3a dose') == 2) |\n",
    "        (F.col('3o reforco') == 2) |\n",
    "        (F.col('4a dose') == 2) |\n",
    "        (F.col('5a dose') == 2) |\n",
    "        (F.col('revacinacao') == 2) |\n",
    "        (F.col('1a dose revacinacao') == 2) |\n",
    "        (F.col('2a dose revacinacao') == 2) |\n",
    "        (F.col('3a dose revacinacao') == 2) |\n",
    "        (F.col('dose inicial') == 2) |\n",
    "        (F.col('dose adicional') == 2) |\n",
    "        (F.col('reforco') == 2) |\n",
    "        (F.col('unica') == 2) |\n",
    "        (F.col('tratamento com uma dose') == 2) |\n",
    "        (F.col('tratamento com dezessete doses') == 2),\n",
    "        F.lit(1)\n",
    "    )\n",
    ").withColumn(\n",
    "    'num_vac_type_3_VAC',\n",
    "    F.when(\n",
    "        (F.col('1a dose') == 3) |\n",
    "        (F.col('1o reforco') == 3) |\n",
    "        (F.col('2a dose') == 3) |\n",
    "        (F.col('2o reforco') == 3) |\n",
    "        (F.col('3a dose') == 3) |\n",
    "        (F.col('3o reforco') == 3) |\n",
    "        (F.col('4a dose') == 3) |\n",
    "        (F.col('5a dose') == 3) |\n",
    "        (F.col('revacinacao') == 3) |\n",
    "        (F.col('1a dose revacinacao') == 3) |\n",
    "        (F.col('2a dose revacinacao') == 3) |\n",
    "        (F.col('3a dose revacinacao') == 3) |\n",
    "        (F.col('dose inicial') == 3) |\n",
    "        (F.col('dose adicional') == 3) |\n",
    "        (F.col('reforco') == 3) |\n",
    "        (F.col('unica') == 3) |\n",
    "        (F.col('tratamento com uma dose') == 3) |\n",
    "        (F.col('tratamento com dezessete doses') == 3),\n",
    "        F.lit(1)\n",
    "    )\n",
    ").withColumn(\n",
    "    'num_vac_type_4_VAC',\n",
    "    F.when(\n",
    "        (F.col('1a dose') == 4) |\n",
    "        (F.col('1o reforco') == 4) |\n",
    "        (F.col('2a dose') == 4) |\n",
    "        (F.col('2o reforco') == 4) |\n",
    "        (F.col('3a dose') == 4) |\n",
    "        (F.col('3o reforco') == 4) |\n",
    "        (F.col('4a dose') == 4) |\n",
    "        (F.col('5a dose') == 4) |\n",
    "        (F.col('revacinacao') == 4) |\n",
    "        (F.col('1a dose revacinacao') == 4) |\n",
    "        (F.col('2a dose revacinacao') == 4) |\n",
    "        (F.col('3a dose revacinacao') == 4) |\n",
    "        (F.col('dose inicial') == 4) |\n",
    "        (F.col('dose adicional') == 4) |\n",
    "        (F.col('reforco') == 4) |\n",
    "        (F.col('unica') == 4) |\n",
    "        (F.col('tratamento com uma dose') == 4) |\n",
    "        (F.col('tratamento com dezessete doses') == 4),\n",
    "        F.lit(1)\n",
    "    )\n",
    ")"
   ]
  },
  {
   "cell_type": "code",
   "execution_count": null,
   "id": "09a56cf4-64b4-4dc8-8e60-da6b0fa70d3f",
   "metadata": {},
   "outputs": [],
   "source": [
    "vac = vac.withColumn(\n",
    "    'num_ind_incom_delay_less2_VAC',\n",
    "    F.when(\n",
    "        F.col('num_dose_pri_VAC').isNotNull(),\n",
    "        F.when(\n",
    "            F.months_between(F.col('dt_pattern'), F.col('date')) < 2,\n",
    "            F.lit(1)\n",
    "        )\n",
    "    )\n",
    ").withColumn(\n",
    "    'num_ind_incom_delay_2_6_VAC',\n",
    "    F.when(\n",
    "        F.col('num_dose_pri_VAC').isNotNull(),\n",
    "        F.when(\n",
    "            (F.months_between(F.col('dt_pattern'), F.col('date')) >= 2) &\n",
    "            (F.months_between(F.col('dt_pattern'), F.col('date')) < 6),\n",
    "            F.lit(1)\n",
    "        )\n",
    "    )\n",
    ").withColumn(\n",
    "    'num_ind_incom_delay_more6_VAC',\n",
    "    F.when(\n",
    "        F.col('num_dose_pri_VAC').isNotNull(),\n",
    "        F.when(\n",
    "            F.months_between(F.col('dt_pattern'), F.col('date')) > 6,\n",
    "            F.lit(1)\n",
    "        )\n",
    "    )\n",
    ")"
   ]
  },
  {
   "cell_type": "code",
   "execution_count": null,
   "id": "345d7447-7b09-480b-a934-10fdad5167ab",
   "metadata": {},
   "outputs": [],
   "source": [
    "vac = vac.withColumn(\n",
    "    'num_dose_sec_uni_delay_less2_VAC',\n",
    "    F.when(\n",
    "        F.col('num_dose_sec_uni_VAC').isNotNull(),\n",
    "        F.when(\n",
    "            F.months_between(F.col('dt_pattern'), F.col('date')) < 2,\n",
    "            F.lit(1)\n",
    "        )\n",
    "    )\n",
    ").withColumn(\n",
    "    'num_dose_sec_uni_delay_2_6_VAC',\n",
    "    F.when(\n",
    "        F.col('num_dose_sec_uni_VAC').isNotNull(),\n",
    "        F.when(\n",
    "            (F.months_between(F.col('dt_pattern'), F.col('date')) >= 2) &\n",
    "            (F.months_between(F.col('dt_pattern'), F.col('date')) < 6),\n",
    "            F.lit(1)\n",
    "        )\n",
    "    )\n",
    ").withColumn(\n",
    "    'num_dose_sec_uni_delay_more6_VAC',\n",
    "    F.when(\n",
    "        F.col('num_dose_sec_uni_VAC').isNotNull(),\n",
    "        F.when(\n",
    "            F.months_between(F.col('dt_pattern'), F.col('date')) > 6,\n",
    "            F.lit(1)\n",
    "        )\n",
    "    )\n",
    ")"
   ]
  },
  {
   "cell_type": "code",
   "execution_count": null,
   "id": "32e154f2-70c8-44e1-a259-285df49e2240",
   "metadata": {},
   "outputs": [],
   "source": [
    "vac = vac.withColumn(\n",
    "    'num_ind_com_atu_delay_less2_VAC',\n",
    "    F.when(\n",
    "        F.col('num_dose_reinforcment_VAC').isNotNull(),\n",
    "        F.when(\n",
    "            F.months_between(F.col('dt_pattern'), F.col('date')) < 2,\n",
    "            F.lit(1)\n",
    "        )\n",
    "    )\n",
    ").withColumn(\n",
    "    'num_ind_com_atu_delay_2_6_VAC',\n",
    "    F.when(\n",
    "        F.col('num_dose_reinforcment_VAC').isNotNull(),\n",
    "        F.when(\n",
    "            (F.months_between(F.col('dt_pattern'), F.col('date')) >= 2) &\n",
    "            (F.months_between(F.col('dt_pattern'), F.col('date')) < 6),\n",
    "            F.lit(1)\n",
    "        )\n",
    "    )\n",
    ").withColumn(\n",
    "    'num_ind_com_atu_delay_more6_VAC',\n",
    "    F.when(\n",
    "        F.col('num_dose_reinforcment_VAC').isNotNull(),\n",
    "        F.when(\n",
    "            F.months_between(F.col('dt_pattern'), F.col('date')) > 6,\n",
    "            F.lit(1)\n",
    "        )\n",
    "    )\n",
    ")"
   ]
  },
  {
   "cell_type": "code",
   "execution_count": null,
   "id": "ddf45c5a-d04a-42de-979e-651359c6306a",
   "metadata": {},
   "outputs": [],
   "source": [
    "columns = doses.columns[22:]"
   ]
  },
  {
   "cell_type": "code",
   "execution_count": null,
   "id": "389a5d8f-eee2-444b-adba-3fdfc22287da",
   "metadata": {},
   "outputs": [],
   "source": [
    "vac.groupby('date', 'code_mun_ibge').agg(\n",
    "    *[F.count(col).alias(col) for col in new_columns]\n",
    ").filter(F.col('date') >= '2020-01-01').orderBy('date') \\\n",
    ".write.csv(os.path.join(output_dir, 'vacinacao'), header=True, mode='overwrite')"
   ]
  },
  {
   "cell_type": "markdown",
   "id": "ebcd7fb8-d722-40d7-929e-d5f92a5ed778",
   "metadata": {},
   "source": [
    "### SRAG"
   ]
  },
  {
   "cell_type": "code",
   "execution_count": null,
   "id": "dbf8e7f3-0fb9-4df4-bcb0-f1be5b70fa81",
   "metadata": {},
   "outputs": [],
   "source": [
    "dfs = [\n",
    "    spark.read.csv(os.path.join(datalake 'SRAG', file), header=True, sep=';')\n",
    "    for file in os.listdir(os.path.join(datalake, version, 'SRAG'))\n",
    "]"
   ]
  },
  {
   "cell_type": "code",
   "execution_count": null,
   "id": "ed649af2-7a0e-49ce-aa1e-fa46d95e49d7",
   "metadata": {},
   "outputs": [],
   "source": [
    "srag = reduce(lambda d1, d2: d1.unionByName(d2, allowMissingColumns=True), dfs)"
   ]
  },
  {
   "cell_type": "code",
   "execution_count": null,
   "id": "54a23920-1d43-4237-8f6f-935573a501ec",
   "metadata": {},
   "outputs": [],
   "source": [
    "srag =srag srag.withColumn('LVAC', F.lit(None))"
   ]
  },
  {
   "cell_type": "code",
   "execution_count": null,
   "id": "35446d71-fda2-47dc-8fad-fe1ae339cedc",
   "metadata": {},
   "outputs": [],
   "source": [
    "coronavac_list = [\n",
    "    'CORONAVAC', 'BUTANTAN',  'SINOVAC', 'IB', 'SINO', 'BUTA',\n",
    "    'CORAVAC', 'CORONA', 'CORONO', 'BUATN', 'CORANA', 'BUNTAN',\n",
    "    'BUTU', 'SIONOVAC', 'CORONSVAC', 'COROVACAC', 'COORNAVAC',\n",
    "    'COVONAVA', 'CORFONAVAC', 'TANTAN', 'SIVOVAC', 'CORO', 'CONO',\n",
    "    'BHUTANTAN', 'CORANOVAC', 'CORNAVAC', 'CINOFARMA', 'BT',\n",
    "    'BUTNTAN', 'SIVONAC', 'I.B.', 'CRONAVAC', 'SINAVAC',\n",
    "    'SINVAC', 'CORNONAVAC', 'BUT',\n",
    "]\n",
    "\n",
    "astrazeneca_list = [\n",
    "    'ZENECA', 'OXFOR', 'ZENICA', 'FIOCRUZ', 'CRUZ', 'AZT',\n",
    "    'CHADOX1', \"INSTITUTO SERUM\", 'COVISHILD', 'COVISHIELD',\n",
    "    'ASTR', 'ATZ', 'FORD', 'OXF', '0XF', 'COVISHEID',\n",
    "    'COVISCHELD', 'ATRAZENCA', 'FIOCROZ', 'OSWALDO', 'SHIELD',\n",
    "    'INDIA', 'FIOCFRUZ', 'CRIZ', 'ABX0529', 'OXOFRD', 'FIO RUZ',\n",
    "    'COVIDCHIELD', 'CORVISHELD', 'COREISHIEL', 'ATRAZANICA',\n",
    "    'FIOCURZ', 'INSTITUTO SERIUM', 'AZ', 'BIOMANGUINHO',\n",
    "    'FIO CRUOZ', 'CHADOX', 'COVISHIED', 'SERUM', 'FIOCRUS'\n",
    "]\n",
    "\n",
    "pfizer_list = [\n",
    "    'FIZER', 'PFZES', 'PFIZAR', 'PIZER', 'IZER', 'BIONTECH',          \n",
    "    'PZIFER', 'FAZER', 'EZER', 'PFI', 'PFZ', 'PFA', 'FAYZER',\n",
    "    'PZF', 'PZI',  'BIOTECNO', 'BNT162B2', 'PAIFFER', 'BIOTECH',\n",
    "    'COMIRNATY', 'PFYZER', 'BIO N TECH', 'PZHIER', 'FAISER' \n",
    "]\n",
    "\n",
    "janssen_list = [\n",
    "    'JANSSEN', 'JANSEN', 'UNICA', 'JAH', 'JANSE', 'JENS', 'JANHSEN',\n",
    "    'JASSEN', 'JONHSON', 'JONSSON', 'JANSON', 'JHONSON', 'JOHNSON',\n",
    "    'JOHSON', 'JHONNSONN', 'JONHOSON', 'JHANSSEN', 'JHANSEN',\n",
    "    'JONSSEN', 'JHONSOM', 'JASEN', 'JANSSER',  'JHONSSEN',\n",
    "    'JANSSEM', 'JONSHON', 'JANNSEN',\n",
    "]\n",
    "\n",
    "others = []"
   ]
  },
  {
   "cell_type": "code",
   "execution_count": null,
   "id": "b787f6d8-e712-4656-b952-5c417a64ad5b",
   "metadata": {},
   "outputs": [],
   "source": [
    "# 0 = astrazeneca, 1 = coronavac, 2 = pfizer, 3 = janssen\n",
    "srag = srag.withColumn(\n",
    "    'vac_number',\n",
    "    F.when(\n",
    "        (srag.LAB_PR_COV).isin(astrazeneca_list),\n",
    "        F.lit(0)\n",
    "    ).when(\n",
    "        (srag.LAB_PR_COV).isin(coronavac_list),\n",
    "        F.lit(1)\n",
    "    ).when(\n",
    "        (srag.LAB_PR_COV).isin(pfizer_list),\n",
    "        F.lit(2)\n",
    "    ).when(\n",
    "        (srag.LAB_PR_COV).isin(janssen_list),\n",
    "        F.lit(3)\n",
    "    ).otherwise(F.lit(None))\n",
    ")"
   ]
  },
  {
   "cell_type": "code",
   "execution_count": null,
   "id": "ebb6362a-49e1-403f-b17d-664d2950aeb0",
   "metadata": {},
   "outputs": [],
   "source": [
    "srag = srag.withColumn(\n",
    "    'DT_INTERNA',\n",
    "    F.when(\n",
    "        F.col('DT_INTERNA').isNull(),\n",
    "        F.col('DT_ENTUTI')\n",
    "    ).otherwise(F.col('DT_INTERNA'))\n",
    ")"
   ]
  },
  {
   "cell_type": "code",
   "execution_count": null,
   "id": "ee7cf46b-5ace-4f6a-b394-354807c9a3f9",
   "metadata": {},
   "outputs": [],
   "source": [
    "srag = srag.withColumn(\n",
    "    'DT_ENTUTI',\n",
    "    F.when(\n",
    "        (F.col('DT_ENTUTI').isNull()) &\n",
    "        (F.col('UTI') == 1),\n",
    "        F.col('DT_INTERNA')\n",
    "    ).otherwise(F.col('DT_ENTUTI'))\n",
    ")"
   ]
  },
  {
   "cell_type": "code",
   "execution_count": null,
   "id": "b63531cf-1402-41af-9e49-af10cc8f601c",
   "metadata": {},
   "outputs": [],
   "source": [
    "srag = srag.withColumn(\n",
    "    'DT_SAIDUTI',\n",
    "    F.when(\n",
    "        (F.col('DT_SAIDUTI').isNull()) &\n",
    "        (F.col('DT_ENTUTI').isNotNull()),\n",
    "        F.col('DT_EVOLUCA')\n",
    "    ).otherwise(F.col('DT_SAIDUTI'))\n",
    ")\n",
    "\n",
    "srag = srag.withColumn(\n",
    "    'DT_SAIDUTI',\n",
    "    F.when(\n",
    "        (F.col('DT_SAIDUTI').isNull()) &\n",
    "        (F.col('DT_ENTUTI').isNotNull()),\n",
    "        F.col('DT_ENCERRA')\n",
    "    ).otherwise(F.col('DT_SAIDUTI'))\n",
    ")"
   ]
  },
  {
   "cell_type": "code",
   "execution_count": null,
   "id": "ec029ff1-6108-45f0-bef6-701d19e30c0c",
   "metadata": {},
   "outputs": [],
   "source": [
    "srag = srag.withColumn(\n",
    "    'DT_EVOLUCA',\n",
    "    F.when(\n",
    "        F.col('DT_EVOLUCA').isNull(),\n",
    "        F.col('DT_ENCERRA')\n",
    "    ).otherwise(F.col('DT_EVOLUCA'))\n",
    ")\n",
    "\n",
    "srag = srag.withColumn(\n",
    "    'DT_EVOLUCA',\n",
    "    F.when(\n",
    "        F.col('DT_EVOLUCA').isNull(),\n",
    "        F.col('DT_ENCERRA')\n",
    "    ).otherwise(F.col('DT_SAIDUTI'))\n",
    ")"
   ]
  },
  {
   "cell_type": "code",
   "execution_count": null,
   "id": "1d3f58e4-68a2-48ea-8174-b0ed7bbfc046",
   "metadata": {},
   "outputs": [],
   "source": [
    "data = [ col for col in df.columns if col.startswith('DT_') ]\n",
    "data.append('DOSE_1_COV')\n",
    "data.append('DOSE_2_COV')"
   ]
  },
  {
   "cell_type": "code",
   "execution_count": null,
   "id": "b1739e10-74c9-48bd-ad5c-8fb2996c0e15",
   "metadata": {},
   "outputs": [],
   "source": [
    "for col in data:\n",
    "    srag = srag.withColumn(\n",
    "        col,\n",
    "        F.when(\n",
    "            F.col(col).isNotNull(), \n",
    "            F.to_date(col, 'dd/MM/yyyy')\n",
    "        ).otherwise(F.col(col))\n",
    "    )"
   ]
  },
  {
   "cell_type": "code",
   "execution_count": null,
   "id": "6f630431-fadf-4cc7-841f-6e989c2ea88e",
   "metadata": {},
   "outputs": [],
   "source": [
    "srag = srag.withColumn(\n",
    "    'date',\n",
    "    F.when(\n",
    "        F.col('DT_SIN_PRI').isNotNull(), \n",
    "        F.col('DT_SIN_PRI')\n",
    "    ).when(\n",
    "        F.col('DT_SIN_PRI').isNull(),\n",
    "        F.when(\n",
    "            F.col('DT_COLETA').isNotNull(),\n",
    "            F.col('DT_COLETA')\n",
    "        ).when(\n",
    "            F.col('DT_COLETA').isNull(),\n",
    "            F.col('DT_PCR')\n",
    "        ).when(\n",
    "            F.col('DT_NOTIFIC').isNotNull(),\n",
    "            F.col('DT_NOTIFIC')\n",
    "        )\n",
    "    )\n",
    ")"
   ]
  },
  {
   "cell_type": "code",
   "execution_count": null,
   "id": "b0717193-ecdc-422d-baca-e88fad69691c",
   "metadata": {},
   "outputs": [],
   "source": [
    "srag = srag.withColumn('newCases_SRAG', F.when(F.col('CLASSI_FIN') == 5, F.lit(1)))"
   ]
  },
  {
   "cell_type": "code",
   "execution_count": null,
   "id": "7d97f172-23ce-492b-9529-c7c55540de71",
   "metadata": {},
   "outputs": [],
   "source": [
    "srag = srag.withColumn(\n",
    "    'new_des_SRAG',\n",
    "    F.when(\n",
    "        (F.col('CLASSI_FIN') == 1) |\n",
    "        (F.col('CLASSI_FIN') == 2) |\n",
    "        (F.col('CLASSI_FIN') == 3),\n",
    "        F.lit(1)\n",
    "    )\n",
    ")"
   ]
  },
  {
   "cell_type": "code",
   "execution_count": null,
   "id": "387bc40a-7119-4935-9834-df81bdd5f444",
   "metadata": {},
   "outputs": [],
   "source": [
    "srag = srag.withColumn(\n",
    "    'new_undefined_SRAG',\n",
    "    F.when(\n",
    "        (F.col('CLASSI_FIN') == 4) | \n",
    "        (F.col('CLASSI_FIN').isNull()),\n",
    "        F.lit(1)\n",
    "    )\n",
    ")"
   ]
  },
  {
   "cell_type": "code",
   "execution_count": null,
   "id": "f864ada2-f671-40f5-9e92-7b585aaf648a",
   "metadata": {},
   "outputs": [],
   "source": [
    "srag = srag.withColumn(\n",
    "    'newDeath_SRAG',\n",
    "    F.when(\n",
    "        (F.col('newCases_SRAG').isNotNull()) &\n",
    "        (F.col('EVOLUCAO') == 2),\n",
    "        F.lit(1)\n",
    "    )\n",
    ")\n",
    "\n",
    "srag = srag.withColumn(\n",
    "    'newDeath_des_SRAG',\n",
    "    F.when(\n",
    "        (F.col('new_des_SRAG').isNotNull()) &\n",
    "        (F.col('EVOLUCAO') == 2),\n",
    "        F.lit(1)\n",
    "    )\n",
    ")\n",
    "\n",
    "srag = srag.withColumn(\n",
    "    'newDeath_undefined_SRAG',\n",
    "    F.when(\n",
    "        (F.col('new_undefined_SRAG').isNotNull()) &\n",
    "        (F.col('EVOLUCAO') == 2),\n",
    "        F.lit(1)\n",
    "    )\n",
    ")"
   ]
  },
  {
   "cell_type": "code",
   "execution_count": null,
   "id": "43e71de2-d513-49fb-8ad7-98377713b2d8",
   "metadata": {},
   "outputs": [],
   "source": [
    "srag = srag.withColumn(\n",
    "    'new_recovered_SRAG',\n",
    "    F.when(\n",
    "        (F.col('newCases_SRAG').isNotNull()) &\n",
    "        (F.col('EVOLUCAO') == 1),\n",
    "        F.lit(1)\n",
    "    )\n",
    ").withColumn(\n",
    "    'new_recovered_des_SRAG',\n",
    "    F.when(\n",
    "        (F.col('new_des_SRAG').isNotNull()) &\n",
    "        (F.col('EVOLUCAO') == 1),\n",
    "        F.lit(1)\n",
    "    )\n",
    ").withColumn(\n",
    "    'new_recovered_undefined_SRAG',\n",
    "    F.when(\n",
    "        (F.col('new_undefined_SRAG').isNotNull()) &\n",
    "        (F.col('EVOLUCAO') == 1),\n",
    "        F.lit(1)\n",
    "    )\n",
    ")"
   ]
  },
  {
   "cell_type": "code",
   "execution_count": null,
   "id": "448c7214-50d8-4913-8e02-13114ecf12ab",
   "metadata": {},
   "outputs": [],
   "source": [
    "srag = srag.withColumn(\n",
    "    'num_ind_vac_SRAG',\n",
    "    F.when(\n",
    "        F.col('VACINA_COV') == 1,\n",
    "        F.lit(1)\n",
    "    )\n",
    ")"
   ]
  },
  {
   "cell_type": "code",
   "execution_count": null,
   "id": "a1c4974c-e9da-42b5-91a2-dbea33cd4821",
   "metadata": {},
   "outputs": [],
   "source": [
    "srag = srag.withColumn(\n",
    "    'num_ind_incom_vac_SRAG',\n",
    "    F.when(\n",
    "        (F.col('DOSE_1_COV').isNotNull()) &\n",
    "        (F.col('DOSE_2_COV').isNull()) &\n",
    "        (F.col('num_ind_vac_SRAG').isNotNull()) &\n",
    "        (F.col('vac_number') != 3),\n",
    "        F.lit(1)\n",
    "    )\n",
    ")"
   ]
  },
  {
   "cell_type": "code",
   "execution_count": null,
   "id": "c06d335f-77dd-45e9-a8a4-ee7dbe216d95",
   "metadata": {},
   "outputs": [],
   "source": [
    "srag = srag.withColumn(\n",
    "    'num_ind_com_vac_SRAG',\n",
    "    F.when(\n",
    "        ((F.col('DOSE_1_COV').isNotNull()) &\n",
    "        (F.col('DOSE_2_COV').isNotNull()) &\n",
    "        (F.col('num_ind_vac_SRAG').isNotNull())) |\n",
    "        (F.col('vac_number') == 3),\n",
    "        F.lit(1)\n",
    "    )\n",
    ")"
   ]
  },
  {
   "cell_type": "code",
   "execution_count": null,
   "id": "262d349d-42c8-4463-ac9d-5831e470af1e",
   "metadata": {},
   "outputs": [],
   "source": [
    "sra = gsra.withColumn('comp', F.lit('2022-04-19'))"
   ]
  },
  {
   "cell_type": "code",
   "execution_count": null,
   "id": "e93a191e-41af-40e1-a1e8-598164208a6f",
   "metadata": {},
   "outputs": [],
   "source": [
    "srag = srag.withColumn(\n",
    "    'num_ind_incom_delay_less2_vac_SRAG',\n",
    "    F.when(\n",
    "        F.col('num_ind_incom_vac_SRAG').isNotNull(),\n",
    "        F.when(\n",
    "            F.months_between(F.col('comp'), F.col('DOSE_1_COV')) < 2,\n",
    "            F.lit(1)\n",
    "        )        \n",
    "    )\n",
    ").withColumn(\n",
    "    'num_ind_incom_delay_2_6_vac_SRAG',\n",
    "    F.when(\n",
    "        F.col('num_ind_incom_vac_SRAG').isNotNull(),\n",
    "        F.when(\n",
    "            (F.months_between(F.col('comp'), F.col('DOSE_1_COV')) >= 2) &\n",
    "            (F.months_between(F.col('comp'), F.col('DOSE_1_COV')) < 6),\n",
    "            F.lit(1)\n",
    "        )        \n",
    "    )\n",
    ").withColumn(\n",
    "    'num_ind_incom_delay_more6_vac_SRAG',\n",
    "    F.when(\n",
    "        F.col('num_ind_incom_vac_SRAG').isNotNull(),\n",
    "        F.when(\n",
    "            F.months_between(F.col('comp'), F.col('DOSE_1_COV')) >= 6,\n",
    "            F.lit(1)\n",
    "        )        \n",
    "    )\n",
    ")"
   ]
  },
  {
   "cell_type": "code",
   "execution_count": null,
   "id": "cdb5af85-6049-4407-ae46-d745bf5208ac",
   "metadata": {},
   "outputs": [],
   "source": [
    "srag = srag.withColumn(\n",
    "    'num_dose_sec_uni_delay_less2_vac_SRAG',\n",
    "    F.when(\n",
    "        F.col('num_ind_com_vac_SRAG').isNotNull(),\n",
    "        F.when(\n",
    "            F.col('DOSE_2_COV').isNotNull(),\n",
    "            F.when(\n",
    "                F.months_between(F.col('comp'), F.col('DOSE_2_COV')) < 2,\n",
    "                F.lit(1)\n",
    "            ).when(\n",
    "                F.col('DOSE_2_COV').isNull(),\n",
    "                F.when(\n",
    "                    F.col('DOSE_1_COV').isNotNull(),\n",
    "                    F.when(\n",
    "                        F.months_between(F.col('comp'), F.col('DOSE_1_COV')) < 2,\n",
    "                        F.lit(1)\n",
    "                    )\n",
    "                )\n",
    "            )\n",
    "        )\n",
    "    )\n",
    "\n",
    ").withColumn(\n",
    "    'num_dose_sec_uni_delay_2_6_vac_SRAG',\n",
    "    F.when(\n",
    "        F.col('num_ind_com_vac_SRAG').isNotNull(),\n",
    "        F.when(\n",
    "            F.col('DOSE_2_COV').isNotNull(),\n",
    "            F.when(\n",
    "                (F.months_between(F.col('comp'), F.col('DOSE_2_COV')) >= 2) &\n",
    "                (F.months_between(F.col('comp'), F.col('DOSE_2_COV')) < 6),\n",
    "                F.lit(1)\n",
    "            ).when(\n",
    "                F.col('DOSE_2_COV').isNull(),\n",
    "                F.when(\n",
    "                    F.col('DOSE_1_COV').isNotNull(),\n",
    "                    F.when(\n",
    "                        (F.months_between(F.col('comp'), F.col('DOSE_2_COV')) >= 2) &\n",
    "                        (F.months_between(F.col('comp'), F.col('DOSE_2_COV')) < 6),\n",
    "                        F.lit(1)\n",
    "                    )\n",
    "                )\n",
    "            )\n",
    "        )\n",
    "    )\n",
    ").withColumn(\n",
    "    'num_dose_sec_uni_delay_more6_vac_SRAG',\n",
    "    F.when(\n",
    "        F.col('num_ind_com_vac_SRAG').isNotNull(),\n",
    "        F.when(\n",
    "            F.col('DOSE_2_COV').isNotNull(),\n",
    "            F.when(\n",
    "                F.months_between(F.col('comp'), F.col('DOSE_2_COV')) >= 6,\n",
    "                F.lit(1)\n",
    "            ).when(\n",
    "                F.col('DOSE_2_COV').isNull(),\n",
    "                F.when(\n",
    "                    F.col('DOSE_1_COV').isNotNull(),\n",
    "                    F.when(\n",
    "                        F.months_between(F.col('comp'), F.col('DOSE_1_COV')) >= 6,\n",
    "                        F.lit(1)\n",
    "                    )\n",
    "                )\n",
    "            )\n",
    "        )\n",
    "    )\n",
    ")"
   ]
  },
  {
   "cell_type": "code",
   "execution_count": null,
   "id": "f3d7e64a-ded3-49fa-a736-c0e7580421cf",
   "metadata": {},
   "outputs": [],
   "source": [
    "srag = srag.withColumn(\n",
    "    'ocu_ICU_SRAG',\n",
    "    F.when(\n",
    "        (F.col('newCases_SRAG').isNotNull()) &\n",
    "        (F.col('UTI') == 1),\n",
    "        F.lit(1)\n",
    "    )\n",
    ")"
   ]
  },
  {
   "cell_type": "code",
   "execution_count": null,
   "id": "174527e8-b857-41e1-9105-9d84cec7918a",
   "metadata": {},
   "outputs": [],
   "source": [
    "srag = srag.withColumn(\n",
    "    'ocup_clinc_SRAG',\n",
    "    F.when(\n",
    "        (F.col('newCases_SRAG').isNotNull()) &\n",
    "        (F.col('UTI') == 2),\n",
    "        F.lit(1)\n",
    "    )\n",
    ")"
   ]
  },
  {
   "cell_type": "code",
   "execution_count": null,
   "id": "98e0255c-4d7e-4729-9db9-cc31d2af7457",
   "metadata": {},
   "outputs": [],
   "source": [
    "srag = srag.withColumn(\n",
    "    'newDeath_clinc_SRAG',\n",
    "    F.when(\n",
    "        (F.col('newCases_SRAG').isNotNull()) &\n",
    "        (F.col('UTI') == 2) &\n",
    "        (F.col('EVOLUCAO') == 2),\n",
    "        F.lit(1)\n",
    "    )\n",
    ").withColumn(\n",
    "    'newDeath_UTI_SRAG',\n",
    "    F.when(\n",
    "        (F.col('newCases_SRAG').isNotNull()) &\n",
    "        (F.col('UTI') == 1) &\n",
    "        (F.col('EVOLUCAO') == 2),\n",
    "        F.lit(1)\n",
    "    )\n",
    ")"
   ]
  },
  {
   "cell_type": "code",
   "execution_count": null,
   "id": "91f55e11-6a20-4d06-ac9f-dc7cfb707f14",
   "metadata": {},
   "outputs": [],
   "source": [
    "srag = srag.withColumn(\n",
    "    'newDeath_recovered_SRAG',\n",
    "    F.when(\n",
    "        (F.col('newCases_SRAG').isNotNull()) &\n",
    "        (F.col('UTI') == 2) &\n",
    "        (F.col('EVOLUCAO') == 1),\n",
    "        F.lit(1)\n",
    "    )\n",
    ").withColumn(\n",
    "    'newDeath_recovered_UTI_SRAG',\n",
    "    F.when(\n",
    "        (F.col('newCases_SRAG').isNotNull()) &\n",
    "        (F.col('UTI') == 1) &\n",
    "        (F.col('EVOLUCAO') == 1),\n",
    "        F.lit(1)\n",
    "    )\n",
    ")"
   ]
  },
  {
   "cell_type": "code",
   "execution_count": null,
   "id": "61865997-ff8e-419d-ab37-fcbc00ed3059",
   "metadata": {},
   "outputs": [],
   "source": [
    "srag = srag.withColumn(\n",
    "    'CO_MUN_RES',\n",
    "    F.when(\n",
    "        F.col('CO_MUN_RES').isNull(),\n",
    "        F.col('CO_MUN_NOT')\n",
    "    ).otherwise(F.col('CO_MUN_RES'))\n",
    ").withColumnRenamed('CO_MUN_RES', 'code_mun_ibge')"
   ]
  },
  {
   "cell_type": "code",
   "execution_count": null,
   "id": "8dbc9d85-dd3e-44d8-9857-ddb8185df5bb",
   "metadata": {},
   "outputs": [],
   "source": [
    "columns = [\n",
    "    'newDeath_recovered_UTI_SRAG',\n",
    "     'newDeath_recovered_SRAG',\n",
    "     'newDeath_UTI_SRAG',\n",
    "     'newDeath_clinc_SRAG',\n",
    "     'ocup_clinc_SRAG',\n",
    "     'ocu_ICU_SRAG',\n",
    "     'num_dose_sec_uni_delay_more6_vac_SRAG',\n",
    "     'num_dose_sec_uni_delay_2_6_vac_SRAG',\n",
    "     'num_dose_sec_uni_delay_less2_vac_SRAG',\n",
    "     'num_ind_incom_delay_more6_vac_SRAG',\n",
    "     'num_ind_incom_delay_2_6_vac_SRAG',\n",
    "     'num_ind_incom_delay_less2_vac_SRAG',\n",
    "     'num_ind_com_vac_SRAG',\n",
    "     'num_ind_incom_vac_SRAG',\n",
    "     'num_ind_vac_SRAG',\n",
    "     'new_recovered_undefined_SRAG',\n",
    "     'new_recovered_des_SRAG',\n",
    "     'new_recovered_SRAG',\n",
    "     'newDeath_undefined_SRAG',\n",
    "     'newDeath_des_SRAG',\n",
    "     'newDeath_SRAG',\n",
    "     'new_undefined_SRAG',\n",
    "     'new_des_SRAG',\n",
    "     'newCases_SRAG'\n",
    "]"
   ]
  },
  {
   "cell_type": "code",
   "execution_count": null,
   "id": "8f6c387f-4cdf-479f-83c0-79d18a068d70",
   "metadata": {},
   "outputs": [],
   "source": [
    "srag.groupby('date', 'code_mun_ibge') \\\n",
    ".agg(\n",
    "    *[F.count(c).alias(c) for c in columns],\n",
    "    F.sum('ocu_ICU_SRAG').alias('num_ind_UTI_SRAG'),\n",
    "    F.sum('ocup_clinc_SRAG').alias('num_ind_clin_SRAG')\n",
    ").filter(F.col('date') >= '2020-01-01') \\\n",
    ".orderBy('date') \\\n",
    ".write.csv(os.path.join(ouput_dir, 'srag'), header=True, mode='overwrite')"
   ]
  },
  {
   "cell_type": "markdown",
   "id": "1a1e51a7-1176-4651-968a-473ac45f4510",
   "metadata": {},
   "source": [
    "### Wesley Cota"
   ]
  },
  {
   "cell_type": "code",
   "execution_count": null,
   "id": "485a9090-2d08-4129-9690-7089240645d4",
   "metadata": {},
   "outputs": [],
   "source": [
    "wcota = spark.read.csv(os.path.join(datalake, 'wcota'), header=True)"
   ]
  },
  {
   "cell_type": "code",
   "execution_count": null,
   "id": "a6a26766-3854-4089-bb0a-cc639160ef01",
   "metadata": {},
   "outputs": [],
   "source": [
    "wcota = df.withColumnRenamed('ibgeID', 'code_mun_ibge')"
   ]
  },
  {
   "cell_type": "code",
   "execution_count": null,
   "id": "baaaed5f-7166-4709-8c07-1894718abf88",
   "metadata": {},
   "outputs": [],
   "source": [
    "columns = ['date', 'code_mun_ibge', 'newDeaths', 'deaths', 'newCases', 'totalCases']"
   ]
  },
  {
   "cell_type": "code",
   "execution_count": null,
   "id": "37e4d23b-b545-4b5f-a2bc-a208b9288988",
   "metadata": {},
   "outputs": [],
   "source": [
    "wcota.select(columns) \\\n",
    "    .where(F.col('code_mun_ibge') != 0) \\\n",
    "    .filter(\n",
    "        (F.col('date') >= '2020-01-01') &\n",
    "        (F.col('date') <= '2022-04-19')\n",
    "    ).orderBy('date').write.csv(\n",
    "        os.path.join(output_dir, 'wcota'),\n",
    "        header=True, mode='overwrite'\n",
    "    )"
   ]
  }
 ],
 "metadata": {
  "kernelspec": {
   "display_name": "Python 3 (ipykernel)",
   "language": "python",
   "name": "python3"
  },
  "language_info": {
   "codemirror_mode": {
    "name": "ipython",
    "version": 3
   },
   "file_extension": ".py",
   "mimetype": "text/x-python",
   "name": "python",
   "nbconvert_exporter": "python",
   "pygments_lexer": "ipython3",
   "version": "3.10.4"
  },
  "toc-autonumbering": false,
  "toc-showcode": false,
  "toc-showmarkdowntxt": false
 },
 "nbformat": 4,
 "nbformat_minor": 5
}
