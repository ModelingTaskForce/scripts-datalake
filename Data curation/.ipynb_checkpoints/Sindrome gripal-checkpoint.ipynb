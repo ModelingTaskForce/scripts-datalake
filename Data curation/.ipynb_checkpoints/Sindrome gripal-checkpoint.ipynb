{
 "cells": [
  {
   "cell_type": "code",
   "execution_count": 49,
   "metadata": {},
   "outputs": [],
   "source": [
    "import os\n",
    "from datetime import date\n",
    "import functools\n",
    "from IPython.core.display import display, HTML\n",
    "import findspark\n",
    "findspark.init()\n",
    "from pyspark.sql import SparkSession\n",
    "import pyspark.sql.functions as F\n",
    "import pyspark.sql.types as T\n",
    "\n",
    "from funcoes import union_all"
   ]
  },
  {
   "cell_type": "code",
   "execution_count": 50,
   "metadata": {},
   "outputs": [],
   "source": [
    "# aumentando a largura do notebook"
   ]
  },
  {
   "cell_type": "code",
   "execution_count": 51,
   "metadata": {},
   "outputs": [
    {
     "data": {
      "text/html": [
       "<style>.container { width:100% !important; }</style>"
      ],
      "text/plain": [
       "<IPython.core.display.HTML object>"
      ]
     },
     "metadata": {},
     "output_type": "display_data"
    }
   ],
   "source": [
    "display(HTML(\"<style>.container { width:100% !important; }</style>\"))"
   ]
  },
  {
   "cell_type": "code",
   "execution_count": 52,
   "metadata": {},
   "outputs": [],
   "source": [
    "# iniciando spark"
   ]
  },
  {
   "cell_type": "code",
   "execution_count": 53,
   "metadata": {},
   "outputs": [],
   "source": [
    "spark = SparkSession.builder.appName('Sindrome Gripal').getOrCreate()"
   ]
  },
  {
   "cell_type": "code",
   "execution_count": 54,
   "metadata": {},
   "outputs": [],
   "source": [
    "# criando lista de dataframes"
   ]
  },
  {
   "cell_type": "code",
   "execution_count": 77,
   "metadata": {},
   "outputs": [],
   "source": [
    "dfs = [spark.read.csv(os.path.join(os.path.expanduser('~/Área de Trabalho/analises/sindrome_gripal_bruto/'), x), header=True, sep=';') for x in os.listdir('./sindrome_gripal_bruto/') if x.startswith('dados_utf8')]"
   ]
  },
  {
   "cell_type": "code",
   "execution_count": 8,
   "metadata": {},
   "outputs": [],
   "source": [
    "# contando arquivos carregados corretamente"
   ]
  },
  {
   "cell_type": "code",
   "execution_count": 9,
   "metadata": {},
   "outputs": [
    {
     "name": "stdout",
     "output_type": "stream",
     "text": [
      "53\n"
     ]
    }
   ],
   "source": [
    "print(len(dfs))"
   ]
  },
  {
   "cell_type": "code",
   "execution_count": 10,
   "metadata": {},
   "outputs": [],
   "source": [
    "# concatenando em um unico dataframe - Esse método evita o deslocamento dos valores, caso o número de colunas seja diferente entre os arquivos"
   ]
  },
  {
   "cell_type": "code",
   "execution_count": 209,
   "metadata": {},
   "outputs": [],
   "source": [
    "df = union_all(dfs)"
   ]
  },
  {
   "cell_type": "code",
   "execution_count": 12,
   "metadata": {},
   "outputs": [
    {
     "name": "stdout",
     "output_type": "stream",
     "text": [
      "['cbo', 'classificacaoFinal', 'cnes', 'condicoes', 'dataEncerramento', 'dataInicioSintomas', 'dataNascimento', 'dataNotificacao', 'dataTeste', 'estado', 'estadoIBGE', 'estadoNotificacao', 'estadoNotificacaoIBGE', 'estadoTeste', 'evolucaoCaso', 'excluido', 'idade', 'municipio', 'municipioIBGE', 'municipioNotificacao', 'municipioNotificacaoIBGE', 'origem', 'paisOrigem', 'profissionalSaude', 'resultadoTeste', 'sexo', 'sintomas', 'tipoTeste', 'validado', 'ÿid']\n"
     ]
    }
   ],
   "source": [
    "print(df.columns)"
   ]
  },
  {
   "cell_type": "code",
   "execution_count": 13,
   "metadata": {},
   "outputs": [],
   "source": [
    "# uma pequena amostra dos dados"
   ]
  },
  {
   "cell_type": "code",
   "execution_count": 14,
   "metadata": {},
   "outputs": [
    {
     "data": {
      "text/html": [
       "<div>\n",
       "<style scoped>\n",
       "    .dataframe tbody tr th:only-of-type {\n",
       "        vertical-align: middle;\n",
       "    }\n",
       "\n",
       "    .dataframe tbody tr th {\n",
       "        vertical-align: top;\n",
       "    }\n",
       "\n",
       "    .dataframe thead th {\n",
       "        text-align: right;\n",
       "    }\n",
       "</style>\n",
       "<table border=\"1\" class=\"dataframe\">\n",
       "  <thead>\n",
       "    <tr style=\"text-align: right;\">\n",
       "      <th></th>\n",
       "      <th>cbo</th>\n",
       "      <th>classificacaoFinal</th>\n",
       "      <th>cnes</th>\n",
       "      <th>condicoes</th>\n",
       "      <th>dataEncerramento</th>\n",
       "      <th>dataInicioSintomas</th>\n",
       "      <th>dataNascimento</th>\n",
       "      <th>dataNotificacao</th>\n",
       "      <th>dataTeste</th>\n",
       "      <th>estado</th>\n",
       "      <th>...</th>\n",
       "      <th>municipioNotificacaoIBGE</th>\n",
       "      <th>origem</th>\n",
       "      <th>paisOrigem</th>\n",
       "      <th>profissionalSaude</th>\n",
       "      <th>resultadoTeste</th>\n",
       "      <th>sexo</th>\n",
       "      <th>sintomas</th>\n",
       "      <th>tipoTeste</th>\n",
       "      <th>validado</th>\n",
       "      <th>ÿid</th>\n",
       "    </tr>\n",
       "  </thead>\n",
       "  <tbody>\n",
       "    <tr>\n",
       "      <th>0</th>\n",
       "      <td>null</td>\n",
       "      <td>None</td>\n",
       "      <td>0</td>\n",
       "      <td>null</td>\n",
       "      <td>None</td>\n",
       "      <td>2020-04-13T04:00:00.000Z</td>\n",
       "      <td>undefined</td>\n",
       "      <td>2020-04-18T06:11:30.514Z</td>\n",
       "      <td>null</td>\n",
       "      <td>AMAZONAS</td>\n",
       "      <td>...</td>\n",
       "      <td>1302603</td>\n",
       "      <td>undefined</td>\n",
       "      <td>undefined</td>\n",
       "      <td>Não</td>\n",
       "      <td>null</td>\n",
       "      <td>Feminino</td>\n",
       "      <td>Dor de Garganta, Tosse, Dispneia</td>\n",
       "      <td>null</td>\n",
       "      <td>undefined</td>\n",
       "      <td>3oCCp7rbM8</td>\n",
       "    </tr>\n",
       "    <tr>\n",
       "      <th>1</th>\n",
       "      <td>null</td>\n",
       "      <td>None</td>\n",
       "      <td>0</td>\n",
       "      <td>null</td>\n",
       "      <td>None</td>\n",
       "      <td>2020-04-18T04:00:00.000Z</td>\n",
       "      <td>undefined</td>\n",
       "      <td>2020-04-18T06:16:47.679Z</td>\n",
       "      <td>null</td>\n",
       "      <td>AMAZONAS</td>\n",
       "      <td>...</td>\n",
       "      <td>1302603</td>\n",
       "      <td>undefined</td>\n",
       "      <td>undefined</td>\n",
       "      <td>Não</td>\n",
       "      <td>null</td>\n",
       "      <td>Masculino</td>\n",
       "      <td>Febre, Dispneia, Tosse</td>\n",
       "      <td>null</td>\n",
       "      <td>undefined</td>\n",
       "      <td>T8J34m4L3J</td>\n",
       "    </tr>\n",
       "    <tr>\n",
       "      <th>2</th>\n",
       "      <td>225 - Médico</td>\n",
       "      <td>None</td>\n",
       "      <td>0</td>\n",
       "      <td>null</td>\n",
       "      <td>None</td>\n",
       "      <td>2020-04-09T04:00:00.000Z</td>\n",
       "      <td>undefined</td>\n",
       "      <td>2020-04-18T13:07:58.014Z</td>\n",
       "      <td>2020-04-15T04:00:00.000Z</td>\n",
       "      <td>AMAZONAS</td>\n",
       "      <td>...</td>\n",
       "      <td>1302603</td>\n",
       "      <td>undefined</td>\n",
       "      <td>undefined</td>\n",
       "      <td>Sim</td>\n",
       "      <td>Positivo</td>\n",
       "      <td>Feminino</td>\n",
       "      <td>Outros, Tosse, Dor de Garganta</td>\n",
       "      <td>RT-PCR</td>\n",
       "      <td>undefined</td>\n",
       "      <td>6tGpdl676k</td>\n",
       "    </tr>\n",
       "    <tr>\n",
       "      <th>3</th>\n",
       "      <td>null</td>\n",
       "      <td>None</td>\n",
       "      <td>0</td>\n",
       "      <td>null</td>\n",
       "      <td>None</td>\n",
       "      <td>2020-04-10T04:00:00.000Z</td>\n",
       "      <td>undefined</td>\n",
       "      <td>2020-04-17T04:00:00.000Z</td>\n",
       "      <td>null</td>\n",
       "      <td>AMAZONAS</td>\n",
       "      <td>...</td>\n",
       "      <td>1302603</td>\n",
       "      <td>undefined</td>\n",
       "      <td>undefined</td>\n",
       "      <td>Não</td>\n",
       "      <td>null</td>\n",
       "      <td>Masculino</td>\n",
       "      <td>Dispneia, Febre, Tosse</td>\n",
       "      <td>null</td>\n",
       "      <td>undefined</td>\n",
       "      <td>MTSyf9bwba</td>\n",
       "    </tr>\n",
       "    <tr>\n",
       "      <th>4</th>\n",
       "      <td>null</td>\n",
       "      <td>None</td>\n",
       "      <td>0</td>\n",
       "      <td>Doenças cardíacas crônicas</td>\n",
       "      <td>None</td>\n",
       "      <td>2020-04-11T05:00:00.000Z</td>\n",
       "      <td>undefined</td>\n",
       "      <td>2020-04-18T15:13:52.281Z</td>\n",
       "      <td>null</td>\n",
       "      <td>AMAZONAS</td>\n",
       "      <td>...</td>\n",
       "      <td>1304062</td>\n",
       "      <td>undefined</td>\n",
       "      <td>undefined</td>\n",
       "      <td>Não</td>\n",
       "      <td>null</td>\n",
       "      <td>Masculino</td>\n",
       "      <td>Febre, Tosse</td>\n",
       "      <td>null</td>\n",
       "      <td>undefined</td>\n",
       "      <td>wEFtLYscQo</td>\n",
       "    </tr>\n",
       "  </tbody>\n",
       "</table>\n",
       "<p>5 rows × 30 columns</p>\n",
       "</div>"
      ],
      "text/plain": [
       "            cbo classificacaoFinal cnes                   condicoes  \\\n",
       "0          null               None    0                        null   \n",
       "1          null               None    0                        null   \n",
       "2  225 - Médico               None    0                        null   \n",
       "3          null               None    0                        null   \n",
       "4          null               None    0  Doenças cardíacas crônicas   \n",
       "\n",
       "  dataEncerramento        dataInicioSintomas dataNascimento  \\\n",
       "0             None  2020-04-13T04:00:00.000Z      undefined   \n",
       "1             None  2020-04-18T04:00:00.000Z      undefined   \n",
       "2             None  2020-04-09T04:00:00.000Z      undefined   \n",
       "3             None  2020-04-10T04:00:00.000Z      undefined   \n",
       "4             None  2020-04-11T05:00:00.000Z      undefined   \n",
       "\n",
       "            dataNotificacao                 dataTeste    estado  ...  \\\n",
       "0  2020-04-18T06:11:30.514Z                      null  AMAZONAS  ...   \n",
       "1  2020-04-18T06:16:47.679Z                      null  AMAZONAS  ...   \n",
       "2  2020-04-18T13:07:58.014Z  2020-04-15T04:00:00.000Z  AMAZONAS  ...   \n",
       "3  2020-04-17T04:00:00.000Z                      null  AMAZONAS  ...   \n",
       "4  2020-04-18T15:13:52.281Z                      null  AMAZONAS  ...   \n",
       "\n",
       "  municipioNotificacaoIBGE     origem paisOrigem profissionalSaude  \\\n",
       "0                  1302603  undefined  undefined               Não   \n",
       "1                  1302603  undefined  undefined               Não   \n",
       "2                  1302603  undefined  undefined               Sim   \n",
       "3                  1302603  undefined  undefined               Não   \n",
       "4                  1304062  undefined  undefined               Não   \n",
       "\n",
       "  resultadoTeste       sexo                          sintomas tipoTeste  \\\n",
       "0           null   Feminino  Dor de Garganta, Tosse, Dispneia      null   \n",
       "1           null  Masculino            Febre, Dispneia, Tosse      null   \n",
       "2       Positivo   Feminino    Outros, Tosse, Dor de Garganta    RT-PCR   \n",
       "3           null  Masculino            Dispneia, Febre, Tosse      null   \n",
       "4           null  Masculino                      Febre, Tosse      null   \n",
       "\n",
       "    validado         ÿid  \n",
       "0  undefined  3oCCp7rbM8  \n",
       "1  undefined  T8J34m4L3J  \n",
       "2  undefined  6tGpdl676k  \n",
       "3  undefined  MTSyf9bwba  \n",
       "4  undefined  wEFtLYscQo  \n",
       "\n",
       "[5 rows x 30 columns]"
      ]
     },
     "execution_count": 14,
     "metadata": {},
     "output_type": "execute_result"
    }
   ],
   "source": [
    "df.limit(5).toPandas()"
   ]
  },
  {
   "cell_type": "code",
   "execution_count": 15,
   "metadata": {},
   "outputs": [
    {
     "name": "stdout",
     "output_type": "stream",
     "text": [
      "total de linhas: 49010408\n"
     ]
    }
   ],
   "source": [
    "print(f'total de linhas: {df.count()}')"
   ]
  },
  {
   "cell_type": "code",
   "execution_count": 16,
   "metadata": {},
   "outputs": [
    {
     "name": "stdout",
     "output_type": "stream",
     "text": [
      "numero de colunas: 30\n"
     ]
    }
   ],
   "source": [
    "print(f'numero de colunas: {len(df.columns)}')"
   ]
  },
  {
   "cell_type": "code",
   "execution_count": 57,
   "metadata": {},
   "outputs": [
    {
     "name": "stdout",
     "output_type": "stream",
     "text": [
      "root\n",
      " |-- cbo: string (nullable = true)\n",
      " |-- classificacaoFinal: string (nullable = true)\n",
      " |-- cnes: string (nullable = true)\n",
      " |-- condicoes: string (nullable = true)\n",
      " |-- dataEncerramento: string (nullable = true)\n",
      " |-- dataInicioSintomas: string (nullable = true)\n",
      " |-- dataNascimento: string (nullable = true)\n",
      " |-- dataNotificacao: string (nullable = true)\n",
      " |-- dataTeste: string (nullable = true)\n",
      " |-- estado: string (nullable = true)\n",
      " |-- estadoIBGE: string (nullable = true)\n",
      " |-- estadoNotificacao: string (nullable = true)\n",
      " |-- estadoNotificacaoIBGE: string (nullable = true)\n",
      " |-- estadoTeste: string (nullable = true)\n",
      " |-- evolucaoCaso: string (nullable = true)\n",
      " |-- excluido: string (nullable = true)\n",
      " |-- idade: string (nullable = true)\n",
      " |-- municipio: string (nullable = true)\n",
      " |-- municipioIBGE: string (nullable = true)\n",
      " |-- municipioNotificacao: string (nullable = true)\n",
      " |-- municipioNotificacaoIBGE: string (nullable = true)\n",
      " |-- origem: string (nullable = true)\n",
      " |-- paisOrigem: string (nullable = true)\n",
      " |-- profissionalSaude: string (nullable = true)\n",
      " |-- resultadoTeste: string (nullable = true)\n",
      " |-- sexo: string (nullable = true)\n",
      " |-- sintomas: string (nullable = true)\n",
      " |-- tipoTeste: string (nullable = true)\n",
      " |-- validado: string (nullable = true)\n",
      " |-- ÿid: string (nullable = true)\n",
      "\n"
     ]
    }
   ],
   "source": [
    "df.printSchema()"
   ]
  },
  {
   "cell_type": "code",
   "execution_count": 18,
   "metadata": {},
   "outputs": [],
   "source": [
    "# contagem dos nulls / nan"
   ]
  },
  {
   "cell_type": "code",
   "execution_count": 19,
   "metadata": {},
   "outputs": [
    {
     "data": {
      "text/html": [
       "<div>\n",
       "<style scoped>\n",
       "    .dataframe tbody tr th:only-of-type {\n",
       "        vertical-align: middle;\n",
       "    }\n",
       "\n",
       "    .dataframe tbody tr th {\n",
       "        vertical-align: top;\n",
       "    }\n",
       "\n",
       "    .dataframe thead th {\n",
       "        text-align: right;\n",
       "    }\n",
       "</style>\n",
       "<table border=\"1\" class=\"dataframe\">\n",
       "  <thead>\n",
       "    <tr style=\"text-align: right;\">\n",
       "      <th></th>\n",
       "      <th>0</th>\n",
       "    </tr>\n",
       "  </thead>\n",
       "  <tbody>\n",
       "    <tr>\n",
       "      <th>cbo</th>\n",
       "      <td>1265059</td>\n",
       "    </tr>\n",
       "    <tr>\n",
       "      <th>classificacaoFinal</th>\n",
       "      <td>25779622</td>\n",
       "    </tr>\n",
       "    <tr>\n",
       "      <th>cnes</th>\n",
       "      <td>0</td>\n",
       "    </tr>\n",
       "    <tr>\n",
       "      <th>condicoes</th>\n",
       "      <td>1158398</td>\n",
       "    </tr>\n",
       "    <tr>\n",
       "      <th>dataEncerramento</th>\n",
       "      <td>29008305</td>\n",
       "    </tr>\n",
       "    <tr>\n",
       "      <th>dataInicioSintomas</th>\n",
       "      <td>0</td>\n",
       "    </tr>\n",
       "    <tr>\n",
       "      <th>dataNascimento</th>\n",
       "      <td>0</td>\n",
       "    </tr>\n",
       "    <tr>\n",
       "      <th>dataNotificacao</th>\n",
       "      <td>0</td>\n",
       "    </tr>\n",
       "    <tr>\n",
       "      <th>dataTeste</th>\n",
       "      <td>0</td>\n",
       "    </tr>\n",
       "    <tr>\n",
       "      <th>estado</th>\n",
       "      <td>1309</td>\n",
       "    </tr>\n",
       "    <tr>\n",
       "      <th>estadoIBGE</th>\n",
       "      <td>0</td>\n",
       "    </tr>\n",
       "    <tr>\n",
       "      <th>estadoNotificacao</th>\n",
       "      <td>99</td>\n",
       "    </tr>\n",
       "    <tr>\n",
       "      <th>estadoNotificacaoIBGE</th>\n",
       "      <td>0</td>\n",
       "    </tr>\n",
       "    <tr>\n",
       "      <th>estadoTeste</th>\n",
       "      <td>528</td>\n",
       "    </tr>\n",
       "    <tr>\n",
       "      <th>evolucaoCaso</th>\n",
       "      <td>27370478</td>\n",
       "    </tr>\n",
       "    <tr>\n",
       "      <th>excluido</th>\n",
       "      <td>0</td>\n",
       "    </tr>\n",
       "    <tr>\n",
       "      <th>idade</th>\n",
       "      <td>0</td>\n",
       "    </tr>\n",
       "    <tr>\n",
       "      <th>municipio</th>\n",
       "      <td>1182</td>\n",
       "    </tr>\n",
       "    <tr>\n",
       "      <th>municipioIBGE</th>\n",
       "      <td>0</td>\n",
       "    </tr>\n",
       "    <tr>\n",
       "      <th>municipioNotificacao</th>\n",
       "      <td>0</td>\n",
       "    </tr>\n",
       "    <tr>\n",
       "      <th>municipioNotificacaoIBGE</th>\n",
       "      <td>0</td>\n",
       "    </tr>\n",
       "    <tr>\n",
       "      <th>origem</th>\n",
       "      <td>0</td>\n",
       "    </tr>\n",
       "    <tr>\n",
       "      <th>paisOrigem</th>\n",
       "      <td>1224762</td>\n",
       "    </tr>\n",
       "    <tr>\n",
       "      <th>profissionalSaude</th>\n",
       "      <td>184729</td>\n",
       "    </tr>\n",
       "    <tr>\n",
       "      <th>resultadoTeste</th>\n",
       "      <td>32</td>\n",
       "    </tr>\n",
       "    <tr>\n",
       "      <th>sexo</th>\n",
       "      <td>0</td>\n",
       "    </tr>\n",
       "    <tr>\n",
       "      <th>sintomas</th>\n",
       "      <td>1856</td>\n",
       "    </tr>\n",
       "    <tr>\n",
       "      <th>tipoTeste</th>\n",
       "      <td>540</td>\n",
       "    </tr>\n",
       "    <tr>\n",
       "      <th>validado</th>\n",
       "      <td>0</td>\n",
       "    </tr>\n",
       "    <tr>\n",
       "      <th>ÿid</th>\n",
       "      <td>0</td>\n",
       "    </tr>\n",
       "  </tbody>\n",
       "</table>\n",
       "</div>"
      ],
      "text/plain": [
       "                                 0\n",
       "cbo                        1265059\n",
       "classificacaoFinal        25779622\n",
       "cnes                             0\n",
       "condicoes                  1158398\n",
       "dataEncerramento          29008305\n",
       "dataInicioSintomas               0\n",
       "dataNascimento                   0\n",
       "dataNotificacao                  0\n",
       "dataTeste                        0\n",
       "estado                        1309\n",
       "estadoIBGE                       0\n",
       "estadoNotificacao               99\n",
       "estadoNotificacaoIBGE            0\n",
       "estadoTeste                    528\n",
       "evolucaoCaso              27370478\n",
       "excluido                         0\n",
       "idade                            0\n",
       "municipio                     1182\n",
       "municipioIBGE                    0\n",
       "municipioNotificacao             0\n",
       "municipioNotificacaoIBGE         0\n",
       "origem                           0\n",
       "paisOrigem                 1224762\n",
       "profissionalSaude           184729\n",
       "resultadoTeste                  32\n",
       "sexo                             0\n",
       "sintomas                      1856\n",
       "tipoTeste                      540\n",
       "validado                         0\n",
       "ÿid                              0"
      ]
     },
     "execution_count": 19,
     "metadata": {},
     "output_type": "execute_result"
    }
   ],
   "source": [
    "df.select([F.count(F.when(F.isnan(c) | F.col(c).isNull(), c)).alias(c) for c in df.columns]).limit(1).toPandas().T"
   ]
  },
  {
   "cell_type": "code",
   "execution_count": 20,
   "metadata": {},
   "outputs": [],
   "source": [
    "# armonizando colunas"
   ]
  },
  {
   "cell_type": "code",
   "execution_count": 210,
   "metadata": {},
   "outputs": [],
   "source": [
    "rename_columns = {\n",
    "    'dataNascimento': 'dt_nasc', 'dataNotificacao': 'dt_ntf', 'dataInicioSintomas': 'dt_sint',\n",
    "    'dataTeste': 'dt_teste', 'tipoTeste': 'tp_teste', 'resultadoTeste': 'res_teste',\n",
    "    'classificacaoFinal': 'class_final', 'evolucaoCaso': 'ev_caso', 'estadoNotificacao': 'est_ntf',\n",
    "}"
   ]
  },
  {
   "cell_type": "code",
   "execution_count": 211,
   "metadata": {},
   "outputs": [],
   "source": [
    "for old_col, new_col in rename_columns.items():\n",
    "    df = df.withColumnRenamed(old_col, new_col)"
   ]
  },
  {
   "cell_type": "code",
   "execution_count": 60,
   "metadata": {},
   "outputs": [
    {
     "name": "stdout",
     "output_type": "stream",
     "text": [
      "+-----------------------------+----------------------------------+--------+\n",
      "|res_teste                    |class_final                       |count   |\n",
      "+-----------------------------+----------------------------------+--------+\n",
      "|null                         |Confirmação Laboratorial          |1       |\n",
      "|Negativo                     |Confirmação Laboratorial          |2       |\n",
      "|null                         |Confirmado por Critério Clínico   |1       |\n",
      "|Negativo                     |Confirmado Clínico-Imagem         |3496    |\n",
      "|Inconclusivo ou Indeterminado|Confirmado Clínico-Epidemiológico |1669    |\n",
      "|null                         |Confirmado Clínico-Epidemiológico |127314  |\n",
      "|Negativo                     |Confirmado Clinico-Imagem         |1       |\n",
      "|Negativo                     |Confirmado Clínico-Epidemiológico |50889   |\n",
      "|null                         |Descartado                        |998474  |\n",
      "|null                         |Confirmado por Critério Clínico   |63696   |\n",
      "|null                         |null                              |21      |\n",
      "|Positivo                     |Confirmado Clínico-Epidemiológico |142047  |\n",
      "|Inconclusivo ou Indeterminado|Confirmado Laboratorial           |4883    |\n",
      "|2020-06-10T00:00:00.000Z     |null                              |1       |\n",
      "|Inconclusivo ou Indeterminado|Confirmado Clínico-Imagem         |83      |\n",
      "|Positivo                     |Sindrome Gripal Nao Especificada  |6       |\n",
      "|Negativo                     |Confirmado por Critério Clínico   |87381   |\n",
      "|null                         |Sindrome Gripal Nao Especificada  |8       |\n",
      "|null                         |Confirmação Clínico Epidemiológico|258     |\n",
      "|null                         |Confirmado Laboratorial           |3       |\n",
      "|null                         |Confirmado Laboratorial           |504092  |\n",
      "|Positivo                     |Síndrome Gripal Não Especificada  |21898   |\n",
      "|Negativo                     |null                              |11239357|\n",
      "|null                         |Confirmado Clínico-Imagem         |6459    |\n",
      "|Positivo                     |Descartado                        |75349   |\n",
      "|Inconclusivo ou Indeterminado|Descartado                        |20490   |\n",
      "|Inconclusivo ou Indeterminado|Síndrome Gripal Não Especificada  |15218   |\n",
      "|Positivo                     |Confirmado Clínico-Imagem         |3204    |\n",
      "|Positivo                     |Confirmado Clinico-Epidemiologico |11      |\n",
      "|Inconclusivo ou Indeterminado|Confirmado por Critério Clínico   |931     |\n",
      "|null                         |Síndrome Gripal Não Especificada  |1       |\n",
      "|Negativo                     |Descartado                        |9368313 |\n",
      "|Negativo                     |Confirmado Laboratorial           |541404  |\n",
      "|Positivo                     |Confirmação Clínico Epidemiológico|1       |\n",
      "|Positivo                     |Confirmado                        |1       |\n",
      "|Negativo                     |Síndrome Gripal Não Especificada  |1609247 |\n",
      "|Inconclusivo ou Indeterminado|null                              |39429   |\n",
      "|null                         |Síndrome Gripal Não Especificada  |770144  |\n",
      "|Positivo                     |Confirmação Laboratorial          |14992   |\n",
      "|Positivo                     |Confirmado por Critério Clínico   |47005   |\n",
      "|Positivo                     |Confirmado Laboratorial           |8751808 |\n",
      "|null                         |Descartado                        |6       |\n",
      "|undefined                    |null                              |2       |\n",
      "|Positivo                     |null                              |4052118 |\n",
      "|null                         |null                              |10448694|\n",
      "+-----------------------------+----------------------------------+--------+\n",
      "\n"
     ]
    }
   ],
   "source": [
    "df.groupby(['res_teste', 'class_final']).count().show(1000, truncate=False)"
   ]
  },
  {
   "cell_type": "code",
   "execution_count": 61,
   "metadata": {},
   "outputs": [],
   "source": [
    "# Verificando categorias e polarizando"
   ]
  },
  {
   "cell_type": "code",
   "execution_count": 62,
   "metadata": {},
   "outputs": [
    {
     "name": "stdout",
     "output_type": "stream",
     "text": [
      "+----------+--------+\n",
      "|      sexo|   count|\n",
      "+----------+--------+\n",
      "|         M|       2|\n",
      "|  Negativo|       1|\n",
      "|  Feminino|25225976|\n",
      "|Indefinido|  118545|\n",
      "| undefined|       2|\n",
      "|      null|    2892|\n",
      "| Masculino|23662990|\n",
      "+----------+--------+\n",
      "\n"
     ]
    }
   ],
   "source": [
    "df.groupby('sexo').count().show()"
   ]
  },
  {
   "cell_type": "code",
   "execution_count": 212,
   "metadata": {},
   "outputs": [],
   "source": [
    "df = df.withColumn('sexo', F.when((df['sexo'] == 'Feminino'), F.lit(1)) \\\n",
    "                   .when((df['sexo'] == 'Masculino') | (df['sexo'] == 'M'), F.lit(2)) \\\n",
    "                   .when((df['sexo'] == 'Indefinido') | (df['sexo'] == 'undefined'), F.lit(9)))"
   ]
  },
  {
   "cell_type": "code",
   "execution_count": 64,
   "metadata": {},
   "outputs": [
    {
     "name": "stdout",
     "output_type": "stream",
     "text": [
      "+----+--------+\n",
      "|sexo|   count|\n",
      "+----+--------+\n",
      "|null|    2893|\n",
      "|   1|25225976|\n",
      "|   9|  118547|\n",
      "|   2|23662992|\n",
      "+----+--------+\n",
      "\n"
     ]
    }
   ],
   "source": [
    "df.groupby('sexo').count().show()"
   ]
  },
  {
   "cell_type": "code",
   "execution_count": 65,
   "metadata": {},
   "outputs": [
    {
     "name": "stdout",
     "output_type": "stream",
     "text": [
      "+----------------------------------+--------+\n",
      "|class_final                       |count   |\n",
      "+----------------------------------+--------+\n",
      "|Confirmado por Critério Clínico   |199014  |\n",
      "|Confirmado                        |1       |\n",
      "|null                              |25779622|\n",
      "|Confirmado Clinico-Epidemiologico |11      |\n",
      "|Confirmado Clínico-Epidemiológico |321919  |\n",
      "|Confirmado Laboratorial           |9802190 |\n",
      "|Confirmado Clinico-Imagem         |1       |\n",
      "|Síndrome Gripal Não Especificada  |2416508 |\n",
      "|Confirmação Clínico Epidemiológico|259     |\n",
      "|Sindrome Gripal Nao Especificada  |14      |\n",
      "|Confirmado Clínico-Imagem         |13242   |\n",
      "|Descartado                        |10462632|\n",
      "|Confirmação Laboratorial          |14995   |\n",
      "+----------------------------------+--------+\n",
      "\n"
     ]
    }
   ],
   "source": [
    "df.groupby('class_final').count().show(truncate=False)"
   ]
  },
  {
   "cell_type": "code",
   "execution_count": 213,
   "metadata": {},
   "outputs": [],
   "source": [
    "df = df.withColumn('class_final', F.when((df['class_final'] == 'Confirmado por Critério Clínico'), F.lit(3)) \\\n",
    "                    .when((df['class_final'] == 'Confirmado'), F.lit(1)) \\\n",
    "                    .when((df['class_final'] == 'Confirmado Clinico-Epidemiologico'), F.lit(2)) \\\n",
    "                    .when((df['class_final'] == 'Confirmação Clínico-Epidemiológico'), F.lit(2)) \\\n",
    "                    .when((df['class_final'] == 'Confirmado Laboratorial'), F.lit(4)) \\\n",
    "                    .when((df['class_final'] == 'Confirmado Clinico-Imagem'), F.lit(5)) \\\n",
    "                    .when((df['class_final'] == 'Síndrome Gripal Não Especificada'), F.lit(6)) \\\n",
    "                    .when((df['class_final'] == 'Confirmação Clínico Epidemiológico'), F.lit(2)) \\\n",
    "                    .when((df['class_final'] == 'Sindrome Gripal Nao Especificada'), F.lit(6)) \\\n",
    "                    .when((df['class_final'] == 'Confirmado Clínico-Imagem'), F.lit(5)) \\\n",
    "                    .when((df['class_final'] == 'Descartado'), F.lit(7)) \\\n",
    "                    .when((df['class_final'] == 'Confirmação Laboratorial'), F.lit(4)))"
   ]
  },
  {
   "cell_type": "code",
   "execution_count": 70,
   "metadata": {},
   "outputs": [
    {
     "name": "stdout",
     "output_type": "stream",
     "text": [
      "+-----------+--------+\n",
      "|class_final|count   |\n",
      "+-----------+--------+\n",
      "|null       |26101541|\n",
      "|1          |1       |\n",
      "|6          |2416522 |\n",
      "|3          |199014  |\n",
      "|5          |13243   |\n",
      "|4          |9817185 |\n",
      "|7          |10462632|\n",
      "|2          |270     |\n",
      "+-----------+--------+\n",
      "\n"
     ]
    }
   ],
   "source": [
    "df.groupby('class_final').count().show(truncate=False)"
   ]
  },
  {
   "cell_type": "code",
   "execution_count": 214,
   "metadata": {},
   "outputs": [],
   "source": [
    "df = df.withColumn('res_teste', F.when((df['res_teste'] == 'Positivo'), F.lit(1)) \\\n",
    "                   .when((df['res_teste'] == 'undefined') | (df['res_teste'] == 'Inconclusivo ou Indefinido'), F.lit(9)) \\\n",
    "                   .when((df['res_teste'] == 'Negativo'), F.lit(2)))"
   ]
  },
  {
   "cell_type": "code",
   "execution_count": 72,
   "metadata": {},
   "outputs": [
    {
     "name": "stdout",
     "output_type": "stream",
     "text": [
      "+---------+-----------+--------+\n",
      "|res_teste|class_final|   count|\n",
      "+---------+-----------+--------+\n",
      "|     null|       null|26101541|\n",
      "+---------+-----------+--------+\n",
      "\n"
     ]
    }
   ],
   "source": [
    "df.filter(df['class_final'].isNull()).groupby(['res_teste', 'class_final']).count().show()"
   ]
  },
  {
   "cell_type": "code",
   "execution_count": 73,
   "metadata": {},
   "outputs": [
    {
     "name": "stdout",
     "output_type": "stream",
     "text": [
      "+-----------------------------------------------------+--------+\n",
      "|tp_teste                                             |count   |\n",
      "+-----------------------------------------------------+--------+\n",
      "|RT-PCR                                               |18672084|\n",
      "|Imunoensaio por Eletroquimioluminescência - ECLIA IgG|57028   |\n",
      "|Imunoensaio por Eletroquimioluminescência \u0013 ECLIA    |16703   |\n",
      "|null                                                 |540     |\n",
      "|Quimioluminescência - CLIA                           |27195   |\n",
      "|Teste rápido                                         |80      |\n",
      "|Enzimaimunoensaio - ELISA IgM                        |43242   |\n",
      "|Enzimaimunoensaio \u0013 ELISA                            |11815   |\n",
      "|TESTE RÁPIDO - ANTICORPO                             |16540228|\n",
      "|Concluído                                            |1       |\n",
      "|TESTE RÁPIDO - ANTÍGENO                              |6270778 |\n",
      "|undefined                                            |2       |\n",
      "|null                                                 |7370712 |\n",
      "+-----------------------------------------------------+--------+\n",
      "\n"
     ]
    }
   ],
   "source": [
    "df.groupby('tp_teste').count().show(truncate=False)"
   ]
  },
  {
   "cell_type": "code",
   "execution_count": 215,
   "metadata": {},
   "outputs": [
    {
     "name": "stdout",
     "output_type": "stream",
     "text": [
      "+--------+--------+\n",
      "|tp_teste|   count|\n",
      "+--------+--------+\n",
      "|    null| 7399770|\n",
      "|       1|18672084|\n",
      "|       6|16540228|\n",
      "|       3|   27195|\n",
      "|       5|   43242|\n",
      "|       9|       2|\n",
      "|       4| 6270858|\n",
      "|       7|       1|\n",
      "|       2|   57028|\n",
      "+--------+--------+\n",
      "\n"
     ]
    }
   ],
   "source": [
    "df.withColumn('tp_teste', F.when((df['tp_teste'] == 'RT-PCR'), F.lit(1)) \\\n",
    "                .when((df['tp_teste'] == 'Imunoensaio por Eletroquimioluminescência - ECLIA IgG') | (df['tp_teste'] == 'Imunoensaio por Eletroquimioluminescência  ECLIA'), F.lit(2)) \\\n",
    "                .when((df['tp_teste'] == 'Quimioluminescência - CLIA'), F.lit(3)) \\\n",
    "                .when((df['tp_teste'] == 'Teste rápido'), F.lit(4)) \\\n",
    "                .when((df['tp_teste'] == 'Enzimaimunoensaio - ELISA IgM'), F.lit(5)) \\\n",
    "                .when((df['tp_teste'] == 'Enzimaimunoensaio   ELISA'), F.lit(5)) \\\n",
    "                .when((df['tp_teste'] == 'TESTE RÁPIDO - ANTICORPO'), F.lit(6)) \\\n",
    "                .when((df['tp_teste'] == 'Concluído'), F.lit(7)) \\\n",
    "                .when((df['tp_teste'] == 'TESTE RÁPIDO - ANTÍGENO'), F.lit(4)) \\\n",
    "                .when((df['tp_teste'] == 'undefined'), F.lit(9))).groupby('tp_teste').count().show()"
   ]
  },
  {
   "cell_type": "code",
   "execution_count": 216,
   "metadata": {},
   "outputs": [],
   "source": [
    "df = df.withColumn('tp_teste', F.when((df['tp_teste'] == 'RT-PCR'), F.lit(1)) \\\n",
    "                    .when((df['tp_teste'] == 'Imunoensaio por Eletroquimioluminescência - ECLIA IgG') | (df['tp_teste'] == 'Imunoensaio por Eletroquimioluminescência  ECLIA'), F.lit(2)) \\\n",
    "                    .when((df['tp_teste'] == 'Quimioluminescência - CLIA'), F.lit(3)) \\\n",
    "                    .when((df['tp_teste'] == 'Teste rápido'), F.lit(4)) \\\n",
    "                    .when((df['tp_teste'] == 'Enzimaimunoensaio - ELISA IgM'), F.lit(5)) \\\n",
    "                    .when((df['tp_teste'] == 'Enzimaimunoensaio   ELISA'), F.lit(5)) \\\n",
    "                    .when((df['tp_teste'] == 'TESTE RÁPIDO - ANTICORPO'), F.lit(6)) \\\n",
    "                    .when((df['tp_teste'] == 'Concluído'), F.lit(7)) \\\n",
    "                    .when((df['tp_teste'] == 'TESTE RÁPIDO - ANTÍGENO'), F.lit(4)) \\\n",
    "                    .when((df['tp_teste'] == 'undefined'), F.lit(9)))"
   ]
  },
  {
   "cell_type": "code",
   "execution_count": 87,
   "metadata": {},
   "outputs": [
    {
     "name": "stdout",
     "output_type": "stream",
     "text": [
      "+------------------------+--------+\n",
      "|ev_caso                 |count   |\n",
      "+------------------------+--------+\n",
      "|Cancelado               |2553404 |\n",
      "|Ignorado                |2630898 |\n",
      "|null                    |27370478|\n",
      "|Internado               |24168   |\n",
      "|44                      |1       |\n",
      "|Óbito                   |97740   |\n",
      "|Internado em UTI        |4914    |\n",
      "|Em tratamento domiciliar|1288935 |\n",
      "|Cura                    |15039870|\n",
      "+------------------------+--------+\n",
      "\n"
     ]
    }
   ],
   "source": [
    "df.groupby('ev_caso').count().show(truncate=False)"
   ]
  },
  {
   "cell_type": "code",
   "execution_count": 217,
   "metadata": {},
   "outputs": [],
   "source": [
    "df = df.withColumn('ev_caso', F.when((df['ev_caso'] == 'Óbito'), F.lit(1)) \\\n",
    "                  .when((df['ev_caso'] == 'Cura'), F.lit(2)) \\\n",
    "                  .when((df['ev_caso'] == 'Internado em UTI'), F.lit(3)) \\\n",
    "                  .when((df['ev_caso'] == 'Internado'), F.lit(3)) \\\n",
    "                  .when((df['ev_caso'] == 'Ignorado'), F.lit(9)) \\\n",
    "                  .when((df['ev_caso'] == 'Cancelado'), F.lit(4)) \\\n",
    "                  .when((df['ev_caso'] == 'Em tratamento domiciliar'), F.lit(5)))"
   ]
  },
  {
   "cell_type": "code",
   "execution_count": 89,
   "metadata": {},
   "outputs": [
    {
     "name": "stdout",
     "output_type": "stream",
     "text": [
      "+-------+--------+\n",
      "|ev_caso|   count|\n",
      "+-------+--------+\n",
      "|   null|27370479|\n",
      "|      1|   97740|\n",
      "|      3|   29082|\n",
      "|      5| 1288935|\n",
      "|      9| 2630898|\n",
      "|      4| 2553404|\n",
      "|      2|15039870|\n",
      "+-------+--------+\n",
      "\n"
     ]
    }
   ],
   "source": [
    "df.groupby('ev_caso').count().show()"
   ]
  },
  {
   "cell_type": "code",
   "execution_count": 90,
   "metadata": {},
   "outputs": [],
   "source": [
    "# cont normal até aqui"
   ]
  },
  {
   "cell_type": "code",
   "execution_count": 91,
   "metadata": {},
   "outputs": [
    {
     "data": {
      "text/plain": [
       "49010408"
      ]
     },
     "execution_count": 91,
     "metadata": {},
     "output_type": "execute_result"
    }
   ],
   "source": [
    "df.count()"
   ]
  },
  {
   "cell_type": "code",
   "execution_count": 218,
   "metadata": {},
   "outputs": [],
   "source": [
    "list_var_date = ['dt_sint', 'dt_nasc', 'dt_ntf', 'dt_teste']"
   ]
  },
  {
   "cell_type": "code",
   "execution_count": 219,
   "metadata": {},
   "outputs": [],
   "source": [
    "for col in list_var_date:\n",
    "    df = df.withColumn(col, F.col(col).cast(T.DateType()))"
   ]
  },
  {
   "cell_type": "code",
   "execution_count": 94,
   "metadata": {},
   "outputs": [],
   "source": [
    "# filtrando data de nascimento para valores maiores que 1930"
   ]
  },
  {
   "cell_type": "code",
   "execution_count": 220,
   "metadata": {},
   "outputs": [],
   "source": [
    "df = df.filter((F.year(df['dt_nasc']) >= 1930) & (F.year(df['dt_nasc']) < date.today().year))"
   ]
  },
  {
   "cell_type": "code",
   "execution_count": 187,
   "metadata": {},
   "outputs": [
    {
     "data": {
      "text/plain": [
       "1396585"
      ]
     },
     "execution_count": 187,
     "metadata": {},
     "output_type": "execute_result"
    }
   ],
   "source": [
    "df.count()"
   ]
  },
  {
   "cell_type": "code",
   "execution_count": 97,
   "metadata": {},
   "outputs": [
    {
     "name": "stdout",
     "output_type": "stream",
     "text": [
      "['cbo', 'class_final', 'cnes', 'condicoes', 'dataEncerramento', 'dt_sint', 'dt_nasc', 'dt_ntf', 'dt_teste', 'estado', 'estadoIBGE', 'est_ntf', 'estadoNotificacaoIBGE', 'estadoTeste', 'ev_caso', 'excluido', 'idade', 'municipio', 'municipioIBGE', 'municipioNotificacao', 'municipioNotificacaoIBGE', 'origem', 'paisOrigem', 'profissionalSaude', 'res_teste', 'sexo', 'sintomas', 'tp_teste', 'validado', 'ÿid']\n"
     ]
    }
   ],
   "source": [
    "print(df.columns)"
   ]
  },
  {
   "cell_type": "code",
   "execution_count": 221,
   "metadata": {},
   "outputs": [],
   "source": [
    "df2 = df.select('dt_ntf', 'dt_nasc', 'dt_teste', 'sexo', 'class_final', 'res_teste', 'tp_teste', 'ev_caso', 'idade')"
   ]
  },
  {
   "cell_type": "code",
   "execution_count": 189,
   "metadata": {
    "scrolled": true
   },
   "outputs": [
    {
     "name": "stdout",
     "output_type": "stream",
     "text": [
      "+----------+----------+----------+----+-----------+---------+--------+-------+-----+\n",
      "|    dt_ntf|   dt_nasc|  dt_teste|sexo|class_final|res_teste|tp_teste|ev_caso|idade|\n",
      "+----------+----------+----------+----+-----------+---------+--------+-------+-----+\n",
      "|2020-06-28|1978-01-09|2020-06-04|   2|       null|        2|       6|   null|   42|\n",
      "|2020-06-28|1974-05-25|2020-06-04|   1|       null|        2|       6|   null|   46|\n",
      "|2020-06-28|1986-11-13|2020-06-04|   1|       null|        2|       6|   null|   33|\n",
      "|2020-06-28|1979-09-17|2020-06-04|   1|       null|        2|       6|   null|   40|\n",
      "|2020-06-28|1980-03-09|2020-06-04|   1|       null|        2|       6|   null|   40|\n",
      "|2020-06-28|1985-01-25|2020-06-04|   1|       null|        2|       6|   null|   35|\n",
      "|2020-06-28|1986-07-10|2020-06-04|   2|       null|        2|       6|   null|   34|\n",
      "|2020-06-28|1996-11-04|2020-06-04|   2|       null|        2|       6|   null|   23|\n",
      "|2020-06-28|1986-01-21|2020-06-04|   2|       null|        2|       6|   null|   34|\n",
      "|2020-06-28|1970-02-21|2020-06-04|   1|       null|        2|       6|   null|   50|\n",
      "|2020-06-28|1993-08-07|2020-06-04|   1|       null|        1|       6|   null|   27|\n",
      "|2020-06-28|1976-09-09|2020-06-04|   2|       null|        2|       6|   null|   44|\n",
      "|2020-06-28|1983-01-02|2020-06-04|   2|       null|        2|       6|   null|   37|\n",
      "|2020-06-28|2005-01-14|      null|   2|       null|     null|    null|   null|   15|\n",
      "|2020-06-28|1993-05-29|2020-06-04|   2|       null|        1|       6|   null|   27|\n",
      "|2020-06-28|1987-06-24|2020-06-04|   1|       null|        2|       6|   null|   33|\n",
      "|2020-06-28|1971-08-30|2020-06-04|   1|       null|        2|       6|   null|   49|\n",
      "|2020-06-28|1993-03-12|2020-06-04|   1|       null|        2|       6|   null|   27|\n",
      "|2020-06-28|1996-08-26|2020-06-04|   2|       null|        1|       6|   null|   24|\n",
      "|2020-06-28|1986-11-10|2020-06-04|   2|       null|        2|       6|   null|   33|\n",
      "+----------+----------+----------+----+-----------+---------+--------+-------+-----+\n",
      "only showing top 20 rows\n",
      "\n"
     ]
    }
   ],
   "source": [
    "df2.show()"
   ]
  },
  {
   "cell_type": "code",
   "execution_count": 222,
   "metadata": {},
   "outputs": [],
   "source": [
    "df2 = df2.withColumn('idade',\n",
    "                   F.when((F.col('idade') >= 100) | (F.col('idade').isNull()),\n",
    "                          F.floor(F.datediff(\n",
    "                              F.current_date(),\n",
    "                              F.to_date(F.col('dt_nasc'))))) \\\n",
    "                   .otherwise(F.col('idade')))"
   ]
  },
  {
   "cell_type": "code",
   "execution_count": 223,
   "metadata": {},
   "outputs": [
    {
     "name": "stdout",
     "output_type": "stream",
     "text": [
      "+----------+----------+----------+----+-----------+---------+--------+-------+-----+\n",
      "|    dt_ntf|   dt_nasc|  dt_teste|sexo|class_final|res_teste|tp_teste|ev_caso|idade|\n",
      "+----------+----------+----------+----+-----------+---------+--------+-------+-----+\n",
      "|2020-06-28|1978-01-09|2020-06-04|   2|       null|        2|       6|   null|   42|\n",
      "|2020-06-28|1974-05-25|2020-06-04|   1|       null|        2|       6|   null|   46|\n",
      "|2020-06-28|1986-11-13|2020-06-04|   1|       null|        2|       6|   null|   33|\n",
      "|2020-06-28|1979-09-17|2020-06-04|   1|       null|        2|       6|   null|   40|\n",
      "|2020-06-28|1980-03-09|2020-06-04|   1|       null|        2|       6|   null|   40|\n",
      "|2020-06-28|1985-01-25|2020-06-04|   1|       null|        2|       6|   null|   35|\n",
      "|2020-06-28|1986-07-10|2020-06-04|   2|       null|        2|       6|   null|   34|\n",
      "|2020-06-28|1996-11-04|2020-06-04|   2|       null|        2|       6|   null|   23|\n",
      "|2020-06-28|1986-01-21|2020-06-04|   2|       null|        2|       6|   null|   34|\n",
      "|2020-06-28|1970-02-21|2020-06-04|   1|       null|        2|       6|   null|   50|\n",
      "|2020-06-28|1993-08-07|2020-06-04|   1|       null|        1|       6|   null|   27|\n",
      "|2020-06-28|1976-09-09|2020-06-04|   2|       null|        2|       6|   null|   44|\n",
      "|2020-06-28|1983-01-02|2020-06-04|   2|       null|        2|       6|   null|   37|\n",
      "|2020-06-28|2005-01-14|      null|   2|       null|     null|    null|   null|   15|\n",
      "|2020-06-28|1993-05-29|2020-06-04|   2|       null|        1|       6|   null|   27|\n",
      "|2020-06-28|1987-06-24|2020-06-04|   1|       null|        2|       6|   null|   33|\n",
      "|2020-06-28|1971-08-30|2020-06-04|   1|       null|        2|       6|   null|   49|\n",
      "|2020-06-28|1993-03-12|2020-06-04|   1|       null|        2|       6|   null|   27|\n",
      "|2020-06-28|1996-08-26|2020-06-04|   2|       null|        1|       6|   null|   24|\n",
      "|2020-06-28|1986-11-10|2020-06-04|   2|       null|        2|       6|   null|   33|\n",
      "+----------+----------+----------+----+-----------+---------+--------+-------+-----+\n",
      "only showing top 20 rows\n",
      "\n"
     ]
    }
   ],
   "source": [
    "df2.show()"
   ]
  },
  {
   "cell_type": "code",
   "execution_count": 226,
   "metadata": {},
   "outputs": [],
   "source": [
    "var_fx = {\n",
    "    '0': 4, '1': 4, '2': 4, '3': 4, '4': 4, '5': 509, '6': 509, '7': 509, '8': 509, '9': 509, '10': 1014,\n",
    "    '11': 1014, '12': 1014, '13': 1014, '14': 1014, '15': 1519, '16': 1519, '17': 1519, '18': 1519, '19': 1519,\n",
    "    '20': 2024, '21': 2024, '22': 2024, '23': 2024, '24': 2024, '25': 2529, '26': 2529, '27': 2529, '28': 2529,\n",
    "    '29': 2529, '30': 3034, '31': 3034, '32': 3034, '33': 3034, '34': 3034, '35': 3539, '36': 3539, '37': 3539,\n",
    "    '38': 3539, '39': 3539, '40': 4044, '41': 4044, '42': 4044, '43': 4044, '44': 4044, '45': 4549, '46': 4549,\n",
    "    '47': 4549, '48': 4549, '49': 4549, '50': 5054, '51': 5054, '52': 5054, '53': 5054, '54': 5054, '55': 5559,\n",
    "    '56': 5559, '57': 5559, '58': 5559, '59': 5559, '60': 6064, '61': 6064, '62': 6064, '63': 6064, '64': 6064,\n",
    "    '65': 6569, '66': 6569, '67': 6569, '68': 6569, '69': 6569, '70': 7074, '71': 7074, '72': 7074, '73': 7074,\n",
    "    '74': 7074, '75': 8099, '76': 8099, '77': 8099, '78': 8099, '79': 8099, '80': 8099, '81': 8099, '82': 8099,\n",
    "    '83': 8099, '84': 8099, '85': 8099, '86': 8099, '87': 8099, '88': 8099, '89': 8099, '90': 8099, '91': 8099,\n",
    "    '92': 8099, '93': 8099, '94': 8099, '95': 8099, '96': 8099, '97': 8099, '98': 8099, '99': 8099, '100': 8099,\n",
    "}"
   ]
  },
  {
   "cell_type": "code",
   "execution_count": 227,
   "metadata": {},
   "outputs": [],
   "source": [
    "df2 = df2.withColumn('fx_etaria', F.udf(lambda x: var_fx[x], T.IntegerType())(df2['idade']))"
   ]
  },
  {
   "cell_type": "code",
   "execution_count": 228,
   "metadata": {},
   "outputs": [
    {
     "name": "stdout",
     "output_type": "stream",
     "text": [
      "+----------+----------+----------+----+-----------+---------+--------+-------+-----+---------+\n",
      "|dt_ntf    |dt_nasc   |dt_teste  |sexo|class_final|res_teste|tp_teste|ev_caso|idade|fx_etaria|\n",
      "+----------+----------+----------+----+-----------+---------+--------+-------+-----+---------+\n",
      "|2020-06-28|1978-01-09|2020-06-04|2   |null       |2        |6       |null   |42   |4044     |\n",
      "|2020-06-28|1974-05-25|2020-06-04|1   |null       |2        |6       |null   |46   |4549     |\n",
      "|2020-06-28|1986-11-13|2020-06-04|1   |null       |2        |6       |null   |33   |3034     |\n",
      "+----------+----------+----------+----+-----------+---------+--------+-------+-----+---------+\n",
      "only showing top 3 rows\n",
      "\n"
     ]
    }
   ],
   "source": [
    "df2.show(3, 0)"
   ]
  },
  {
   "cell_type": "code",
   "execution_count": 263,
   "metadata": {},
   "outputs": [],
   "source": [
    "df2 = df2.withColumn('evolucaoCaso', F.when(df2['ev_caso'] == 1, F.lit(1)))#df3 = df3.select('dt_ntf', 'dt_teste', 'sexo', 'class_final', 'res_teste', 'tp_teste', 'ev_caso', 'fx_etaria'"
   ]
  },
  {
   "cell_type": "code",
   "execution_count": 264,
   "metadata": {},
   "outputs": [],
   "source": [
    "df3 = df2.groupby(['dt_ntf', 'dt_teste', 'sexo', 'class_final', 'res_teste', 'tp_teste', 'ev_caso', 'fx_etaria', 'evolucaoCaso']).count()"
   ]
  },
  {
   "cell_type": "code",
   "execution_count": 265,
   "metadata": {},
   "outputs": [],
   "source": [
    "df3 = df3.withColumnRenamed('count', 'casos')"
   ]
  },
  {
   "cell_type": "code",
   "execution_count": 266,
   "metadata": {},
   "outputs": [
    {
     "name": "stdout",
     "output_type": "stream",
     "text": [
      "+----------+----------+----+-----------+---------+--------+-------+---------+------------+-----+\n",
      "|dt_ntf    |dt_teste  |sexo|class_final|res_teste|tp_teste|ev_caso|fx_etaria|evolucaoCaso|casos|\n",
      "+----------+----------+----+-----------+---------+--------+-------+---------+------------+-----+\n",
      "|2020-06-28|2020-05-31|1   |null       |2        |6       |null   |7074     |null        |1    |\n",
      "|2020-06-28|2020-06-09|2   |null       |2        |6       |null   |1519     |null        |1    |\n",
      "|2020-06-28|2020-06-06|2   |null       |2        |6       |null   |2529     |null        |5    |\n",
      "|2020-06-27|2020-06-15|1   |null       |1        |6       |null   |3034     |null        |4    |\n",
      "|2020-06-27|2020-06-13|2   |null       |2        |6       |null   |2529     |null        |1    |\n",
      "+----------+----------+----+-----------+---------+--------+-------+---------+------------+-----+\n",
      "only showing top 5 rows\n",
      "\n"
     ]
    }
   ],
   "source": [
    "df3.show(5, 0)"
   ]
  },
  {
   "cell_type": "code",
   "execution_count": 272,
   "metadata": {},
   "outputs": [],
   "source": [
    "df3.coalesce(1).write.parquet('sg')"
   ]
  }
 ],
 "metadata": {
  "kernelspec": {
   "display_name": "Python 3",
   "language": "python",
   "name": "python3"
  },
  "language_info": {
   "codemirror_mode": {
    "name": "ipython",
    "version": 3
   },
   "file_extension": ".py",
   "mimetype": "text/x-python",
   "name": "python",
   "nbconvert_exporter": "python",
   "pygments_lexer": "ipython3",
   "version": "3.6.6"
  }
 },
 "nbformat": 4,
 "nbformat_minor": 4
}
