{
 "cells": [
  {
   "cell_type": "code",
   "execution_count": null,
   "id": "aee6291e",
   "metadata": {},
   "outputs": [],
   "source": [
    "# imports"
   ]
  },
  {
   "cell_type": "code",
   "execution_count": null,
   "id": "afe266ba",
   "metadata": {},
   "outputs": [],
   "source": [
    "from concurrent.futures import ThreadPoolExecutor\n",
    "from datetime import datetime\n",
    "from pathlib import Path\n",
    "from bs4 import BeautifulSoup\n",
    "import requests\n",
    "from tqdm import tqdm\n",
    "\n",
    "from config import DATALAKE"
   ]
  },
  {
   "cell_type": "code",
   "execution_count": null,
   "id": "ec01de68",
   "metadata": {},
   "outputs": [],
   "source": [
    "# configurações fixas - parametros, diretórios, final de rota de alguns endereços"
   ]
  },
  {
   "cell_type": "code",
   "execution_count": null,
   "id": "d9ea6d1d",
   "metadata": {},
   "outputs": [],
   "source": [
    "raw = Path(DATALAKE) / 'raw_data_covid19' \\\n",
    "    / datetime.now().strftime('%Y-%m-%d') \\\n",
    "    / 'data-sindrome_respiratoria_aguda_grave_incluindo_covid/'\n",
    "\n",
    "raw.mkdir(parents=True, exist_ok=True)\n",
    "\n",
    "\n",
    "url = 'https://opendatasus.saude.gov.br/dataset/'\n",
    "\n",
    "endpoints = [\n",
    "    'srag-2009-2012',\n",
    "    'srag-2013-2018',\n",
    "    'srag-2019',\n",
    "    'srag-2020',\n",
    "    'srag-2021-a-2023'\n",
    "]"
   ]
  },
  {
   "cell_type": "code",
   "execution_count": null,
   "id": "86816a60",
   "metadata": {},
   "outputs": [],
   "source": [
    "# função para usar com pull de thread"
   ]
  },
  {
   "cell_type": "code",
   "execution_count": null,
   "id": "cb5ae5fe",
   "metadata": {},
   "outputs": [],
   "source": [
    "def download_srag(endpoint):\n",
    "    r = requests.get(f'{url}/{endpoint}')\n",
    "\n",
    "    soup = BeautifulSoup(r.text, 'html.parser')\n",
    "\n",
    "    tag_a = soup.findAll('a', class_='heading')\n",
    "\n",
    "    links = []\n",
    "    for tag in tag_a:\n",
    "        string = tag.text.lstrip('\\n').rstrip('\\n').lstrip(' ').rstrip(' ')[0:4]\n",
    "        if string == 'SRAG':\n",
    "            links.append('/'.join(tag['href'].split('/')[2:]))\n",
    "\n",
    "\n",
    "    for link in links:\n",
    "        r = requests.get(f'{url}/{link}')\n",
    "\n",
    "        soup = BeautifulSoup(r.text, 'html.parser')\n",
    "\n",
    "        tag_a = soup.findAll('a', class_='resource-url-analytics')\n",
    "\n",
    "        for tag in tag_a:\n",
    "            if tag['href'].endswith('.csv') and tag['href'] == tag.text:\n",
    "                file_csv = requests.get(tag['href'], stream=True)\n",
    "                name = ''.join(tag.text.split('/')[-1:])\n",
    "\n",
    "                with open(raw / name, 'wb') as f:\n",
    "                    print(f'baixando: {name}')\n",
    "                    for content in file_csv.iter_content(chunk_size=1024):\n",
    "                        f.write(content)"
   ]
  },
  {
   "cell_type": "code",
   "execution_count": null,
   "id": "5c3b7c01",
   "metadata": {},
   "outputs": [],
   "source": [
    "# executa a função de download e puxa os arquivos mais rapidamente\n",
    "# o parametro max_workers é o número de tarefas que vão ser executadas ao mesmo tempo"
   ]
  },
  {
   "cell_type": "code",
   "execution_count": null,
   "id": "bdb497fe",
   "metadata": {},
   "outputs": [],
   "source": [
    "with ThreadPoolExecutor(max_workers=4) as executor:\n",
    "    for endpoint in endpoints:\n",
    "        executor.submit(download_srag, endpoint)\n",
    "print(f'Arquivos baixados em {raw}')"
   ]
  },
  {
   "cell_type": "code",
   "execution_count": null,
   "id": "db806736",
   "metadata": {},
   "outputs": [],
   "source": []
  }
 ],
 "metadata": {
  "kernelspec": {
   "display_name": "Python 3 (ipykernel)",
   "language": "python",
   "name": "python3"
  },
  "language_info": {
   "codemirror_mode": {
    "name": "ipython",
    "version": 3
   },
   "file_extension": ".py",
   "mimetype": "text/x-python",
   "name": "python",
   "nbconvert_exporter": "python",
   "pygments_lexer": "ipython3",
   "version": "3.10.6"
  }
 },
 "nbformat": 4,
 "nbformat_minor": 5
}
