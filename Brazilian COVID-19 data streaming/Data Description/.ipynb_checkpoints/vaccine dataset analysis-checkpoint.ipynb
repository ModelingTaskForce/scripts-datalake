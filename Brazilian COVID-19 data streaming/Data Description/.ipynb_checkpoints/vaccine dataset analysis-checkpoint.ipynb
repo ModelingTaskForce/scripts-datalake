{
 "cells": [
  {
   "cell_type": "code",
   "execution_count": 16,
   "metadata": {},
   "outputs": [],
   "source": [
    "import pyspark\n",
    "\n",
    "import os\n",
    "from datetime import date\n",
    "import functools\n",
    "from IPython.core.display import display, HTML\n",
    "#import findspark\n",
    "#findspark.init()\n",
    "from pyspark.sql import SparkSession\n",
    "import pyspark.sql.functions as F\n",
    "import pyspark.sql.types as T\n",
    "\n",
    "from pyspark.sql.functions import count, isnan, mean, col, countDistinct, format_number, dayofmonth, hour, dayofyear, month, year, weekofyear, date_format, when,datediff, months_between\n",
    "\n",
    "import re \n",
    "from functools import reduce"
   ]
  },
  {
   "cell_type": "code",
   "execution_count": 17,
   "metadata": {},
   "outputs": [],
   "source": [
    "spark = SparkSession.builder.appName(\"vaccine\").getOrCreate()"
   ]
  },
  {
   "cell_type": "markdown",
   "metadata": {},
   "source": [
    "# Read data"
   ]
  },
  {
   "cell_type": "code",
   "execution_count": 18,
   "metadata": {},
   "outputs": [],
   "source": [
    "df = spark.read.csv('/Volumes/My Passport/PAMEpi_datalake/raw_data_covid19_version-21-12-07/data-datasus_vacinacao_brasil/part-00000-a9fa6c84-7d08-410d-bdc8-fd5f338134c4-c000.csv', sep=';', header = True, encoding=\"utf-8\", inferSchema = True)"
   ]
  },
  {
   "cell_type": "code",
   "execution_count": 19,
   "metadata": {},
   "outputs": [
    {
     "data": {
      "text/plain": [
       "303417142"
      ]
     },
     "execution_count": 19,
     "metadata": {},
     "output_type": "execute_result"
    }
   ],
   "source": [
    "df.count()"
   ]
  },
  {
   "cell_type": "code",
   "execution_count": 7,
   "metadata": {},
   "outputs": [
    {
     "data": {
      "text/html": [
       "<div>\n",
       "<style scoped>\n",
       "    .dataframe tbody tr th:only-of-type {\n",
       "        vertical-align: middle;\n",
       "    }\n",
       "\n",
       "    .dataframe tbody tr th {\n",
       "        vertical-align: top;\n",
       "    }\n",
       "\n",
       "    .dataframe thead th {\n",
       "        text-align: right;\n",
       "    }\n",
       "</style>\n",
       "<table border=\"1\" class=\"dataframe\">\n",
       "  <thead>\n",
       "    <tr style=\"text-align: right;\">\n",
       "      <th></th>\n",
       "      <th>document_id</th>\n",
       "      <th>paciente_id</th>\n",
       "      <th>paciente_idade</th>\n",
       "      <th>paciente_datanascimento</th>\n",
       "      <th>paciente_enumsexobiologico</th>\n",
       "      <th>paciente_racacor_codigo</th>\n",
       "      <th>paciente_racacor_valor</th>\n",
       "      <th>paciente_endereco_coibgemunicipio</th>\n",
       "      <th>paciente_endereco_copais</th>\n",
       "      <th>paciente_endereco_nmmunicipio</th>\n",
       "      <th>...</th>\n",
       "      <th>vacina_fabricante_nome</th>\n",
       "      <th>vacina_fabricante_referencia</th>\n",
       "      <th>vacina_dataaplicacao</th>\n",
       "      <th>vacina_descricao_dose</th>\n",
       "      <th>vacina_codigo</th>\n",
       "      <th>vacina_nome</th>\n",
       "      <th>sistema_origem</th>\n",
       "      <th>data_importacao_rnds</th>\n",
       "      <th>id_sistema_origem</th>\n",
       "      <th>vacina_numdose</th>\n",
       "    </tr>\n",
       "  </thead>\n",
       "  <tbody>\n",
       "    <tr>\n",
       "      <th>0</th>\n",
       "      <td>10fd6162-15a0-4c69-b5ef-6d45d901b8f4-i0b0</td>\n",
       "      <td>4cc05cb74a857154d305a6ab200f73da1338058e13bce8...</td>\n",
       "      <td>71</td>\n",
       "      <td>1949-12-30</td>\n",
       "      <td>F</td>\n",
       "      <td>3</td>\n",
       "      <td>PARDA</td>\n",
       "      <td>355030</td>\n",
       "      <td>10</td>\n",
       "      <td>SAO PAULO</td>\n",
       "      <td>...</td>\n",
       "      <td>SINOVAC/BUTANTAN</td>\n",
       "      <td>None</td>\n",
       "      <td>2021-03-26</td>\n",
       "      <td>1Âª Dose</td>\n",
       "      <td>86</td>\n",
       "      <td>COVID-19 SINOVAC/BUTANTAN - CORONAVAC</td>\n",
       "      <td>VACIVIDA</td>\n",
       "      <td>2021-03-26 04:00:00</td>\n",
       "      <td>18262</td>\n",
       "      <td>1</td>\n",
       "    </tr>\n",
       "    <tr>\n",
       "      <th>1</th>\n",
       "      <td>1c6d1b97-7bdc-40d2-acd6-f0d42d825725-i0b0</td>\n",
       "      <td>c6e434ee9e9c7dfce92b04d08a553bb6ddecf328a1235d...</td>\n",
       "      <td>82</td>\n",
       "      <td>1939-01-16</td>\n",
       "      <td>F</td>\n",
       "      <td>3</td>\n",
       "      <td>PARDA</td>\n",
       "      <td>314330</td>\n",
       "      <td>10</td>\n",
       "      <td>MONTES CLAROS</td>\n",
       "      <td>...</td>\n",
       "      <td>SINOVAC/BUTANTAN</td>\n",
       "      <td>Organization/61189445000156</td>\n",
       "      <td>2021-03-03</td>\n",
       "      <td>1Âª Dose</td>\n",
       "      <td>86</td>\n",
       "      <td>COVID-19 SINOVAC/BUTANTAN - CORONAVAC</td>\n",
       "      <td>Novo PNI</td>\n",
       "      <td>2021-03-03 13:48:04</td>\n",
       "      <td>16341</td>\n",
       "      <td>1</td>\n",
       "    </tr>\n",
       "    <tr>\n",
       "      <th>2</th>\n",
       "      <td>5f5d27de-ff38-40d2-814d-b2d6f916bda4-i0b0</td>\n",
       "      <td>c1dc811e8a88c185f0644c5dfb8446e219672699c3f428...</td>\n",
       "      <td>78</td>\n",
       "      <td>1942-10-09</td>\n",
       "      <td>F</td>\n",
       "      <td>1</td>\n",
       "      <td>BRANCA</td>\n",
       "      <td>352230</td>\n",
       "      <td>10</td>\n",
       "      <td>ITAPETININGA</td>\n",
       "      <td>...</td>\n",
       "      <td>ASTRAZENECA/FIOCRUZ</td>\n",
       "      <td>None</td>\n",
       "      <td>2021-03-04</td>\n",
       "      <td>1Âª Dose</td>\n",
       "      <td>85</td>\n",
       "      <td>COVID-19 ASTRAZENECA/FIOCRUZ - COVISHIELD</td>\n",
       "      <td>VACIVIDA</td>\n",
       "      <td>2021-03-04 04:03:00</td>\n",
       "      <td>18262</td>\n",
       "      <td>1</td>\n",
       "    </tr>\n",
       "    <tr>\n",
       "      <th>3</th>\n",
       "      <td>5465ae80-3c59-49bf-b78e-61247d400005-i0b0</td>\n",
       "      <td>13824e8fd9bae9ab45e085aa0906858aa2ec4afaf97815...</td>\n",
       "      <td>74</td>\n",
       "      <td>1946-10-11</td>\n",
       "      <td>F</td>\n",
       "      <td>4</td>\n",
       "      <td>AMARELA</td>\n",
       "      <td>270760</td>\n",
       "      <td>10</td>\n",
       "      <td>QUEBRANGULO</td>\n",
       "      <td>...</td>\n",
       "      <td>SINOVAC/BUTANTAN</td>\n",
       "      <td>Organization/61189445000156</td>\n",
       "      <td>2021-03-24</td>\n",
       "      <td>1Âª Dose</td>\n",
       "      <td>86</td>\n",
       "      <td>COVID-19 SINOVAC/BUTANTAN - CORONAVAC</td>\n",
       "      <td>Novo PNI</td>\n",
       "      <td>2021-03-26 01:28:09</td>\n",
       "      <td>16341</td>\n",
       "      <td>1</td>\n",
       "    </tr>\n",
       "    <tr>\n",
       "      <th>4</th>\n",
       "      <td>c6153b6f-b280-4e4d-be1b-83715d10847b-i0b0</td>\n",
       "      <td>c10fffd9c3008c2f7b97d157b3cc05d9803b67a46594f2...</td>\n",
       "      <td>64</td>\n",
       "      <td>1956-07-19</td>\n",
       "      <td>F</td>\n",
       "      <td>3</td>\n",
       "      <td>PARDA</td>\n",
       "      <td>130260</td>\n",
       "      <td>10</td>\n",
       "      <td>MANAUS</td>\n",
       "      <td>...</td>\n",
       "      <td>ASTRAZENECA/FIOCRUZ</td>\n",
       "      <td>None</td>\n",
       "      <td>2021-03-11</td>\n",
       "      <td>1Âª Dose</td>\n",
       "      <td>85</td>\n",
       "      <td>COVID-19 ASTRAZENECA/FIOCRUZ - COVISHIELD</td>\n",
       "      <td>SMV</td>\n",
       "      <td>2021-03-13 13:24:30</td>\n",
       "      <td>18183</td>\n",
       "      <td>1</td>\n",
       "    </tr>\n",
       "  </tbody>\n",
       "</table>\n",
       "<p>5 rows × 35 columns</p>\n",
       "</div>"
      ],
      "text/plain": [
       "                                 document_id  \\\n",
       "0  10fd6162-15a0-4c69-b5ef-6d45d901b8f4-i0b0   \n",
       "1  1c6d1b97-7bdc-40d2-acd6-f0d42d825725-i0b0   \n",
       "2  5f5d27de-ff38-40d2-814d-b2d6f916bda4-i0b0   \n",
       "3  5465ae80-3c59-49bf-b78e-61247d400005-i0b0   \n",
       "4  c6153b6f-b280-4e4d-be1b-83715d10847b-i0b0   \n",
       "\n",
       "                                         paciente_id  paciente_idade  \\\n",
       "0  4cc05cb74a857154d305a6ab200f73da1338058e13bce8...              71   \n",
       "1  c6e434ee9e9c7dfce92b04d08a553bb6ddecf328a1235d...              82   \n",
       "2  c1dc811e8a88c185f0644c5dfb8446e219672699c3f428...              78   \n",
       "3  13824e8fd9bae9ab45e085aa0906858aa2ec4afaf97815...              74   \n",
       "4  c10fffd9c3008c2f7b97d157b3cc05d9803b67a46594f2...              64   \n",
       "\n",
       "  paciente_datanascimento paciente_enumsexobiologico  paciente_racacor_codigo  \\\n",
       "0              1949-12-30                          F                        3   \n",
       "1              1939-01-16                          F                        3   \n",
       "2              1942-10-09                          F                        1   \n",
       "3              1946-10-11                          F                        4   \n",
       "4              1956-07-19                          F                        3   \n",
       "\n",
       "  paciente_racacor_valor  paciente_endereco_coibgemunicipio  \\\n",
       "0                  PARDA                             355030   \n",
       "1                  PARDA                             314330   \n",
       "2                 BRANCA                             352230   \n",
       "3                AMARELA                             270760   \n",
       "4                  PARDA                             130260   \n",
       "\n",
       "   paciente_endereco_copais paciente_endereco_nmmunicipio  ...  \\\n",
       "0                        10                     SAO PAULO  ...   \n",
       "1                        10                 MONTES CLAROS  ...   \n",
       "2                        10                  ITAPETININGA  ...   \n",
       "3                        10                   QUEBRANGULO  ...   \n",
       "4                        10                        MANAUS  ...   \n",
       "\n",
       "  vacina_fabricante_nome vacina_fabricante_referencia  vacina_dataaplicacao  \\\n",
       "0       SINOVAC/BUTANTAN                         None            2021-03-26   \n",
       "1       SINOVAC/BUTANTAN  Organization/61189445000156            2021-03-03   \n",
       "2    ASTRAZENECA/FIOCRUZ                         None            2021-03-04   \n",
       "3       SINOVAC/BUTANTAN  Organization/61189445000156            2021-03-24   \n",
       "4    ASTRAZENECA/FIOCRUZ                         None            2021-03-11   \n",
       "\n",
       "  vacina_descricao_dose  vacina_codigo  \\\n",
       "0              1Âª Dose             86   \n",
       "1              1Âª Dose             86   \n",
       "2              1Âª Dose             85   \n",
       "3              1Âª Dose             86   \n",
       "4              1Âª Dose             85   \n",
       "\n",
       "                                 vacina_nome sistema_origem  \\\n",
       "0      COVID-19 SINOVAC/BUTANTAN - CORONAVAC       VACIVIDA   \n",
       "1      COVID-19 SINOVAC/BUTANTAN - CORONAVAC       Novo PNI   \n",
       "2  COVID-19 ASTRAZENECA/FIOCRUZ - COVISHIELD       VACIVIDA   \n",
       "3      COVID-19 SINOVAC/BUTANTAN - CORONAVAC       Novo PNI   \n",
       "4  COVID-19 ASTRAZENECA/FIOCRUZ - COVISHIELD            SMV   \n",
       "\n",
       "   data_importacao_rnds id_sistema_origem vacina_numdose  \n",
       "0   2021-03-26 04:00:00             18262              1  \n",
       "1   2021-03-03 13:48:04             16341              1  \n",
       "2   2021-03-04 04:03:00             18262              1  \n",
       "3   2021-03-26 01:28:09             16341              1  \n",
       "4   2021-03-13 13:24:30             18183              1  \n",
       "\n",
       "[5 rows x 35 columns]"
      ]
     },
     "execution_count": 7,
     "metadata": {},
     "output_type": "execute_result"
    }
   ],
   "source": [
    "df.limit(5).toPandas() "
   ]
  },
  {
   "cell_type": "code",
   "execution_count": 9,
   "metadata": {},
   "outputs": [
    {
     "name": "stdout",
     "output_type": "stream",
     "text": [
      "root\n",
      " |-- document_id: string (nullable = true)\n",
      " |-- paciente_id: string (nullable = true)\n",
      " |-- paciente_idade: integer (nullable = true)\n",
      " |-- paciente_datanascimento: string (nullable = true)\n",
      " |-- paciente_enumsexobiologico: string (nullable = true)\n",
      " |-- paciente_racacor_codigo: integer (nullable = true)\n",
      " |-- paciente_racacor_valor: string (nullable = true)\n",
      " |-- paciente_endereco_coibgemunicipio: integer (nullable = true)\n",
      " |-- paciente_endereco_copais: integer (nullable = true)\n",
      " |-- paciente_endereco_nmmunicipio: string (nullable = true)\n",
      " |-- paciente_endereco_nmpais: string (nullable = true)\n",
      " |-- paciente_endereco_uf: string (nullable = true)\n",
      " |-- paciente_endereco_cep: integer (nullable = true)\n",
      " |-- paciente_nacionalidade_enumnacionalidade: string (nullable = true)\n",
      " |-- estabelecimento_valor: integer (nullable = true)\n",
      " |-- estabelecimento_razaosocial: string (nullable = true)\n",
      " |-- estalecimento_nofantasia: string (nullable = true)\n",
      " |-- estabelecimento_municipio_codigo: integer (nullable = true)\n",
      " |-- estabelecimento_municipio_nome: string (nullable = true)\n",
      " |-- estabelecimento_uf: string (nullable = true)\n",
      " |-- vacina_grupoatendimento_codigo: integer (nullable = true)\n",
      " |-- vacina_grupoatendimento_nome: string (nullable = true)\n",
      " |-- vacina_categoria_codigo: integer (nullable = true)\n",
      " |-- vacina_categoria_nome: string (nullable = true)\n",
      " |-- vacina_lote: string (nullable = true)\n",
      " |-- vacina_fabricante_nome: string (nullable = true)\n",
      " |-- vacina_fabricante_referencia: string (nullable = true)\n",
      " |-- vacina_dataaplicacao: string (nullable = true)\n",
      " |-- vacina_descricao_dose: string (nullable = true)\n",
      " |-- vacina_codigo: integer (nullable = true)\n",
      " |-- vacina_nome: string (nullable = true)\n",
      " |-- sistema_origem: string (nullable = true)\n",
      " |-- data_importacao_rnds: timestamp (nullable = true)\n",
      " |-- id_sistema_origem: integer (nullable = true)\n",
      " |-- vacina_numdose: integer (nullable = true)\n",
      "\n"
     ]
    }
   ],
   "source": [
    "df.printSchema()"
   ]
  },
  {
   "cell_type": "markdown",
   "metadata": {},
   "source": [
    "# Basic counts "
   ]
  },
  {
   "cell_type": "code",
   "execution_count": 20,
   "metadata": {
    "scrolled": false
   },
   "outputs": [
    {
     "name": "stdout",
     "output_type": "stream",
     "text": [
      "+--------------------+--------+\n",
      "|paciente_endereco_uf|count   |\n",
      "+--------------------+--------+\n",
      "|SC                  |11105409|\n",
      "|RO                  |2326017 |\n",
      "|PI                  |4766396 |\n",
      "|AM                  |4743694 |\n",
      "|RR                  |656114  |\n",
      "|GO                  |9607323 |\n",
      "|null                |1502763 |\n",
      "|TO                  |1995138 |\n",
      "|MT                  |4733395 |\n",
      "|SP                  |73272118|\n",
      "|PB                  |6044263 |\n",
      "|ES                  |6167192 |\n",
      "|RS                  |18096279|\n",
      "|XX                  |49730   |\n",
      "|MS                  |4345740 |\n",
      "|AL                  |4301517 |\n",
      "|MG                  |31300844|\n",
      "|PA                  |9138138 |\n",
      "|BA                  |19368987|\n",
      "|SE                  |2924146 |\n",
      "|PE                  |12822632|\n",
      "|CE                  |12018539|\n",
      "|RN                  |5109496 |\n",
      "|RJ                  |25338431|\n",
      "|MA                  |7872899 |\n",
      "|AC                  |1033155 |\n",
      "|DF                  |4303969 |\n",
      "|PR                  |17638401|\n",
      "|AP                  |834417  |\n",
      "+--------------------+--------+\n",
      "\n"
     ]
    }
   ],
   "source": [
    "df.groupBy(['paciente_endereco_uf']).count().show(50,truncate=False)"
   ]
  },
  {
   "cell_type": "code",
   "execution_count": 2,
   "metadata": {
    "scrolled": false
   },
   "outputs": [],
   "source": [
    "#df.groupby('vacina_nome').count().show(truncate=False)"
   ]
  },
  {
   "cell_type": "code",
   "execution_count": null,
   "metadata": {},
   "outputs": [],
   "source": [
    "df.groupby('vacina_nome').count().show(truncate=False)"
   ]
  },
  {
   "cell_type": "code",
   "execution_count": 5,
   "metadata": {},
   "outputs": [
    {
     "name": "stdout",
     "output_type": "stream",
     "text": [
      "+--------------+---------+\n",
      "|vacina_numdose|count    |\n",
      "+--------------+---------+\n",
      "|27            |1        |\n",
      "|1             |157128841|\n",
      "|6             |33169    |\n",
      "|3             |460152   |\n",
      "|37            |648165   |\n",
      "|9             |229783   |\n",
      "|8             |4354632  |\n",
      "|39            |2        |\n",
      "|10            |5        |\n",
      "|38            |14647055 |\n",
      "|32            |765      |\n",
      "|33            |841      |\n",
      "|11            |2        |\n",
      "|2             |125912351|\n",
      "|36            |1378     |\n",
      "+--------------+---------+\n",
      "\n"
     ]
    }
   ],
   "source": [
    "df.groupby('vacina_numdose').count().show(truncate=False)"
   ]
  },
  {
   "cell_type": "code",
   "execution_count": 6,
   "metadata": {
    "scrolled": false
   },
   "outputs": [
    {
     "name": "stdout",
     "output_type": "stream",
     "text": [
      "+------------------------------+---------+\n",
      "|vacina_descricao_dose         |count    |\n",
      "+------------------------------+---------+\n",
      "|Reforço                       |14647055 |\n",
      "|Revacinação                   |5        |\n",
      "|2ª Dose                       |125912351|\n",
      "|1ª Dose                       |157128841|\n",
      "|Única                         |229783   |\n",
      "|1º Reforço                    |33169    |\n",
      "|Dose Inicial                  |1378     |\n",
      "|Tratamento com dezessete doses|1        |\n",
      "|3ª Dose                       |460152   |\n",
      "|Dose                          |4354632  |\n",
      "|Dose Adicional                |648165   |\n",
      "|3º Reforço                    |2        |\n",
      "|1ª Dose Revacinação           |765      |\n",
      "|Tratamento com uma dose       |2        |\n",
      "|2ª Dose Revacinação           |841      |\n",
      "+------------------------------+---------+\n",
      "\n"
     ]
    }
   ],
   "source": [
    "df.groupby('vacina_descricao_dose').count().show(truncate=False)"
   ]
  },
  {
   "cell_type": "code",
   "execution_count": null,
   "metadata": {},
   "outputs": [],
   "source": [
    "df.groupby(['vacina_nome','vacina_descricao_dose']).count().show(1000,truncate=False)"
   ]
  },
  {
   "cell_type": "markdown",
   "metadata": {},
   "source": [
    "['paciente_idade','paciente_enumsexobiologico',\n",
    " 'paciente_racacor_codigo', 'paciente_racacor_valor',\n",
    " 'paciente_endereco_coibgemunicipio', 'paciente_endereco_nmmunicipio',\n",
    " 'paciente_endereco_uf', 'vacina_grupoatendimento_codigo',\n",
    " 'vacina_grupoatendimento_nome', 'vacina_categoria_codigo',\n",
    " 'vacina_categoria_nome', 'vacina_dataaplicacao','vacina_descricao_dose',\n",
    " 'vacina_codigo','vacina_nome','vacina_numdose']"
   ]
  },
  {
   "cell_type": "code",
   "execution_count": 8,
   "metadata": {},
   "outputs": [],
   "source": [
    "df1 = df.groupby(['paciente_endereco_uf','paciente_endereco_nmmunicipio','paciente_endereco_coibgemunicipio','vacina_nome','vacina_codigo']).count().coalesce(1).write.format(\"csv\").save(\"/Users/julianeoliveira/Desktop/github/Datasets from the gitcomputations/Vaccine_covid/type_vac_muni.csv\")#.show(truncate=False)"
   ]
  },
  {
   "cell_type": "code",
   "execution_count": null,
   "metadata": {},
   "outputs": [],
   "source": []
  },
  {
   "cell_type": "markdown",
   "metadata": {},
   "source": [
    "# Harmonisations"
   ]
  },
  {
   "cell_type": "code",
   "execution_count": null,
   "metadata": {},
   "outputs": [],
   "source": []
  },
  {
   "cell_type": "markdown",
   "metadata": {},
   "source": [
    "# Plots"
   ]
  },
  {
   "cell_type": "code",
   "execution_count": null,
   "metadata": {},
   "outputs": [],
   "source": []
  },
  {
   "cell_type": "code",
   "execution_count": null,
   "metadata": {},
   "outputs": [],
   "source": []
  },
  {
   "cell_type": "markdown",
   "metadata": {},
   "source": [
    "# Global data"
   ]
  },
  {
   "cell_type": "code",
   "execution_count": null,
   "metadata": {},
   "outputs": [],
   "source": [
    "https://covid19.who.int/who-data/vaccination-data.csv"
   ]
  }
 ],
 "metadata": {
  "kernelspec": {
   "display_name": "Python 3",
   "language": "python",
   "name": "python3"
  },
  "language_info": {
   "codemirror_mode": {
    "name": "ipython",
    "version": 3
   },
   "file_extension": ".py",
   "mimetype": "text/x-python",
   "name": "python",
   "nbconvert_exporter": "python",
   "pygments_lexer": "ipython3",
   "version": "3.8.5"
  }
 },
 "nbformat": 4,
 "nbformat_minor": 4
}
