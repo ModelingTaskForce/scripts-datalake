{
 "cells": [
  {
   "cell_type": "code",
   "execution_count": 1,
   "metadata": {},
   "outputs": [],
   "source": [
    "import pyspark\n",
    "\n",
    "import os\n",
    "from datetime import date\n",
    "import functools\n",
    "from IPython.core.display import display, HTML\n",
    "#import findspark\n",
    "#findspark.init()\n",
    "from pyspark.sql import SparkSession\n",
    "import pyspark.sql.functions as F\n",
    "import pyspark.sql.types as T\n",
    "\n",
    "from pyspark.sql.functions import count, isnan, mean, col, countDistinct, format_number, dayofmonth, hour, dayofyear, month, year, weekofyear, date_format, when,datediff, months_between\n",
    "\n",
    "import re \n",
    "from functools import reduce"
   ]
  },
  {
   "cell_type": "code",
   "execution_count": 2,
   "metadata": {},
   "outputs": [],
   "source": [
    "spark = SparkSession.builder.appName(\"vaccine_trans\").getOrCreate()"
   ]
  },
  {
   "cell_type": "markdown",
   "metadata": {},
   "source": [
    "# Read data"
   ]
  },
  {
   "cell_type": "code",
   "execution_count": 3,
   "metadata": {},
   "outputs": [],
   "source": [
    "path = '/Users/julianeoliveira/Desktop/github/Datasets from the gitcomputations/Vaccine_covid/vacinacao_transformado.csv'"
   ]
  },
  {
   "cell_type": "code",
   "execution_count": 4,
   "metadata": {},
   "outputs": [],
   "source": [
    "df = spark.read.csv(path, sep=',', header = True, encoding=\"utf-8\", inferSchema = True)"
   ]
  },
  {
   "cell_type": "code",
   "execution_count": 23,
   "metadata": {
    "scrolled": true
   },
   "outputs": [
    {
     "data": {
      "text/html": [
       "<div>\n",
       "<style scoped>\n",
       "    .dataframe tbody tr th:only-of-type {\n",
       "        vertical-align: middle;\n",
       "    }\n",
       "\n",
       "    .dataframe tbody tr th {\n",
       "        vertical-align: top;\n",
       "    }\n",
       "\n",
       "    .dataframe thead th {\n",
       "        text-align: right;\n",
       "    }\n",
       "</style>\n",
       "<table border=\"1\" class=\"dataframe\">\n",
       "  <thead>\n",
       "    <tr style=\"text-align: right;\">\n",
       "      <th></th>\n",
       "      <th>id</th>\n",
       "      <th>uf_res</th>\n",
       "      <th>mun_res</th>\n",
       "      <th>nome_mun_res</th>\n",
       "      <th>1ª dose</th>\n",
       "      <th>1ª dose revacinacao</th>\n",
       "      <th>1º reforco</th>\n",
       "      <th>2ª dose</th>\n",
       "      <th>2ª dose revacinacao</th>\n",
       "      <th>3ª dose</th>\n",
       "      <th>...</th>\n",
       "      <th>three</th>\n",
       "      <th>three_refor</th>\n",
       "      <th>undertermined</th>\n",
       "      <th>adicional</th>\n",
       "      <th>dose_inicial</th>\n",
       "      <th>revac</th>\n",
       "      <th>refor</th>\n",
       "      <th>uni</th>\n",
       "      <th>trat17</th>\n",
       "      <th>trat1</th>\n",
       "    </tr>\n",
       "  </thead>\n",
       "  <tbody>\n",
       "    <tr>\n",
       "      <th>0</th>\n",
       "      <td>00002330ef1b9567153faa7edc1ab061f8d327033c034a...</td>\n",
       "      <td>mg</td>\n",
       "      <td>310710</td>\n",
       "      <td>boa esperanca</td>\n",
       "      <td>2021-09-14,covid-19 pfizer - comirnaty</td>\n",
       "      <td>None</td>\n",
       "      <td>None</td>\n",
       "      <td>None</td>\n",
       "      <td>None</td>\n",
       "      <td>None</td>\n",
       "      <td>...</td>\n",
       "      <td>0</td>\n",
       "      <td>0</td>\n",
       "      <td>0</td>\n",
       "      <td>0</td>\n",
       "      <td>0</td>\n",
       "      <td>0</td>\n",
       "      <td>0</td>\n",
       "      <td>0</td>\n",
       "      <td>0</td>\n",
       "      <td>0</td>\n",
       "    </tr>\n",
       "    <tr>\n",
       "      <th>1</th>\n",
       "      <td>00003f27d1ba5af63189b1dc0a45801094c1c8ff15875f...</td>\n",
       "      <td>ba</td>\n",
       "      <td>292900</td>\n",
       "      <td>sao felix</td>\n",
       "      <td>2021-07-06,covid-19 astrazeneca/fiocruz - covi...</td>\n",
       "      <td>None</td>\n",
       "      <td>None</td>\n",
       "      <td>2021-09-28,covid-19 astrazeneca/fiocruz - covi...</td>\n",
       "      <td>None</td>\n",
       "      <td>None</td>\n",
       "      <td>...</td>\n",
       "      <td>0</td>\n",
       "      <td>0</td>\n",
       "      <td>0</td>\n",
       "      <td>0</td>\n",
       "      <td>0</td>\n",
       "      <td>0</td>\n",
       "      <td>0</td>\n",
       "      <td>0</td>\n",
       "      <td>0</td>\n",
       "      <td>0</td>\n",
       "    </tr>\n",
       "    <tr>\n",
       "      <th>2</th>\n",
       "      <td>00004d5067053ddb6683c90a07a65658e38d868a2763fc...</td>\n",
       "      <td>rj</td>\n",
       "      <td>330040</td>\n",
       "      <td>barra mansa</td>\n",
       "      <td>2021-07-23,covid-19 sinovac/butantan - coronavac</td>\n",
       "      <td>None</td>\n",
       "      <td>None</td>\n",
       "      <td>2021-08-25,covid-19 sinovac/butantan - coronavac</td>\n",
       "      <td>None</td>\n",
       "      <td>None</td>\n",
       "      <td>...</td>\n",
       "      <td>0</td>\n",
       "      <td>0</td>\n",
       "      <td>0</td>\n",
       "      <td>0</td>\n",
       "      <td>0</td>\n",
       "      <td>0</td>\n",
       "      <td>0</td>\n",
       "      <td>0</td>\n",
       "      <td>0</td>\n",
       "      <td>0</td>\n",
       "    </tr>\n",
       "    <tr>\n",
       "      <th>3</th>\n",
       "      <td>00005b66ccccbc8a83ab509f6e30314ede188280b4584e...</td>\n",
       "      <td>mt</td>\n",
       "      <td>510250</td>\n",
       "      <td>caceres</td>\n",
       "      <td>2021-05-07,covid-19 astrazeneca/fiocruz - covi...</td>\n",
       "      <td>None</td>\n",
       "      <td>None</td>\n",
       "      <td>2021-07-20,covid-19 astrazeneca/fiocruz - covi...</td>\n",
       "      <td>None</td>\n",
       "      <td>None</td>\n",
       "      <td>...</td>\n",
       "      <td>0</td>\n",
       "      <td>0</td>\n",
       "      <td>0</td>\n",
       "      <td>0</td>\n",
       "      <td>0</td>\n",
       "      <td>0</td>\n",
       "      <td>0</td>\n",
       "      <td>0</td>\n",
       "      <td>0</td>\n",
       "      <td>0</td>\n",
       "    </tr>\n",
       "    <tr>\n",
       "      <th>4</th>\n",
       "      <td>00006645047542a9c4396635a4c4ee99f7b5d1e643fb99...</td>\n",
       "      <td>rj</td>\n",
       "      <td>330270</td>\n",
       "      <td>marica</td>\n",
       "      <td>2021-06-10,covid-19 astrazeneca/fiocruz - covi...</td>\n",
       "      <td>None</td>\n",
       "      <td>None</td>\n",
       "      <td>2021-09-02,covid-19 astrazeneca/fiocruz - covi...</td>\n",
       "      <td>None</td>\n",
       "      <td>None</td>\n",
       "      <td>...</td>\n",
       "      <td>0</td>\n",
       "      <td>0</td>\n",
       "      <td>0</td>\n",
       "      <td>0</td>\n",
       "      <td>0</td>\n",
       "      <td>0</td>\n",
       "      <td>0</td>\n",
       "      <td>0</td>\n",
       "      <td>0</td>\n",
       "      <td>0</td>\n",
       "    </tr>\n",
       "  </tbody>\n",
       "</table>\n",
       "<p>5 rows × 35 columns</p>\n",
       "</div>"
      ],
      "text/plain": [
       "                                                  id uf_res  mun_res  \\\n",
       "0  00002330ef1b9567153faa7edc1ab061f8d327033c034a...     mg   310710   \n",
       "1  00003f27d1ba5af63189b1dc0a45801094c1c8ff15875f...     ba   292900   \n",
       "2  00004d5067053ddb6683c90a07a65658e38d868a2763fc...     rj   330040   \n",
       "3  00005b66ccccbc8a83ab509f6e30314ede188280b4584e...     mt   510250   \n",
       "4  00006645047542a9c4396635a4c4ee99f7b5d1e643fb99...     rj   330270   \n",
       "\n",
       "    nome_mun_res                                            1ª dose  \\\n",
       "0  boa esperanca             2021-09-14,covid-19 pfizer - comirnaty   \n",
       "1      sao felix  2021-07-06,covid-19 astrazeneca/fiocruz - covi...   \n",
       "2    barra mansa   2021-07-23,covid-19 sinovac/butantan - coronavac   \n",
       "3        caceres  2021-05-07,covid-19 astrazeneca/fiocruz - covi...   \n",
       "4         marica  2021-06-10,covid-19 astrazeneca/fiocruz - covi...   \n",
       "\n",
       "  1ª dose revacinacao 1º reforco  \\\n",
       "0                None       None   \n",
       "1                None       None   \n",
       "2                None       None   \n",
       "3                None       None   \n",
       "4                None       None   \n",
       "\n",
       "                                             2ª dose 2ª dose revacinacao  \\\n",
       "0                                               None                None   \n",
       "1  2021-09-28,covid-19 astrazeneca/fiocruz - covi...                None   \n",
       "2   2021-08-25,covid-19 sinovac/butantan - coronavac                None   \n",
       "3  2021-07-20,covid-19 astrazeneca/fiocruz - covi...                None   \n",
       "4  2021-09-02,covid-19 astrazeneca/fiocruz - covi...                None   \n",
       "\n",
       "  3ª dose  ... three three_refor undertermined adicional dose_inicial revac  \\\n",
       "0    None  ...     0           0             0         0            0     0   \n",
       "1    None  ...     0           0             0         0            0     0   \n",
       "2    None  ...     0           0             0         0            0     0   \n",
       "3    None  ...     0           0             0         0            0     0   \n",
       "4    None  ...     0           0             0         0            0     0   \n",
       "\n",
       "  refor uni trat17  trat1  \n",
       "0     0   0      0      0  \n",
       "1     0   0      0      0  \n",
       "2     0   0      0      0  \n",
       "3     0   0      0      0  \n",
       "4     0   0      0      0  \n",
       "\n",
       "[5 rows x 35 columns]"
      ]
     },
     "execution_count": 23,
     "metadata": {},
     "output_type": "execute_result"
    }
   ],
   "source": [
    "df.limit(5).toPandas() "
   ]
  },
  {
   "cell_type": "code",
   "execution_count": 14,
   "metadata": {
    "scrolled": false
   },
   "outputs": [
    {
     "data": {
      "text/plain": [
       "['id',\n",
       " 'uf_res',\n",
       " 'mun_res',\n",
       " 'nome_mun_res',\n",
       " '1ª dose',\n",
       " '1ª dose revacinacao',\n",
       " '1º reforco',\n",
       " '2ª dose',\n",
       " '2ª dose revacinacao',\n",
       " '3ª dose',\n",
       " '3º reforco',\n",
       " 'dose',\n",
       " 'dose adicional',\n",
       " 'dose inicial',\n",
       " 'reforco',\n",
       " 'revacinacao',\n",
       " 'tratamento com dezessete doses',\n",
       " 'tratamento com uma dose',\n",
       " 'unica']"
      ]
     },
     "execution_count": 14,
     "metadata": {},
     "output_type": "execute_result"
    }
   ],
   "source": [
    "df.columns"
   ]
  },
  {
   "cell_type": "markdown",
   "metadata": {},
   "source": [
    "# Individuals with only one dose"
   ]
  },
  {
   "cell_type": "code",
   "execution_count": 12,
   "metadata": {},
   "outputs": [],
   "source": [
    "df = df.withColumn(\"at_least_one\",when(col('1ª dose').isNotNull(),1).otherwise(0))"
   ]
  },
  {
   "cell_type": "code",
   "execution_count": 8,
   "metadata": {},
   "outputs": [],
   "source": [
    "df = df.withColumn(\"two\",when(col('2ª dose').isNotNull(),1).otherwise(0))"
   ]
  },
  {
   "cell_type": "code",
   "execution_count": 9,
   "metadata": {},
   "outputs": [],
   "source": [
    "df = df.withColumn(\"one_reva\",when(col('1ª dose revacinacao').isNotNull(),1).otherwise(0))"
   ]
  },
  {
   "cell_type": "code",
   "execution_count": 10,
   "metadata": {},
   "outputs": [],
   "source": [
    "df = df.withColumn(\"one_refor\",when(col('1º reforco').isNotNull(),1).otherwise(0))"
   ]
  },
  {
   "cell_type": "code",
   "execution_count": 11,
   "metadata": {},
   "outputs": [],
   "source": [
    "df = df.withColumn(\"two_reva\",when(col('2ª dose revacinacao').isNotNull(),1).otherwise(0))"
   ]
  },
  {
   "cell_type": "code",
   "execution_count": 13,
   "metadata": {},
   "outputs": [],
   "source": [
    "df = df.withColumn(\"three\",when(col('3ª dose').isNotNull(),1).otherwise(0))"
   ]
  },
  {
   "cell_type": "code",
   "execution_count": 14,
   "metadata": {},
   "outputs": [],
   "source": [
    "df = df.withColumn(\"three_refor\",when(col('3º reforco').isNotNull(),1).otherwise(0))"
   ]
  },
  {
   "cell_type": "code",
   "execution_count": 15,
   "metadata": {},
   "outputs": [],
   "source": [
    "df = df.withColumn(\"undertermined\",when(col('dose').isNotNull(),1).otherwise(0))"
   ]
  },
  {
   "cell_type": "code",
   "execution_count": 16,
   "metadata": {},
   "outputs": [],
   "source": [
    "df = df.withColumn(\"adicional\",when(col('dose adicional').isNotNull(),1).otherwise(0))"
   ]
  },
  {
   "cell_type": "code",
   "execution_count": 17,
   "metadata": {},
   "outputs": [],
   "source": [
    "df = df.withColumn(\"dose_inicial\",when(col('dose inicial').isNotNull(),1).otherwise(0))"
   ]
  },
  {
   "cell_type": "code",
   "execution_count": 19,
   "metadata": {},
   "outputs": [],
   "source": [
    "df = df.withColumn(\"refor\",when(col('reforco').isNotNull(),1).otherwise(0))"
   ]
  },
  {
   "cell_type": "code",
   "execution_count": 18,
   "metadata": {},
   "outputs": [],
   "source": [
    "df = df.withColumn(\"revac\",when(col('revacinacao').isNotNull(),1).otherwise(0))"
   ]
  },
  {
   "cell_type": "code",
   "execution_count": 20,
   "metadata": {},
   "outputs": [],
   "source": [
    "df = df.withColumn(\"uni\",when(col('unica').isNotNull(),1).otherwise(0))"
   ]
  },
  {
   "cell_type": "code",
   "execution_count": 21,
   "metadata": {},
   "outputs": [],
   "source": [
    "df = df.withColumn(\"trat17\",when(col('tratamento com dezessete doses').isNotNull(),1).otherwise(0))"
   ]
  },
  {
   "cell_type": "code",
   "execution_count": 22,
   "metadata": {},
   "outputs": [],
   "source": [
    "df = df.withColumn(\"trat1\",when(col('tratamento com uma dose').isNotNull(),1).otherwise(0))"
   ]
  },
  {
   "cell_type": "code",
   "execution_count": 8,
   "metadata": {},
   "outputs": [
    {
     "data": {
      "text/plain": [
       "163201565"
      ]
     },
     "execution_count": 8,
     "metadata": {},
     "output_type": "execute_result"
    }
   ],
   "source": [
    "df.count()"
   ]
  },
  {
   "cell_type": "code",
   "execution_count": 9,
   "metadata": {},
   "outputs": [
    {
     "data": {
      "text/plain": [
       "76.27320335834237"
      ]
     },
     "execution_count": 9,
     "metadata": {},
     "output_type": "execute_result"
    }
   ],
   "source": [
    "163201565*100/213969727"
   ]
  },
  {
   "cell_type": "code",
   "execution_count": 10,
   "metadata": {},
   "outputs": [
    {
     "data": {
      "text/plain": [
       "84.13469660479028"
      ]
     },
     "execution_count": 10,
     "metadata": {},
     "output_type": "execute_result"
    }
   ],
   "source": [
    "163201565*100/193976530"
   ]
  },
  {
   "cell_type": "markdown",
   "metadata": {},
   "source": [
    "# Count number of people vaccinated by state with or withour complete vaccine cicle"
   ]
  },
  {
   "cell_type": "code",
   "execution_count": 5,
   "metadata": {},
   "outputs": [],
   "source": [
    "df.groupby('uf_res').count().coalesce(1).write.format(\"csv\").save(\"/Users/julianeoliveira/Desktop/github/Datasets from the gitcomputations/Vaccine_covid/dose_uf.csv\")#.show(truncate=False)"
   ]
  },
  {
   "cell_type": "code",
   "execution_count": 13,
   "metadata": {},
   "outputs": [
    {
     "data": {
      "text/plain": [
       "648183"
      ]
     },
     "execution_count": 13,
     "metadata": {},
     "output_type": "execute_result"
    }
   ],
   "source": [
    "1502763 - 854580"
   ]
  },
  {
   "cell_type": "code",
   "execution_count": 24,
   "metadata": {},
   "outputs": [
    {
     "data": {
      "text/plain": [
       "['id',\n",
       " 'uf_res',\n",
       " 'mun_res',\n",
       " 'nome_mun_res',\n",
       " '1ª dose',\n",
       " '1ª dose revacinacao',\n",
       " '1º reforco',\n",
       " '2ª dose',\n",
       " '2ª dose revacinacao',\n",
       " '3ª dose',\n",
       " '3º reforco',\n",
       " 'dose',\n",
       " 'dose adicional',\n",
       " 'dose inicial',\n",
       " 'reforco',\n",
       " 'revacinacao',\n",
       " 'tratamento com dezessete doses',\n",
       " 'tratamento com uma dose',\n",
       " 'unica',\n",
       " 'only_one',\n",
       " 'two',\n",
       " 'one_reva',\n",
       " 'one_refor',\n",
       " 'two_reva',\n",
       " 'at_least_one',\n",
       " 'three',\n",
       " 'three_refor',\n",
       " 'undertermined',\n",
       " 'adicional',\n",
       " 'dose_inicial',\n",
       " 'revac',\n",
       " 'refor',\n",
       " 'uni',\n",
       " 'trat17',\n",
       " 'trat1']"
      ]
     },
     "execution_count": 24,
     "metadata": {},
     "output_type": "execute_result"
    }
   ],
   "source": [
    "df.columns"
   ]
  },
  {
   "cell_type": "code",
   "execution_count": 25,
   "metadata": {},
   "outputs": [],
   "source": [
    "col_to_select = ['two',\n",
    " 'one_reva',\n",
    " 'one_refor',\n",
    " 'two_reva',\n",
    " 'at_least_one',\n",
    " 'three',\n",
    " 'three_refor',\n",
    " 'undertermined',\n",
    " 'adicional',\n",
    " 'dose_inicial',\n",
    " 'revac',\n",
    " 'refor',\n",
    " 'uni',\n",
    " 'trat17',\n",
    " 'trat1']"
   ]
  },
  {
   "cell_type": "code",
   "execution_count": 30,
   "metadata": {
    "scrolled": false
   },
   "outputs": [],
   "source": [
    "df.groupby(col_to_select).count().coalesce(1).write.format(\"csv\").save(\"/Users/julianeoliveira/Desktop/github/Datasets from the gitcomputations/Vaccine_covid/dose_count_br.csv\",header=True)#.show(truncate=False)"
   ]
  },
  {
   "cell_type": "markdown",
   "metadata": {},
   "source": []
  },
  {
   "cell_type": "code",
   "execution_count": null,
   "metadata": {},
   "outputs": [],
   "source": []
  }
 ],
 "metadata": {
  "kernelspec": {
   "display_name": "Python 3",
   "language": "python",
   "name": "python3"
  },
  "language_info": {
   "codemirror_mode": {
    "name": "ipython",
    "version": 3
   },
   "file_extension": ".py",
   "mimetype": "text/x-python",
   "name": "python",
   "nbconvert_exporter": "python",
   "pygments_lexer": "ipython3",
   "version": "3.8.5"
  }
 },
 "nbformat": 4,
 "nbformat_minor": 4
}
