{
 "cells": [
  {
   "cell_type": "code",
   "execution_count": 2,
   "metadata": {},
   "outputs": [],
   "source": [
    "import pandas as pd"
   ]
  },
  {
   "cell_type": "markdown",
   "metadata": {},
   "source": [
    "# População"
   ]
  },
  {
   "cell_type": "code",
   "execution_count": null,
   "metadata": {},
   "outputs": [],
   "source": [
    "pop = pd.read_csv('/Users/julianeoliveira/Desktop/github/Datasets from the gitcomputations/Populacao/population.csv')"
   ]
  },
  {
   "cell_type": "markdown",
   "metadata": {},
   "source": [
    "# Contagem das doses administradas e ciclo de vacinação por estados"
   ]
  },
  {
   "cell_type": "code",
   "execution_count": 7,
   "metadata": {},
   "outputs": [],
   "source": [
    "df1 = pd.read_csv('/Users/julianeoliveira/Desktop/github/Datasets from the gitcomputations/Vaccine_covid/data_uf.csv')\n"
   ]
  },
  {
   "cell_type": "code",
   "execution_count": 8,
   "metadata": {
    "scrolled": false
   },
   "outputs": [
    {
     "data": {
      "text/html": [
       "<div>\n",
       "<style scoped>\n",
       "    .dataframe tbody tr th:only-of-type {\n",
       "        vertical-align: middle;\n",
       "    }\n",
       "\n",
       "    .dataframe tbody tr th {\n",
       "        vertical-align: top;\n",
       "    }\n",
       "\n",
       "    .dataframe thead th {\n",
       "        text-align: right;\n",
       "    }\n",
       "</style>\n",
       "<table border=\"1\" class=\"dataframe\">\n",
       "  <thead>\n",
       "    <tr style=\"text-align: right;\">\n",
       "      <th></th>\n",
       "      <th>cod_uf</th>\n",
       "      <th>POPULACAO</th>\n",
       "      <th>cod_ufIbge</th>\n",
       "      <th>uf_nome</th>\n",
       "      <th>num_people_vaccinated</th>\n",
       "      <th>only_one</th>\n",
       "      <th>cicle_complete</th>\n",
       "      <th>num_doses</th>\n",
       "    </tr>\n",
       "  </thead>\n",
       "  <tbody>\n",
       "    <tr>\n",
       "      <th>0</th>\n",
       "      <td>RO</td>\n",
       "      <td>1823332</td>\n",
       "      <td>11</td>\n",
       "      <td>Rondônia</td>\n",
       "      <td>1279086</td>\n",
       "      <td>301726</td>\n",
       "      <td>935775</td>\n",
       "      <td>2306806</td>\n",
       "    </tr>\n",
       "    <tr>\n",
       "      <th>1</th>\n",
       "      <td>AC</td>\n",
       "      <td>912465</td>\n",
       "      <td>12</td>\n",
       "      <td>Acre</td>\n",
       "      <td>593150</td>\n",
       "      <td>159539</td>\n",
       "      <td>420673</td>\n",
       "      <td>1030458</td>\n",
       "    </tr>\n",
       "    <tr>\n",
       "      <th>2</th>\n",
       "      <td>AM</td>\n",
       "      <td>4297638</td>\n",
       "      <td>13</td>\n",
       "      <td>Amazonas</td>\n",
       "      <td>2643231</td>\n",
       "      <td>682283</td>\n",
       "      <td>1904331</td>\n",
       "      <td>4734933</td>\n",
       "    </tr>\n",
       "    <tr>\n",
       "      <th>3</th>\n",
       "      <td>RR</td>\n",
       "      <td>650007</td>\n",
       "      <td>14</td>\n",
       "      <td>Roraima</td>\n",
       "      <td>388925</td>\n",
       "      <td>128102</td>\n",
       "      <td>249633</td>\n",
       "      <td>652799</td>\n",
       "    </tr>\n",
       "    <tr>\n",
       "      <th>4</th>\n",
       "      <td>PA</td>\n",
       "      <td>8815726</td>\n",
       "      <td>15</td>\n",
       "      <td>Pará</td>\n",
       "      <td>5315968</td>\n",
       "      <td>1678185</td>\n",
       "      <td>3504721</td>\n",
       "      <td>9076730</td>\n",
       "    </tr>\n",
       "  </tbody>\n",
       "</table>\n",
       "</div>"
      ],
      "text/plain": [
       "  cod_uf  POPULACAO  cod_ufIbge   uf_nome  num_people_vaccinated  only_one  \\\n",
       "0     RO    1823332          11  Rondônia                1279086    301726   \n",
       "1     AC     912465          12      Acre                 593150    159539   \n",
       "2     AM    4297638          13  Amazonas                2643231    682283   \n",
       "3     RR     650007          14   Roraima                 388925    128102   \n",
       "4     PA    8815726          15      Pará                5315968   1678185   \n",
       "\n",
       "   cicle_complete  num_doses  \n",
       "0          935775    2306806  \n",
       "1          420673    1030458  \n",
       "2         1904331    4734933  \n",
       "3          249633     652799  \n",
       "4         3504721    9076730  "
      ]
     },
     "execution_count": 8,
     "metadata": {},
     "output_type": "execute_result"
    }
   ],
   "source": [
    "df1.head()"
   ]
  },
  {
   "cell_type": "code",
   "execution_count": null,
   "metadata": {},
   "outputs": [],
   "source": []
  },
  {
   "cell_type": "markdown",
   "metadata": {},
   "source": [
    "# Contagem do periodo dos ciclos vacinais por estado"
   ]
  },
  {
   "cell_type": "code",
   "execution_count": 48,
   "metadata": {},
   "outputs": [],
   "source": [
    "temp = pd.read_csv('/Users/julianeoliveira/Downloads/completo_no_tempo_3.csv')"
   ]
  },
  {
   "cell_type": "code",
   "execution_count": 291,
   "metadata": {
    "scrolled": true
   },
   "outputs": [
    {
     "data": {
      "text/html": [
       "<div>\n",
       "<style scoped>\n",
       "    .dataframe tbody tr th:only-of-type {\n",
       "        vertical-align: middle;\n",
       "    }\n",
       "\n",
       "    .dataframe tbody tr th {\n",
       "        vertical-align: top;\n",
       "    }\n",
       "\n",
       "    .dataframe thead th {\n",
       "        text-align: right;\n",
       "    }\n",
       "</style>\n",
       "<table border=\"1\" class=\"dataframe\">\n",
       "  <thead>\n",
       "    <tr style=\"text-align: right;\">\n",
       "      <th></th>\n",
       "      <th>uf_res</th>\n",
       "      <th>somente_pri_maior_6</th>\n",
       "      <th>somente_pri_maior_2_menor_6</th>\n",
       "      <th>somente_pri_menor_2</th>\n",
       "      <th>ciclo_completo_s_reforco_maior_6</th>\n",
       "      <th>ciclo_completo_s_reforco_maior_2_menor_6</th>\n",
       "      <th>ciclo_completo_s_reforco_menor_2</th>\n",
       "      <th>ciclo_completo_c_reforco_maior_6</th>\n",
       "      <th>ciclo_completo_c_reforco_maior_2_menor_6</th>\n",
       "      <th>ciclo_completo_c_reforco_menor_2</th>\n",
       "      <th>...</th>\n",
       "      <th>tot_completo com reforco</th>\n",
       "      <th>somente_pri_maior_6_percent</th>\n",
       "      <th>somente_pri_maior_2_menor_6_percent</th>\n",
       "      <th>somente_pri_menor_2_percent</th>\n",
       "      <th>ciclo_completo_s_reforco_maior_6_percent</th>\n",
       "      <th>ciclo_completo_s_reforco_maior_2_menor_6_percent</th>\n",
       "      <th>ciclo_completo_s_reforco_menor_2_percent</th>\n",
       "      <th>ciclo_completo_c_reforco_maior_6_percent</th>\n",
       "      <th>ciclo_completo_c_reforco_maior_2_menor_6_percent</th>\n",
       "      <th>ciclo_completo_c_reforco_menor_2_percent</th>\n",
       "    </tr>\n",
       "  </thead>\n",
       "  <tbody>\n",
       "    <tr>\n",
       "      <th>0</th>\n",
       "      <td>pi</td>\n",
       "      <td>52019</td>\n",
       "      <td>377686</td>\n",
       "      <td>153503</td>\n",
       "      <td>151589</td>\n",
       "      <td>1132417</td>\n",
       "      <td>513317</td>\n",
       "      <td>145243</td>\n",
       "      <td>0</td>\n",
       "      <td>0</td>\n",
       "      <td>...</td>\n",
       "      <td>145243</td>\n",
       "      <td>1.202424</td>\n",
       "      <td>1.456000</td>\n",
       "      <td>3.273716</td>\n",
       "      <td>1.506711</td>\n",
       "      <td>1.558178</td>\n",
       "      <td>2.078133</td>\n",
       "      <td>1.427084</td>\n",
       "      <td>NaN</td>\n",
       "      <td>0.000000</td>\n",
       "    </tr>\n",
       "    <tr>\n",
       "      <th>1</th>\n",
       "      <td>pr</td>\n",
       "      <td>155904</td>\n",
       "      <td>932169</td>\n",
       "      <td>549097</td>\n",
       "      <td>417432</td>\n",
       "      <td>4463134</td>\n",
       "      <td>1569511</td>\n",
       "      <td>730337</td>\n",
       "      <td>0</td>\n",
       "      <td>0</td>\n",
       "      <td>...</td>\n",
       "      <td>730337</td>\n",
       "      <td>3.603735</td>\n",
       "      <td>3.593563</td>\n",
       "      <td>11.710439</td>\n",
       "      <td>4.149042</td>\n",
       "      <td>6.141162</td>\n",
       "      <td>6.354072</td>\n",
       "      <td>7.175921</td>\n",
       "      <td>NaN</td>\n",
       "      <td>0.000000</td>\n",
       "    </tr>\n",
       "    <tr>\n",
       "      <th>2</th>\n",
       "      <td>rj</td>\n",
       "      <td>451406</td>\n",
       "      <td>2294326</td>\n",
       "      <td>166124</td>\n",
       "      <td>844319</td>\n",
       "      <td>5465482</td>\n",
       "      <td>1962359</td>\n",
       "      <td>617445</td>\n",
       "      <td>0</td>\n",
       "      <td>123</td>\n",
       "      <td>...</td>\n",
       "      <td>617568</td>\n",
       "      <td>10.434291</td>\n",
       "      <td>8.844752</td>\n",
       "      <td>3.542880</td>\n",
       "      <td>8.392062</td>\n",
       "      <td>7.520369</td>\n",
       "      <td>7.944494</td>\n",
       "      <td>6.066702</td>\n",
       "      <td>NaN</td>\n",
       "      <td>37.386018</td>\n",
       "    </tr>\n",
       "    <tr>\n",
       "      <th>3</th>\n",
       "      <td>pb</td>\n",
       "      <td>76287</td>\n",
       "      <td>566040</td>\n",
       "      <td>162055</td>\n",
       "      <td>220896</td>\n",
       "      <td>1224137</td>\n",
       "      <td>684673</td>\n",
       "      <td>235298</td>\n",
       "      <td>0</td>\n",
       "      <td>0</td>\n",
       "      <td>...</td>\n",
       "      <td>235298</td>\n",
       "      <td>1.763381</td>\n",
       "      <td>2.182115</td>\n",
       "      <td>3.456102</td>\n",
       "      <td>2.195584</td>\n",
       "      <td>1.684382</td>\n",
       "      <td>2.771858</td>\n",
       "      <td>2.311919</td>\n",
       "      <td>NaN</td>\n",
       "      <td>0.000000</td>\n",
       "    </tr>\n",
       "    <tr>\n",
       "      <th>4</th>\n",
       "      <td>ro</td>\n",
       "      <td>33613</td>\n",
       "      <td>231300</td>\n",
       "      <td>37734</td>\n",
       "      <td>77999</td>\n",
       "      <td>480116</td>\n",
       "      <td>274221</td>\n",
       "      <td>59316</td>\n",
       "      <td>0</td>\n",
       "      <td>84</td>\n",
       "      <td>...</td>\n",
       "      <td>59400</td>\n",
       "      <td>0.776968</td>\n",
       "      <td>0.891674</td>\n",
       "      <td>0.804743</td>\n",
       "      <td>0.775267</td>\n",
       "      <td>0.660628</td>\n",
       "      <td>1.110167</td>\n",
       "      <td>0.582809</td>\n",
       "      <td>NaN</td>\n",
       "      <td>25.531915</td>\n",
       "    </tr>\n",
       "    <tr>\n",
       "      <th>5</th>\n",
       "      <td>ba</td>\n",
       "      <td>482196</td>\n",
       "      <td>2276143</td>\n",
       "      <td>395016</td>\n",
       "      <td>772401</td>\n",
       "      <td>4163595</td>\n",
       "      <td>1729582</td>\n",
       "      <td>491335</td>\n",
       "      <td>0</td>\n",
       "      <td>0</td>\n",
       "      <td>...</td>\n",
       "      <td>491335</td>\n",
       "      <td>11.146005</td>\n",
       "      <td>8.774656</td>\n",
       "      <td>8.424397</td>\n",
       "      <td>7.677237</td>\n",
       "      <td>5.729004</td>\n",
       "      <td>7.002110</td>\n",
       "      <td>4.827609</td>\n",
       "      <td>NaN</td>\n",
       "      <td>0.000000</td>\n",
       "    </tr>\n",
       "    <tr>\n",
       "      <th>6</th>\n",
       "      <td>ms</td>\n",
       "      <td>58661</td>\n",
       "      <td>276652</td>\n",
       "      <td>35584</td>\n",
       "      <td>137028</td>\n",
       "      <td>1000973</td>\n",
       "      <td>192945</td>\n",
       "      <td>68413</td>\n",
       "      <td>0</td>\n",
       "      <td>38</td>\n",
       "      <td>...</td>\n",
       "      <td>68451</td>\n",
       "      <td>1.355954</td>\n",
       "      <td>1.066509</td>\n",
       "      <td>0.758890</td>\n",
       "      <td>1.361982</td>\n",
       "      <td>1.377314</td>\n",
       "      <td>0.781126</td>\n",
       "      <td>0.672191</td>\n",
       "      <td>NaN</td>\n",
       "      <td>11.550152</td>\n",
       "    </tr>\n",
       "    <tr>\n",
       "      <th>7</th>\n",
       "      <td>mg</td>\n",
       "      <td>408101</td>\n",
       "      <td>2739643</td>\n",
       "      <td>503732</td>\n",
       "      <td>1054039</td>\n",
       "      <td>7128497</td>\n",
       "      <td>2946656</td>\n",
       "      <td>1088557</td>\n",
       "      <td>0</td>\n",
       "      <td>5</td>\n",
       "      <td>...</td>\n",
       "      <td>1088562</td>\n",
       "      <td>9.433292</td>\n",
       "      <td>10.561474</td>\n",
       "      <td>10.742953</td>\n",
       "      <td>10.476563</td>\n",
       "      <td>9.808636</td>\n",
       "      <td>11.929362</td>\n",
       "      <td>10.695610</td>\n",
       "      <td>NaN</td>\n",
       "      <td>1.519757</td>\n",
       "    </tr>\n",
       "    <tr>\n",
       "      <th>8</th>\n",
       "      <td>go</td>\n",
       "      <td>114615</td>\n",
       "      <td>953091</td>\n",
       "      <td>195702</td>\n",
       "      <td>295488</td>\n",
       "      <td>2171244</td>\n",
       "      <td>958484</td>\n",
       "      <td>356553</td>\n",
       "      <td>0</td>\n",
       "      <td>2</td>\n",
       "      <td>...</td>\n",
       "      <td>356555</td>\n",
       "      <td>2.649336</td>\n",
       "      <td>3.674218</td>\n",
       "      <td>4.173682</td>\n",
       "      <td>2.936987</td>\n",
       "      <td>2.987578</td>\n",
       "      <td>3.880366</td>\n",
       "      <td>3.503309</td>\n",
       "      <td>NaN</td>\n",
       "      <td>0.607903</td>\n",
       "    </tr>\n",
       "    <tr>\n",
       "      <th>9</th>\n",
       "      <td>sc</td>\n",
       "      <td>103645</td>\n",
       "      <td>716041</td>\n",
       "      <td>220972</td>\n",
       "      <td>294866</td>\n",
       "      <td>2739474</td>\n",
       "      <td>1047854</td>\n",
       "      <td>340512</td>\n",
       "      <td>0</td>\n",
       "      <td>0</td>\n",
       "      <td>...</td>\n",
       "      <td>340512</td>\n",
       "      <td>2.395764</td>\n",
       "      <td>2.760377</td>\n",
       "      <td>4.712609</td>\n",
       "      <td>2.930804</td>\n",
       "      <td>3.769449</td>\n",
       "      <td>4.242175</td>\n",
       "      <td>3.345698</td>\n",
       "      <td>NaN</td>\n",
       "      <td>0.000000</td>\n",
       "    </tr>\n",
       "    <tr>\n",
       "      <th>10</th>\n",
       "      <td>es</td>\n",
       "      <td>62519</td>\n",
       "      <td>453036</td>\n",
       "      <td>78449</td>\n",
       "      <td>116885</td>\n",
       "      <td>1326070</td>\n",
       "      <td>531524</td>\n",
       "      <td>111027</td>\n",
       "      <td>0</td>\n",
       "      <td>0</td>\n",
       "      <td>...</td>\n",
       "      <td>111027</td>\n",
       "      <td>1.445132</td>\n",
       "      <td>1.746479</td>\n",
       "      <td>1.673060</td>\n",
       "      <td>1.161772</td>\n",
       "      <td>1.824640</td>\n",
       "      <td>2.151843</td>\n",
       "      <td>1.090895</td>\n",
       "      <td>NaN</td>\n",
       "      <td>0.000000</td>\n",
       "    </tr>\n",
       "    <tr>\n",
       "      <th>11</th>\n",
       "      <td>rs</td>\n",
       "      <td>177356</td>\n",
       "      <td>961440</td>\n",
       "      <td>323257</td>\n",
       "      <td>578505</td>\n",
       "      <td>4304964</td>\n",
       "      <td>1392288</td>\n",
       "      <td>932770</td>\n",
       "      <td>0</td>\n",
       "      <td>4</td>\n",
       "      <td>...</td>\n",
       "      <td>932774</td>\n",
       "      <td>4.099600</td>\n",
       "      <td>3.706404</td>\n",
       "      <td>6.894012</td>\n",
       "      <td>5.750019</td>\n",
       "      <td>5.923524</td>\n",
       "      <td>5.636595</td>\n",
       "      <td>9.164925</td>\n",
       "      <td>NaN</td>\n",
       "      <td>1.215805</td>\n",
       "    </tr>\n",
       "    <tr>\n",
       "      <th>12</th>\n",
       "      <td>rn</td>\n",
       "      <td>40305</td>\n",
       "      <td>399596</td>\n",
       "      <td>90888</td>\n",
       "      <td>141084</td>\n",
       "      <td>1197231</td>\n",
       "      <td>510681</td>\n",
       "      <td>196700</td>\n",
       "      <td>0</td>\n",
       "      <td>4</td>\n",
       "      <td>...</td>\n",
       "      <td>196704</td>\n",
       "      <td>0.931654</td>\n",
       "      <td>1.540464</td>\n",
       "      <td>1.938343</td>\n",
       "      <td>1.402297</td>\n",
       "      <td>1.647360</td>\n",
       "      <td>2.067462</td>\n",
       "      <td>1.932675</td>\n",
       "      <td>NaN</td>\n",
       "      <td>1.215805</td>\n",
       "    </tr>\n",
       "    <tr>\n",
       "      <th>13</th>\n",
       "      <td>pe</td>\n",
       "      <td>231686</td>\n",
       "      <td>1368837</td>\n",
       "      <td>287514</td>\n",
       "      <td>461323</td>\n",
       "      <td>2781392</td>\n",
       "      <td>1190717</td>\n",
       "      <td>397625</td>\n",
       "      <td>0</td>\n",
       "      <td>1</td>\n",
       "      <td>...</td>\n",
       "      <td>397626</td>\n",
       "      <td>5.355443</td>\n",
       "      <td>5.276942</td>\n",
       "      <td>6.131731</td>\n",
       "      <td>4.585295</td>\n",
       "      <td>3.827127</td>\n",
       "      <td>4.820547</td>\n",
       "      <td>3.906862</td>\n",
       "      <td>NaN</td>\n",
       "      <td>0.303951</td>\n",
       "    </tr>\n",
       "    <tr>\n",
       "      <th>14</th>\n",
       "      <td>ce</td>\n",
       "      <td>262994</td>\n",
       "      <td>1173702</td>\n",
       "      <td>212120</td>\n",
       "      <td>455838</td>\n",
       "      <td>2809880</td>\n",
       "      <td>1104015</td>\n",
       "      <td>352563</td>\n",
       "      <td>0</td>\n",
       "      <td>2</td>\n",
       "      <td>...</td>\n",
       "      <td>352565</td>\n",
       "      <td>6.079130</td>\n",
       "      <td>4.524685</td>\n",
       "      <td>4.523824</td>\n",
       "      <td>4.530777</td>\n",
       "      <td>3.866326</td>\n",
       "      <td>4.469539</td>\n",
       "      <td>3.464105</td>\n",
       "      <td>NaN</td>\n",
       "      <td>0.607903</td>\n",
       "    </tr>\n",
       "    <tr>\n",
       "      <th>15</th>\n",
       "      <td>ap</td>\n",
       "      <td>18772</td>\n",
       "      <td>174464</td>\n",
       "      <td>11030</td>\n",
       "      <td>46328</td>\n",
       "      <td>185204</td>\n",
       "      <td>44463</td>\n",
       "      <td>8403</td>\n",
       "      <td>0</td>\n",
       "      <td>0</td>\n",
       "      <td>...</td>\n",
       "      <td>8403</td>\n",
       "      <td>0.433916</td>\n",
       "      <td>0.672568</td>\n",
       "      <td>0.235234</td>\n",
       "      <td>0.460475</td>\n",
       "      <td>0.254836</td>\n",
       "      <td>0.180006</td>\n",
       "      <td>0.082564</td>\n",
       "      <td>NaN</td>\n",
       "      <td>0.000000</td>\n",
       "    </tr>\n",
       "    <tr>\n",
       "      <th>16</th>\n",
       "      <td>sp</td>\n",
       "      <td>844418</td>\n",
       "      <td>4935738</td>\n",
       "      <td>426178</td>\n",
       "      <td>2228031</td>\n",
       "      <td>20278879</td>\n",
       "      <td>4192353</td>\n",
       "      <td>2966705</td>\n",
       "      <td>0</td>\n",
       "      <td>4</td>\n",
       "      <td>...</td>\n",
       "      <td>2966709</td>\n",
       "      <td>19.518799</td>\n",
       "      <td>19.027540</td>\n",
       "      <td>9.088980</td>\n",
       "      <td>22.145391</td>\n",
       "      <td>27.903238</td>\n",
       "      <td>16.972493</td>\n",
       "      <td>29.149340</td>\n",
       "      <td>NaN</td>\n",
       "      <td>1.215805</td>\n",
       "    </tr>\n",
       "    <tr>\n",
       "      <th>17</th>\n",
       "      <td>al</td>\n",
       "      <td>50962</td>\n",
       "      <td>503448</td>\n",
       "      <td>90146</td>\n",
       "      <td>160553</td>\n",
       "      <td>945618</td>\n",
       "      <td>434746</td>\n",
       "      <td>133775</td>\n",
       "      <td>0</td>\n",
       "      <td>2</td>\n",
       "      <td>...</td>\n",
       "      <td>133777</td>\n",
       "      <td>1.177991</td>\n",
       "      <td>1.940820</td>\n",
       "      <td>1.922519</td>\n",
       "      <td>1.595808</td>\n",
       "      <td>1.301147</td>\n",
       "      <td>1.760043</td>\n",
       "      <td>1.314405</td>\n",
       "      <td>NaN</td>\n",
       "      <td>0.607903</td>\n",
       "    </tr>\n",
       "    <tr>\n",
       "      <th>18</th>\n",
       "      <td>xx</td>\n",
       "      <td>909</td>\n",
       "      <td>3926</td>\n",
       "      <td>480</td>\n",
       "      <td>1309</td>\n",
       "      <td>13462</td>\n",
       "      <td>3127</td>\n",
       "      <td>1432</td>\n",
       "      <td>0</td>\n",
       "      <td>0</td>\n",
       "      <td>...</td>\n",
       "      <td>1432</td>\n",
       "      <td>0.021012</td>\n",
       "      <td>0.015135</td>\n",
       "      <td>0.010237</td>\n",
       "      <td>0.013011</td>\n",
       "      <td>0.018523</td>\n",
       "      <td>0.012659</td>\n",
       "      <td>0.014070</td>\n",
       "      <td>NaN</td>\n",
       "      <td>0.000000</td>\n",
       "    </tr>\n",
       "    <tr>\n",
       "      <th>19</th>\n",
       "      <td>ac</td>\n",
       "      <td>14986</td>\n",
       "      <td>130209</td>\n",
       "      <td>14826</td>\n",
       "      <td>52694</td>\n",
       "      <td>278415</td>\n",
       "      <td>65356</td>\n",
       "      <td>15066</td>\n",
       "      <td>0</td>\n",
       "      <td>0</td>\n",
       "      <td>...</td>\n",
       "      <td>15066</td>\n",
       "      <td>0.346403</td>\n",
       "      <td>0.501963</td>\n",
       "      <td>0.316190</td>\n",
       "      <td>0.523749</td>\n",
       "      <td>0.383092</td>\n",
       "      <td>0.264590</td>\n",
       "      <td>0.148031</td>\n",
       "      <td>NaN</td>\n",
       "      <td>0.000000</td>\n",
       "    </tr>\n",
       "    <tr>\n",
       "      <th>20</th>\n",
       "      <td>mt</td>\n",
       "      <td>54272</td>\n",
       "      <td>485255</td>\n",
       "      <td>146447</td>\n",
       "      <td>163880</td>\n",
       "      <td>1065884</td>\n",
       "      <td>484111</td>\n",
       "      <td>120386</td>\n",
       "      <td>0</td>\n",
       "      <td>25</td>\n",
       "      <td>...</td>\n",
       "      <td>120411</td>\n",
       "      <td>1.254502</td>\n",
       "      <td>1.870685</td>\n",
       "      <td>3.123235</td>\n",
       "      <td>1.628876</td>\n",
       "      <td>1.466630</td>\n",
       "      <td>1.959895</td>\n",
       "      <td>1.182852</td>\n",
       "      <td>NaN</td>\n",
       "      <td>7.598784</td>\n",
       "    </tr>\n",
       "    <tr>\n",
       "      <th>21</th>\n",
       "      <td>rr</td>\n",
       "      <td>13785</td>\n",
       "      <td>95986</td>\n",
       "      <td>18815</td>\n",
       "      <td>40487</td>\n",
       "      <td>127794</td>\n",
       "      <td>57455</td>\n",
       "      <td>15965</td>\n",
       "      <td>0</td>\n",
       "      <td>0</td>\n",
       "      <td>...</td>\n",
       "      <td>15965</td>\n",
       "      <td>0.318642</td>\n",
       "      <td>0.370031</td>\n",
       "      <td>0.401262</td>\n",
       "      <td>0.402418</td>\n",
       "      <td>0.175841</td>\n",
       "      <td>0.232603</td>\n",
       "      <td>0.156864</td>\n",
       "      <td>NaN</td>\n",
       "      <td>0.000000</td>\n",
       "    </tr>\n",
       "    <tr>\n",
       "      <th>22</th>\n",
       "      <td>ma</td>\n",
       "      <td>172461</td>\n",
       "      <td>864078</td>\n",
       "      <td>160758</td>\n",
       "      <td>293273</td>\n",
       "      <td>1969447</td>\n",
       "      <td>578868</td>\n",
       "      <td>142883</td>\n",
       "      <td>0</td>\n",
       "      <td>0</td>\n",
       "      <td>...</td>\n",
       "      <td>142883</td>\n",
       "      <td>3.986452</td>\n",
       "      <td>3.331068</td>\n",
       "      <td>3.428441</td>\n",
       "      <td>2.914971</td>\n",
       "      <td>2.709911</td>\n",
       "      <td>2.343513</td>\n",
       "      <td>1.403896</td>\n",
       "      <td>NaN</td>\n",
       "      <td>0.000000</td>\n",
       "    </tr>\n",
       "    <tr>\n",
       "      <th>23</th>\n",
       "      <td>pa</td>\n",
       "      <td>178333</td>\n",
       "      <td>1338239</td>\n",
       "      <td>169098</td>\n",
       "      <td>397562</td>\n",
       "      <td>1917127</td>\n",
       "      <td>864909</td>\n",
       "      <td>178449</td>\n",
       "      <td>0</td>\n",
       "      <td>32</td>\n",
       "      <td>...</td>\n",
       "      <td>178481</td>\n",
       "      <td>4.122184</td>\n",
       "      <td>5.158985</td>\n",
       "      <td>3.606306</td>\n",
       "      <td>3.951546</td>\n",
       "      <td>2.637920</td>\n",
       "      <td>3.501533</td>\n",
       "      <td>1.753349</td>\n",
       "      <td>NaN</td>\n",
       "      <td>9.726444</td>\n",
       "    </tr>\n",
       "    <tr>\n",
       "      <th>24</th>\n",
       "      <td>df</td>\n",
       "      <td>42770</td>\n",
       "      <td>413792</td>\n",
       "      <td>44421</td>\n",
       "      <td>129432</td>\n",
       "      <td>1019393</td>\n",
       "      <td>420249</td>\n",
       "      <td>155101</td>\n",
       "      <td>0</td>\n",
       "      <td>0</td>\n",
       "      <td>...</td>\n",
       "      <td>155101</td>\n",
       "      <td>0.988632</td>\n",
       "      <td>1.595191</td>\n",
       "      <td>0.947354</td>\n",
       "      <td>1.286482</td>\n",
       "      <td>1.402660</td>\n",
       "      <td>1.701353</td>\n",
       "      <td>1.523944</td>\n",
       "      <td>NaN</td>\n",
       "      <td>0.000000</td>\n",
       "    </tr>\n",
       "    <tr>\n",
       "      <th>25</th>\n",
       "      <td>se</td>\n",
       "      <td>64568</td>\n",
       "      <td>354422</td>\n",
       "      <td>42542</td>\n",
       "      <td>104379</td>\n",
       "      <td>656302</td>\n",
       "      <td>273245</td>\n",
       "      <td>68399</td>\n",
       "      <td>0</td>\n",
       "      <td>0</td>\n",
       "      <td>...</td>\n",
       "      <td>68399</td>\n",
       "      <td>1.492495</td>\n",
       "      <td>1.366316</td>\n",
       "      <td>0.907281</td>\n",
       "      <td>1.037469</td>\n",
       "      <td>0.903055</td>\n",
       "      <td>1.106216</td>\n",
       "      <td>0.672054</td>\n",
       "      <td>NaN</td>\n",
       "      <td>0.000000</td>\n",
       "    </tr>\n",
       "    <tr>\n",
       "      <th>26</th>\n",
       "      <td>am</td>\n",
       "      <td>94615</td>\n",
       "      <td>506683</td>\n",
       "      <td>84090</td>\n",
       "      <td>285350</td>\n",
       "      <td>1076377</td>\n",
       "      <td>342482</td>\n",
       "      <td>144356</td>\n",
       "      <td>0</td>\n",
       "      <td>1</td>\n",
       "      <td>...</td>\n",
       "      <td>144357</td>\n",
       "      <td>2.187034</td>\n",
       "      <td>1.953291</td>\n",
       "      <td>1.793364</td>\n",
       "      <td>2.836221</td>\n",
       "      <td>1.481068</td>\n",
       "      <td>1.386518</td>\n",
       "      <td>1.418369</td>\n",
       "      <td>NaN</td>\n",
       "      <td>0.303951</td>\n",
       "    </tr>\n",
       "    <tr>\n",
       "      <th>27</th>\n",
       "      <td>to</td>\n",
       "      <td>21628</td>\n",
       "      <td>243642</td>\n",
       "      <td>36275</td>\n",
       "      <td>72924</td>\n",
       "      <td>432393</td>\n",
       "      <td>206627</td>\n",
       "      <td>58107</td>\n",
       "      <td>0</td>\n",
       "      <td>1</td>\n",
       "      <td>...</td>\n",
       "      <td>58108</td>\n",
       "      <td>0.499933</td>\n",
       "      <td>0.939253</td>\n",
       "      <td>0.773627</td>\n",
       "      <td>0.724824</td>\n",
       "      <td>0.594962</td>\n",
       "      <td>0.836517</td>\n",
       "      <td>0.570930</td>\n",
       "      <td>NaN</td>\n",
       "      <td>0.303951</td>\n",
       "    </tr>\n",
       "    <tr>\n",
       "      <th>28</th>\n",
       "      <td>NaN</td>\n",
       "      <td>42392</td>\n",
       "      <td>170385</td>\n",
       "      <td>32100</td>\n",
       "      <td>65030</td>\n",
       "      <td>320818</td>\n",
       "      <td>124050</td>\n",
       "      <td>44885</td>\n",
       "      <td>0</td>\n",
       "      <td>1</td>\n",
       "      <td>...</td>\n",
       "      <td>44886</td>\n",
       "      <td>0.979895</td>\n",
       "      <td>0.656843</td>\n",
       "      <td>0.684588</td>\n",
       "      <td>0.646362</td>\n",
       "      <td>0.441438</td>\n",
       "      <td>0.502209</td>\n",
       "      <td>0.441017</td>\n",
       "      <td>NaN</td>\n",
       "      <td>0.303951</td>\n",
       "    </tr>\n",
       "  </tbody>\n",
       "</table>\n",
       "<p>29 rows × 23 columns</p>\n",
       "</div>"
      ],
      "text/plain": [
       "   uf_res  somente_pri_maior_6  somente_pri_maior_2_menor_6  \\\n",
       "0      pi                52019                       377686   \n",
       "1      pr               155904                       932169   \n",
       "2      rj               451406                      2294326   \n",
       "3      pb                76287                       566040   \n",
       "4      ro                33613                       231300   \n",
       "5      ba               482196                      2276143   \n",
       "6      ms                58661                       276652   \n",
       "7      mg               408101                      2739643   \n",
       "8      go               114615                       953091   \n",
       "9      sc               103645                       716041   \n",
       "10     es                62519                       453036   \n",
       "11     rs               177356                       961440   \n",
       "12     rn                40305                       399596   \n",
       "13     pe               231686                      1368837   \n",
       "14     ce               262994                      1173702   \n",
       "15     ap                18772                       174464   \n",
       "16     sp               844418                      4935738   \n",
       "17     al                50962                       503448   \n",
       "18     xx                  909                         3926   \n",
       "19     ac                14986                       130209   \n",
       "20     mt                54272                       485255   \n",
       "21     rr                13785                        95986   \n",
       "22     ma               172461                       864078   \n",
       "23     pa               178333                      1338239   \n",
       "24     df                42770                       413792   \n",
       "25     se                64568                       354422   \n",
       "26     am                94615                       506683   \n",
       "27     to                21628                       243642   \n",
       "28    NaN                42392                       170385   \n",
       "\n",
       "    somente_pri_menor_2  ciclo_completo_s_reforco_maior_6  \\\n",
       "0                153503                            151589   \n",
       "1                549097                            417432   \n",
       "2                166124                            844319   \n",
       "3                162055                            220896   \n",
       "4                 37734                             77999   \n",
       "5                395016                            772401   \n",
       "6                 35584                            137028   \n",
       "7                503732                           1054039   \n",
       "8                195702                            295488   \n",
       "9                220972                            294866   \n",
       "10                78449                            116885   \n",
       "11               323257                            578505   \n",
       "12                90888                            141084   \n",
       "13               287514                            461323   \n",
       "14               212120                            455838   \n",
       "15                11030                             46328   \n",
       "16               426178                           2228031   \n",
       "17                90146                            160553   \n",
       "18                  480                              1309   \n",
       "19                14826                             52694   \n",
       "20               146447                            163880   \n",
       "21                18815                             40487   \n",
       "22               160758                            293273   \n",
       "23               169098                            397562   \n",
       "24                44421                            129432   \n",
       "25                42542                            104379   \n",
       "26                84090                            285350   \n",
       "27                36275                             72924   \n",
       "28                32100                             65030   \n",
       "\n",
       "    ciclo_completo_s_reforco_maior_2_menor_6  \\\n",
       "0                                    1132417   \n",
       "1                                    4463134   \n",
       "2                                    5465482   \n",
       "3                                    1224137   \n",
       "4                                     480116   \n",
       "5                                    4163595   \n",
       "6                                    1000973   \n",
       "7                                    7128497   \n",
       "8                                    2171244   \n",
       "9                                    2739474   \n",
       "10                                   1326070   \n",
       "11                                   4304964   \n",
       "12                                   1197231   \n",
       "13                                   2781392   \n",
       "14                                   2809880   \n",
       "15                                    185204   \n",
       "16                                  20278879   \n",
       "17                                    945618   \n",
       "18                                     13462   \n",
       "19                                    278415   \n",
       "20                                   1065884   \n",
       "21                                    127794   \n",
       "22                                   1969447   \n",
       "23                                   1917127   \n",
       "24                                   1019393   \n",
       "25                                    656302   \n",
       "26                                   1076377   \n",
       "27                                    432393   \n",
       "28                                    320818   \n",
       "\n",
       "    ciclo_completo_s_reforco_menor_2  ciclo_completo_c_reforco_maior_6  \\\n",
       "0                             513317                            145243   \n",
       "1                            1569511                            730337   \n",
       "2                            1962359                            617445   \n",
       "3                             684673                            235298   \n",
       "4                             274221                             59316   \n",
       "5                            1729582                            491335   \n",
       "6                             192945                             68413   \n",
       "7                            2946656                           1088557   \n",
       "8                             958484                            356553   \n",
       "9                            1047854                            340512   \n",
       "10                            531524                            111027   \n",
       "11                           1392288                            932770   \n",
       "12                            510681                            196700   \n",
       "13                           1190717                            397625   \n",
       "14                           1104015                            352563   \n",
       "15                             44463                              8403   \n",
       "16                           4192353                           2966705   \n",
       "17                            434746                            133775   \n",
       "18                              3127                              1432   \n",
       "19                             65356                             15066   \n",
       "20                            484111                            120386   \n",
       "21                             57455                             15965   \n",
       "22                            578868                            142883   \n",
       "23                            864909                            178449   \n",
       "24                            420249                            155101   \n",
       "25                            273245                             68399   \n",
       "26                            342482                            144356   \n",
       "27                            206627                             58107   \n",
       "28                            124050                             44885   \n",
       "\n",
       "    ciclo_completo_c_reforco_maior_2_menor_6  \\\n",
       "0                                          0   \n",
       "1                                          0   \n",
       "2                                          0   \n",
       "3                                          0   \n",
       "4                                          0   \n",
       "5                                          0   \n",
       "6                                          0   \n",
       "7                                          0   \n",
       "8                                          0   \n",
       "9                                          0   \n",
       "10                                         0   \n",
       "11                                         0   \n",
       "12                                         0   \n",
       "13                                         0   \n",
       "14                                         0   \n",
       "15                                         0   \n",
       "16                                         0   \n",
       "17                                         0   \n",
       "18                                         0   \n",
       "19                                         0   \n",
       "20                                         0   \n",
       "21                                         0   \n",
       "22                                         0   \n",
       "23                                         0   \n",
       "24                                         0   \n",
       "25                                         0   \n",
       "26                                         0   \n",
       "27                                         0   \n",
       "28                                         0   \n",
       "\n",
       "    ciclo_completo_c_reforco_menor_2  ...  tot_completo com reforco  \\\n",
       "0                                  0  ...                    145243   \n",
       "1                                  0  ...                    730337   \n",
       "2                                123  ...                    617568   \n",
       "3                                  0  ...                    235298   \n",
       "4                                 84  ...                     59400   \n",
       "5                                  0  ...                    491335   \n",
       "6                                 38  ...                     68451   \n",
       "7                                  5  ...                   1088562   \n",
       "8                                  2  ...                    356555   \n",
       "9                                  0  ...                    340512   \n",
       "10                                 0  ...                    111027   \n",
       "11                                 4  ...                    932774   \n",
       "12                                 4  ...                    196704   \n",
       "13                                 1  ...                    397626   \n",
       "14                                 2  ...                    352565   \n",
       "15                                 0  ...                      8403   \n",
       "16                                 4  ...                   2966709   \n",
       "17                                 2  ...                    133777   \n",
       "18                                 0  ...                      1432   \n",
       "19                                 0  ...                     15066   \n",
       "20                                25  ...                    120411   \n",
       "21                                 0  ...                     15965   \n",
       "22                                 0  ...                    142883   \n",
       "23                                32  ...                    178481   \n",
       "24                                 0  ...                    155101   \n",
       "25                                 0  ...                     68399   \n",
       "26                                 1  ...                    144357   \n",
       "27                                 1  ...                     58108   \n",
       "28                                 1  ...                     44886   \n",
       "\n",
       "    somente_pri_maior_6_percent  somente_pri_maior_2_menor_6_percent  \\\n",
       "0                      1.202424                             1.456000   \n",
       "1                      3.603735                             3.593563   \n",
       "2                     10.434291                             8.844752   \n",
       "3                      1.763381                             2.182115   \n",
       "4                      0.776968                             0.891674   \n",
       "5                     11.146005                             8.774656   \n",
       "6                      1.355954                             1.066509   \n",
       "7                      9.433292                            10.561474   \n",
       "8                      2.649336                             3.674218   \n",
       "9                      2.395764                             2.760377   \n",
       "10                     1.445132                             1.746479   \n",
       "11                     4.099600                             3.706404   \n",
       "12                     0.931654                             1.540464   \n",
       "13                     5.355443                             5.276942   \n",
       "14                     6.079130                             4.524685   \n",
       "15                     0.433916                             0.672568   \n",
       "16                    19.518799                            19.027540   \n",
       "17                     1.177991                             1.940820   \n",
       "18                     0.021012                             0.015135   \n",
       "19                     0.346403                             0.501963   \n",
       "20                     1.254502                             1.870685   \n",
       "21                     0.318642                             0.370031   \n",
       "22                     3.986452                             3.331068   \n",
       "23                     4.122184                             5.158985   \n",
       "24                     0.988632                             1.595191   \n",
       "25                     1.492495                             1.366316   \n",
       "26                     2.187034                             1.953291   \n",
       "27                     0.499933                             0.939253   \n",
       "28                     0.979895                             0.656843   \n",
       "\n",
       "    somente_pri_menor_2_percent  ciclo_completo_s_reforco_maior_6_percent  \\\n",
       "0                      3.273716                                  1.506711   \n",
       "1                     11.710439                                  4.149042   \n",
       "2                      3.542880                                  8.392062   \n",
       "3                      3.456102                                  2.195584   \n",
       "4                      0.804743                                  0.775267   \n",
       "5                      8.424397                                  7.677237   \n",
       "6                      0.758890                                  1.361982   \n",
       "7                     10.742953                                 10.476563   \n",
       "8                      4.173682                                  2.936987   \n",
       "9                      4.712609                                  2.930804   \n",
       "10                     1.673060                                  1.161772   \n",
       "11                     6.894012                                  5.750019   \n",
       "12                     1.938343                                  1.402297   \n",
       "13                     6.131731                                  4.585295   \n",
       "14                     4.523824                                  4.530777   \n",
       "15                     0.235234                                  0.460475   \n",
       "16                     9.088980                                 22.145391   \n",
       "17                     1.922519                                  1.595808   \n",
       "18                     0.010237                                  0.013011   \n",
       "19                     0.316190                                  0.523749   \n",
       "20                     3.123235                                  1.628876   \n",
       "21                     0.401262                                  0.402418   \n",
       "22                     3.428441                                  2.914971   \n",
       "23                     3.606306                                  3.951546   \n",
       "24                     0.947354                                  1.286482   \n",
       "25                     0.907281                                  1.037469   \n",
       "26                     1.793364                                  2.836221   \n",
       "27                     0.773627                                  0.724824   \n",
       "28                     0.684588                                  0.646362   \n",
       "\n",
       "    ciclo_completo_s_reforco_maior_2_menor_6_percent  \\\n",
       "0                                           1.558178   \n",
       "1                                           6.141162   \n",
       "2                                           7.520369   \n",
       "3                                           1.684382   \n",
       "4                                           0.660628   \n",
       "5                                           5.729004   \n",
       "6                                           1.377314   \n",
       "7                                           9.808636   \n",
       "8                                           2.987578   \n",
       "9                                           3.769449   \n",
       "10                                          1.824640   \n",
       "11                                          5.923524   \n",
       "12                                          1.647360   \n",
       "13                                          3.827127   \n",
       "14                                          3.866326   \n",
       "15                                          0.254836   \n",
       "16                                         27.903238   \n",
       "17                                          1.301147   \n",
       "18                                          0.018523   \n",
       "19                                          0.383092   \n",
       "20                                          1.466630   \n",
       "21                                          0.175841   \n",
       "22                                          2.709911   \n",
       "23                                          2.637920   \n",
       "24                                          1.402660   \n",
       "25                                          0.903055   \n",
       "26                                          1.481068   \n",
       "27                                          0.594962   \n",
       "28                                          0.441438   \n",
       "\n",
       "    ciclo_completo_s_reforco_menor_2_percent  \\\n",
       "0                                   2.078133   \n",
       "1                                   6.354072   \n",
       "2                                   7.944494   \n",
       "3                                   2.771858   \n",
       "4                                   1.110167   \n",
       "5                                   7.002110   \n",
       "6                                   0.781126   \n",
       "7                                  11.929362   \n",
       "8                                   3.880366   \n",
       "9                                   4.242175   \n",
       "10                                  2.151843   \n",
       "11                                  5.636595   \n",
       "12                                  2.067462   \n",
       "13                                  4.820547   \n",
       "14                                  4.469539   \n",
       "15                                  0.180006   \n",
       "16                                 16.972493   \n",
       "17                                  1.760043   \n",
       "18                                  0.012659   \n",
       "19                                  0.264590   \n",
       "20                                  1.959895   \n",
       "21                                  0.232603   \n",
       "22                                  2.343513   \n",
       "23                                  3.501533   \n",
       "24                                  1.701353   \n",
       "25                                  1.106216   \n",
       "26                                  1.386518   \n",
       "27                                  0.836517   \n",
       "28                                  0.502209   \n",
       "\n",
       "    ciclo_completo_c_reforco_maior_6_percent  \\\n",
       "0                                   1.427084   \n",
       "1                                   7.175921   \n",
       "2                                   6.066702   \n",
       "3                                   2.311919   \n",
       "4                                   0.582809   \n",
       "5                                   4.827609   \n",
       "6                                   0.672191   \n",
       "7                                  10.695610   \n",
       "8                                   3.503309   \n",
       "9                                   3.345698   \n",
       "10                                  1.090895   \n",
       "11                                  9.164925   \n",
       "12                                  1.932675   \n",
       "13                                  3.906862   \n",
       "14                                  3.464105   \n",
       "15                                  0.082564   \n",
       "16                                 29.149340   \n",
       "17                                  1.314405   \n",
       "18                                  0.014070   \n",
       "19                                  0.148031   \n",
       "20                                  1.182852   \n",
       "21                                  0.156864   \n",
       "22                                  1.403896   \n",
       "23                                  1.753349   \n",
       "24                                  1.523944   \n",
       "25                                  0.672054   \n",
       "26                                  1.418369   \n",
       "27                                  0.570930   \n",
       "28                                  0.441017   \n",
       "\n",
       "    ciclo_completo_c_reforco_maior_2_menor_6_percent  \\\n",
       "0                                                NaN   \n",
       "1                                                NaN   \n",
       "2                                                NaN   \n",
       "3                                                NaN   \n",
       "4                                                NaN   \n",
       "5                                                NaN   \n",
       "6                                                NaN   \n",
       "7                                                NaN   \n",
       "8                                                NaN   \n",
       "9                                                NaN   \n",
       "10                                               NaN   \n",
       "11                                               NaN   \n",
       "12                                               NaN   \n",
       "13                                               NaN   \n",
       "14                                               NaN   \n",
       "15                                               NaN   \n",
       "16                                               NaN   \n",
       "17                                               NaN   \n",
       "18                                               NaN   \n",
       "19                                               NaN   \n",
       "20                                               NaN   \n",
       "21                                               NaN   \n",
       "22                                               NaN   \n",
       "23                                               NaN   \n",
       "24                                               NaN   \n",
       "25                                               NaN   \n",
       "26                                               NaN   \n",
       "27                                               NaN   \n",
       "28                                               NaN   \n",
       "\n",
       "    ciclo_completo_c_reforco_menor_2_percent  \n",
       "0                                   0.000000  \n",
       "1                                   0.000000  \n",
       "2                                  37.386018  \n",
       "3                                   0.000000  \n",
       "4                                  25.531915  \n",
       "5                                   0.000000  \n",
       "6                                  11.550152  \n",
       "7                                   1.519757  \n",
       "8                                   0.607903  \n",
       "9                                   0.000000  \n",
       "10                                  0.000000  \n",
       "11                                  1.215805  \n",
       "12                                  1.215805  \n",
       "13                                  0.303951  \n",
       "14                                  0.607903  \n",
       "15                                  0.000000  \n",
       "16                                  1.215805  \n",
       "17                                  0.607903  \n",
       "18                                  0.000000  \n",
       "19                                  0.000000  \n",
       "20                                  7.598784  \n",
       "21                                  0.000000  \n",
       "22                                  0.000000  \n",
       "23                                  9.726444  \n",
       "24                                  0.000000  \n",
       "25                                  0.000000  \n",
       "26                                  0.303951  \n",
       "27                                  0.303951  \n",
       "28                                  0.303951  \n",
       "\n",
       "[29 rows x 23 columns]"
      ]
     },
     "execution_count": 291,
     "metadata": {},
     "output_type": "execute_result"
    }
   ],
   "source": [
    "temp"
   ]
  },
  {
   "cell_type": "code",
   "execution_count": 297,
   "metadata": {},
   "outputs": [
    {
     "data": {
      "text/plain": [
       "34.900000000000006"
      ]
     },
     "execution_count": 297,
     "metadata": {},
     "output_type": "execute_result"
    }
   ],
   "source": []
  },
  {
   "cell_type": "code",
   "execution_count": 58,
   "metadata": {},
   "outputs": [
    {
     "data": {
      "text/plain": [
       "8.919459266676727"
      ]
     },
     "execution_count": 58,
     "metadata": {},
     "output_type": "execute_result"
    }
   ],
   "source": [
    "52019*100/(52019+377686+153503)"
   ]
  },
  {
   "cell_type": "code",
   "execution_count": 59,
   "metadata": {},
   "outputs": [
    {
     "data": {
      "text/plain": [
       "64.76008559553367"
      ]
     },
     "execution_count": 59,
     "metadata": {},
     "output_type": "execute_result"
    }
   ],
   "source": [
    "377686*100/(52019+377686+153503)"
   ]
  },
  {
   "cell_type": "code",
   "execution_count": 60,
   "metadata": {},
   "outputs": [
    {
     "data": {
      "text/plain": [
       "26.320455137789605"
      ]
     },
     "execution_count": 60,
     "metadata": {},
     "output_type": "execute_result"
    }
   ],
   "source": [
    "153503*100/(52019+377686+153503)"
   ]
  },
  {
   "cell_type": "code",
   "execution_count": 71,
   "metadata": {},
   "outputs": [],
   "source": [
    "temp.filter(['uf_res','somente_pri_maior_6_percent',\n",
    "             'somente_pri_maior_2_menor_6_percent',\n",
    "             'somente_pri_menor_2_percent',\n",
    "            'ciclo_completo_s_reforco_maior_6_percent',\n",
    "            'ciclo_completo_s_reforco_maior_2_menor_6_percent',\n",
    "            'ciclo_completo_s_reforco_menor_2_percent',\n",
    "            'ciclo_completo_c_reforco_maior_6_percent',\n",
    "            'ciclo_completo_c_reforco_maior_2_menor_6_percent',\n",
    "            'ciclo_completo_c_reforco_menor_2_percent']).to_csv('/Users/julianeoliveira/Downloads/completo_no_tempo_SO_PERCENT.csv')"
   ]
  },
  {
   "cell_type": "code",
   "execution_count": 53,
   "metadata": {},
   "outputs": [],
   "source": [
    "temp['somente_pri_maior_6_percent'] = temp['somente_pri_maior_6']*100/temp['somente_pri_maior_6'].sum()"
   ]
  },
  {
   "cell_type": "code",
   "execution_count": 61,
   "metadata": {},
   "outputs": [],
   "source": [
    "temp['somente_pri_maior_2_menor_6_percent'] = temp['somente_pri_maior_2_menor_6']*100/temp['somente_pri_maior_2_menor_6'].sum()"
   ]
  },
  {
   "cell_type": "code",
   "execution_count": 63,
   "metadata": {},
   "outputs": [],
   "source": [
    "temp['somente_pri_menor_2_percent'] = temp['somente_pri_menor_2']*100/temp['somente_pri_menor_2'].sum()"
   ]
  },
  {
   "cell_type": "code",
   "execution_count": 66,
   "metadata": {},
   "outputs": [
    {
     "data": {
      "text/plain": [
       "Index(['uf_res', 'somente_pri_maior_6', 'somente_pri_maior_2_menor_6',\n",
       "       'somente_pri_menor_2', 'ciclo_completo_s_reforco_maior_6',\n",
       "       'ciclo_completo_s_reforco_maior_2_menor_6',\n",
       "       'ciclo_completo_s_reforco_menor_2', 'ciclo_completo_c_reforco_maior_6',\n",
       "       'ciclo_completo_c_reforco_maior_2_menor_6',\n",
       "       'ciclo_completo_c_reforco_menor_2', 'tot', 'tot_uma dose',\n",
       "       'tot_completo sem reforco', 'tot_completo com reforco',\n",
       "       'somente_pri_maior_6_percent', 'somente_pri_maior_2_menor_6_percent',\n",
       "       'somente_pri_menor_2_percent'],\n",
       "      dtype='object')"
      ]
     },
     "execution_count": 66,
     "metadata": {},
     "output_type": "execute_result"
    }
   ],
   "source": [
    "temp.columns"
   ]
  },
  {
   "cell_type": "code",
   "execution_count": 53,
   "metadata": {},
   "outputs": [],
   "source": [
    "temp['somente_pri_maior_6_percent'] = temp['somente_pri_maior_6']*100/temp['somente_pri_maior_6'].sum()"
   ]
  },
  {
   "cell_type": "code",
   "execution_count": 61,
   "metadata": {},
   "outputs": [],
   "source": [
    "temp['somente_pri_maior_2_menor_6_percent'] = temp['somente_pri_maior_2_menor_6']*100/temp['somente_pri_maior_2_menor_6'].sum()"
   ]
  },
  {
   "cell_type": "code",
   "execution_count": 63,
   "metadata": {},
   "outputs": [],
   "source": [
    "temp['somente_pri_menor_2_percent'] = temp['somente_pri_menor_2']*100/temp['somente_pri_menor_2'].sum()"
   ]
  },
  {
   "cell_type": "code",
   "execution_count": 67,
   "metadata": {},
   "outputs": [],
   "source": [
    "temp['ciclo_completo_s_reforco_maior_6_percent'] = temp['ciclo_completo_s_reforco_maior_6']*100/temp['ciclo_completo_s_reforco_maior_6'].sum()\n",
    "\n",
    "temp['ciclo_completo_s_reforco_maior_2_menor_6_percent'] = temp['ciclo_completo_s_reforco_maior_2_menor_6']*100/temp['ciclo_completo_s_reforco_maior_2_menor_6'].sum()\n",
    "\n",
    "temp['ciclo_completo_s_reforco_menor_2_percent'] = temp['ciclo_completo_s_reforco_menor_2']*100/temp['ciclo_completo_s_reforco_menor_2'].sum()"
   ]
  },
  {
   "cell_type": "code",
   "execution_count": 69,
   "metadata": {},
   "outputs": [],
   "source": [
    "temp['ciclo_completo_c_reforco_maior_6_percent'] = temp['ciclo_completo_c_reforco_maior_6']*100/temp['ciclo_completo_c_reforco_maior_6'].sum()\n",
    "\n",
    "temp['ciclo_completo_c_reforco_maior_2_menor_6_percent'] = temp['ciclo_completo_c_reforco_maior_2_menor_6']*100/temp['ciclo_completo_c_reforco_maior_2_menor_6'].sum()\n",
    "\n",
    "temp['ciclo_completo_c_reforco_menor_2_percent'] = temp['ciclo_completo_c_reforco_menor_2']*100/temp['ciclo_completo_c_reforco_menor_2'].sum()"
   ]
  },
  {
   "cell_type": "code",
   "execution_count": 50,
   "metadata": {},
   "outputs": [],
   "source": [
    "temp['tot'] = temp.iloc[:, 1:10].sum(axis=1)\n",
    "\n",
    "temp['tot_uma dose'] = temp.iloc[:, 1:4].sum(axis=1)\n",
    "\n",
    "temp['tot_completo sem reforco'] = temp.iloc[:, 4:7].sum(axis=1)\n",
    "\n",
    "temp['tot_completo com reforco'] = temp.iloc[:, 7:10].sum(axis=1)"
   ]
  },
  {
   "cell_type": "code",
   "execution_count": 294,
   "metadata": {
    "scrolled": true
   },
   "outputs": [],
   "source": [
    "temp_perc = temp.filter(['uf_res','somente_pri_maior_6_percent',\n",
    "             'somente_pri_maior_2_menor_6_percent',\n",
    "             'somente_pri_menor_2_percent',\n",
    "            'ciclo_completo_s_reforco_maior_6_percent',\n",
    "            'ciclo_completo_s_reforco_maior_2_menor_6_percent',\n",
    "            'ciclo_completo_s_reforco_menor_2_percent',\n",
    "            'ciclo_completo_c_reforco_maior_6_percent',\n",
    "            'ciclo_completo_c_reforco_maior_2_menor_6_percent',\n",
    "            'ciclo_completo_c_reforco_menor_2_percent'])"
   ]
  },
  {
   "cell_type": "code",
   "execution_count": 296,
   "metadata": {},
   "outputs": [
    {
     "data": {
      "text/plain": [
       "100.0"
      ]
     },
     "execution_count": 296,
     "metadata": {},
     "output_type": "execute_result"
    }
   ],
   "source": [
    "temp_perc['somente_pri_maior_6_percent'].sum()"
   ]
  },
  {
   "cell_type": "markdown",
   "metadata": {},
   "source": [
    "# Tipo de vacinas por estado"
   ]
  },
  {
   "cell_type": "code",
   "execution_count": null,
   "metadata": {},
   "outputs": [],
   "source": [
    "tipo = pd.read_csv('/Users/julianeoliveira/Desktop/github/Datasets from the gitcomputations/Vaccine_covid/tipoVac_uf.csv')"
   ]
  },
  {
   "cell_type": "code",
   "execution_count": null,
   "metadata": {},
   "outputs": [],
   "source": [
    "tipo.head()"
   ]
  },
  {
   "cell_type": "markdown",
   "metadata": {},
   "source": [
    "# Variantes"
   ]
  },
  {
   "cell_type": "code",
   "execution_count": 75,
   "metadata": {},
   "outputs": [],
   "source": [
    "var = pd.read_excel('/Users/julianeoliveira/Desktop/github/Datasets from the gitcomputations/Vaccine_covid/Data.xlsx')"
   ]
  },
  {
   "cell_type": "code",
   "execution_count": 77,
   "metadata": {
    "scrolled": true
   },
   "outputs": [
    {
     "data": {
      "text/html": [
       "<div>\n",
       "<style scoped>\n",
       "    .dataframe tbody tr th:only-of-type {\n",
       "        vertical-align: middle;\n",
       "    }\n",
       "\n",
       "    .dataframe tbody tr th {\n",
       "        vertical-align: top;\n",
       "    }\n",
       "\n",
       "    .dataframe thead th {\n",
       "        text-align: right;\n",
       "    }\n",
       "</style>\n",
       "<table border=\"1\" class=\"dataframe\">\n",
       "  <thead>\n",
       "    <tr style=\"text-align: right;\">\n",
       "      <th></th>\n",
       "      <th>Período</th>\n",
       "      <th>Estado</th>\n",
       "      <th>Laboratório</th>\n",
       "      <th>Variante</th>\n",
       "      <th>Classificação</th>\n",
       "      <th>Quantidade</th>\n",
       "    </tr>\n",
       "  </thead>\n",
       "  <tbody>\n",
       "    <tr>\n",
       "      <th>0</th>\n",
       "      <td>Dez 2021</td>\n",
       "      <td>Distrito Federal</td>\n",
       "      <td>Outros</td>\n",
       "      <td>BA.1 (Omicron)</td>\n",
       "      <td>VOC/VOI</td>\n",
       "      <td>1</td>\n",
       "    </tr>\n",
       "    <tr>\n",
       "      <th>1</th>\n",
       "      <td>Dez 2021</td>\n",
       "      <td>Mato Grosso do Sul</td>\n",
       "      <td>Outros</td>\n",
       "      <td>AY.4.2 (Delta)</td>\n",
       "      <td>VOC/VOI</td>\n",
       "      <td>1</td>\n",
       "    </tr>\n",
       "    <tr>\n",
       "      <th>2</th>\n",
       "      <td>Dez 2021</td>\n",
       "      <td>Mato Grosso do Sul</td>\n",
       "      <td>Outros</td>\n",
       "      <td>AY.46.3 (Delta)</td>\n",
       "      <td>VOC/VOI</td>\n",
       "      <td>1</td>\n",
       "    </tr>\n",
       "    <tr>\n",
       "      <th>3</th>\n",
       "      <td>Dez 2021</td>\n",
       "      <td>Rio Grande do Sul</td>\n",
       "      <td>Outros</td>\n",
       "      <td>BA.1 (Omicron)</td>\n",
       "      <td>VOC/VOI</td>\n",
       "      <td>1</td>\n",
       "    </tr>\n",
       "    <tr>\n",
       "      <th>4</th>\n",
       "      <td>Dez 2021</td>\n",
       "      <td>Santa Catarina</td>\n",
       "      <td>FIOCRUZ</td>\n",
       "      <td>AY.4 (Delta)</td>\n",
       "      <td>VOC/VOI</td>\n",
       "      <td>1</td>\n",
       "    </tr>\n",
       "  </tbody>\n",
       "</table>\n",
       "</div>"
      ],
      "text/plain": [
       "    Período              Estado Laboratório         Variante Classificação  \\\n",
       "0  Dez 2021    Distrito Federal      Outros   BA.1 (Omicron)       VOC/VOI   \n",
       "1  Dez 2021  Mato Grosso do Sul      Outros   AY.4.2 (Delta)       VOC/VOI   \n",
       "2  Dez 2021  Mato Grosso do Sul      Outros  AY.46.3 (Delta)       VOC/VOI   \n",
       "3  Dez 2021   Rio Grande do Sul      Outros   BA.1 (Omicron)       VOC/VOI   \n",
       "4  Dez 2021      Santa Catarina     FIOCRUZ     AY.4 (Delta)       VOC/VOI   \n",
       "\n",
       "   Quantidade  \n",
       "0           1  \n",
       "1           1  \n",
       "2           1  \n",
       "3           1  \n",
       "4           1  "
      ]
     },
     "execution_count": 77,
     "metadata": {},
     "output_type": "execute_result"
    }
   ],
   "source": [
    "var.head()"
   ]
  },
  {
   "cell_type": "code",
   "execution_count": 81,
   "metadata": {},
   "outputs": [
    {
     "data": {
      "text/plain": [
       "79858"
      ]
     },
     "execution_count": 81,
     "metadata": {},
     "output_type": "execute_result"
    }
   ],
   "source": [
    "sum(count_uf['Quantidade'])"
   ]
  },
  {
   "cell_type": "code",
   "execution_count": 78,
   "metadata": {},
   "outputs": [],
   "source": [
    "count_uf = var.groupby(['Estado'])['Quantidade'].sum().reset_index().sort_values(by=['Quantidade'])"
   ]
  },
  {
   "cell_type": "code",
   "execution_count": 79,
   "metadata": {},
   "outputs": [],
   "source": [
    "count_uf['quant_per'] = count_uf['Quantidade']*100/sum(count_uf['Quantidade'])"
   ]
  },
  {
   "cell_type": "code",
   "execution_count": 83,
   "metadata": {
    "scrolled": false
   },
   "outputs": [
    {
     "data": {
      "text/html": [
       "<div>\n",
       "<style scoped>\n",
       "    .dataframe tbody tr th:only-of-type {\n",
       "        vertical-align: middle;\n",
       "    }\n",
       "\n",
       "    .dataframe tbody tr th {\n",
       "        vertical-align: top;\n",
       "    }\n",
       "\n",
       "    .dataframe thead th {\n",
       "        text-align: right;\n",
       "    }\n",
       "</style>\n",
       "<table border=\"1\" class=\"dataframe\">\n",
       "  <thead>\n",
       "    <tr style=\"text-align: right;\">\n",
       "      <th></th>\n",
       "      <th>Estado</th>\n",
       "      <th>Quantidade</th>\n",
       "      <th>quant_per</th>\n",
       "    </tr>\n",
       "  </thead>\n",
       "  <tbody>\n",
       "    <tr>\n",
       "      <th>17</th>\n",
       "      <td>Piauí</td>\n",
       "      <td>171</td>\n",
       "      <td>0.214130</td>\n",
       "    </tr>\n",
       "    <tr>\n",
       "      <th>21</th>\n",
       "      <td>Rondônia</td>\n",
       "      <td>173</td>\n",
       "      <td>0.216635</td>\n",
       "    </tr>\n",
       "    <tr>\n",
       "      <th>0</th>\n",
       "      <td>Acre</td>\n",
       "      <td>204</td>\n",
       "      <td>0.255453</td>\n",
       "    </tr>\n",
       "    <tr>\n",
       "      <th>22</th>\n",
       "      <td>Roraima</td>\n",
       "      <td>245</td>\n",
       "      <td>0.306795</td>\n",
       "    </tr>\n",
       "    <tr>\n",
       "      <th>26</th>\n",
       "      <td>Tocantins</td>\n",
       "      <td>271</td>\n",
       "      <td>0.339352</td>\n",
       "    </tr>\n",
       "  </tbody>\n",
       "</table>\n",
       "</div>"
      ],
      "text/plain": [
       "       Estado  Quantidade  quant_per\n",
       "17      Piauí         171   0.214130\n",
       "21   Rondônia         173   0.216635\n",
       "0        Acre         204   0.255453\n",
       "22    Roraima         245   0.306795\n",
       "26  Tocantins         271   0.339352"
      ]
     },
     "execution_count": 83,
     "metadata": {},
     "output_type": "execute_result"
    }
   ],
   "source": [
    "count_uf.head()"
   ]
  },
  {
   "cell_type": "code",
   "execution_count": 85,
   "metadata": {},
   "outputs": [],
   "source": [
    "var['Variante'].unique();"
   ]
  },
  {
   "cell_type": "code",
   "execution_count": 101,
   "metadata": {},
   "outputs": [],
   "source": [
    "var['nome_var'] = var['Variante']"
   ]
  },
  {
   "cell_type": "code",
   "execution_count": 102,
   "metadata": {},
   "outputs": [],
   "source": [
    "var['nome_var'] = var['nome_var'].replace('BA.1 (Omicron)', 'Omicron')"
   ]
  },
  {
   "cell_type": "code",
   "execution_count": 103,
   "metadata": {},
   "outputs": [],
   "source": [
    "var['nome_var'] = var['nome_var'].replace([ 'AY.46.6 (Delta)',\n",
    "       'AY.24 (Delta)','AY.13 (Delta)', 'AY.96 (Delta)','AY.38 (Delta)',\n",
    "         'AY.53 (Delta)','AY.98 (Delta)','AY.35 (Delta)', 'AY.61 (Delta)',\n",
    "          'AY.5.4 (Delta)', 'AY.102 (Delta)', 'AY.43.3 (Delta)',\n",
    "       'AY.45 (Delta)', 'AY.51 (Delta)','AY.49 (Delta)', 'AY.94 (Delta)', 'AY.108 (Delta)',\n",
    "       'AY.22 (Delta)', 'AY.71 (Delta)','AY.20 (Delta)', 'AY.41 (Delta)',\n",
    "       'AY.116.1 (Delta)', 'AY.118 (Delta)', 'AY.121 (Delta)',\n",
    "       'AY.122.1 (Delta)', 'AY.5.1 (Delta)', 'AY.5.3 (Delta)',\n",
    "       'AY.60 (Delta)', 'AY.62 (Delta)', 'AY.75.2 (Delta)','AY.111 (Delta)',\n",
    "       'AY.106 (Delta)', 'AY.113 (Delta)', 'AY.125 (Delta)',\n",
    "       'AY.75 (Delta)','AY.103 (Delta)',\n",
    "       'AY.116 (Delta)', 'AY.120 (Delta)', 'AY.26 (Delta)',\n",
    "       'AY.36 (Delta)', 'AY.99 (Delta)', 'AY.100 (Delta)',\n",
    "       'AY.117 (Delta)', 'AY.119 (Delta)', 'AY.124 (Delta)',\n",
    "       'AY.3 (Delta)', 'AY.39 (Delta)', 'AY.42 (Delta)', 'AY.46 (Delta)',\n",
    "       'AY.5 (Delta)', 'AY.52 (Delta)', 'AY.6 (Delta)', 'AY.88 (Delta)',\n",
    "       'AY.9.2 (Delta)', 'AY.92 (Delta)', 'AY.98.1 (Delta)','AY.4.2 (Delta)', 'AY.46.3 (Delta)',\n",
    "       'AY.4 (Delta)', 'AY.101 (Delta)', 'AY.99.2 (Delta)',\n",
    "       'AY.43.1 (Delta)', 'AY.122 (Delta)', 'AY.43 (Delta)',\n",
    "       'AY.34 (Delta)', 'AY.34.1 (Delta)', 'AY.43.2 (Delta)',\n",
    "       'AY.99.1 (Delta)', 'B.1.617.2 (Delta)', 'AY.44 (Delta)',\n",
    "       'AY.25 (Delta)', 'AY.47 (Delta)'], 'Delta')"
   ]
  },
  {
   "cell_type": "code",
   "execution_count": 104,
   "metadata": {},
   "outputs": [],
   "source": [
    "var['nome_var'] = var['nome_var'].replace(['P.1 (Gama)', 'P.1.14 (Gama)','P.1.7 (Gama)', 'P.1.4 (Gama)',\n",
    "       'P.1.6 (Gama)', 'P.1.10 (Gama)', 'P.1.8 (Gama)',\n",
    "       'P.1.11 (Gama)', 'P.1.12 (Gama)', 'P.1.13 (Gama)', 'P.1.9 (Gama)', 'P.1.17 (Gama)',\n",
    "      'P.1.15 (Gama)',\n",
    "       'P.1.16 (Gama)', 'P.1.5 (Gama)','P.1.3 (Gama)'], 'Gama')"
   ]
  },
  {
   "cell_type": "code",
   "execution_count": 106,
   "metadata": {},
   "outputs": [],
   "source": [
    "var['nome_var'] = var['nome_var'].replace(['B.1.621 (Mu)'], 'Mu')"
   ]
  },
  {
   "cell_type": "code",
   "execution_count": 108,
   "metadata": {},
   "outputs": [],
   "source": [
    "var['nome_var'] = var['nome_var'].replace(['B.1.351 (Beta)'], 'Beta')"
   ]
  },
  {
   "cell_type": "code",
   "execution_count": 110,
   "metadata": {},
   "outputs": [],
   "source": [
    "var['nome_var'] = var['nome_var'].replace(['B.1.1.7 (Alfa)', 'Q.1 (Alfa)'], 'Alfa')  "
   ]
  },
  {
   "cell_type": "code",
   "execution_count": 111,
   "metadata": {},
   "outputs": [],
   "source": [
    "var['nome_var'] = var['nome_var'].replace([ 'C.37 (Lambda)'], 'Lambda')  "
   ]
  },
  {
   "cell_type": "code",
   "execution_count": 112,
   "metadata": {},
   "outputs": [],
   "source": [
    "var['nome_var'] = var['nome_var'].replace([  'B.1.335', 'B.1.397', 'B.1','B', 'A.2.5', 'P.4', 'P.5',\n",
    "       'B.1.1.28','B.1.1', 'B.1.1.318', 'B.1.631', 'P.2', 'B.1.177.86', 'C.36.3.1', 'B.1.78', 'N.10', 'A',\n",
    "       'B.1.1.46', 'N.9', 'P.7', 'B.1.1.277', 'B.1.1.371',\n",
    "       'B.1.1.161', 'B.1.1.33', 'B.1.1.464', 'B.1.1.332', 'B.1.243',\n",
    "       'B.1.324', 'B.1.1.348', 'B.1.525', 'C.14', 'B.1.214.3', 'B.1.581',\n",
    "       'B.1.177.32', 'B.1.1.376', 'B.1.1.274', 'C.36', 'B.1.1.519',\n",
    "       'AU.1', 'B.1.1.393', 'B.1.160.25', 'B.1.1.378', 'B.1.1.198',\n",
    "       'B.1.1.44', 'B.1.234', 'B.1.212', 'N.4', 'B.1.2', 'B.1.375', 'N.5',\n",
    "       'B.1.524', 'B.1.177.52', 'B.1.221', 'N.6', 'B.1.499', 'B.1.1.45',\n",
    "       'B.1.258', 'B.1.1.333', 'B.1.1.97', 'B.1.407', 'B.1.1.372',\n",
    "       'B.1.240', 'N.1', 'B.1.362', 'B.1.498', 'B.1.1.462', 'B.1.564',\n",
    "       'B.1.201', 'B.1.1.12', 'B.1.1.70', 'B.1.91', 'B.1.1.382'], 'Outras')  "
   ]
  },
  {
   "cell_type": "code",
   "execution_count": 116,
   "metadata": {
    "scrolled": true
   },
   "outputs": [],
   "source": [
    "var.to_csv('/Users/julianeoliveira/Desktop/github/Datasets from the gitcomputations/Vaccine_covid/variantes.csv')"
   ]
  },
  {
   "cell_type": "code",
   "execution_count": 293,
   "metadata": {},
   "outputs": [
    {
     "data": {
      "text/html": [
       "<div>\n",
       "<style scoped>\n",
       "    .dataframe tbody tr th:only-of-type {\n",
       "        vertical-align: middle;\n",
       "    }\n",
       "\n",
       "    .dataframe tbody tr th {\n",
       "        vertical-align: top;\n",
       "    }\n",
       "\n",
       "    .dataframe thead th {\n",
       "        text-align: right;\n",
       "    }\n",
       "</style>\n",
       "<table border=\"1\" class=\"dataframe\">\n",
       "  <thead>\n",
       "    <tr style=\"text-align: right;\">\n",
       "      <th></th>\n",
       "      <th>Período</th>\n",
       "      <th>Estado</th>\n",
       "      <th>Laboratório</th>\n",
       "      <th>Variante</th>\n",
       "      <th>Classificação</th>\n",
       "      <th>Quantidade</th>\n",
       "      <th>nome_var</th>\n",
       "    </tr>\n",
       "  </thead>\n",
       "  <tbody>\n",
       "    <tr>\n",
       "      <th>0</th>\n",
       "      <td>Dez 2021</td>\n",
       "      <td>Distrito Federal</td>\n",
       "      <td>Outros</td>\n",
       "      <td>BA.1 (Omicron)</td>\n",
       "      <td>VOC/VOI</td>\n",
       "      <td>1</td>\n",
       "      <td>Omicron</td>\n",
       "    </tr>\n",
       "    <tr>\n",
       "      <th>3</th>\n",
       "      <td>Dez 2021</td>\n",
       "      <td>Rio Grande do Sul</td>\n",
       "      <td>Outros</td>\n",
       "      <td>BA.1 (Omicron)</td>\n",
       "      <td>VOC/VOI</td>\n",
       "      <td>1</td>\n",
       "      <td>Omicron</td>\n",
       "    </tr>\n",
       "    <tr>\n",
       "      <th>7</th>\n",
       "      <td>Dez 2021</td>\n",
       "      <td>São Paulo</td>\n",
       "      <td>Outros</td>\n",
       "      <td>BA.1 (Omicron)</td>\n",
       "      <td>VOC/VOI</td>\n",
       "      <td>2</td>\n",
       "      <td>Omicron</td>\n",
       "    </tr>\n",
       "    <tr>\n",
       "      <th>24</th>\n",
       "      <td>Nov 2021</td>\n",
       "      <td>Distrito Federal</td>\n",
       "      <td>Outros</td>\n",
       "      <td>BA.1 (Omicron)</td>\n",
       "      <td>VOC/VOI</td>\n",
       "      <td>1</td>\n",
       "      <td>Omicron</td>\n",
       "    </tr>\n",
       "    <tr>\n",
       "      <th>112</th>\n",
       "      <td>Nov 2021</td>\n",
       "      <td>São Paulo</td>\n",
       "      <td>Outros</td>\n",
       "      <td>BA.1 (Omicron)</td>\n",
       "      <td>VOC/VOI</td>\n",
       "      <td>3</td>\n",
       "      <td>Omicron</td>\n",
       "    </tr>\n",
       "  </tbody>\n",
       "</table>\n",
       "</div>"
      ],
      "text/plain": [
       "      Período             Estado Laboratório        Variante Classificação  \\\n",
       "0    Dez 2021   Distrito Federal      Outros  BA.1 (Omicron)       VOC/VOI   \n",
       "3    Dez 2021  Rio Grande do Sul      Outros  BA.1 (Omicron)       VOC/VOI   \n",
       "7    Dez 2021          São Paulo      Outros  BA.1 (Omicron)       VOC/VOI   \n",
       "24   Nov 2021   Distrito Federal      Outros  BA.1 (Omicron)       VOC/VOI   \n",
       "112  Nov 2021          São Paulo      Outros  BA.1 (Omicron)       VOC/VOI   \n",
       "\n",
       "     Quantidade nome_var  \n",
       "0             1  Omicron  \n",
       "3             1  Omicron  \n",
       "7             2  Omicron  \n",
       "24            1  Omicron  \n",
       "112           3  Omicron  "
      ]
     },
     "execution_count": 293,
     "metadata": {},
     "output_type": "execute_result"
    }
   ],
   "source": [
    "var[var.nome_var == 'Omicron']"
   ]
  },
  {
   "cell_type": "markdown",
   "metadata": {},
   "source": [
    "# Escore "
   ]
  },
  {
   "cell_type": "code",
   "execution_count": 117,
   "metadata": {},
   "outputs": [],
   "source": [
    "escore = pd.read_csv('/Users/julianeoliveira/Downloads/part-00000-0bd5c7cb-0b49-416f-810d-d64a5af3c72c-c000.csv')"
   ]
  },
  {
   "cell_type": "code",
   "execution_count": 118,
   "metadata": {},
   "outputs": [],
   "source": [
    "escore = escore.fillna(0)"
   ]
  },
  {
   "cell_type": "code",
   "execution_count": 119,
   "metadata": {},
   "outputs": [],
   "source": [
    "escore['tot'] = escore.iloc[:, 6:11].sum(axis=1)"
   ]
  },
  {
   "cell_type": "markdown",
   "metadata": {},
   "source": [
    "## Escore da variante original para o desfecho 1"
   ]
  },
  {
   "cell_type": "code",
   "execution_count": 120,
   "metadata": {},
   "outputs": [
    {
     "data": {
      "text/plain": [
       "Index(['uf_res', 'apenas_primeira_dose_vacina',\n",
       "       'ciclo_completo_s_reforco_2_doses_vacina',\n",
       "       'ciclo_completo_s_reforco_unica_vacina',\n",
       "       'ciclo_completo_c_reforco_2_doses_vacina',\n",
       "       'ciclo_completo_c_reforco_unica_vacina', 'apenas_primeira_dose_num',\n",
       "       'ciclo_completo_s_reforco_2_doses_num',\n",
       "       'ciclo_completo_s_reforco_unica_num',\n",
       "       'ciclo_completo_c_reforco_2_doses_num',\n",
       "       'ciclo_completo_c_reforco_unica_num', 'tot'],\n",
       "      dtype='object')"
      ]
     },
     "execution_count": 120,
     "metadata": {},
     "output_type": "execute_result"
    }
   ],
   "source": [
    "escore.columns"
   ]
  },
  {
   "cell_type": "code",
   "execution_count": 121,
   "metadata": {},
   "outputs": [
    {
     "data": {
      "text/plain": [
       "array(['astrazeneca', 0, 'pfizer', 'coronavac', 'janssen'], dtype=object)"
      ]
     },
     "execution_count": 121,
     "metadata": {},
     "output_type": "execute_result"
    }
   ],
   "source": [
    "escore.apenas_primeira_dose_vacina.unique()"
   ]
  },
  {
   "cell_type": "code",
   "execution_count": 122,
   "metadata": {},
   "outputs": [],
   "source": [
    "s ='apenas_primeira_dose_vacina'\n",
    "escore[s] = escore[s].replace('janssen', 0.669)\n",
    "escore[s] = escore[s].replace('astrazeneca', 0.493)\n",
    "escore[s] = escore[s].replace('coronavac', 0.44)\n",
    "escore[s] = escore[s].replace('pfizer', 0.584)"
   ]
  },
  {
   "cell_type": "code",
   "execution_count": 123,
   "metadata": {},
   "outputs": [],
   "source": [
    "for s in ['ciclo_completo_s_reforco_2_doses_vacina','ciclo_completo_s_reforco_unica_vacina',\n",
    "          'ciclo_completo_c_reforco_2_doses_vacina','ciclo_completo_c_reforco_unica_vacina']:\n",
    "    escore[s] = escore[s].replace('janssen', 0.669)\n",
    "    escore[s] = escore[s].replace('astrazeneca', 0.493)\n",
    "    escore[s] = escore[s].replace('coronavac', 0.44)\n",
    "    escore[s] = escore[s].replace('pfizer', 0.86)"
   ]
  },
  {
   "cell_type": "code",
   "execution_count": 124,
   "metadata": {},
   "outputs": [
    {
     "data": {
      "text/html": [
       "<div>\n",
       "<style scoped>\n",
       "    .dataframe tbody tr th:only-of-type {\n",
       "        vertical-align: middle;\n",
       "    }\n",
       "\n",
       "    .dataframe tbody tr th {\n",
       "        vertical-align: top;\n",
       "    }\n",
       "\n",
       "    .dataframe thead th {\n",
       "        text-align: right;\n",
       "    }\n",
       "</style>\n",
       "<table border=\"1\" class=\"dataframe\">\n",
       "  <thead>\n",
       "    <tr style=\"text-align: right;\">\n",
       "      <th></th>\n",
       "      <th>uf_res</th>\n",
       "      <th>apenas_primeira_dose_vacina</th>\n",
       "      <th>ciclo_completo_s_reforco_2_doses_vacina</th>\n",
       "      <th>ciclo_completo_s_reforco_unica_vacina</th>\n",
       "      <th>ciclo_completo_c_reforco_2_doses_vacina</th>\n",
       "      <th>ciclo_completo_c_reforco_unica_vacina</th>\n",
       "      <th>apenas_primeira_dose_num</th>\n",
       "      <th>ciclo_completo_s_reforco_2_doses_num</th>\n",
       "      <th>ciclo_completo_s_reforco_unica_num</th>\n",
       "      <th>ciclo_completo_c_reforco_2_doses_num</th>\n",
       "      <th>ciclo_completo_c_reforco_unica_num</th>\n",
       "      <th>tot</th>\n",
       "    </tr>\n",
       "  </thead>\n",
       "  <tbody>\n",
       "    <tr>\n",
       "      <th>26</th>\n",
       "      <td>ba</td>\n",
       "      <td>0.000</td>\n",
       "      <td>0.493</td>\n",
       "      <td>0.000</td>\n",
       "      <td>0.000</td>\n",
       "      <td>0.000</td>\n",
       "      <td>0.0</td>\n",
       "      <td>2905451.0</td>\n",
       "      <td>0.0</td>\n",
       "      <td>0.0</td>\n",
       "      <td>0.0</td>\n",
       "      <td>2905451.0</td>\n",
       "    </tr>\n",
       "    <tr>\n",
       "      <th>27</th>\n",
       "      <td>ba</td>\n",
       "      <td>0.493</td>\n",
       "      <td>0.000</td>\n",
       "      <td>0.000</td>\n",
       "      <td>0.000</td>\n",
       "      <td>0.000</td>\n",
       "      <td>750394.0</td>\n",
       "      <td>0.0</td>\n",
       "      <td>0.0</td>\n",
       "      <td>0.0</td>\n",
       "      <td>0.0</td>\n",
       "      <td>750394.0</td>\n",
       "    </tr>\n",
       "    <tr>\n",
       "      <th>28</th>\n",
       "      <td>ba</td>\n",
       "      <td>0.000</td>\n",
       "      <td>0.000</td>\n",
       "      <td>0.000</td>\n",
       "      <td>0.493</td>\n",
       "      <td>0.000</td>\n",
       "      <td>0.0</td>\n",
       "      <td>0.0</td>\n",
       "      <td>0.0</td>\n",
       "      <td>126518.0</td>\n",
       "      <td>0.0</td>\n",
       "      <td>126518.0</td>\n",
       "    </tr>\n",
       "    <tr>\n",
       "      <th>45</th>\n",
       "      <td>ba</td>\n",
       "      <td>0.000</td>\n",
       "      <td>0.000</td>\n",
       "      <td>0.000</td>\n",
       "      <td>0.000</td>\n",
       "      <td>0.000</td>\n",
       "      <td>0.0</td>\n",
       "      <td>0.0</td>\n",
       "      <td>0.0</td>\n",
       "      <td>0.0</td>\n",
       "      <td>0.0</td>\n",
       "      <td>0.0</td>\n",
       "    </tr>\n",
       "    <tr>\n",
       "      <th>103</th>\n",
       "      <td>ba</td>\n",
       "      <td>0.000</td>\n",
       "      <td>0.493</td>\n",
       "      <td>0.669</td>\n",
       "      <td>0.000</td>\n",
       "      <td>0.000</td>\n",
       "      <td>0.0</td>\n",
       "      <td>3.0</td>\n",
       "      <td>3.0</td>\n",
       "      <td>0.0</td>\n",
       "      <td>0.0</td>\n",
       "      <td>6.0</td>\n",
       "    </tr>\n",
       "    <tr>\n",
       "      <th>111</th>\n",
       "      <td>ba</td>\n",
       "      <td>0.440</td>\n",
       "      <td>0.000</td>\n",
       "      <td>0.000</td>\n",
       "      <td>0.000</td>\n",
       "      <td>0.000</td>\n",
       "      <td>610968.0</td>\n",
       "      <td>0.0</td>\n",
       "      <td>0.0</td>\n",
       "      <td>0.0</td>\n",
       "      <td>0.0</td>\n",
       "      <td>610968.0</td>\n",
       "    </tr>\n",
       "    <tr>\n",
       "      <th>112</th>\n",
       "      <td>ba</td>\n",
       "      <td>0.000</td>\n",
       "      <td>0.440</td>\n",
       "      <td>0.000</td>\n",
       "      <td>0.000</td>\n",
       "      <td>0.000</td>\n",
       "      <td>0.0</td>\n",
       "      <td>1773098.0</td>\n",
       "      <td>0.0</td>\n",
       "      <td>0.0</td>\n",
       "      <td>0.0</td>\n",
       "      <td>1773098.0</td>\n",
       "    </tr>\n",
       "    <tr>\n",
       "      <th>113</th>\n",
       "      <td>ba</td>\n",
       "      <td>0.000</td>\n",
       "      <td>0.000</td>\n",
       "      <td>0.000</td>\n",
       "      <td>0.440</td>\n",
       "      <td>0.000</td>\n",
       "      <td>0.0</td>\n",
       "      <td>0.0</td>\n",
       "      <td>0.0</td>\n",
       "      <td>609451.0</td>\n",
       "      <td>0.0</td>\n",
       "      <td>609451.0</td>\n",
       "    </tr>\n",
       "    <tr>\n",
       "      <th>229</th>\n",
       "      <td>ba</td>\n",
       "      <td>0.000</td>\n",
       "      <td>0.000</td>\n",
       "      <td>0.440</td>\n",
       "      <td>0.000</td>\n",
       "      <td>0.000</td>\n",
       "      <td>0.0</td>\n",
       "      <td>0.0</td>\n",
       "      <td>1.0</td>\n",
       "      <td>0.0</td>\n",
       "      <td>0.0</td>\n",
       "      <td>1.0</td>\n",
       "    </tr>\n",
       "    <tr>\n",
       "      <th>306</th>\n",
       "      <td>ba</td>\n",
       "      <td>0.000</td>\n",
       "      <td>0.000</td>\n",
       "      <td>0.669</td>\n",
       "      <td>0.000</td>\n",
       "      <td>0.000</td>\n",
       "      <td>0.0</td>\n",
       "      <td>0.0</td>\n",
       "      <td>1044.0</td>\n",
       "      <td>0.0</td>\n",
       "      <td>0.0</td>\n",
       "      <td>1044.0</td>\n",
       "    </tr>\n",
       "    <tr>\n",
       "      <th>307</th>\n",
       "      <td>ba</td>\n",
       "      <td>0.669</td>\n",
       "      <td>0.000</td>\n",
       "      <td>0.000</td>\n",
       "      <td>0.000</td>\n",
       "      <td>0.000</td>\n",
       "      <td>366.0</td>\n",
       "      <td>0.0</td>\n",
       "      <td>0.0</td>\n",
       "      <td>0.0</td>\n",
       "      <td>0.0</td>\n",
       "      <td>366.0</td>\n",
       "    </tr>\n",
       "    <tr>\n",
       "      <th>331</th>\n",
       "      <td>ba</td>\n",
       "      <td>0.000</td>\n",
       "      <td>0.860</td>\n",
       "      <td>0.669</td>\n",
       "      <td>0.000</td>\n",
       "      <td>0.000</td>\n",
       "      <td>0.0</td>\n",
       "      <td>1.0</td>\n",
       "      <td>1.0</td>\n",
       "      <td>0.0</td>\n",
       "      <td>0.0</td>\n",
       "      <td>2.0</td>\n",
       "    </tr>\n",
       "    <tr>\n",
       "      <th>332</th>\n",
       "      <td>ba</td>\n",
       "      <td>0.000</td>\n",
       "      <td>0.000</td>\n",
       "      <td>0.000</td>\n",
       "      <td>0.000</td>\n",
       "      <td>0.669</td>\n",
       "      <td>0.0</td>\n",
       "      <td>0.0</td>\n",
       "      <td>0.0</td>\n",
       "      <td>0.0</td>\n",
       "      <td>34.0</td>\n",
       "      <td>34.0</td>\n",
       "    </tr>\n",
       "    <tr>\n",
       "      <th>348</th>\n",
       "      <td>ba</td>\n",
       "      <td>0.000</td>\n",
       "      <td>0.440</td>\n",
       "      <td>0.669</td>\n",
       "      <td>0.000</td>\n",
       "      <td>0.000</td>\n",
       "      <td>0.0</td>\n",
       "      <td>1.0</td>\n",
       "      <td>1.0</td>\n",
       "      <td>0.0</td>\n",
       "      <td>0.0</td>\n",
       "      <td>2.0</td>\n",
       "    </tr>\n",
       "    <tr>\n",
       "      <th>354</th>\n",
       "      <td>ba</td>\n",
       "      <td>0.584</td>\n",
       "      <td>0.000</td>\n",
       "      <td>0.000</td>\n",
       "      <td>0.000</td>\n",
       "      <td>0.000</td>\n",
       "      <td>1782885.0</td>\n",
       "      <td>0.0</td>\n",
       "      <td>0.0</td>\n",
       "      <td>0.0</td>\n",
       "      <td>0.0</td>\n",
       "      <td>1782885.0</td>\n",
       "    </tr>\n",
       "    <tr>\n",
       "      <th>355</th>\n",
       "      <td>ba</td>\n",
       "      <td>0.000</td>\n",
       "      <td>0.860</td>\n",
       "      <td>0.000</td>\n",
       "      <td>0.000</td>\n",
       "      <td>0.000</td>\n",
       "      <td>0.0</td>\n",
       "      <td>1914132.0</td>\n",
       "      <td>0.0</td>\n",
       "      <td>0.0</td>\n",
       "      <td>0.0</td>\n",
       "      <td>1914132.0</td>\n",
       "    </tr>\n",
       "    <tr>\n",
       "      <th>356</th>\n",
       "      <td>ba</td>\n",
       "      <td>0.000</td>\n",
       "      <td>0.000</td>\n",
       "      <td>0.000</td>\n",
       "      <td>0.860</td>\n",
       "      <td>0.000</td>\n",
       "      <td>0.0</td>\n",
       "      <td>0.0</td>\n",
       "      <td>0.0</td>\n",
       "      <td>2860.0</td>\n",
       "      <td>0.0</td>\n",
       "      <td>2860.0</td>\n",
       "    </tr>\n",
       "  </tbody>\n",
       "</table>\n",
       "</div>"
      ],
      "text/plain": [
       "    uf_res  apenas_primeira_dose_vacina  \\\n",
       "26      ba                        0.000   \n",
       "27      ba                        0.493   \n",
       "28      ba                        0.000   \n",
       "45      ba                        0.000   \n",
       "103     ba                        0.000   \n",
       "111     ba                        0.440   \n",
       "112     ba                        0.000   \n",
       "113     ba                        0.000   \n",
       "229     ba                        0.000   \n",
       "306     ba                        0.000   \n",
       "307     ba                        0.669   \n",
       "331     ba                        0.000   \n",
       "332     ba                        0.000   \n",
       "348     ba                        0.000   \n",
       "354     ba                        0.584   \n",
       "355     ba                        0.000   \n",
       "356     ba                        0.000   \n",
       "\n",
       "     ciclo_completo_s_reforco_2_doses_vacina  \\\n",
       "26                                     0.493   \n",
       "27                                     0.000   \n",
       "28                                     0.000   \n",
       "45                                     0.000   \n",
       "103                                    0.493   \n",
       "111                                    0.000   \n",
       "112                                    0.440   \n",
       "113                                    0.000   \n",
       "229                                    0.000   \n",
       "306                                    0.000   \n",
       "307                                    0.000   \n",
       "331                                    0.860   \n",
       "332                                    0.000   \n",
       "348                                    0.440   \n",
       "354                                    0.000   \n",
       "355                                    0.860   \n",
       "356                                    0.000   \n",
       "\n",
       "     ciclo_completo_s_reforco_unica_vacina  \\\n",
       "26                                   0.000   \n",
       "27                                   0.000   \n",
       "28                                   0.000   \n",
       "45                                   0.000   \n",
       "103                                  0.669   \n",
       "111                                  0.000   \n",
       "112                                  0.000   \n",
       "113                                  0.000   \n",
       "229                                  0.440   \n",
       "306                                  0.669   \n",
       "307                                  0.000   \n",
       "331                                  0.669   \n",
       "332                                  0.000   \n",
       "348                                  0.669   \n",
       "354                                  0.000   \n",
       "355                                  0.000   \n",
       "356                                  0.000   \n",
       "\n",
       "     ciclo_completo_c_reforco_2_doses_vacina  \\\n",
       "26                                     0.000   \n",
       "27                                     0.000   \n",
       "28                                     0.493   \n",
       "45                                     0.000   \n",
       "103                                    0.000   \n",
       "111                                    0.000   \n",
       "112                                    0.000   \n",
       "113                                    0.440   \n",
       "229                                    0.000   \n",
       "306                                    0.000   \n",
       "307                                    0.000   \n",
       "331                                    0.000   \n",
       "332                                    0.000   \n",
       "348                                    0.000   \n",
       "354                                    0.000   \n",
       "355                                    0.000   \n",
       "356                                    0.860   \n",
       "\n",
       "     ciclo_completo_c_reforco_unica_vacina  apenas_primeira_dose_num  \\\n",
       "26                                   0.000                       0.0   \n",
       "27                                   0.000                  750394.0   \n",
       "28                                   0.000                       0.0   \n",
       "45                                   0.000                       0.0   \n",
       "103                                  0.000                       0.0   \n",
       "111                                  0.000                  610968.0   \n",
       "112                                  0.000                       0.0   \n",
       "113                                  0.000                       0.0   \n",
       "229                                  0.000                       0.0   \n",
       "306                                  0.000                       0.0   \n",
       "307                                  0.000                     366.0   \n",
       "331                                  0.000                       0.0   \n",
       "332                                  0.669                       0.0   \n",
       "348                                  0.000                       0.0   \n",
       "354                                  0.000                 1782885.0   \n",
       "355                                  0.000                       0.0   \n",
       "356                                  0.000                       0.0   \n",
       "\n",
       "     ciclo_completo_s_reforco_2_doses_num  ciclo_completo_s_reforco_unica_num  \\\n",
       "26                              2905451.0                                 0.0   \n",
       "27                                    0.0                                 0.0   \n",
       "28                                    0.0                                 0.0   \n",
       "45                                    0.0                                 0.0   \n",
       "103                                   3.0                                 3.0   \n",
       "111                                   0.0                                 0.0   \n",
       "112                             1773098.0                                 0.0   \n",
       "113                                   0.0                                 0.0   \n",
       "229                                   0.0                                 1.0   \n",
       "306                                   0.0                              1044.0   \n",
       "307                                   0.0                                 0.0   \n",
       "331                                   1.0                                 1.0   \n",
       "332                                   0.0                                 0.0   \n",
       "348                                   1.0                                 1.0   \n",
       "354                                   0.0                                 0.0   \n",
       "355                             1914132.0                                 0.0   \n",
       "356                                   0.0                                 0.0   \n",
       "\n",
       "     ciclo_completo_c_reforco_2_doses_num  ciclo_completo_c_reforco_unica_num  \\\n",
       "26                                    0.0                                 0.0   \n",
       "27                                    0.0                                 0.0   \n",
       "28                               126518.0                                 0.0   \n",
       "45                                    0.0                                 0.0   \n",
       "103                                   0.0                                 0.0   \n",
       "111                                   0.0                                 0.0   \n",
       "112                                   0.0                                 0.0   \n",
       "113                              609451.0                                 0.0   \n",
       "229                                   0.0                                 0.0   \n",
       "306                                   0.0                                 0.0   \n",
       "307                                   0.0                                 0.0   \n",
       "331                                   0.0                                 0.0   \n",
       "332                                   0.0                                34.0   \n",
       "348                                   0.0                                 0.0   \n",
       "354                                   0.0                                 0.0   \n",
       "355                                   0.0                                 0.0   \n",
       "356                                2860.0                                 0.0   \n",
       "\n",
       "           tot  \n",
       "26   2905451.0  \n",
       "27    750394.0  \n",
       "28    126518.0  \n",
       "45         0.0  \n",
       "103        6.0  \n",
       "111   610968.0  \n",
       "112  1773098.0  \n",
       "113   609451.0  \n",
       "229        1.0  \n",
       "306     1044.0  \n",
       "307      366.0  \n",
       "331        2.0  \n",
       "332       34.0  \n",
       "348        2.0  \n",
       "354  1782885.0  \n",
       "355  1914132.0  \n",
       "356     2860.0  "
      ]
     },
     "execution_count": 124,
     "metadata": {},
     "output_type": "execute_result"
    }
   ],
   "source": [
    "escore[escore['uf_res']=='ba']"
   ]
  },
  {
   "cell_type": "code",
   "execution_count": 125,
   "metadata": {},
   "outputs": [],
   "source": [
    "escore['Escore'] = (escore['apenas_primeira_dose_vacina']*escore['apenas_primeira_dose_num']+\n",
    "       escore['ciclo_completo_s_reforco_2_doses_vacina']*escore['ciclo_completo_s_reforco_2_doses_num']+\n",
    "       escore['ciclo_completo_s_reforco_unica_vacina']*escore['ciclo_completo_s_reforco_unica_num']+ \n",
    "        escore['ciclo_completo_c_reforco_2_doses_vacina']*escore['ciclo_completo_c_reforco_2_doses_num']+\n",
    "        escore['ciclo_completo_c_reforco_unica_vacina']*escore['ciclo_completo_c_reforco_unica_num']) "
   ]
  },
  {
   "cell_type": "code",
   "execution_count": 126,
   "metadata": {
    "scrolled": true
   },
   "outputs": [
    {
     "data": {
      "text/plain": [
       "56.05158126990272"
      ]
     },
     "execution_count": 126,
     "metadata": {},
     "output_type": "execute_result"
    }
   ],
   "source": [
    "sum(escore[escore['uf_res']=='ba']['Escore'])*100/sum(escore[escore['uf_res']=='ba']['tot'])"
   ]
  },
  {
   "cell_type": "code",
   "execution_count": 127,
   "metadata": {},
   "outputs": [
    {
     "data": {
      "text/plain": [
       "56.051581269902705"
      ]
     },
     "execution_count": 127,
     "metadata": {},
     "output_type": "execute_result"
    }
   ],
   "source": [
    "escore[escore['uf_res']=='ba']['Escore'].sum()*100/escore[escore['uf_res']=='ba']['tot'].sum()"
   ]
  },
  {
   "cell_type": "code",
   "execution_count": 128,
   "metadata": {},
   "outputs": [],
   "source": [
    "escore_original_1 = []\n",
    "\n",
    "for value in escore.uf_res.unique():\n",
    "    data = escore[escore['uf_res']== value]\n",
    "    es= data['Escore'].sum()*100/data['tot'].sum()\n",
    "    \n",
    "    escore_original_1.append([value,es])"
   ]
  },
  {
   "cell_type": "code",
   "execution_count": 129,
   "metadata": {},
   "outputs": [],
   "source": [
    "df_escore_original_1 = pd.DataFrame (escore_original_1, columns = ['UF','Escore_original_1'])"
   ]
  },
  {
   "cell_type": "code",
   "execution_count": 130,
   "metadata": {},
   "outputs": [
    {
     "data": {
      "text/plain": [
       "count    29.000000\n",
       "mean     57.195183\n",
       "std       0.934634\n",
       "min      55.059271\n",
       "25%      56.689549\n",
       "50%      57.284797\n",
       "75%      57.723952\n",
       "max      58.998410\n",
       "Name: Escore_original_1, dtype: float64"
      ]
     },
     "execution_count": 130,
     "metadata": {},
     "output_type": "execute_result"
    }
   ],
   "source": [
    "df_escore_original_1.Escore_original_1.describe()"
   ]
  },
  {
   "cell_type": "code",
   "execution_count": 133,
   "metadata": {
    "scrolled": false
   },
   "outputs": [],
   "source": [
    "df_escore_original_1.sort_values(by='Escore_original_1', ascending=False);"
   ]
  },
  {
   "cell_type": "code",
   "execution_count": null,
   "metadata": {},
   "outputs": [],
   "source": []
  },
  {
   "cell_type": "markdown",
   "metadata": {},
   "source": [
    "## Escore da variante original para o desfecho 2"
   ]
  },
  {
   "cell_type": "code",
   "execution_count": 134,
   "metadata": {},
   "outputs": [],
   "source": [
    "escore = pd.read_csv('/Users/julianeoliveira/Downloads/part-00000-0bd5c7cb-0b49-416f-810d-d64a5af3c72c-c000.csv')"
   ]
  },
  {
   "cell_type": "code",
   "execution_count": 135,
   "metadata": {},
   "outputs": [],
   "source": [
    "escore = escore.fillna(0)"
   ]
  },
  {
   "cell_type": "code",
   "execution_count": 136,
   "metadata": {},
   "outputs": [],
   "source": [
    "escore['tot'] = escore.iloc[:, 6:11].sum(axis=1)"
   ]
  },
  {
   "cell_type": "code",
   "execution_count": 137,
   "metadata": {},
   "outputs": [],
   "source": [
    "s ='apenas_primeira_dose_vacina'\n",
    "escore[s] = escore[s].replace('janssen', 0.79)\n",
    "escore[s] = escore[s].replace('astrazeneca', 0.742)\n",
    "escore[s] = escore[s].replace('coronavac', 0.5)\n",
    "escore[s] = escore[s].replace('pfizer', 0.72)"
   ]
  },
  {
   "cell_type": "code",
   "execution_count": 138,
   "metadata": {},
   "outputs": [],
   "source": [
    "for s in ['ciclo_completo_s_reforco_2_doses_vacina','ciclo_completo_s_reforco_unica_vacina',\n",
    "          'ciclo_completo_c_reforco_2_doses_vacina','ciclo_completo_c_reforco_unica_vacina']:\n",
    "    escore[s] = escore[s].replace('janssen', 0.79)\n",
    "    escore[s] = escore[s].replace('astrazeneca', 0.767)\n",
    "    escore[s] = escore[s].replace('coronavac', 0.5)\n",
    "    escore[s] = escore[s].replace('pfizer', 0.917)"
   ]
  },
  {
   "cell_type": "code",
   "execution_count": 140,
   "metadata": {},
   "outputs": [],
   "source": [
    "escore[escore['uf_res']=='ba'];"
   ]
  },
  {
   "cell_type": "code",
   "execution_count": 141,
   "metadata": {},
   "outputs": [],
   "source": [
    "escore['Escore'] = (escore['apenas_primeira_dose_vacina']*escore['apenas_primeira_dose_num']+\n",
    "       escore['ciclo_completo_s_reforco_2_doses_vacina']*escore['ciclo_completo_s_reforco_2_doses_num']+\n",
    "       escore['ciclo_completo_s_reforco_unica_vacina']*escore['ciclo_completo_s_reforco_unica_num']+ \n",
    "        escore['ciclo_completo_c_reforco_2_doses_vacina']*escore['ciclo_completo_c_reforco_2_doses_num']+\n",
    "        escore['ciclo_completo_c_reforco_unica_vacina']*escore['ciclo_completo_c_reforco_unica_num']) "
   ]
  },
  {
   "cell_type": "code",
   "execution_count": 142,
   "metadata": {
    "scrolled": true
   },
   "outputs": [
    {
     "data": {
      "text/plain": [
       "70.83734549801989"
      ]
     },
     "execution_count": 142,
     "metadata": {},
     "output_type": "execute_result"
    }
   ],
   "source": [
    "sum(escore[escore['uf_res']=='ba']['Escore'])*100/sum(escore[escore['uf_res']=='ba']['tot'])"
   ]
  },
  {
   "cell_type": "code",
   "execution_count": 143,
   "metadata": {},
   "outputs": [
    {
     "data": {
      "text/plain": [
       "70.83734549801989"
      ]
     },
     "execution_count": 143,
     "metadata": {},
     "output_type": "execute_result"
    }
   ],
   "source": [
    "escore[escore['uf_res']=='ba']['Escore'].sum()*100/escore[escore['uf_res']=='ba']['tot'].sum()"
   ]
  },
  {
   "cell_type": "code",
   "execution_count": 144,
   "metadata": {},
   "outputs": [],
   "source": [
    "escore_original_2 = []\n",
    "\n",
    "for value in escore.uf_res.unique():\n",
    "    data = escore[escore['uf_res']== value]\n",
    "    es= data['Escore'].sum()*100/data['tot'].sum()\n",
    "    \n",
    "    escore_original_2.append([value,es])"
   ]
  },
  {
   "cell_type": "code",
   "execution_count": 145,
   "metadata": {},
   "outputs": [],
   "source": [
    "df_escore_original_2 = pd.DataFrame (escore_original_2, columns = ['UF','Escore_original_2'])"
   ]
  },
  {
   "cell_type": "code",
   "execution_count": 146,
   "metadata": {},
   "outputs": [
    {
     "data": {
      "text/plain": [
       "count    29.000000\n",
       "mean     72.281229\n",
       "std       0.884097\n",
       "min      70.411869\n",
       "25%      71.978361\n",
       "50%      72.279756\n",
       "75%      72.838133\n",
       "max      74.275948\n",
       "Name: Escore_original_2, dtype: float64"
      ]
     },
     "execution_count": 146,
     "metadata": {},
     "output_type": "execute_result"
    }
   ],
   "source": [
    "df_escore_original_2.Escore_original_2.describe()"
   ]
  },
  {
   "cell_type": "markdown",
   "metadata": {},
   "source": [
    "## Escore da variante original para o desfecho 3"
   ]
  },
  {
   "cell_type": "code",
   "execution_count": 147,
   "metadata": {},
   "outputs": [],
   "source": [
    "escore = pd.read_csv('/Users/julianeoliveira/Downloads/part-00000-0bd5c7cb-0b49-416f-810d-d64a5af3c72c-c000.csv')"
   ]
  },
  {
   "cell_type": "code",
   "execution_count": 148,
   "metadata": {},
   "outputs": [],
   "source": [
    "escore = escore.fillna(0)"
   ]
  },
  {
   "cell_type": "code",
   "execution_count": 149,
   "metadata": {},
   "outputs": [],
   "source": [
    "escore['tot'] = escore.iloc[:, 6:11].sum(axis=1)"
   ]
  },
  {
   "cell_type": "code",
   "execution_count": 150,
   "metadata": {},
   "outputs": [],
   "source": [
    "s ='apenas_primeira_dose_vacina'\n",
    "escore[s] = escore[s].replace('janssen', 0.81)\n",
    "escore[s] = escore[s].replace('astrazeneca', 0.8)\n",
    "escore[s] = escore[s].replace('coronavac', 0.5)\n",
    "escore[s] = escore[s].replace('pfizer', 0.957)"
   ]
  },
  {
   "cell_type": "code",
   "execution_count": 151,
   "metadata": {},
   "outputs": [],
   "source": [
    "for s in ['ciclo_completo_s_reforco_2_doses_vacina','ciclo_completo_s_reforco_unica_vacina',\n",
    "          'ciclo_completo_c_reforco_2_doses_vacina','ciclo_completo_c_reforco_unica_vacina']:\n",
    "    escore[s] = escore[s].replace('janssen', 0.81)\n",
    "    escore[s] = escore[s].replace('astrazeneca', 1)\n",
    "    escore[s] = escore[s].replace('coronavac', 0.5)\n",
    "    escore[s] = escore[s].replace('pfizer', 0.967)"
   ]
  },
  {
   "cell_type": "code",
   "execution_count": 152,
   "metadata": {},
   "outputs": [],
   "source": [
    "escore[escore['uf_res']=='ba'];"
   ]
  },
  {
   "cell_type": "code",
   "execution_count": 153,
   "metadata": {},
   "outputs": [],
   "source": [
    "escore['Escore'] = (escore['apenas_primeira_dose_vacina']*escore['apenas_primeira_dose_num']+\n",
    "       escore['ciclo_completo_s_reforco_2_doses_vacina']*escore['ciclo_completo_s_reforco_2_doses_num']+\n",
    "       escore['ciclo_completo_s_reforco_unica_vacina']*escore['ciclo_completo_s_reforco_unica_num']+ \n",
    "        escore['ciclo_completo_c_reforco_2_doses_vacina']*escore['ciclo_completo_c_reforco_2_doses_num']+\n",
    "        escore['ciclo_completo_c_reforco_unica_vacina']*escore['ciclo_completo_c_reforco_unica_num']) "
   ]
  },
  {
   "cell_type": "code",
   "execution_count": 154,
   "metadata": {
    "scrolled": true
   },
   "outputs": [
    {
     "data": {
      "text/plain": [
       "82.94356901435228"
      ]
     },
     "execution_count": 154,
     "metadata": {},
     "output_type": "execute_result"
    }
   ],
   "source": [
    "sum(escore[escore['uf_res']=='ba']['Escore'])*100/sum(escore[escore['uf_res']=='ba']['tot'])"
   ]
  },
  {
   "cell_type": "code",
   "execution_count": 155,
   "metadata": {},
   "outputs": [
    {
     "data": {
      "text/plain": [
       "82.94356901435228"
      ]
     },
     "execution_count": 155,
     "metadata": {},
     "output_type": "execute_result"
    }
   ],
   "source": [
    "escore[escore['uf_res']=='ba']['Escore'].sum()*100/escore[escore['uf_res']=='ba']['tot'].sum()"
   ]
  },
  {
   "cell_type": "code",
   "execution_count": 156,
   "metadata": {},
   "outputs": [],
   "source": [
    "escore_original_3 = []\n",
    "\n",
    "for value in escore.uf_res.unique():\n",
    "    data = escore[escore['uf_res']== value]\n",
    "    es= data['Escore'].sum()*100/data['tot'].sum()\n",
    "    \n",
    "    escore_original_3.append([value,es])"
   ]
  },
  {
   "cell_type": "code",
   "execution_count": 157,
   "metadata": {},
   "outputs": [],
   "source": [
    "df_escore_original_3 = pd.DataFrame (escore_original_3, columns = ['UF','Escore_original_3'])"
   ]
  },
  {
   "cell_type": "code",
   "execution_count": 158,
   "metadata": {
    "scrolled": true
   },
   "outputs": [
    {
     "data": {
      "text/plain": [
       "count    29.000000\n",
       "mean     84.714196\n",
       "std       1.445344\n",
       "min      81.203021\n",
       "25%      84.196435\n",
       "50%      84.872785\n",
       "75%      85.912242\n",
       "max      88.143969\n",
       "Name: Escore_original_3, dtype: float64"
      ]
     },
     "execution_count": 158,
     "metadata": {},
     "output_type": "execute_result"
    }
   ],
   "source": [
    "df_escore_original_3.Escore_original_3.describe()"
   ]
  },
  {
   "cell_type": "code",
   "execution_count": 159,
   "metadata": {},
   "outputs": [
    {
     "data": {
      "text/html": [
       "<div>\n",
       "<style scoped>\n",
       "    .dataframe tbody tr th:only-of-type {\n",
       "        vertical-align: middle;\n",
       "    }\n",
       "\n",
       "    .dataframe tbody tr th {\n",
       "        vertical-align: top;\n",
       "    }\n",
       "\n",
       "    .dataframe thead th {\n",
       "        text-align: right;\n",
       "    }\n",
       "</style>\n",
       "<table border=\"1\" class=\"dataframe\">\n",
       "  <thead>\n",
       "    <tr style=\"text-align: right;\">\n",
       "      <th></th>\n",
       "      <th>UF</th>\n",
       "      <th>Escore_original_3</th>\n",
       "    </tr>\n",
       "  </thead>\n",
       "  <tbody>\n",
       "    <tr>\n",
       "      <th>0</th>\n",
       "      <td>df</td>\n",
       "      <td>85.977919</td>\n",
       "    </tr>\n",
       "    <tr>\n",
       "      <th>1</th>\n",
       "      <td>es</td>\n",
       "      <td>84.730144</td>\n",
       "    </tr>\n",
       "    <tr>\n",
       "      <th>2</th>\n",
       "      <td>se</td>\n",
       "      <td>85.395397</td>\n",
       "    </tr>\n",
       "    <tr>\n",
       "      <th>3</th>\n",
       "      <td>pr</td>\n",
       "      <td>85.912242</td>\n",
       "    </tr>\n",
       "    <tr>\n",
       "      <th>4</th>\n",
       "      <td>ro</td>\n",
       "      <td>86.122448</td>\n",
       "    </tr>\n",
       "  </tbody>\n",
       "</table>\n",
       "</div>"
      ],
      "text/plain": [
       "   UF  Escore_original_3\n",
       "0  df          85.977919\n",
       "1  es          84.730144\n",
       "2  se          85.395397\n",
       "3  pr          85.912242\n",
       "4  ro          86.122448"
      ]
     },
     "execution_count": 159,
     "metadata": {},
     "output_type": "execute_result"
    }
   ],
   "source": [
    "df_escore_original_3.head()"
   ]
  },
  {
   "cell_type": "code",
   "execution_count": 160,
   "metadata": {},
   "outputs": [],
   "source": [
    "result = pd.merge(df_escore_original_1, df_escore_original_2, on=['UF'])"
   ]
  },
  {
   "cell_type": "code",
   "execution_count": 161,
   "metadata": {},
   "outputs": [],
   "source": [
    "result = pd.merge(result, df_escore_original_3, on=['UF'])"
   ]
  },
  {
   "cell_type": "code",
   "execution_count": 162,
   "metadata": {},
   "outputs": [
    {
     "data": {
      "text/html": [
       "<div>\n",
       "<style scoped>\n",
       "    .dataframe tbody tr th:only-of-type {\n",
       "        vertical-align: middle;\n",
       "    }\n",
       "\n",
       "    .dataframe tbody tr th {\n",
       "        vertical-align: top;\n",
       "    }\n",
       "\n",
       "    .dataframe thead th {\n",
       "        text-align: right;\n",
       "    }\n",
       "</style>\n",
       "<table border=\"1\" class=\"dataframe\">\n",
       "  <thead>\n",
       "    <tr style=\"text-align: right;\">\n",
       "      <th></th>\n",
       "      <th>UF</th>\n",
       "      <th>Escore_original_1</th>\n",
       "      <th>Escore_original_2</th>\n",
       "      <th>Escore_original_3</th>\n",
       "    </tr>\n",
       "  </thead>\n",
       "  <tbody>\n",
       "    <tr>\n",
       "      <th>0</th>\n",
       "      <td>df</td>\n",
       "      <td>58.998410</td>\n",
       "      <td>73.608068</td>\n",
       "      <td>85.977919</td>\n",
       "    </tr>\n",
       "    <tr>\n",
       "      <th>1</th>\n",
       "      <td>es</td>\n",
       "      <td>57.723952</td>\n",
       "      <td>72.539247</td>\n",
       "      <td>84.730144</td>\n",
       "    </tr>\n",
       "    <tr>\n",
       "      <th>2</th>\n",
       "      <td>se</td>\n",
       "      <td>57.622584</td>\n",
       "      <td>72.684806</td>\n",
       "      <td>85.395397</td>\n",
       "    </tr>\n",
       "    <tr>\n",
       "      <th>3</th>\n",
       "      <td>pr</td>\n",
       "      <td>57.986366</td>\n",
       "      <td>73.165507</td>\n",
       "      <td>85.912242</td>\n",
       "    </tr>\n",
       "    <tr>\n",
       "      <th>4</th>\n",
       "      <td>ro</td>\n",
       "      <td>58.506569</td>\n",
       "      <td>73.528089</td>\n",
       "      <td>86.122448</td>\n",
       "    </tr>\n",
       "  </tbody>\n",
       "</table>\n",
       "</div>"
      ],
      "text/plain": [
       "   UF  Escore_original_1  Escore_original_2  Escore_original_3\n",
       "0  df          58.998410          73.608068          85.977919\n",
       "1  es          57.723952          72.539247          84.730144\n",
       "2  se          57.622584          72.684806          85.395397\n",
       "3  pr          57.986366          73.165507          85.912242\n",
       "4  ro          58.506569          73.528089          86.122448"
      ]
     },
     "execution_count": 162,
     "metadata": {},
     "output_type": "execute_result"
    }
   ],
   "source": [
    "result.head()"
   ]
  },
  {
   "cell_type": "code",
   "execution_count": null,
   "metadata": {},
   "outputs": [],
   "source": [
    "#result.to_csv('/Users/julianeoliveira/Desktop/github/Datasets from the gitcomputations/Vaccine_covid/escore_variante_original.csv')"
   ]
  },
  {
   "cell_type": "markdown",
   "metadata": {},
   "source": [
    "## Escore da variante Alfa para o desfecho 1"
   ]
  },
  {
   "cell_type": "code",
   "execution_count": 163,
   "metadata": {},
   "outputs": [],
   "source": [
    "escore = pd.read_csv('/Users/julianeoliveira/Downloads/part-00000-0bd5c7cb-0b49-416f-810d-d64a5af3c72c-c000.csv')"
   ]
  },
  {
   "cell_type": "code",
   "execution_count": 164,
   "metadata": {},
   "outputs": [],
   "source": [
    "escore = escore.fillna(0)"
   ]
  },
  {
   "cell_type": "code",
   "execution_count": 165,
   "metadata": {},
   "outputs": [],
   "source": [
    "escore['tot'] = escore.iloc[:, 6:11].sum(axis=1)"
   ]
  },
  {
   "cell_type": "code",
   "execution_count": 166,
   "metadata": {},
   "outputs": [],
   "source": [
    "s ='apenas_primeira_dose_vacina'\n",
    "escore[s] = escore[s].replace('astrazeneca', 0.52)\n",
    "escore[s] = escore[s].replace('coronavac', 0.44)\n",
    "escore[s] = escore[s].replace('pfizer', 0.524)\n",
    "escore[s] = escore[s].replace('janssen', 0.72)"
   ]
  },
  {
   "cell_type": "code",
   "execution_count": 167,
   "metadata": {},
   "outputs": [],
   "source": [
    "for s in ['ciclo_completo_s_reforco_2_doses_vacina','ciclo_completo_s_reforco_unica_vacina',\n",
    "          'ciclo_completo_c_reforco_2_doses_vacina','ciclo_completo_c_reforco_unica_vacina']:\n",
    "    escore[s] = escore[s].replace('astrazeneca', 0.52)\n",
    "    escore[s] = escore[s].replace('coronavac', 0.44)\n",
    "    escore[s] = escore[s].replace('pfizer', 0.69)\n",
    "    escore[s] = escore[s].replace('janssen', 0.72)"
   ]
  },
  {
   "cell_type": "code",
   "execution_count": 168,
   "metadata": {},
   "outputs": [],
   "source": [
    "escore['Escore'] = (escore['apenas_primeira_dose_vacina']*escore['apenas_primeira_dose_num']+\n",
    "       escore['ciclo_completo_s_reforco_2_doses_vacina']*escore['ciclo_completo_s_reforco_2_doses_num']+\n",
    "       escore['ciclo_completo_s_reforco_unica_vacina']*escore['ciclo_completo_s_reforco_unica_num']+ \n",
    "        escore['ciclo_completo_c_reforco_2_doses_vacina']*escore['ciclo_completo_c_reforco_2_doses_num']+\n",
    "        escore['ciclo_completo_c_reforco_unica_vacina']*escore['ciclo_completo_c_reforco_unica_num']) "
   ]
  },
  {
   "cell_type": "code",
   "execution_count": 170,
   "metadata": {},
   "outputs": [
    {
     "data": {
      "text/plain": [
       "52.89554959850006"
      ]
     },
     "execution_count": 170,
     "metadata": {},
     "output_type": "execute_result"
    }
   ],
   "source": [
    "escore[escore['uf_res']=='ba']['Escore'].sum()*100/escore[escore['uf_res']=='ba']['tot'].sum()"
   ]
  },
  {
   "cell_type": "code",
   "execution_count": 172,
   "metadata": {},
   "outputs": [],
   "source": [
    "escore_alfa_1 = []\n",
    "\n",
    "for value in escore.uf_res.unique():\n",
    "    data = escore[escore['uf_res']== value]\n",
    "    es= data['Escore'].sum()*100/data['tot'].sum()\n",
    "    \n",
    "    escore_alfa_1.append([value,es])"
   ]
  },
  {
   "cell_type": "code",
   "execution_count": 173,
   "metadata": {},
   "outputs": [],
   "source": [
    "df_escore_alfa_1 = pd.DataFrame (escore_alfa_1, columns = ['UF','Escore_alfa_1'])"
   ]
  },
  {
   "cell_type": "code",
   "execution_count": 174,
   "metadata": {
    "scrolled": true
   },
   "outputs": [
    {
     "data": {
      "text/plain": [
       "count    29.000000\n",
       "mean     53.725365\n",
       "std       0.524925\n",
       "min      52.523167\n",
       "25%      53.414037\n",
       "50%      53.768994\n",
       "75%      54.104426\n",
       "max      54.646516\n",
       "Name: Escore_alfa_1, dtype: float64"
      ]
     },
     "execution_count": 174,
     "metadata": {},
     "output_type": "execute_result"
    }
   ],
   "source": [
    "df_escore_alfa_1.Escore_alfa_1.describe()"
   ]
  },
  {
   "cell_type": "code",
   "execution_count": 175,
   "metadata": {},
   "outputs": [
    {
     "data": {
      "text/html": [
       "<div>\n",
       "<style scoped>\n",
       "    .dataframe tbody tr th:only-of-type {\n",
       "        vertical-align: middle;\n",
       "    }\n",
       "\n",
       "    .dataframe tbody tr th {\n",
       "        vertical-align: top;\n",
       "    }\n",
       "\n",
       "    .dataframe thead th {\n",
       "        text-align: right;\n",
       "    }\n",
       "</style>\n",
       "<table border=\"1\" class=\"dataframe\">\n",
       "  <thead>\n",
       "    <tr style=\"text-align: right;\">\n",
       "      <th></th>\n",
       "      <th>UF</th>\n",
       "      <th>Escore_alfa_1</th>\n",
       "    </tr>\n",
       "  </thead>\n",
       "  <tbody>\n",
       "    <tr>\n",
       "      <th>0</th>\n",
       "      <td>df</td>\n",
       "      <td>54.646516</td>\n",
       "    </tr>\n",
       "    <tr>\n",
       "      <th>1</th>\n",
       "      <td>es</td>\n",
       "      <td>54.030272</td>\n",
       "    </tr>\n",
       "    <tr>\n",
       "      <th>2</th>\n",
       "      <td>se</td>\n",
       "      <td>53.880960</td>\n",
       "    </tr>\n",
       "    <tr>\n",
       "      <th>3</th>\n",
       "      <td>pr</td>\n",
       "      <td>54.228788</td>\n",
       "    </tr>\n",
       "    <tr>\n",
       "      <th>4</th>\n",
       "      <td>ro</td>\n",
       "      <td>54.478047</td>\n",
       "    </tr>\n",
       "  </tbody>\n",
       "</table>\n",
       "</div>"
      ],
      "text/plain": [
       "   UF  Escore_alfa_1\n",
       "0  df      54.646516\n",
       "1  es      54.030272\n",
       "2  se      53.880960\n",
       "3  pr      54.228788\n",
       "4  ro      54.478047"
      ]
     },
     "execution_count": 175,
     "metadata": {},
     "output_type": "execute_result"
    }
   ],
   "source": [
    "df_escore_alfa_1.head()"
   ]
  },
  {
   "cell_type": "markdown",
   "metadata": {},
   "source": [
    "## Escore da variante Alfa para o desfecho 2"
   ]
  },
  {
   "cell_type": "code",
   "execution_count": 179,
   "metadata": {},
   "outputs": [],
   "source": [
    "escore = pd.read_csv('/Users/julianeoliveira/Downloads/part-00000-0bd5c7cb-0b49-416f-810d-d64a5af3c72c-c000.csv')"
   ]
  },
  {
   "cell_type": "code",
   "execution_count": 180,
   "metadata": {},
   "outputs": [],
   "source": [
    "escore = escore.fillna(0)"
   ]
  },
  {
   "cell_type": "code",
   "execution_count": 181,
   "metadata": {},
   "outputs": [],
   "source": [
    "escore['tot'] = escore.iloc[:, 6:11].sum(axis=1)"
   ]
  },
  {
   "cell_type": "code",
   "execution_count": 182,
   "metadata": {},
   "outputs": [],
   "source": [
    "s ='apenas_primeira_dose_vacina'\n",
    "escore[s] = escore[s].replace('astrazeneca', 0.72)\n",
    "escore[s] = escore[s].replace('coronavac', 0.5)\n",
    "escore[s] = escore[s].replace('pfizer', 0.59)\n",
    "escore[s] = escore[s].replace('janssen', 0.72)"
   ]
  },
  {
   "cell_type": "code",
   "execution_count": 183,
   "metadata": {},
   "outputs": [],
   "source": [
    "for s in ['ciclo_completo_s_reforco_2_doses_vacina','ciclo_completo_s_reforco_unica_vacina',\n",
    "          'ciclo_completo_c_reforco_2_doses_vacina','ciclo_completo_c_reforco_unica_vacina']:\n",
    "    escore[s] = escore[s].replace('astrazeneca', 0.746)\n",
    "    escore[s] = escore[s].replace('coronavac', 0.5)\n",
    "    escore[s] = escore[s].replace('pfizer', 0.895)\n",
    "    escore[s] = escore[s].replace('janssen', 0.72)"
   ]
  },
  {
   "cell_type": "code",
   "execution_count": 184,
   "metadata": {},
   "outputs": [],
   "source": [
    "escore['Escore'] = (escore['apenas_primeira_dose_vacina']*escore['apenas_primeira_dose_num']+\n",
    "       escore['ciclo_completo_s_reforco_2_doses_vacina']*escore['ciclo_completo_s_reforco_2_doses_num']+\n",
    "       escore['ciclo_completo_s_reforco_unica_vacina']*escore['ciclo_completo_s_reforco_unica_num']+ \n",
    "        escore['ciclo_completo_c_reforco_2_doses_vacina']*escore['ciclo_completo_c_reforco_2_doses_num']+\n",
    "        escore['ciclo_completo_c_reforco_unica_vacina']*escore['ciclo_completo_c_reforco_unica_num']) "
   ]
  },
  {
   "cell_type": "code",
   "execution_count": 186,
   "metadata": {},
   "outputs": [
    {
     "data": {
      "text/plain": [
       "67.45638493332005"
      ]
     },
     "execution_count": 186,
     "metadata": {},
     "output_type": "execute_result"
    }
   ],
   "source": [
    "escore[escore['uf_res']=='ba']['Escore'].sum()*100/escore[escore['uf_res']=='ba']['tot'].sum()"
   ]
  },
  {
   "cell_type": "code",
   "execution_count": 187,
   "metadata": {},
   "outputs": [],
   "source": [
    "escore_alfa_2 = []\n",
    "\n",
    "for value in escore.uf_res.unique():\n",
    "    data = escore[escore['uf_res']== value]\n",
    "    es= data['Escore'].sum()*100/data['tot'].sum()\n",
    "    \n",
    "    escore_alfa_2.append([value,es])"
   ]
  },
  {
   "cell_type": "code",
   "execution_count": 188,
   "metadata": {},
   "outputs": [],
   "source": [
    "df_escore_alfa_2 = pd.DataFrame (escore_alfa_2, columns = ['UF','Escore_alfa_2'])"
   ]
  },
  {
   "cell_type": "code",
   "execution_count": 189,
   "metadata": {},
   "outputs": [
    {
     "data": {
      "text/plain": [
       "count    29.000000\n",
       "mean     69.023947\n",
       "std       0.919521\n",
       "min      66.998276\n",
       "25%      68.501189\n",
       "50%      69.111975\n",
       "75%      69.597019\n",
       "max      70.553056\n",
       "Name: Escore_alfa_2, dtype: float64"
      ]
     },
     "execution_count": 189,
     "metadata": {},
     "output_type": "execute_result"
    }
   ],
   "source": [
    "df_escore_alfa_2.Escore_alfa_2.describe()"
   ]
  },
  {
   "cell_type": "code",
   "execution_count": 190,
   "metadata": {},
   "outputs": [
    {
     "data": {
      "text/html": [
       "<div>\n",
       "<style scoped>\n",
       "    .dataframe tbody tr th:only-of-type {\n",
       "        vertical-align: middle;\n",
       "    }\n",
       "\n",
       "    .dataframe tbody tr th {\n",
       "        vertical-align: top;\n",
       "    }\n",
       "\n",
       "    .dataframe thead th {\n",
       "        text-align: right;\n",
       "    }\n",
       "</style>\n",
       "<table border=\"1\" class=\"dataframe\">\n",
       "  <thead>\n",
       "    <tr style=\"text-align: right;\">\n",
       "      <th></th>\n",
       "      <th>UF</th>\n",
       "      <th>Escore_alfa_2</th>\n",
       "    </tr>\n",
       "  </thead>\n",
       "  <tbody>\n",
       "    <tr>\n",
       "      <th>0</th>\n",
       "      <td>df</td>\n",
       "      <td>70.372526</td>\n",
       "    </tr>\n",
       "    <tr>\n",
       "      <th>1</th>\n",
       "      <td>es</td>\n",
       "      <td>69.597019</td>\n",
       "    </tr>\n",
       "    <tr>\n",
       "      <th>2</th>\n",
       "      <td>se</td>\n",
       "      <td>69.111975</td>\n",
       "    </tr>\n",
       "    <tr>\n",
       "      <th>3</th>\n",
       "      <td>pr</td>\n",
       "      <td>70.135018</td>\n",
       "    </tr>\n",
       "    <tr>\n",
       "      <th>4</th>\n",
       "      <td>ro</td>\n",
       "      <td>70.168279</td>\n",
       "    </tr>\n",
       "  </tbody>\n",
       "</table>\n",
       "</div>"
      ],
      "text/plain": [
       "   UF  Escore_alfa_2\n",
       "0  df      70.372526\n",
       "1  es      69.597019\n",
       "2  se      69.111975\n",
       "3  pr      70.135018\n",
       "4  ro      70.168279"
      ]
     },
     "execution_count": 190,
     "metadata": {},
     "output_type": "execute_result"
    }
   ],
   "source": [
    "df_escore_alfa_2.head()"
   ]
  },
  {
   "cell_type": "markdown",
   "metadata": {},
   "source": [
    "## Escore da variante Alfa para o desfecho 3"
   ]
  },
  {
   "cell_type": "code",
   "execution_count": 191,
   "metadata": {},
   "outputs": [],
   "source": [
    "escore = pd.read_csv('/Users/julianeoliveira/Downloads/part-00000-0bd5c7cb-0b49-416f-810d-d64a5af3c72c-c000.csv')"
   ]
  },
  {
   "cell_type": "code",
   "execution_count": 192,
   "metadata": {},
   "outputs": [],
   "source": [
    "escore = escore.fillna(0)"
   ]
  },
  {
   "cell_type": "code",
   "execution_count": 193,
   "metadata": {},
   "outputs": [],
   "source": [
    "escore['tot'] = escore.iloc[:, 6:11].sum(axis=1)"
   ]
  },
  {
   "cell_type": "code",
   "execution_count": 194,
   "metadata": {},
   "outputs": [],
   "source": [
    "s ='apenas_primeira_dose_vacina'\n",
    "escore[s] = escore[s].replace('astrazeneca', 0.745)\n",
    "escore[s] = escore[s].replace('coronavac', 0.5)\n",
    "escore[s] = escore[s].replace('pfizer', 0.717)\n",
    "escore[s] = escore[s].replace('janssen', 0.85)"
   ]
  },
  {
   "cell_type": "code",
   "execution_count": 195,
   "metadata": {},
   "outputs": [],
   "source": [
    "for s in ['ciclo_completo_s_reforco_2_doses_vacina','ciclo_completo_s_reforco_unica_vacina',\n",
    "          'ciclo_completo_c_reforco_2_doses_vacina','ciclo_completo_c_reforco_unica_vacina']:\n",
    "    escore[s] = escore[s].replace('astrazeneca', 0.86)\n",
    "    escore[s] = escore[s].replace('coronavac', 0.5)\n",
    "    escore[s] = escore[s].replace('pfizer', 1)\n",
    "    escore[s] = escore[s].replace('janssen', 0.85)"
   ]
  },
  {
   "cell_type": "code",
   "execution_count": 196,
   "metadata": {},
   "outputs": [],
   "source": [
    "escore['Escore'] = (escore['apenas_primeira_dose_vacina']*escore['apenas_primeira_dose_num']+\n",
    "       escore['ciclo_completo_s_reforco_2_doses_vacina']*escore['ciclo_completo_s_reforco_2_doses_num']+\n",
    "       escore['ciclo_completo_s_reforco_unica_vacina']*escore['ciclo_completo_s_reforco_unica_num']+ \n",
    "        escore['ciclo_completo_c_reforco_2_doses_vacina']*escore['ciclo_completo_c_reforco_2_doses_num']+\n",
    "        escore['ciclo_completo_c_reforco_unica_vacina']*escore['ciclo_completo_c_reforco_unica_num']) "
   ]
  },
  {
   "cell_type": "code",
   "execution_count": 198,
   "metadata": {},
   "outputs": [
    {
     "data": {
      "text/plain": [
       "75.01854639383073"
      ]
     },
     "execution_count": 198,
     "metadata": {},
     "output_type": "execute_result"
    }
   ],
   "source": [
    "escore[escore['uf_res']=='ba']['Escore'].sum()*100/escore[escore['uf_res']=='ba']['tot'].sum()"
   ]
  },
  {
   "cell_type": "code",
   "execution_count": 199,
   "metadata": {},
   "outputs": [],
   "source": [
    "escore_alfa_3 = []\n",
    "\n",
    "for value in escore.uf_res.unique():\n",
    "    data = escore[escore['uf_res']== value]\n",
    "    es= data['Escore'].sum()*100/data['tot'].sum()\n",
    "    \n",
    "    escore_alfa_3.append([value,es])"
   ]
  },
  {
   "cell_type": "code",
   "execution_count": 200,
   "metadata": {},
   "outputs": [],
   "source": [
    "df_escore_alfa_3 = pd.DataFrame (escore_alfa_3, columns = ['UF','Escore_alfa_3'])"
   ]
  },
  {
   "cell_type": "code",
   "execution_count": 201,
   "metadata": {},
   "outputs": [
    {
     "data": {
      "text/plain": [
       "count    29.000000\n",
       "mean     77.010324\n",
       "std       1.167141\n",
       "min      74.968758\n",
       "25%      76.181141\n",
       "50%      77.074537\n",
       "75%      77.632832\n",
       "max      79.349591\n",
       "Name: Escore_alfa_3, dtype: float64"
      ]
     },
     "execution_count": 201,
     "metadata": {},
     "output_type": "execute_result"
    }
   ],
   "source": [
    "df_escore_alfa_3.Escore_alfa_3.describe()"
   ]
  },
  {
   "cell_type": "code",
   "execution_count": 202,
   "metadata": {
    "scrolled": true
   },
   "outputs": [
    {
     "data": {
      "text/html": [
       "<div>\n",
       "<style scoped>\n",
       "    .dataframe tbody tr th:only-of-type {\n",
       "        vertical-align: middle;\n",
       "    }\n",
       "\n",
       "    .dataframe tbody tr th {\n",
       "        vertical-align: top;\n",
       "    }\n",
       "\n",
       "    .dataframe thead th {\n",
       "        text-align: right;\n",
       "    }\n",
       "</style>\n",
       "<table border=\"1\" class=\"dataframe\">\n",
       "  <thead>\n",
       "    <tr style=\"text-align: right;\">\n",
       "      <th></th>\n",
       "      <th>UF</th>\n",
       "      <th>Escore_alfa_3</th>\n",
       "    </tr>\n",
       "  </thead>\n",
       "  <tbody>\n",
       "    <tr>\n",
       "      <th>0</th>\n",
       "      <td>df</td>\n",
       "      <td>78.680713</td>\n",
       "    </tr>\n",
       "    <tr>\n",
       "      <th>1</th>\n",
       "      <td>es</td>\n",
       "      <td>77.632832</td>\n",
       "    </tr>\n",
       "    <tr>\n",
       "      <th>2</th>\n",
       "      <td>se</td>\n",
       "      <td>77.248127</td>\n",
       "    </tr>\n",
       "    <tr>\n",
       "      <th>3</th>\n",
       "      <td>pr</td>\n",
       "      <td>78.453465</td>\n",
       "    </tr>\n",
       "    <tr>\n",
       "      <th>4</th>\n",
       "      <td>ro</td>\n",
       "      <td>78.478282</td>\n",
       "    </tr>\n",
       "  </tbody>\n",
       "</table>\n",
       "</div>"
      ],
      "text/plain": [
       "   UF  Escore_alfa_3\n",
       "0  df      78.680713\n",
       "1  es      77.632832\n",
       "2  se      77.248127\n",
       "3  pr      78.453465\n",
       "4  ro      78.478282"
      ]
     },
     "execution_count": 202,
     "metadata": {},
     "output_type": "execute_result"
    }
   ],
   "source": [
    "df_escore_alfa_3.head()"
   ]
  },
  {
   "cell_type": "code",
   "execution_count": 209,
   "metadata": {},
   "outputs": [
    {
     "data": {
      "text/html": [
       "<div>\n",
       "<style scoped>\n",
       "    .dataframe tbody tr th:only-of-type {\n",
       "        vertical-align: middle;\n",
       "    }\n",
       "\n",
       "    .dataframe tbody tr th {\n",
       "        vertical-align: top;\n",
       "    }\n",
       "\n",
       "    .dataframe thead th {\n",
       "        text-align: right;\n",
       "    }\n",
       "</style>\n",
       "<table border=\"1\" class=\"dataframe\">\n",
       "  <thead>\n",
       "    <tr style=\"text-align: right;\">\n",
       "      <th></th>\n",
       "      <th>UF</th>\n",
       "      <th>Escore_original_1</th>\n",
       "      <th>Escore_original_2</th>\n",
       "      <th>Escore_original_3</th>\n",
       "      <th>Escore_alfa_1</th>\n",
       "      <th>Escore_alfa_2</th>\n",
       "      <th>Escore_alfa_3</th>\n",
       "    </tr>\n",
       "  </thead>\n",
       "  <tbody>\n",
       "    <tr>\n",
       "      <th>0</th>\n",
       "      <td>df</td>\n",
       "      <td>58.998410</td>\n",
       "      <td>73.608068</td>\n",
       "      <td>85.977919</td>\n",
       "      <td>54.646516</td>\n",
       "      <td>70.372526</td>\n",
       "      <td>78.680713</td>\n",
       "    </tr>\n",
       "    <tr>\n",
       "      <th>1</th>\n",
       "      <td>es</td>\n",
       "      <td>57.723952</td>\n",
       "      <td>72.539247</td>\n",
       "      <td>84.730144</td>\n",
       "      <td>54.030272</td>\n",
       "      <td>69.597019</td>\n",
       "      <td>77.632832</td>\n",
       "    </tr>\n",
       "    <tr>\n",
       "      <th>2</th>\n",
       "      <td>se</td>\n",
       "      <td>57.622584</td>\n",
       "      <td>72.684806</td>\n",
       "      <td>85.395397</td>\n",
       "      <td>53.880960</td>\n",
       "      <td>69.111975</td>\n",
       "      <td>77.248127</td>\n",
       "    </tr>\n",
       "    <tr>\n",
       "      <th>3</th>\n",
       "      <td>pr</td>\n",
       "      <td>57.986366</td>\n",
       "      <td>73.165507</td>\n",
       "      <td>85.912242</td>\n",
       "      <td>54.228788</td>\n",
       "      <td>70.135018</td>\n",
       "      <td>78.453465</td>\n",
       "    </tr>\n",
       "    <tr>\n",
       "      <th>4</th>\n",
       "      <td>ro</td>\n",
       "      <td>58.506569</td>\n",
       "      <td>73.528089</td>\n",
       "      <td>86.122448</td>\n",
       "      <td>54.478047</td>\n",
       "      <td>70.168279</td>\n",
       "      <td>78.478282</td>\n",
       "    </tr>\n",
       "  </tbody>\n",
       "</table>\n",
       "</div>"
      ],
      "text/plain": [
       "   UF  Escore_original_1  Escore_original_2  Escore_original_3  Escore_alfa_1  \\\n",
       "0  df          58.998410          73.608068          85.977919      54.646516   \n",
       "1  es          57.723952          72.539247          84.730144      54.030272   \n",
       "2  se          57.622584          72.684806          85.395397      53.880960   \n",
       "3  pr          57.986366          73.165507          85.912242      54.228788   \n",
       "4  ro          58.506569          73.528089          86.122448      54.478047   \n",
       "\n",
       "   Escore_alfa_2  Escore_alfa_3  \n",
       "0      70.372526      78.680713  \n",
       "1      69.597019      77.632832  \n",
       "2      69.111975      77.248127  \n",
       "3      70.135018      78.453465  \n",
       "4      70.168279      78.478282  "
      ]
     },
     "execution_count": 209,
     "metadata": {},
     "output_type": "execute_result"
    }
   ],
   "source": [
    "result.head()"
   ]
  },
  {
   "cell_type": "code",
   "execution_count": 204,
   "metadata": {},
   "outputs": [],
   "source": [
    "result = pd.merge(result, df_escore_alfa_1, on=['UF'])"
   ]
  },
  {
   "cell_type": "code",
   "execution_count": 206,
   "metadata": {},
   "outputs": [],
   "source": [
    "result = pd.merge(result, df_escore_alfa_2, on=['UF'])"
   ]
  },
  {
   "cell_type": "code",
   "execution_count": 207,
   "metadata": {},
   "outputs": [],
   "source": [
    "result = pd.merge(result, df_escore_alfa_3, on=['UF'])"
   ]
  },
  {
   "cell_type": "markdown",
   "metadata": {},
   "source": [
    "## Escore da variante Delta para o desfecho 1"
   ]
  },
  {
   "cell_type": "code",
   "execution_count": 210,
   "metadata": {},
   "outputs": [],
   "source": [
    "escore = pd.read_csv('/Users/julianeoliveira/Downloads/part-00000-0bd5c7cb-0b49-416f-810d-d64a5af3c72c-c000.csv')"
   ]
  },
  {
   "cell_type": "code",
   "execution_count": 211,
   "metadata": {},
   "outputs": [],
   "source": [
    "escore = escore.fillna(0)"
   ]
  },
  {
   "cell_type": "code",
   "execution_count": 212,
   "metadata": {},
   "outputs": [],
   "source": [
    "escore['tot'] = escore.iloc[:, 6:11].sum(axis=1)"
   ]
  },
  {
   "cell_type": "code",
   "execution_count": 213,
   "metadata": {},
   "outputs": [],
   "source": [
    "s ='apenas_primeira_dose_vacina'\n",
    "escore[s] = escore[s].replace('astrazeneca', 0.49)\n",
    "escore[s] = escore[s].replace('coronavac', 0.38)\n",
    "escore[s] = escore[s].replace('pfizer', 0.78)\n",
    "escore[s] = escore[s].replace('janssen', 0.56)"
   ]
  },
  {
   "cell_type": "code",
   "execution_count": 214,
   "metadata": {},
   "outputs": [],
   "source": [
    "for s in ['ciclo_completo_s_reforco_2_doses_vacina','ciclo_completo_s_reforco_unica_vacina',\n",
    "          'ciclo_completo_c_reforco_2_doses_vacina','ciclo_completo_c_reforco_unica_vacina']:\n",
    "    escore[s] = escore[s].replace('astrazeneca', 0.49)\n",
    "    escore[s] = escore[s].replace('coronavac', 0.38)\n",
    "    escore[s] = escore[s].replace('pfizer', 0.78)\n",
    "    escore[s] = escore[s].replace('janssen', 0.56)"
   ]
  },
  {
   "cell_type": "code",
   "execution_count": 215,
   "metadata": {},
   "outputs": [],
   "source": [
    "escore['Escore'] = (escore['apenas_primeira_dose_vacina']*escore['apenas_primeira_dose_num']+\n",
    "       escore['ciclo_completo_s_reforco_2_doses_vacina']*escore['ciclo_completo_s_reforco_2_doses_num']+\n",
    "       escore['ciclo_completo_s_reforco_unica_vacina']*escore['ciclo_completo_s_reforco_unica_num']+ \n",
    "        escore['ciclo_completo_c_reforco_2_doses_vacina']*escore['ciclo_completo_c_reforco_2_doses_num']+\n",
    "        escore['ciclo_completo_c_reforco_unica_vacina']*escore['ciclo_completo_c_reforco_unica_num']) "
   ]
  },
  {
   "cell_type": "code",
   "execution_count": 216,
   "metadata": {},
   "outputs": [
    {
     "data": {
      "text/plain": [
       "56.09901603594544"
      ]
     },
     "execution_count": 216,
     "metadata": {},
     "output_type": "execute_result"
    }
   ],
   "source": [
    "escore[escore['uf_res']=='ba']['Escore'].sum()*100/escore[escore['uf_res']=='ba']['tot'].sum()"
   ]
  },
  {
   "cell_type": "code",
   "execution_count": 217,
   "metadata": {},
   "outputs": [],
   "source": [
    "escore_delta_1 = []\n",
    "\n",
    "for value in escore.uf_res.unique():\n",
    "    data = escore[escore['uf_res']== value]\n",
    "    es= data['Escore'].sum()*100/data['tot'].sum()\n",
    "    \n",
    "    escore_delta_1.append([value,es])"
   ]
  },
  {
   "cell_type": "code",
   "execution_count": 218,
   "metadata": {},
   "outputs": [],
   "source": [
    "df_escore_delta_1 = pd.DataFrame (escore_delta_1, columns = ['UF','Escore_delta_1'])"
   ]
  },
  {
   "cell_type": "code",
   "execution_count": 219,
   "metadata": {},
   "outputs": [
    {
     "data": {
      "text/plain": [
       "count    29.000000\n",
       "mean     56.774718\n",
       "std       1.027020\n",
       "min      54.257943\n",
       "25%      56.099016\n",
       "50%      56.652849\n",
       "75%      57.436160\n",
       "max      58.852269\n",
       "Name: Escore_delta_1, dtype: float64"
      ]
     },
     "execution_count": 219,
     "metadata": {},
     "output_type": "execute_result"
    }
   ],
   "source": [
    "df_escore_delta_1.Escore_delta_1.describe()"
   ]
  },
  {
   "cell_type": "code",
   "execution_count": 220,
   "metadata": {
    "scrolled": false
   },
   "outputs": [
    {
     "data": {
      "text/html": [
       "<div>\n",
       "<style scoped>\n",
       "    .dataframe tbody tr th:only-of-type {\n",
       "        vertical-align: middle;\n",
       "    }\n",
       "\n",
       "    .dataframe tbody tr th {\n",
       "        vertical-align: top;\n",
       "    }\n",
       "\n",
       "    .dataframe thead th {\n",
       "        text-align: right;\n",
       "    }\n",
       "</style>\n",
       "<table border=\"1\" class=\"dataframe\">\n",
       "  <thead>\n",
       "    <tr style=\"text-align: right;\">\n",
       "      <th></th>\n",
       "      <th>UF</th>\n",
       "      <th>Escore_delta_1</th>\n",
       "    </tr>\n",
       "  </thead>\n",
       "  <tbody>\n",
       "    <tr>\n",
       "      <th>0</th>\n",
       "      <td>df</td>\n",
       "      <td>58.262199</td>\n",
       "    </tr>\n",
       "    <tr>\n",
       "      <th>1</th>\n",
       "      <td>es</td>\n",
       "      <td>56.521113</td>\n",
       "    </tr>\n",
       "    <tr>\n",
       "      <th>2</th>\n",
       "      <td>se</td>\n",
       "      <td>57.852665</td>\n",
       "    </tr>\n",
       "    <tr>\n",
       "      <th>3</th>\n",
       "      <td>pr</td>\n",
       "      <td>56.999805</td>\n",
       "    </tr>\n",
       "    <tr>\n",
       "      <th>4</th>\n",
       "      <td>ro</td>\n",
       "      <td>58.098998</td>\n",
       "    </tr>\n",
       "  </tbody>\n",
       "</table>\n",
       "</div>"
      ],
      "text/plain": [
       "   UF  Escore_delta_1\n",
       "0  df       58.262199\n",
       "1  es       56.521113\n",
       "2  se       57.852665\n",
       "3  pr       56.999805\n",
       "4  ro       58.098998"
      ]
     },
     "execution_count": 220,
     "metadata": {},
     "output_type": "execute_result"
    }
   ],
   "source": [
    "df_escore_delta_1.head()"
   ]
  },
  {
   "cell_type": "markdown",
   "metadata": {},
   "source": [
    "## Escore da variante Delta para o desfecho 2"
   ]
  },
  {
   "cell_type": "code",
   "execution_count": 221,
   "metadata": {},
   "outputs": [],
   "source": [
    "escore = pd.read_csv('/Users/julianeoliveira/Downloads/part-00000-0bd5c7cb-0b49-416f-810d-d64a5af3c72c-c000.csv')"
   ]
  },
  {
   "cell_type": "code",
   "execution_count": 222,
   "metadata": {},
   "outputs": [],
   "source": [
    "escore = escore.fillna(0)"
   ]
  },
  {
   "cell_type": "code",
   "execution_count": 223,
   "metadata": {},
   "outputs": [],
   "source": [
    "escore['tot'] = escore.iloc[:, 6:11].sum(axis=1)"
   ]
  },
  {
   "cell_type": "code",
   "execution_count": 224,
   "metadata": {},
   "outputs": [],
   "source": [
    "s ='apenas_primeira_dose_vacina'\n",
    "escore[s] = escore[s].replace('astrazeneca', 0.31)\n",
    "escore[s] = escore[s].replace('coronavac', 0.43)\n",
    "escore[s] = escore[s].replace('pfizer', 0.332)\n",
    "escore[s] = escore[s].replace('janssen', 0.79)"
   ]
  },
  {
   "cell_type": "code",
   "execution_count": 225,
   "metadata": {},
   "outputs": [],
   "source": [
    "for s in ['ciclo_completo_s_reforco_2_doses_vacina','ciclo_completo_s_reforco_unica_vacina',\n",
    "          'ciclo_completo_c_reforco_2_doses_vacina','ciclo_completo_c_reforco_unica_vacina']:\n",
    "    escore[s] = escore[s].replace('astrazeneca', 0.7)\n",
    "    escore[s] = escore[s].replace('coronavac', 0.43)\n",
    "    escore[s] = escore[s].replace('pfizer', 0.879)\n",
    "    escore[s] = escore[s].replace('janssen', 0.79)"
   ]
  },
  {
   "cell_type": "code",
   "execution_count": 226,
   "metadata": {},
   "outputs": [],
   "source": [
    "escore['Escore'] = (escore['apenas_primeira_dose_vacina']*escore['apenas_primeira_dose_num']+\n",
    "       escore['ciclo_completo_s_reforco_2_doses_vacina']*escore['ciclo_completo_s_reforco_2_doses_num']+\n",
    "       escore['ciclo_completo_s_reforco_unica_vacina']*escore['ciclo_completo_s_reforco_unica_num']+ \n",
    "        escore['ciclo_completo_c_reforco_2_doses_vacina']*escore['ciclo_completo_c_reforco_2_doses_num']+\n",
    "        escore['ciclo_completo_c_reforco_unica_vacina']*escore['ciclo_completo_c_reforco_unica_num']) "
   ]
  },
  {
   "cell_type": "code",
   "execution_count": 227,
   "metadata": {},
   "outputs": [
    {
     "data": {
      "text/plain": [
       "56.50658865163748"
      ]
     },
     "execution_count": 227,
     "metadata": {},
     "output_type": "execute_result"
    }
   ],
   "source": [
    "escore[escore['uf_res']=='ba']['Escore'].sum()*100/escore[escore['uf_res']=='ba']['tot'].sum()"
   ]
  },
  {
   "cell_type": "code",
   "execution_count": 228,
   "metadata": {},
   "outputs": [],
   "source": [
    "escore_delta_2 = []\n",
    "\n",
    "for value in escore.uf_res.unique():\n",
    "    data = escore[escore['uf_res']== value]\n",
    "    es= data['Escore'].sum()*100/data['tot'].sum()\n",
    "    \n",
    "    escore_delta_2.append([value,es])"
   ]
  },
  {
   "cell_type": "code",
   "execution_count": 229,
   "metadata": {},
   "outputs": [],
   "source": [
    "df_escore_delta_2 = pd.DataFrame (escore_delta_2, columns = ['UF','Escore_delta_2'])"
   ]
  },
  {
   "cell_type": "code",
   "execution_count": 230,
   "metadata": {},
   "outputs": [
    {
     "data": {
      "text/plain": [
       "count    29.000000\n",
       "mean     59.093961\n",
       "std       2.114142\n",
       "min      52.646869\n",
       "25%      58.071374\n",
       "50%      59.257184\n",
       "75%      60.847686\n",
       "max      62.049536\n",
       "Name: Escore_delta_2, dtype: float64"
      ]
     },
     "execution_count": 230,
     "metadata": {},
     "output_type": "execute_result"
    }
   ],
   "source": [
    "df_escore_delta_2.Escore_delta_2.describe()"
   ]
  },
  {
   "cell_type": "code",
   "execution_count": 231,
   "metadata": {
    "scrolled": false
   },
   "outputs": [
    {
     "data": {
      "text/html": [
       "<div>\n",
       "<style scoped>\n",
       "    .dataframe tbody tr th:only-of-type {\n",
       "        vertical-align: middle;\n",
       "    }\n",
       "\n",
       "    .dataframe tbody tr th {\n",
       "        vertical-align: top;\n",
       "    }\n",
       "\n",
       "    .dataframe thead th {\n",
       "        text-align: right;\n",
       "    }\n",
       "</style>\n",
       "<table border=\"1\" class=\"dataframe\">\n",
       "  <thead>\n",
       "    <tr style=\"text-align: right;\">\n",
       "      <th></th>\n",
       "      <th>UF</th>\n",
       "      <th>Escore_delta_2</th>\n",
       "    </tr>\n",
       "  </thead>\n",
       "  <tbody>\n",
       "    <tr>\n",
       "      <th>0</th>\n",
       "      <td>df</td>\n",
       "      <td>61.301596</td>\n",
       "    </tr>\n",
       "    <tr>\n",
       "      <th>1</th>\n",
       "      <td>es</td>\n",
       "      <td>61.189902</td>\n",
       "    </tr>\n",
       "    <tr>\n",
       "      <th>2</th>\n",
       "      <td>se</td>\n",
       "      <td>58.257056</td>\n",
       "    </tr>\n",
       "    <tr>\n",
       "      <th>3</th>\n",
       "      <td>pr</td>\n",
       "      <td>61.796021</td>\n",
       "    </tr>\n",
       "    <tr>\n",
       "      <th>4</th>\n",
       "      <td>ro</td>\n",
       "      <td>60.340074</td>\n",
       "    </tr>\n",
       "  </tbody>\n",
       "</table>\n",
       "</div>"
      ],
      "text/plain": [
       "   UF  Escore_delta_2\n",
       "0  df       61.301596\n",
       "1  es       61.189902\n",
       "2  se       58.257056\n",
       "3  pr       61.796021\n",
       "4  ro       60.340074"
      ]
     },
     "execution_count": 231,
     "metadata": {},
     "output_type": "execute_result"
    }
   ],
   "source": [
    "df_escore_delta_2.head()"
   ]
  },
  {
   "cell_type": "markdown",
   "metadata": {},
   "source": [
    "## Escore da variante Delta para o desfecho 3"
   ]
  },
  {
   "cell_type": "code",
   "execution_count": 232,
   "metadata": {},
   "outputs": [],
   "source": [
    "escore = pd.read_csv('/Users/julianeoliveira/Downloads/part-00000-0bd5c7cb-0b49-416f-810d-d64a5af3c72c-c000.csv')"
   ]
  },
  {
   "cell_type": "code",
   "execution_count": 233,
   "metadata": {},
   "outputs": [],
   "source": [
    "escore = escore.fillna(0)"
   ]
  },
  {
   "cell_type": "code",
   "execution_count": 234,
   "metadata": {},
   "outputs": [],
   "source": [
    "escore['tot'] = escore.iloc[:, 6:11].sum(axis=1)"
   ]
  },
  {
   "cell_type": "code",
   "execution_count": 235,
   "metadata": {},
   "outputs": [],
   "source": [
    "s ='apenas_primeira_dose_vacina'\n",
    "escore[s] = escore[s].replace('astrazeneca', 0.88)\n",
    "escore[s] = escore[s].replace('coronavac', 0.43)\n",
    "escore[s] = escore[s].replace('pfizer', 0.78)\n",
    "escore[s] = escore[s].replace('janssen', 0.83)"
   ]
  },
  {
   "cell_type": "code",
   "execution_count": 236,
   "metadata": {},
   "outputs": [],
   "source": [
    "for s in ['ciclo_completo_s_reforco_2_doses_vacina','ciclo_completo_s_reforco_unica_vacina',\n",
    "          'ciclo_completo_c_reforco_2_doses_vacina','ciclo_completo_c_reforco_unica_vacina']:\n",
    "    escore[s] = escore[s].replace('astrazeneca', 0.92)\n",
    "    escore[s] = escore[s].replace('coronavac', 0.43)\n",
    "    escore[s] = escore[s].replace('pfizer', 0.96)\n",
    "    escore[s] = escore[s].replace('janssen', 0.83)"
   ]
  },
  {
   "cell_type": "code",
   "execution_count": 237,
   "metadata": {},
   "outputs": [],
   "source": [
    "escore['Escore'] = (escore['apenas_primeira_dose_vacina']*escore['apenas_primeira_dose_num']+\n",
    "       escore['ciclo_completo_s_reforco_2_doses_vacina']*escore['ciclo_completo_s_reforco_2_doses_num']+\n",
    "       escore['ciclo_completo_s_reforco_unica_vacina']*escore['ciclo_completo_s_reforco_unica_num']+ \n",
    "        escore['ciclo_completo_c_reforco_2_doses_vacina']*escore['ciclo_completo_c_reforco_2_doses_num']+\n",
    "        escore['ciclo_completo_c_reforco_unica_vacina']*escore['ciclo_completo_c_reforco_unica_num']) "
   ]
  },
  {
   "cell_type": "code",
   "execution_count": 238,
   "metadata": {},
   "outputs": [
    {
     "data": {
      "text/plain": [
       "76.06165056123709"
      ]
     },
     "execution_count": 238,
     "metadata": {},
     "output_type": "execute_result"
    }
   ],
   "source": [
    "escore[escore['uf_res']=='ba']['Escore'].sum()*100/escore[escore['uf_res']=='ba']['tot'].sum()"
   ]
  },
  {
   "cell_type": "code",
   "execution_count": 239,
   "metadata": {},
   "outputs": [],
   "source": [
    "escore_delta_3 = []\n",
    "\n",
    "for value in escore.uf_res.unique():\n",
    "    data = escore[escore['uf_res']== value]\n",
    "    es= data['Escore'].sum()*100/data['tot'].sum()\n",
    "    \n",
    "    escore_delta_3.append([value,es])"
   ]
  },
  {
   "cell_type": "code",
   "execution_count": 240,
   "metadata": {},
   "outputs": [],
   "source": [
    "df_escore_delta_3 = pd.DataFrame (escore_delta_3, columns = ['UF','Escore_delta_3'])"
   ]
  },
  {
   "cell_type": "code",
   "execution_count": 241,
   "metadata": {},
   "outputs": [
    {
     "data": {
      "text/plain": [
       "count    29.000000\n",
       "mean     78.067000\n",
       "std       1.380541\n",
       "min      74.924704\n",
       "25%      77.426128\n",
       "50%      77.966242\n",
       "75%      79.117421\n",
       "max      81.266403\n",
       "Name: Escore_delta_3, dtype: float64"
      ]
     },
     "execution_count": 241,
     "metadata": {},
     "output_type": "execute_result"
    }
   ],
   "source": [
    "df_escore_delta_3.Escore_delta_3.describe()"
   ]
  },
  {
   "cell_type": "code",
   "execution_count": 242,
   "metadata": {
    "scrolled": false
   },
   "outputs": [
    {
     "data": {
      "text/html": [
       "<div>\n",
       "<style scoped>\n",
       "    .dataframe tbody tr th:only-of-type {\n",
       "        vertical-align: middle;\n",
       "    }\n",
       "\n",
       "    .dataframe tbody tr th {\n",
       "        vertical-align: top;\n",
       "    }\n",
       "\n",
       "    .dataframe thead th {\n",
       "        text-align: right;\n",
       "    }\n",
       "</style>\n",
       "<table border=\"1\" class=\"dataframe\">\n",
       "  <thead>\n",
       "    <tr style=\"text-align: right;\">\n",
       "      <th></th>\n",
       "      <th>UF</th>\n",
       "      <th>Escore_delta_3</th>\n",
       "    </tr>\n",
       "  </thead>\n",
       "  <tbody>\n",
       "    <tr>\n",
       "      <th>0</th>\n",
       "      <td>df</td>\n",
       "      <td>79.409200</td>\n",
       "    </tr>\n",
       "    <tr>\n",
       "      <th>1</th>\n",
       "      <td>es</td>\n",
       "      <td>78.138846</td>\n",
       "    </tr>\n",
       "    <tr>\n",
       "      <th>2</th>\n",
       "      <td>se</td>\n",
       "      <td>78.623210</td>\n",
       "    </tr>\n",
       "    <tr>\n",
       "      <th>3</th>\n",
       "      <td>pr</td>\n",
       "      <td>79.199190</td>\n",
       "    </tr>\n",
       "    <tr>\n",
       "      <th>4</th>\n",
       "      <td>ro</td>\n",
       "      <td>79.619112</td>\n",
       "    </tr>\n",
       "  </tbody>\n",
       "</table>\n",
       "</div>"
      ],
      "text/plain": [
       "   UF  Escore_delta_3\n",
       "0  df       79.409200\n",
       "1  es       78.138846\n",
       "2  se       78.623210\n",
       "3  pr       79.199190\n",
       "4  ro       79.619112"
      ]
     },
     "execution_count": 242,
     "metadata": {},
     "output_type": "execute_result"
    }
   ],
   "source": [
    "df_escore_delta_3.head()"
   ]
  },
  {
   "cell_type": "code",
   "execution_count": 248,
   "metadata": {
    "scrolled": true
   },
   "outputs": [
    {
     "data": {
      "text/html": [
       "<div>\n",
       "<style scoped>\n",
       "    .dataframe tbody tr th:only-of-type {\n",
       "        vertical-align: middle;\n",
       "    }\n",
       "\n",
       "    .dataframe tbody tr th {\n",
       "        vertical-align: top;\n",
       "    }\n",
       "\n",
       "    .dataframe thead th {\n",
       "        text-align: right;\n",
       "    }\n",
       "</style>\n",
       "<table border=\"1\" class=\"dataframe\">\n",
       "  <thead>\n",
       "    <tr style=\"text-align: right;\">\n",
       "      <th></th>\n",
       "      <th>UF</th>\n",
       "      <th>Escore_original_1</th>\n",
       "      <th>Escore_original_2</th>\n",
       "      <th>Escore_original_3</th>\n",
       "      <th>Escore_alfa_1</th>\n",
       "      <th>Escore_alfa_2</th>\n",
       "      <th>Escore_alfa_3</th>\n",
       "      <th>Escore_delta_1</th>\n",
       "      <th>Escore_delta_2</th>\n",
       "      <th>Escore_delta_3</th>\n",
       "    </tr>\n",
       "  </thead>\n",
       "  <tbody>\n",
       "    <tr>\n",
       "      <th>0</th>\n",
       "      <td>df</td>\n",
       "      <td>58.998410</td>\n",
       "      <td>73.608068</td>\n",
       "      <td>85.977919</td>\n",
       "      <td>54.646516</td>\n",
       "      <td>70.372526</td>\n",
       "      <td>78.680713</td>\n",
       "      <td>58.262199</td>\n",
       "      <td>61.301596</td>\n",
       "      <td>79.409200</td>\n",
       "    </tr>\n",
       "    <tr>\n",
       "      <th>1</th>\n",
       "      <td>es</td>\n",
       "      <td>57.723952</td>\n",
       "      <td>72.539247</td>\n",
       "      <td>84.730144</td>\n",
       "      <td>54.030272</td>\n",
       "      <td>69.597019</td>\n",
       "      <td>77.632832</td>\n",
       "      <td>56.521113</td>\n",
       "      <td>61.189902</td>\n",
       "      <td>78.138846</td>\n",
       "    </tr>\n",
       "    <tr>\n",
       "      <th>2</th>\n",
       "      <td>se</td>\n",
       "      <td>57.622584</td>\n",
       "      <td>72.684806</td>\n",
       "      <td>85.395397</td>\n",
       "      <td>53.880960</td>\n",
       "      <td>69.111975</td>\n",
       "      <td>77.248127</td>\n",
       "      <td>57.852665</td>\n",
       "      <td>58.257056</td>\n",
       "      <td>78.623210</td>\n",
       "    </tr>\n",
       "    <tr>\n",
       "      <th>3</th>\n",
       "      <td>pr</td>\n",
       "      <td>57.986366</td>\n",
       "      <td>73.165507</td>\n",
       "      <td>85.912242</td>\n",
       "      <td>54.228788</td>\n",
       "      <td>70.135018</td>\n",
       "      <td>78.453465</td>\n",
       "      <td>56.999805</td>\n",
       "      <td>61.796021</td>\n",
       "      <td>79.199190</td>\n",
       "    </tr>\n",
       "    <tr>\n",
       "      <th>4</th>\n",
       "      <td>ro</td>\n",
       "      <td>58.506569</td>\n",
       "      <td>73.528089</td>\n",
       "      <td>86.122448</td>\n",
       "      <td>54.478047</td>\n",
       "      <td>70.168279</td>\n",
       "      <td>78.478282</td>\n",
       "      <td>58.098998</td>\n",
       "      <td>60.340074</td>\n",
       "      <td>79.619112</td>\n",
       "    </tr>\n",
       "  </tbody>\n",
       "</table>\n",
       "</div>"
      ],
      "text/plain": [
       "   UF  Escore_original_1  Escore_original_2  Escore_original_3  Escore_alfa_1  \\\n",
       "0  df          58.998410          73.608068          85.977919      54.646516   \n",
       "1  es          57.723952          72.539247          84.730144      54.030272   \n",
       "2  se          57.622584          72.684806          85.395397      53.880960   \n",
       "3  pr          57.986366          73.165507          85.912242      54.228788   \n",
       "4  ro          58.506569          73.528089          86.122448      54.478047   \n",
       "\n",
       "   Escore_alfa_2  Escore_alfa_3  Escore_delta_1  Escore_delta_2  \\\n",
       "0      70.372526      78.680713       58.262199       61.301596   \n",
       "1      69.597019      77.632832       56.521113       61.189902   \n",
       "2      69.111975      77.248127       57.852665       58.257056   \n",
       "3      70.135018      78.453465       56.999805       61.796021   \n",
       "4      70.168279      78.478282       58.098998       60.340074   \n",
       "\n",
       "   Escore_delta_3  \n",
       "0       79.409200  \n",
       "1       78.138846  \n",
       "2       78.623210  \n",
       "3       79.199190  \n",
       "4       79.619112  "
      ]
     },
     "execution_count": 248,
     "metadata": {},
     "output_type": "execute_result"
    }
   ],
   "source": [
    "result.head()"
   ]
  },
  {
   "cell_type": "code",
   "execution_count": 243,
   "metadata": {},
   "outputs": [],
   "source": [
    "result = pd.merge(result, df_escore_delta_1, on=['UF'])"
   ]
  },
  {
   "cell_type": "code",
   "execution_count": 245,
   "metadata": {},
   "outputs": [],
   "source": [
    "result = pd.merge(result, df_escore_delta_2, on=['UF'])"
   ]
  },
  {
   "cell_type": "code",
   "execution_count": 247,
   "metadata": {},
   "outputs": [],
   "source": [
    "result = pd.merge(result, df_escore_delta_3, on=['UF'])"
   ]
  },
  {
   "cell_type": "markdown",
   "metadata": {},
   "source": [
    "## Escore da variante Gama para o desfecho 1"
   ]
  },
  {
   "cell_type": "code",
   "execution_count": 249,
   "metadata": {},
   "outputs": [],
   "source": [
    "escore = pd.read_csv('/Users/julianeoliveira/Downloads/part-00000-0bd5c7cb-0b49-416f-810d-d64a5af3c72c-c000.csv')"
   ]
  },
  {
   "cell_type": "code",
   "execution_count": 250,
   "metadata": {},
   "outputs": [],
   "source": [
    "escore = escore.fillna(0)"
   ]
  },
  {
   "cell_type": "code",
   "execution_count": 251,
   "metadata": {},
   "outputs": [],
   "source": [
    "escore['tot'] = escore.iloc[:, 6:11].sum(axis=1)"
   ]
  },
  {
   "cell_type": "code",
   "execution_count": 252,
   "metadata": {},
   "outputs": [],
   "source": [
    "s ='apenas_primeira_dose_vacina'\n",
    "escore[s] = escore[s].replace('astrazeneca', 0.49)\n",
    "escore[s] = escore[s].replace('coronavac', 0.38)\n",
    "escore[s] = escore[s].replace('pfizer', 0.83)\n",
    "escore[s] = escore[s].replace('janssen', 0.56)"
   ]
  },
  {
   "cell_type": "code",
   "execution_count": 253,
   "metadata": {},
   "outputs": [],
   "source": [
    "for s in ['ciclo_completo_s_reforco_2_doses_vacina','ciclo_completo_s_reforco_unica_vacina',\n",
    "          'ciclo_completo_c_reforco_2_doses_vacina','ciclo_completo_c_reforco_unica_vacina']:\n",
    "    escore[s] = escore[s].replace('astrazeneca', 0.49)\n",
    "    escore[s] = escore[s].replace('coronavac', 0.38)\n",
    "    escore[s] = escore[s].replace('pfizer', 0.83)\n",
    "    escore[s] = escore[s].replace('janssen', 0.56)"
   ]
  },
  {
   "cell_type": "code",
   "execution_count": 254,
   "metadata": {},
   "outputs": [],
   "source": [
    "escore['Escore'] = (escore['apenas_primeira_dose_vacina']*escore['apenas_primeira_dose_num']+\n",
    "       escore['ciclo_completo_s_reforco_2_doses_vacina']*escore['ciclo_completo_s_reforco_2_doses_num']+\n",
    "       escore['ciclo_completo_s_reforco_unica_vacina']*escore['ciclo_completo_s_reforco_unica_num']+ \n",
    "        escore['ciclo_completo_c_reforco_2_doses_vacina']*escore['ciclo_completo_c_reforco_2_doses_num']+\n",
    "        escore['ciclo_completo_c_reforco_unica_vacina']*escore['ciclo_completo_c_reforco_unica_num']) "
   ]
  },
  {
   "cell_type": "code",
   "execution_count": 255,
   "metadata": {},
   "outputs": [
    {
     "data": {
      "text/plain": [
       "57.86469472985751"
      ]
     },
     "execution_count": 255,
     "metadata": {},
     "output_type": "execute_result"
    }
   ],
   "source": [
    "escore[escore['uf_res']=='ba']['Escore'].sum()*100/escore[escore['uf_res']=='ba']['tot'].sum()"
   ]
  },
  {
   "cell_type": "code",
   "execution_count": 258,
   "metadata": {},
   "outputs": [],
   "source": [
    "escore_gama_1 = []\n",
    "\n",
    "for value in escore.uf_res.unique():\n",
    "    data = escore[escore['uf_res']== value]\n",
    "    es= data['Escore'].sum()*100/data['tot'].sum()\n",
    "    \n",
    "    escore_gama_1.append([value,es])"
   ]
  },
  {
   "cell_type": "code",
   "execution_count": 259,
   "metadata": {},
   "outputs": [],
   "source": [
    "df_escore_gama_1 = pd.DataFrame (escore_gama_1, columns = ['UF','Escore_gama_1'])"
   ]
  },
  {
   "cell_type": "code",
   "execution_count": 260,
   "metadata": {},
   "outputs": [
    {
     "data": {
      "text/plain": [
       "count    29.000000\n",
       "mean     58.590304\n",
       "std       1.163422\n",
       "min      55.799163\n",
       "25%      57.848300\n",
       "50%      58.482906\n",
       "75%      59.283453\n",
       "max      60.893151\n",
       "Name: Escore_gama_1, dtype: float64"
      ]
     },
     "execution_count": 260,
     "metadata": {},
     "output_type": "execute_result"
    }
   ],
   "source": [
    "df_escore_gama_1.Escore_gama_1.describe()"
   ]
  },
  {
   "cell_type": "code",
   "execution_count": 261,
   "metadata": {
    "scrolled": false
   },
   "outputs": [
    {
     "data": {
      "text/html": [
       "<div>\n",
       "<style scoped>\n",
       "    .dataframe tbody tr th:only-of-type {\n",
       "        vertical-align: middle;\n",
       "    }\n",
       "\n",
       "    .dataframe tbody tr th {\n",
       "        vertical-align: top;\n",
       "    }\n",
       "\n",
       "    .dataframe thead th {\n",
       "        text-align: right;\n",
       "    }\n",
       "</style>\n",
       "<table border=\"1\" class=\"dataframe\">\n",
       "  <thead>\n",
       "    <tr style=\"text-align: right;\">\n",
       "      <th></th>\n",
       "      <th>UF</th>\n",
       "      <th>Escore_gama_1</th>\n",
       "    </tr>\n",
       "  </thead>\n",
       "  <tbody>\n",
       "    <tr>\n",
       "      <th>0</th>\n",
       "      <td>df</td>\n",
       "      <td>60.300548</td>\n",
       "    </tr>\n",
       "    <tr>\n",
       "      <th>1</th>\n",
       "      <td>es</td>\n",
       "      <td>58.310808</td>\n",
       "    </tr>\n",
       "    <tr>\n",
       "      <th>2</th>\n",
       "      <td>se</td>\n",
       "      <td>59.822890</td>\n",
       "    </tr>\n",
       "    <tr>\n",
       "      <th>3</th>\n",
       "      <td>pr</td>\n",
       "      <td>58.833007</td>\n",
       "    </tr>\n",
       "    <tr>\n",
       "      <th>4</th>\n",
       "      <td>ro</td>\n",
       "      <td>60.086708</td>\n",
       "    </tr>\n",
       "  </tbody>\n",
       "</table>\n",
       "</div>"
      ],
      "text/plain": [
       "   UF  Escore_gama_1\n",
       "0  df      60.300548\n",
       "1  es      58.310808\n",
       "2  se      59.822890\n",
       "3  pr      58.833007\n",
       "4  ro      60.086708"
      ]
     },
     "execution_count": 261,
     "metadata": {},
     "output_type": "execute_result"
    }
   ],
   "source": [
    "df_escore_gama_1.head()"
   ]
  },
  {
   "cell_type": "markdown",
   "metadata": {},
   "source": [
    "## Escore da variante Gama para o desfecho 2"
   ]
  },
  {
   "cell_type": "code",
   "execution_count": 262,
   "metadata": {},
   "outputs": [],
   "source": [
    "escore = pd.read_csv('/Users/julianeoliveira/Downloads/part-00000-0bd5c7cb-0b49-416f-810d-d64a5af3c72c-c000.csv')"
   ]
  },
  {
   "cell_type": "code",
   "execution_count": 263,
   "metadata": {},
   "outputs": [],
   "source": [
    "escore = escore.fillna(0)"
   ]
  },
  {
   "cell_type": "code",
   "execution_count": 264,
   "metadata": {},
   "outputs": [],
   "source": [
    "escore['tot'] = escore.iloc[:, 6:11].sum(axis=1)"
   ]
  },
  {
   "cell_type": "code",
   "execution_count": 265,
   "metadata": {},
   "outputs": [],
   "source": [
    "s ='apenas_primeira_dose_vacina'\n",
    "escore[s] = escore[s].replace('astrazeneca', 0.5)\n",
    "escore[s] = escore[s].replace('coronavac', 0.43)\n",
    "escore[s] = escore[s].replace('pfizer', 0.65)\n",
    "escore[s] = escore[s].replace('janssen', 0.68)"
   ]
  },
  {
   "cell_type": "code",
   "execution_count": 266,
   "metadata": {},
   "outputs": [],
   "source": [
    "for s in ['ciclo_completo_s_reforco_2_doses_vacina','ciclo_completo_s_reforco_unica_vacina',\n",
    "          'ciclo_completo_c_reforco_2_doses_vacina','ciclo_completo_c_reforco_unica_vacina']:\n",
    "    escore[s] = escore[s].replace('astrazeneca', 0.576)\n",
    "    escore[s] = escore[s].replace('coronavac', 0.43)\n",
    "    escore[s] = escore[s].replace('pfizer', 0.98)\n",
    "    escore[s] = escore[s].replace('janssen', 0.68)"
   ]
  },
  {
   "cell_type": "code",
   "execution_count": 267,
   "metadata": {},
   "outputs": [],
   "source": [
    "escore['Escore'] = (escore['apenas_primeira_dose_vacina']*escore['apenas_primeira_dose_num']+\n",
    "       escore['ciclo_completo_s_reforco_2_doses_vacina']*escore['ciclo_completo_s_reforco_2_doses_num']+\n",
    "       escore['ciclo_completo_s_reforco_unica_vacina']*escore['ciclo_completo_s_reforco_unica_num']+ \n",
    "        escore['ciclo_completo_c_reforco_2_doses_vacina']*escore['ciclo_completo_c_reforco_2_doses_num']+\n",
    "        escore['ciclo_completo_c_reforco_unica_vacina']*escore['ciclo_completo_c_reforco_unica_num']) "
   ]
  },
  {
   "cell_type": "code",
   "execution_count": 268,
   "metadata": {},
   "outputs": [
    {
     "data": {
      "text/plain": [
       "61.536788145548634"
      ]
     },
     "execution_count": 268,
     "metadata": {},
     "output_type": "execute_result"
    }
   ],
   "source": [
    "escore[escore['uf_res']=='ba']['Escore'].sum()*100/escore[escore['uf_res']=='ba']['tot'].sum()"
   ]
  },
  {
   "cell_type": "code",
   "execution_count": 269,
   "metadata": {},
   "outputs": [],
   "source": [
    "escore_gama_2 = []\n",
    "\n",
    "for value in escore.uf_res.unique():\n",
    "    data = escore[escore['uf_res']== value]\n",
    "    es= data['Escore'].sum()*100/data['tot'].sum()\n",
    "    \n",
    "    escore_gama_2.append([value,es])"
   ]
  },
  {
   "cell_type": "code",
   "execution_count": 270,
   "metadata": {},
   "outputs": [],
   "source": [
    "df_escore_gama_2 = pd.DataFrame (escore_gama_2, columns = ['UF','Escore_gama_2'])"
   ]
  },
  {
   "cell_type": "code",
   "execution_count": 271,
   "metadata": {},
   "outputs": [
    {
     "data": {
      "text/plain": [
       "count    29.000000\n",
       "mean     63.183033\n",
       "std       1.213560\n",
       "min      60.426223\n",
       "25%      62.429990\n",
       "50%      63.341429\n",
       "75%      63.729549\n",
       "max      65.515306\n",
       "Name: Escore_gama_2, dtype: float64"
      ]
     },
     "execution_count": 271,
     "metadata": {},
     "output_type": "execute_result"
    }
   ],
   "source": [
    "df_escore_gama_2.Escore_gama_2.describe()"
   ]
  },
  {
   "cell_type": "code",
   "execution_count": 272,
   "metadata": {
    "scrolled": false
   },
   "outputs": [
    {
     "data": {
      "text/html": [
       "<div>\n",
       "<style scoped>\n",
       "    .dataframe tbody tr th:only-of-type {\n",
       "        vertical-align: middle;\n",
       "    }\n",
       "\n",
       "    .dataframe tbody tr th {\n",
       "        vertical-align: top;\n",
       "    }\n",
       "\n",
       "    .dataframe thead th {\n",
       "        text-align: right;\n",
       "    }\n",
       "</style>\n",
       "<table border=\"1\" class=\"dataframe\">\n",
       "  <thead>\n",
       "    <tr style=\"text-align: right;\">\n",
       "      <th></th>\n",
       "      <th>UF</th>\n",
       "      <th>Escore_gama_2</th>\n",
       "    </tr>\n",
       "  </thead>\n",
       "  <tbody>\n",
       "    <tr>\n",
       "      <th>0</th>\n",
       "      <td>df</td>\n",
       "      <td>65.515306</td>\n",
       "    </tr>\n",
       "    <tr>\n",
       "      <th>1</th>\n",
       "      <td>es</td>\n",
       "      <td>63.926559</td>\n",
       "    </tr>\n",
       "    <tr>\n",
       "      <th>2</th>\n",
       "      <td>se</td>\n",
       "      <td>63.704802</td>\n",
       "    </tr>\n",
       "    <tr>\n",
       "      <th>3</th>\n",
       "      <td>pr</td>\n",
       "      <td>64.443405</td>\n",
       "    </tr>\n",
       "    <tr>\n",
       "      <th>4</th>\n",
       "      <td>ro</td>\n",
       "      <td>64.890552</td>\n",
       "    </tr>\n",
       "  </tbody>\n",
       "</table>\n",
       "</div>"
      ],
      "text/plain": [
       "   UF  Escore_gama_2\n",
       "0  df      65.515306\n",
       "1  es      63.926559\n",
       "2  se      63.704802\n",
       "3  pr      64.443405\n",
       "4  ro      64.890552"
      ]
     },
     "execution_count": 272,
     "metadata": {},
     "output_type": "execute_result"
    }
   ],
   "source": [
    "df_escore_gama_2.head()"
   ]
  },
  {
   "cell_type": "markdown",
   "metadata": {},
   "source": [
    "## Escore da variante Gama para o desfecho 3"
   ]
  },
  {
   "cell_type": "code",
   "execution_count": 273,
   "metadata": {},
   "outputs": [],
   "source": [
    "escore = pd.read_csv('/Users/julianeoliveira/Downloads/part-00000-0bd5c7cb-0b49-416f-810d-d64a5af3c72c-c000.csv')"
   ]
  },
  {
   "cell_type": "code",
   "execution_count": 274,
   "metadata": {},
   "outputs": [],
   "source": [
    "escore = escore.fillna(0)"
   ]
  },
  {
   "cell_type": "code",
   "execution_count": 275,
   "metadata": {},
   "outputs": [],
   "source": [
    "escore['tot'] = escore.iloc[:, 6:11].sum(axis=1)"
   ]
  },
  {
   "cell_type": "code",
   "execution_count": 276,
   "metadata": {},
   "outputs": [],
   "source": [
    "s ='apenas_primeira_dose_vacina'\n",
    "escore[s] = escore[s].replace('astrazeneca', 0.83)\n",
    "escore[s] = escore[s].replace('coronavac', 0.43)\n",
    "escore[s] = escore[s].replace('pfizer', 0.85)\n",
    "escore[s] = escore[s].replace('janssen', 0.88)"
   ]
  },
  {
   "cell_type": "code",
   "execution_count": 277,
   "metadata": {},
   "outputs": [],
   "source": [
    "for s in ['ciclo_completo_s_reforco_2_doses_vacina','ciclo_completo_s_reforco_unica_vacina',\n",
    "          'ciclo_completo_c_reforco_2_doses_vacina','ciclo_completo_c_reforco_unica_vacina']:\n",
    "    escore[s] = escore[s].replace('astrazeneca', 0.83)\n",
    "    escore[s] = escore[s].replace('coronavac', 0.43)\n",
    "    escore[s] = escore[s].replace('pfizer', 0.98)\n",
    "    escore[s] = escore[s].replace('janssen', 0.88)"
   ]
  },
  {
   "cell_type": "code",
   "execution_count": 278,
   "metadata": {},
   "outputs": [],
   "source": [
    "escore['Escore'] = (escore['apenas_primeira_dose_vacina']*escore['apenas_primeira_dose_num']+\n",
    "       escore['ciclo_completo_s_reforco_2_doses_vacina']*escore['ciclo_completo_s_reforco_2_doses_num']+\n",
    "       escore['ciclo_completo_s_reforco_unica_vacina']*escore['ciclo_completo_s_reforco_unica_num']+ \n",
    "        escore['ciclo_completo_c_reforco_2_doses_vacina']*escore['ciclo_completo_c_reforco_2_doses_num']+\n",
    "        escore['ciclo_completo_c_reforco_unica_vacina']*escore['ciclo_completo_c_reforco_unica_num']) "
   ]
  },
  {
   "cell_type": "code",
   "execution_count": 279,
   "metadata": {},
   "outputs": [
    {
     "data": {
      "text/plain": [
       "74.65685966839268"
      ]
     },
     "execution_count": 279,
     "metadata": {},
     "output_type": "execute_result"
    }
   ],
   "source": [
    "escore[escore['uf_res']=='ba']['Escore'].sum()*100/escore[escore['uf_res']=='ba']['tot'].sum()"
   ]
  },
  {
   "cell_type": "code",
   "execution_count": 280,
   "metadata": {},
   "outputs": [],
   "source": [
    "escore_gama_3 = []\n",
    "\n",
    "for value in escore.uf_res.unique():\n",
    "    data = escore[escore['uf_res']== value]\n",
    "    es= data['Escore'].sum()*100/data['tot'].sum()\n",
    "    \n",
    "    escore_gama_3.append([value,es])"
   ]
  },
  {
   "cell_type": "code",
   "execution_count": 281,
   "metadata": {},
   "outputs": [],
   "source": [
    "df_escore_gama_3 = pd.DataFrame (escore_gama_3, columns = ['UF','Escore_gama_3'])"
   ]
  },
  {
   "cell_type": "code",
   "execution_count": 282,
   "metadata": {},
   "outputs": [
    {
     "data": {
      "text/plain": [
       "count    29.000000\n",
       "mean     76.388424\n",
       "std       1.308830\n",
       "min      72.996880\n",
       "25%      75.799041\n",
       "50%      76.397816\n",
       "75%      77.237851\n",
       "max      79.548357\n",
       "Name: Escore_gama_3, dtype: float64"
      ]
     },
     "execution_count": 282,
     "metadata": {},
     "output_type": "execute_result"
    }
   ],
   "source": [
    "df_escore_gama_3.Escore_gama_3.describe()"
   ]
  },
  {
   "cell_type": "code",
   "execution_count": 283,
   "metadata": {
    "scrolled": false
   },
   "outputs": [
    {
     "data": {
      "text/html": [
       "<div>\n",
       "<style scoped>\n",
       "    .dataframe tbody tr th:only-of-type {\n",
       "        vertical-align: middle;\n",
       "    }\n",
       "\n",
       "    .dataframe tbody tr th {\n",
       "        vertical-align: top;\n",
       "    }\n",
       "\n",
       "    .dataframe thead th {\n",
       "        text-align: right;\n",
       "    }\n",
       "</style>\n",
       "<table border=\"1\" class=\"dataframe\">\n",
       "  <thead>\n",
       "    <tr style=\"text-align: right;\">\n",
       "      <th></th>\n",
       "      <th>UF</th>\n",
       "      <th>Escore_gama_3</th>\n",
       "    </tr>\n",
       "  </thead>\n",
       "  <tbody>\n",
       "    <tr>\n",
       "      <th>0</th>\n",
       "      <td>df</td>\n",
       "      <td>77.900097</td>\n",
       "    </tr>\n",
       "    <tr>\n",
       "      <th>1</th>\n",
       "      <td>es</td>\n",
       "      <td>76.271571</td>\n",
       "    </tr>\n",
       "    <tr>\n",
       "      <th>2</th>\n",
       "      <td>se</td>\n",
       "      <td>77.237851</td>\n",
       "    </tr>\n",
       "    <tr>\n",
       "      <th>3</th>\n",
       "      <td>pr</td>\n",
       "      <td>77.207986</td>\n",
       "    </tr>\n",
       "    <tr>\n",
       "      <th>4</th>\n",
       "      <td>ro</td>\n",
       "      <td>78.055846</td>\n",
       "    </tr>\n",
       "  </tbody>\n",
       "</table>\n",
       "</div>"
      ],
      "text/plain": [
       "   UF  Escore_gama_3\n",
       "0  df      77.900097\n",
       "1  es      76.271571\n",
       "2  se      77.237851\n",
       "3  pr      77.207986\n",
       "4  ro      78.055846"
      ]
     },
     "execution_count": 283,
     "metadata": {},
     "output_type": "execute_result"
    }
   ],
   "source": [
    "df_escore_gama_3.head()"
   ]
  },
  {
   "cell_type": "code",
   "execution_count": 288,
   "metadata": {
    "scrolled": true
   },
   "outputs": [
    {
     "data": {
      "text/html": [
       "<div>\n",
       "<style scoped>\n",
       "    .dataframe tbody tr th:only-of-type {\n",
       "        vertical-align: middle;\n",
       "    }\n",
       "\n",
       "    .dataframe tbody tr th {\n",
       "        vertical-align: top;\n",
       "    }\n",
       "\n",
       "    .dataframe thead th {\n",
       "        text-align: right;\n",
       "    }\n",
       "</style>\n",
       "<table border=\"1\" class=\"dataframe\">\n",
       "  <thead>\n",
       "    <tr style=\"text-align: right;\">\n",
       "      <th></th>\n",
       "      <th>UF</th>\n",
       "      <th>Escore_original_1</th>\n",
       "      <th>Escore_original_2</th>\n",
       "      <th>Escore_original_3</th>\n",
       "      <th>Escore_alfa_1</th>\n",
       "      <th>Escore_alfa_2</th>\n",
       "      <th>Escore_alfa_3</th>\n",
       "      <th>Escore_delta_1</th>\n",
       "      <th>Escore_delta_2</th>\n",
       "      <th>Escore_delta_3</th>\n",
       "      <th>Escore_gama_1</th>\n",
       "      <th>Escore_gama_2</th>\n",
       "      <th>Escore_gama_3</th>\n",
       "    </tr>\n",
       "  </thead>\n",
       "  <tbody>\n",
       "    <tr>\n",
       "      <th>0</th>\n",
       "      <td>df</td>\n",
       "      <td>58.998410</td>\n",
       "      <td>73.608068</td>\n",
       "      <td>85.977919</td>\n",
       "      <td>54.646516</td>\n",
       "      <td>70.372526</td>\n",
       "      <td>78.680713</td>\n",
       "      <td>58.262199</td>\n",
       "      <td>61.301596</td>\n",
       "      <td>79.409200</td>\n",
       "      <td>60.300548</td>\n",
       "      <td>65.515306</td>\n",
       "      <td>77.900097</td>\n",
       "    </tr>\n",
       "    <tr>\n",
       "      <th>1</th>\n",
       "      <td>es</td>\n",
       "      <td>57.723952</td>\n",
       "      <td>72.539247</td>\n",
       "      <td>84.730144</td>\n",
       "      <td>54.030272</td>\n",
       "      <td>69.597019</td>\n",
       "      <td>77.632832</td>\n",
       "      <td>56.521113</td>\n",
       "      <td>61.189902</td>\n",
       "      <td>78.138846</td>\n",
       "      <td>58.310808</td>\n",
       "      <td>63.926559</td>\n",
       "      <td>76.271571</td>\n",
       "    </tr>\n",
       "    <tr>\n",
       "      <th>2</th>\n",
       "      <td>se</td>\n",
       "      <td>57.622584</td>\n",
       "      <td>72.684806</td>\n",
       "      <td>85.395397</td>\n",
       "      <td>53.880960</td>\n",
       "      <td>69.111975</td>\n",
       "      <td>77.248127</td>\n",
       "      <td>57.852665</td>\n",
       "      <td>58.257056</td>\n",
       "      <td>78.623210</td>\n",
       "      <td>59.822890</td>\n",
       "      <td>63.704802</td>\n",
       "      <td>77.237851</td>\n",
       "    </tr>\n",
       "    <tr>\n",
       "      <th>3</th>\n",
       "      <td>pr</td>\n",
       "      <td>57.986366</td>\n",
       "      <td>73.165507</td>\n",
       "      <td>85.912242</td>\n",
       "      <td>54.228788</td>\n",
       "      <td>70.135018</td>\n",
       "      <td>78.453465</td>\n",
       "      <td>56.999805</td>\n",
       "      <td>61.796021</td>\n",
       "      <td>79.199190</td>\n",
       "      <td>58.833007</td>\n",
       "      <td>64.443405</td>\n",
       "      <td>77.207986</td>\n",
       "    </tr>\n",
       "    <tr>\n",
       "      <th>4</th>\n",
       "      <td>ro</td>\n",
       "      <td>58.506569</td>\n",
       "      <td>73.528089</td>\n",
       "      <td>86.122448</td>\n",
       "      <td>54.478047</td>\n",
       "      <td>70.168279</td>\n",
       "      <td>78.478282</td>\n",
       "      <td>58.098998</td>\n",
       "      <td>60.340074</td>\n",
       "      <td>79.619112</td>\n",
       "      <td>60.086708</td>\n",
       "      <td>64.890552</td>\n",
       "      <td>78.055846</td>\n",
       "    </tr>\n",
       "  </tbody>\n",
       "</table>\n",
       "</div>"
      ],
      "text/plain": [
       "   UF  Escore_original_1  Escore_original_2  Escore_original_3  Escore_alfa_1  \\\n",
       "0  df          58.998410          73.608068          85.977919      54.646516   \n",
       "1  es          57.723952          72.539247          84.730144      54.030272   \n",
       "2  se          57.622584          72.684806          85.395397      53.880960   \n",
       "3  pr          57.986366          73.165507          85.912242      54.228788   \n",
       "4  ro          58.506569          73.528089          86.122448      54.478047   \n",
       "\n",
       "   Escore_alfa_2  Escore_alfa_3  Escore_delta_1  Escore_delta_2  \\\n",
       "0      70.372526      78.680713       58.262199       61.301596   \n",
       "1      69.597019      77.632832       56.521113       61.189902   \n",
       "2      69.111975      77.248127       57.852665       58.257056   \n",
       "3      70.135018      78.453465       56.999805       61.796021   \n",
       "4      70.168279      78.478282       58.098998       60.340074   \n",
       "\n",
       "   Escore_delta_3  Escore_gama_1  Escore_gama_2  Escore_gama_3  \n",
       "0       79.409200      60.300548      65.515306      77.900097  \n",
       "1       78.138846      58.310808      63.926559      76.271571  \n",
       "2       78.623210      59.822890      63.704802      77.237851  \n",
       "3       79.199190      58.833007      64.443405      77.207986  \n",
       "4       79.619112      60.086708      64.890552      78.055846  "
      ]
     },
     "execution_count": 288,
     "metadata": {},
     "output_type": "execute_result"
    }
   ],
   "source": [
    "result.head()"
   ]
  },
  {
   "cell_type": "code",
   "execution_count": 285,
   "metadata": {},
   "outputs": [],
   "source": [
    "result = pd.merge(result, df_escore_gama_1, on=['UF'])"
   ]
  },
  {
   "cell_type": "code",
   "execution_count": 286,
   "metadata": {},
   "outputs": [],
   "source": [
    "result = pd.merge(result, df_escore_gama_2, on=['UF'])"
   ]
  },
  {
   "cell_type": "code",
   "execution_count": 287,
   "metadata": {},
   "outputs": [],
   "source": [
    "result = pd.merge(result, df_escore_gama_3, on=['UF'])"
   ]
  },
  {
   "cell_type": "code",
   "execution_count": 289,
   "metadata": {},
   "outputs": [],
   "source": [
    "result.to_csv('escore.csv')"
   ]
  },
  {
   "cell_type": "code",
   "execution_count": 303,
   "metadata": {},
   "outputs": [
    {
     "data": {
      "text/html": [
       "<div>\n",
       "<style scoped>\n",
       "    .dataframe tbody tr th:only-of-type {\n",
       "        vertical-align: middle;\n",
       "    }\n",
       "\n",
       "    .dataframe tbody tr th {\n",
       "        vertical-align: top;\n",
       "    }\n",
       "\n",
       "    .dataframe thead th {\n",
       "        text-align: right;\n",
       "    }\n",
       "</style>\n",
       "<table border=\"1\" class=\"dataframe\">\n",
       "  <thead>\n",
       "    <tr style=\"text-align: right;\">\n",
       "      <th></th>\n",
       "      <th>Escore_original_1</th>\n",
       "      <th>Escore_original_2</th>\n",
       "      <th>Escore_original_3</th>\n",
       "      <th>Escore_alfa_1</th>\n",
       "      <th>Escore_alfa_2</th>\n",
       "      <th>Escore_alfa_3</th>\n",
       "      <th>Escore_delta_1</th>\n",
       "      <th>Escore_delta_2</th>\n",
       "      <th>Escore_delta_3</th>\n",
       "      <th>Escore_gama_1</th>\n",
       "      <th>Escore_gama_2</th>\n",
       "      <th>Escore_gama_3</th>\n",
       "    </tr>\n",
       "  </thead>\n",
       "  <tbody>\n",
       "    <tr>\n",
       "      <th>count</th>\n",
       "      <td>29.000000</td>\n",
       "      <td>29.000000</td>\n",
       "      <td>29.000000</td>\n",
       "      <td>29.000000</td>\n",
       "      <td>29.000000</td>\n",
       "      <td>29.000000</td>\n",
       "      <td>29.000000</td>\n",
       "      <td>29.000000</td>\n",
       "      <td>29.000000</td>\n",
       "      <td>29.000000</td>\n",
       "      <td>29.000000</td>\n",
       "      <td>29.000000</td>\n",
       "    </tr>\n",
       "    <tr>\n",
       "      <th>mean</th>\n",
       "      <td>57.195183</td>\n",
       "      <td>72.281229</td>\n",
       "      <td>84.714196</td>\n",
       "      <td>53.725365</td>\n",
       "      <td>69.023947</td>\n",
       "      <td>77.010324</td>\n",
       "      <td>56.774718</td>\n",
       "      <td>59.093961</td>\n",
       "      <td>78.067000</td>\n",
       "      <td>58.590304</td>\n",
       "      <td>63.183033</td>\n",
       "      <td>76.388424</td>\n",
       "    </tr>\n",
       "    <tr>\n",
       "      <th>std</th>\n",
       "      <td>0.934634</td>\n",
       "      <td>0.884097</td>\n",
       "      <td>1.445344</td>\n",
       "      <td>0.524925</td>\n",
       "      <td>0.919521</td>\n",
       "      <td>1.167141</td>\n",
       "      <td>1.027020</td>\n",
       "      <td>2.114142</td>\n",
       "      <td>1.380541</td>\n",
       "      <td>1.163422</td>\n",
       "      <td>1.213560</td>\n",
       "      <td>1.308830</td>\n",
       "    </tr>\n",
       "    <tr>\n",
       "      <th>min</th>\n",
       "      <td>55.059271</td>\n",
       "      <td>70.411869</td>\n",
       "      <td>81.203021</td>\n",
       "      <td>52.523167</td>\n",
       "      <td>66.998276</td>\n",
       "      <td>74.968758</td>\n",
       "      <td>54.257943</td>\n",
       "      <td>52.646869</td>\n",
       "      <td>74.924704</td>\n",
       "      <td>55.799163</td>\n",
       "      <td>60.426223</td>\n",
       "      <td>72.996880</td>\n",
       "    </tr>\n",
       "    <tr>\n",
       "      <th>25%</th>\n",
       "      <td>56.689549</td>\n",
       "      <td>71.978361</td>\n",
       "      <td>84.196435</td>\n",
       "      <td>53.414037</td>\n",
       "      <td>68.501189</td>\n",
       "      <td>76.181141</td>\n",
       "      <td>56.099016</td>\n",
       "      <td>58.071374</td>\n",
       "      <td>77.426128</td>\n",
       "      <td>57.848300</td>\n",
       "      <td>62.429990</td>\n",
       "      <td>75.799041</td>\n",
       "    </tr>\n",
       "    <tr>\n",
       "      <th>50%</th>\n",
       "      <td>57.284797</td>\n",
       "      <td>72.279756</td>\n",
       "      <td>84.872785</td>\n",
       "      <td>53.768994</td>\n",
       "      <td>69.111975</td>\n",
       "      <td>77.074537</td>\n",
       "      <td>56.652849</td>\n",
       "      <td>59.257184</td>\n",
       "      <td>77.966242</td>\n",
       "      <td>58.482906</td>\n",
       "      <td>63.341429</td>\n",
       "      <td>76.397816</td>\n",
       "    </tr>\n",
       "    <tr>\n",
       "      <th>75%</th>\n",
       "      <td>57.723952</td>\n",
       "      <td>72.838133</td>\n",
       "      <td>85.912242</td>\n",
       "      <td>54.104426</td>\n",
       "      <td>69.597019</td>\n",
       "      <td>77.632832</td>\n",
       "      <td>57.436160</td>\n",
       "      <td>60.847686</td>\n",
       "      <td>79.117421</td>\n",
       "      <td>59.283453</td>\n",
       "      <td>63.729549</td>\n",
       "      <td>77.237851</td>\n",
       "    </tr>\n",
       "    <tr>\n",
       "      <th>max</th>\n",
       "      <td>58.998410</td>\n",
       "      <td>74.275948</td>\n",
       "      <td>88.143969</td>\n",
       "      <td>54.646516</td>\n",
       "      <td>70.553056</td>\n",
       "      <td>79.349591</td>\n",
       "      <td>58.852269</td>\n",
       "      <td>62.049536</td>\n",
       "      <td>81.266403</td>\n",
       "      <td>60.893151</td>\n",
       "      <td>65.515306</td>\n",
       "      <td>79.548357</td>\n",
       "    </tr>\n",
       "  </tbody>\n",
       "</table>\n",
       "</div>"
      ],
      "text/plain": [
       "       Escore_original_1  Escore_original_2  Escore_original_3  Escore_alfa_1  \\\n",
       "count          29.000000          29.000000          29.000000      29.000000   \n",
       "mean           57.195183          72.281229          84.714196      53.725365   \n",
       "std             0.934634           0.884097           1.445344       0.524925   \n",
       "min            55.059271          70.411869          81.203021      52.523167   \n",
       "25%            56.689549          71.978361          84.196435      53.414037   \n",
       "50%            57.284797          72.279756          84.872785      53.768994   \n",
       "75%            57.723952          72.838133          85.912242      54.104426   \n",
       "max            58.998410          74.275948          88.143969      54.646516   \n",
       "\n",
       "       Escore_alfa_2  Escore_alfa_3  Escore_delta_1  Escore_delta_2  \\\n",
       "count      29.000000      29.000000       29.000000       29.000000   \n",
       "mean       69.023947      77.010324       56.774718       59.093961   \n",
       "std         0.919521       1.167141        1.027020        2.114142   \n",
       "min        66.998276      74.968758       54.257943       52.646869   \n",
       "25%        68.501189      76.181141       56.099016       58.071374   \n",
       "50%        69.111975      77.074537       56.652849       59.257184   \n",
       "75%        69.597019      77.632832       57.436160       60.847686   \n",
       "max        70.553056      79.349591       58.852269       62.049536   \n",
       "\n",
       "       Escore_delta_3  Escore_gama_1  Escore_gama_2  Escore_gama_3  \n",
       "count       29.000000      29.000000      29.000000      29.000000  \n",
       "mean        78.067000      58.590304      63.183033      76.388424  \n",
       "std          1.380541       1.163422       1.213560       1.308830  \n",
       "min         74.924704      55.799163      60.426223      72.996880  \n",
       "25%         77.426128      57.848300      62.429990      75.799041  \n",
       "50%         77.966242      58.482906      63.341429      76.397816  \n",
       "75%         79.117421      59.283453      63.729549      77.237851  \n",
       "max         81.266403      60.893151      65.515306      79.548357  "
      ]
     },
     "execution_count": 303,
     "metadata": {},
     "output_type": "execute_result"
    }
   ],
   "source": [
    "result.describe()"
   ]
  },
  {
   "cell_type": "code",
   "execution_count": 299,
   "metadata": {},
   "outputs": [
    {
     "data": {
      "text/html": [
       "<div>\n",
       "<style scoped>\n",
       "    .dataframe tbody tr th:only-of-type {\n",
       "        vertical-align: middle;\n",
       "    }\n",
       "\n",
       "    .dataframe tbody tr th {\n",
       "        vertical-align: top;\n",
       "    }\n",
       "\n",
       "    .dataframe thead th {\n",
       "        text-align: right;\n",
       "    }\n",
       "</style>\n",
       "<table border=\"1\" class=\"dataframe\">\n",
       "  <thead>\n",
       "    <tr style=\"text-align: right;\">\n",
       "      <th></th>\n",
       "      <th>UF</th>\n",
       "      <th>Escore_original_1</th>\n",
       "      <th>Escore_original_2</th>\n",
       "      <th>Escore_original_3</th>\n",
       "      <th>Escore_alfa_1</th>\n",
       "      <th>Escore_alfa_2</th>\n",
       "      <th>Escore_alfa_3</th>\n",
       "      <th>Escore_delta_1</th>\n",
       "      <th>Escore_delta_2</th>\n",
       "      <th>Escore_delta_3</th>\n",
       "      <th>Escore_gama_1</th>\n",
       "      <th>Escore_gama_2</th>\n",
       "      <th>Escore_gama_3</th>\n",
       "    </tr>\n",
       "  </thead>\n",
       "  <tbody>\n",
       "    <tr>\n",
       "      <th>23</th>\n",
       "      <td>am</td>\n",
       "      <td>55.330389</td>\n",
       "      <td>72.167266</td>\n",
       "      <td>85.504636</td>\n",
       "      <td>53.130827</td>\n",
       "      <td>69.027304</td>\n",
       "      <td>77.070624</td>\n",
       "      <td>55.041062</td>\n",
       "      <td>58.400841</td>\n",
       "      <td>79.133857</td>\n",
       "      <td>56.50478</td>\n",
       "      <td>61.12299</td>\n",
       "      <td>76.565883</td>\n",
       "    </tr>\n",
       "  </tbody>\n",
       "</table>\n",
       "</div>"
      ],
      "text/plain": [
       "    UF  Escore_original_1  Escore_original_2  Escore_original_3  \\\n",
       "23  am          55.330389          72.167266          85.504636   \n",
       "\n",
       "    Escore_alfa_1  Escore_alfa_2  Escore_alfa_3  Escore_delta_1  \\\n",
       "23      53.130827      69.027304      77.070624       55.041062   \n",
       "\n",
       "    Escore_delta_2  Escore_delta_3  Escore_gama_1  Escore_gama_2  \\\n",
       "23       58.400841       79.133857       56.50478       61.12299   \n",
       "\n",
       "    Escore_gama_3  \n",
       "23      76.565883  "
      ]
     },
     "execution_count": 299,
     "metadata": {},
     "output_type": "execute_result"
    }
   ],
   "source": [
    "result[result['UF'] == 'am']"
   ]
  },
  {
   "cell_type": "code",
   "execution_count": 300,
   "metadata": {},
   "outputs": [
    {
     "data": {
      "text/html": [
       "<div>\n",
       "<style scoped>\n",
       "    .dataframe tbody tr th:only-of-type {\n",
       "        vertical-align: middle;\n",
       "    }\n",
       "\n",
       "    .dataframe tbody tr th {\n",
       "        vertical-align: top;\n",
       "    }\n",
       "\n",
       "    .dataframe thead th {\n",
       "        text-align: right;\n",
       "    }\n",
       "</style>\n",
       "<table border=\"1\" class=\"dataframe\">\n",
       "  <thead>\n",
       "    <tr style=\"text-align: right;\">\n",
       "      <th></th>\n",
       "      <th>UF</th>\n",
       "      <th>Escore_original_1</th>\n",
       "      <th>Escore_original_2</th>\n",
       "      <th>Escore_original_3</th>\n",
       "      <th>Escore_alfa_1</th>\n",
       "      <th>Escore_alfa_2</th>\n",
       "      <th>Escore_alfa_3</th>\n",
       "      <th>Escore_delta_1</th>\n",
       "      <th>Escore_delta_2</th>\n",
       "      <th>Escore_delta_3</th>\n",
       "      <th>Escore_gama_1</th>\n",
       "      <th>Escore_gama_2</th>\n",
       "      <th>Escore_gama_3</th>\n",
       "    </tr>\n",
       "  </thead>\n",
       "  <tbody>\n",
       "    <tr>\n",
       "      <th>18</th>\n",
       "      <td>sp</td>\n",
       "      <td>56.262686</td>\n",
       "      <td>70.411869</td>\n",
       "      <td>81.203021</td>\n",
       "      <td>53.019896</td>\n",
       "      <td>67.961992</td>\n",
       "      <td>75.068885</td>\n",
       "      <td>54.257943</td>\n",
       "      <td>59.580242</td>\n",
       "      <td>74.924704</td>\n",
       "      <td>55.799163</td>\n",
       "      <td>61.728027</td>\n",
       "      <td>72.99688</td>\n",
       "    </tr>\n",
       "  </tbody>\n",
       "</table>\n",
       "</div>"
      ],
      "text/plain": [
       "    UF  Escore_original_1  Escore_original_2  Escore_original_3  \\\n",
       "18  sp          56.262686          70.411869          81.203021   \n",
       "\n",
       "    Escore_alfa_1  Escore_alfa_2  Escore_alfa_3  Escore_delta_1  \\\n",
       "18      53.019896      67.961992      75.068885       54.257943   \n",
       "\n",
       "    Escore_delta_2  Escore_delta_3  Escore_gama_1  Escore_gama_2  \\\n",
       "18       59.580242       74.924704      55.799163      61.728027   \n",
       "\n",
       "    Escore_gama_3  \n",
       "18       72.99688  "
      ]
     },
     "execution_count": 300,
     "metadata": {},
     "output_type": "execute_result"
    }
   ],
   "source": [
    "result[result['UF'] == 'sp']"
   ]
  },
  {
   "cell_type": "code",
   "execution_count": 301,
   "metadata": {},
   "outputs": [
    {
     "data": {
      "text/html": [
       "<div>\n",
       "<style scoped>\n",
       "    .dataframe tbody tr th:only-of-type {\n",
       "        vertical-align: middle;\n",
       "    }\n",
       "\n",
       "    .dataframe tbody tr th {\n",
       "        vertical-align: top;\n",
       "    }\n",
       "\n",
       "    .dataframe thead th {\n",
       "        text-align: right;\n",
       "    }\n",
       "</style>\n",
       "<table border=\"1\" class=\"dataframe\">\n",
       "  <thead>\n",
       "    <tr style=\"text-align: right;\">\n",
       "      <th></th>\n",
       "      <th>UF</th>\n",
       "      <th>Escore_original_1</th>\n",
       "      <th>Escore_original_2</th>\n",
       "      <th>Escore_original_3</th>\n",
       "      <th>Escore_alfa_1</th>\n",
       "      <th>Escore_alfa_2</th>\n",
       "      <th>Escore_alfa_3</th>\n",
       "      <th>Escore_delta_1</th>\n",
       "      <th>Escore_delta_2</th>\n",
       "      <th>Escore_delta_3</th>\n",
       "      <th>Escore_gama_1</th>\n",
       "      <th>Escore_gama_2</th>\n",
       "      <th>Escore_gama_3</th>\n",
       "    </tr>\n",
       "  </thead>\n",
       "  <tbody>\n",
       "    <tr>\n",
       "      <th>20</th>\n",
       "      <td>ms</td>\n",
       "      <td>57.853895</td>\n",
       "      <td>71.987973</td>\n",
       "      <td>82.882814</td>\n",
       "      <td>54.253958</td>\n",
       "      <td>69.425261</td>\n",
       "      <td>77.074537</td>\n",
       "      <td>55.475423</td>\n",
       "      <td>62.049536</td>\n",
       "      <td>76.875651</td>\n",
       "      <td>57.127401</td>\n",
       "      <td>63.729549</td>\n",
       "      <td>75.067224</td>\n",
       "    </tr>\n",
       "  </tbody>\n",
       "</table>\n",
       "</div>"
      ],
      "text/plain": [
       "    UF  Escore_original_1  Escore_original_2  Escore_original_3  \\\n",
       "20  ms          57.853895          71.987973          82.882814   \n",
       "\n",
       "    Escore_alfa_1  Escore_alfa_2  Escore_alfa_3  Escore_delta_1  \\\n",
       "20      54.253958      69.425261      77.074537       55.475423   \n",
       "\n",
       "    Escore_delta_2  Escore_delta_3  Escore_gama_1  Escore_gama_2  \\\n",
       "20       62.049536       76.875651      57.127401      63.729549   \n",
       "\n",
       "    Escore_gama_3  \n",
       "20      75.067224  "
      ]
     },
     "execution_count": 301,
     "metadata": {},
     "output_type": "execute_result"
    }
   ],
   "source": [
    "result[result['UF'] == 'ms']"
   ]
  },
  {
   "cell_type": "code",
   "execution_count": 302,
   "metadata": {},
   "outputs": [
    {
     "data": {
      "text/html": [
       "<div>\n",
       "<style scoped>\n",
       "    .dataframe tbody tr th:only-of-type {\n",
       "        vertical-align: middle;\n",
       "    }\n",
       "\n",
       "    .dataframe tbody tr th {\n",
       "        vertical-align: top;\n",
       "    }\n",
       "\n",
       "    .dataframe thead th {\n",
       "        text-align: right;\n",
       "    }\n",
       "</style>\n",
       "<table border=\"1\" class=\"dataframe\">\n",
       "  <thead>\n",
       "    <tr style=\"text-align: right;\">\n",
       "      <th></th>\n",
       "      <th>UF</th>\n",
       "      <th>Escore_original_1</th>\n",
       "      <th>Escore_original_2</th>\n",
       "      <th>Escore_original_3</th>\n",
       "      <th>Escore_alfa_1</th>\n",
       "      <th>Escore_alfa_2</th>\n",
       "      <th>Escore_alfa_3</th>\n",
       "      <th>Escore_delta_1</th>\n",
       "      <th>Escore_delta_2</th>\n",
       "      <th>Escore_delta_3</th>\n",
       "      <th>Escore_gama_1</th>\n",
       "      <th>Escore_gama_2</th>\n",
       "      <th>Escore_gama_3</th>\n",
       "    </tr>\n",
       "  </thead>\n",
       "  <tbody>\n",
       "    <tr>\n",
       "      <th>27</th>\n",
       "      <td>rs</td>\n",
       "      <td>57.099388</td>\n",
       "      <td>72.572845</td>\n",
       "      <td>85.180919</td>\n",
       "      <td>53.790833</td>\n",
       "      <td>69.834818</td>\n",
       "      <td>77.917777</td>\n",
       "      <td>55.696968</td>\n",
       "      <td>61.787115</td>\n",
       "      <td>78.615434</td>\n",
       "      <td>57.340076</td>\n",
       "      <td>63.371307</td>\n",
       "      <td>76.235565</td>\n",
       "    </tr>\n",
       "  </tbody>\n",
       "</table>\n",
       "</div>"
      ],
      "text/plain": [
       "    UF  Escore_original_1  Escore_original_2  Escore_original_3  \\\n",
       "27  rs          57.099388          72.572845          85.180919   \n",
       "\n",
       "    Escore_alfa_1  Escore_alfa_2  Escore_alfa_3  Escore_delta_1  \\\n",
       "27      53.790833      69.834818      77.917777       55.696968   \n",
       "\n",
       "    Escore_delta_2  Escore_delta_3  Escore_gama_1  Escore_gama_2  \\\n",
       "27       61.787115       78.615434      57.340076      63.371307   \n",
       "\n",
       "    Escore_gama_3  \n",
       "27      76.235565  "
      ]
     },
     "execution_count": 302,
     "metadata": {},
     "output_type": "execute_result"
    }
   ],
   "source": [
    "result[result['UF'] == 'rs']"
   ]
  },
  {
   "cell_type": "code",
   "execution_count": 304,
   "metadata": {},
   "outputs": [
    {
     "data": {
      "text/plain": [
       "57.6"
      ]
     },
     "execution_count": 304,
     "metadata": {},
     "output_type": "execute_result"
    }
   ],
   "source": [
    " (54.2 + 61)/2"
   ]
  },
  {
   "cell_type": "code",
   "execution_count": null,
   "metadata": {},
   "outputs": [],
   "source": []
  }
 ],
 "metadata": {
  "kernelspec": {
   "display_name": "Python 3",
   "language": "python",
   "name": "python3"
  },
  "language_info": {
   "codemirror_mode": {
    "name": "ipython",
    "version": 3
   },
   "file_extension": ".py",
   "mimetype": "text/x-python",
   "name": "python",
   "nbconvert_exporter": "python",
   "pygments_lexer": "ipython3",
   "version": "3.8.5"
  }
 },
 "nbformat": 4,
 "nbformat_minor": 4
}
