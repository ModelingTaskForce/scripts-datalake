{
 "cells": [
  {
   "cell_type": "code",
   "execution_count": 1,
   "metadata": {},
   "outputs": [],
   "source": [
    "import pandas as pd\n",
    "import numpy as np\n",
    "import matplotlib.pyplot as plt"
   ]
  },
  {
   "cell_type": "code",
   "execution_count": 17,
   "metadata": {},
   "outputs": [],
   "source": [
    "df = pd.read_csv('/Users/julianeoliveira/Desktop/github/Datasets from the gitcomputations/vacc_db_wc.csv')"
   ]
  },
  {
   "cell_type": "code",
   "execution_count": 18,
   "metadata": {},
   "outputs": [
    {
     "data": {
      "text/html": [
       "<div>\n",
       "<style scoped>\n",
       "    .dataframe tbody tr th:only-of-type {\n",
       "        vertical-align: middle;\n",
       "    }\n",
       "\n",
       "    .dataframe tbody tr th {\n",
       "        vertical-align: top;\n",
       "    }\n",
       "\n",
       "    .dataframe thead th {\n",
       "        text-align: right;\n",
       "    }\n",
       "</style>\n",
       "<table border=\"1\" class=\"dataframe\">\n",
       "  <thead>\n",
       "    <tr style=\"text-align: right;\">\n",
       "      <th></th>\n",
       "      <th>date</th>\n",
       "      <th>uf</th>\n",
       "      <th>vaccinated_db</th>\n",
       "      <th>epi_week</th>\n",
       "      <th>country</th>\n",
       "      <th>city</th>\n",
       "      <th>newDeaths</th>\n",
       "      <th>deaths</th>\n",
       "      <th>newCases</th>\n",
       "      <th>totalCases</th>\n",
       "      <th>deathsMS</th>\n",
       "      <th>totalCasesMS</th>\n",
       "      <th>vaccinated</th>\n",
       "      <th>vaccinated_second</th>\n",
       "      <th>vaccinated_single</th>\n",
       "      <th>vaccinated_third</th>\n",
       "    </tr>\n",
       "  </thead>\n",
       "  <tbody>\n",
       "    <tr>\n",
       "      <th>0</th>\n",
       "      <td>2021-01-18</td>\n",
       "      <td>AL</td>\n",
       "      <td>6</td>\n",
       "      <td>103</td>\n",
       "      <td>Brazil</td>\n",
       "      <td>TOTAL</td>\n",
       "      <td>9</td>\n",
       "      <td>2629</td>\n",
       "      <td>281</td>\n",
       "      <td>111724</td>\n",
       "      <td>2629</td>\n",
       "      <td>111724</td>\n",
       "      <td>NaN</td>\n",
       "      <td>NaN</td>\n",
       "      <td>NaN</td>\n",
       "      <td>NaN</td>\n",
       "    </tr>\n",
       "    <tr>\n",
       "      <th>1</th>\n",
       "      <td>2021-01-18</td>\n",
       "      <td>AP</td>\n",
       "      <td>1</td>\n",
       "      <td>103</td>\n",
       "      <td>Brazil</td>\n",
       "      <td>TOTAL</td>\n",
       "      <td>9</td>\n",
       "      <td>1005</td>\n",
       "      <td>209</td>\n",
       "      <td>73626</td>\n",
       "      <td>1005</td>\n",
       "      <td>73626</td>\n",
       "      <td>NaN</td>\n",
       "      <td>NaN</td>\n",
       "      <td>NaN</td>\n",
       "      <td>NaN</td>\n",
       "    </tr>\n",
       "    <tr>\n",
       "      <th>2</th>\n",
       "      <td>2021-01-18</td>\n",
       "      <td>BA</td>\n",
       "      <td>22</td>\n",
       "      <td>103</td>\n",
       "      <td>Brazil</td>\n",
       "      <td>TOTAL</td>\n",
       "      <td>29</td>\n",
       "      <td>9667</td>\n",
       "      <td>2548</td>\n",
       "      <td>540320</td>\n",
       "      <td>9667</td>\n",
       "      <td>540320</td>\n",
       "      <td>NaN</td>\n",
       "      <td>NaN</td>\n",
       "      <td>NaN</td>\n",
       "      <td>NaN</td>\n",
       "    </tr>\n",
       "    <tr>\n",
       "      <th>3</th>\n",
       "      <td>2021-01-18</td>\n",
       "      <td>CE</td>\n",
       "      <td>6</td>\n",
       "      <td>103</td>\n",
       "      <td>Brazil</td>\n",
       "      <td>TOTAL</td>\n",
       "      <td>17</td>\n",
       "      <td>10240</td>\n",
       "      <td>2138</td>\n",
       "      <td>356117</td>\n",
       "      <td>10223</td>\n",
       "      <td>353979</td>\n",
       "      <td>11.0</td>\n",
       "      <td>NaN</td>\n",
       "      <td>NaN</td>\n",
       "      <td>NaN</td>\n",
       "    </tr>\n",
       "    <tr>\n",
       "      <th>4</th>\n",
       "      <td>2021-01-18</td>\n",
       "      <td>DF</td>\n",
       "      <td>3</td>\n",
       "      <td>103</td>\n",
       "      <td>Brazil</td>\n",
       "      <td>TOTAL</td>\n",
       "      <td>6</td>\n",
       "      <td>4427</td>\n",
       "      <td>1047</td>\n",
       "      <td>265274</td>\n",
       "      <td>4427</td>\n",
       "      <td>265274</td>\n",
       "      <td>NaN</td>\n",
       "      <td>NaN</td>\n",
       "      <td>NaN</td>\n",
       "      <td>NaN</td>\n",
       "    </tr>\n",
       "  </tbody>\n",
       "</table>\n",
       "</div>"
      ],
      "text/plain": [
       "         date  uf  vaccinated_db  epi_week country   city  newDeaths  deaths  \\\n",
       "0  2021-01-18  AL              6       103  Brazil  TOTAL          9    2629   \n",
       "1  2021-01-18  AP              1       103  Brazil  TOTAL          9    1005   \n",
       "2  2021-01-18  BA             22       103  Brazil  TOTAL         29    9667   \n",
       "3  2021-01-18  CE              6       103  Brazil  TOTAL         17   10240   \n",
       "4  2021-01-18  DF              3       103  Brazil  TOTAL          6    4427   \n",
       "\n",
       "   newCases  totalCases  deathsMS  totalCasesMS  vaccinated  \\\n",
       "0       281      111724      2629        111724         NaN   \n",
       "1       209       73626      1005         73626         NaN   \n",
       "2      2548      540320      9667        540320         NaN   \n",
       "3      2138      356117     10223        353979        11.0   \n",
       "4      1047      265274      4427        265274         NaN   \n",
       "\n",
       "   vaccinated_second  vaccinated_single  vaccinated_third  \n",
       "0                NaN                NaN               NaN  \n",
       "1                NaN                NaN               NaN  \n",
       "2                NaN                NaN               NaN  \n",
       "3                NaN                NaN               NaN  \n",
       "4                NaN                NaN               NaN  "
      ]
     },
     "execution_count": 18,
     "metadata": {},
     "output_type": "execute_result"
    }
   ],
   "source": [
    "df.head()"
   ]
  },
  {
   "cell_type": "code",
   "execution_count": null,
   "metadata": {},
   "outputs": [],
   "source": [
    "df = df.fillna(0)"
   ]
  },
  {
   "cell_type": "code",
   "execution_count": null,
   "metadata": {},
   "outputs": [],
   "source": [
    "df['new']= df.vaccinated_single + df.vaccinated_second + df.vaccinated_third"
   ]
  },
  {
   "cell_type": "code",
   "execution_count": null,
   "metadata": {},
   "outputs": [],
   "source": [
    "df[df.uf == 'AL'].filter(['new','vaccinated_db','vaccinated','vaccinated_second','vaccinated_single','vaccinated_third'])"
   ]
  },
  {
   "cell_type": "code",
   "execution_count": null,
   "metadata": {},
   "outputs": [],
   "source": [
    "fig, ax1 = plt.subplots(nrows=1, figsize=(20,6), sharex=True, sharey=False)\n",
    "\n",
    "plt.subplots_adjust(wspace=1.5)\n",
    "\n",
    "s='BA'\n",
    "\n",
    "langs = pd.to_datetime(df[df.uf == s].date)\n",
    "\n",
    "\n",
    "ax1.plot(langs, df[df.uf == s].vaccinated_db,label= s+' db',color = 'green')\n",
    "ax1.plot(langs, new,label=s + ' wcota',color = 'blue')\n",
    "#ax1.plot(langs, df2['RTAC_high'],color = 'green')\n",
    "ax1.legend()\n",
    "#ax1.fill_between(langs,df2['RTBA_low'].rolling(window=10).mean(), df2['RTBA_high'].rolling(window=10).mean(), color = 'green',alpha=0.2)\n",
    "#ax1.axhline(y=1)\n",
    "#ax1.set_ylim((0, 10))\n",
    "\n",
    "#ax2.plot(langs, df2['RTRO'].rolling(window=7).mean(),label='RO',color = 'green')\n",
    "#ax2.legend()\n",
    "#ax2.fill_between(langs,df2['RTRO_low'].rolling(window=10).mean(), df2['RTRO_high'].rolling(window=10).mean(), color = 'green',alpha=0.2)\n",
    "#ax2.axhline(y=1)\n",
    "#ax2.set_ylim((0, 10))"
   ]
  },
  {
   "cell_type": "code",
   "execution_count": 2,
   "metadata": {},
   "outputs": [],
   "source": [
    "# Dose counting"
   ]
  },
  {
   "cell_type": "code",
   "execution_count": 99,
   "metadata": {},
   "outputs": [],
   "source": [
    "dose = pd.read_excel('/Users/julianeoliveira/Desktop/github/Datasets from the gitcomputations/novo.xlsx')"
   ]
  },
  {
   "cell_type": "code",
   "execution_count": 100,
   "metadata": {},
   "outputs": [
    {
     "data": {
      "text/html": [
       "<div>\n",
       "<style scoped>\n",
       "    .dataframe tbody tr th:only-of-type {\n",
       "        vertical-align: middle;\n",
       "    }\n",
       "\n",
       "    .dataframe tbody tr th {\n",
       "        vertical-align: top;\n",
       "    }\n",
       "\n",
       "    .dataframe thead th {\n",
       "        text-align: right;\n",
       "    }\n",
       "</style>\n",
       "<table border=\"1\" class=\"dataframe\">\n",
       "  <thead>\n",
       "    <tr style=\"text-align: right;\">\n",
       "      <th></th>\n",
       "      <th>date</th>\n",
       "      <th>dose</th>\n",
       "      <th>quantidade aplicada</th>\n",
       "    </tr>\n",
       "  </thead>\n",
       "  <tbody>\n",
       "    <tr>\n",
       "      <th>0</th>\n",
       "      <td>NaN</td>\n",
       "      <td>NaN</td>\n",
       "      <td>0</td>\n",
       "    </tr>\n",
       "    <tr>\n",
       "      <th>1</th>\n",
       "      <td>1899-12-30</td>\n",
       "      <td>1ª Dose</td>\n",
       "      <td>1</td>\n",
       "    </tr>\n",
       "    <tr>\n",
       "      <th>2</th>\n",
       "      <td>1900-08-21</td>\n",
       "      <td>1ª Dose</td>\n",
       "      <td>1</td>\n",
       "    </tr>\n",
       "    <tr>\n",
       "      <th>3</th>\n",
       "      <td>1923-06-02</td>\n",
       "      <td>1ª Dose</td>\n",
       "      <td>1</td>\n",
       "    </tr>\n",
       "    <tr>\n",
       "      <th>4</th>\n",
       "      <td>1937-01-25</td>\n",
       "      <td>2ª Dose</td>\n",
       "      <td>1</td>\n",
       "    </tr>\n",
       "    <tr>\n",
       "      <th>...</th>\n",
       "      <td>...</td>\n",
       "      <td>...</td>\n",
       "      <td>...</td>\n",
       "    </tr>\n",
       "    <tr>\n",
       "      <th>1483</th>\n",
       "      <td>2021-09-24</td>\n",
       "      <td>Única</td>\n",
       "      <td>36</td>\n",
       "    </tr>\n",
       "    <tr>\n",
       "      <th>1484</th>\n",
       "      <td>2021-09-24</td>\n",
       "      <td>Dose</td>\n",
       "      <td>161</td>\n",
       "    </tr>\n",
       "    <tr>\n",
       "      <th>1485</th>\n",
       "      <td>2021-09-24</td>\n",
       "      <td>1ª Dose</td>\n",
       "      <td>258623</td>\n",
       "    </tr>\n",
       "    <tr>\n",
       "      <th>1486</th>\n",
       "      <td>2021-09-25</td>\n",
       "      <td>1ª Dose</td>\n",
       "      <td>5</td>\n",
       "    </tr>\n",
       "    <tr>\n",
       "      <th>1487</th>\n",
       "      <td>2021-09-25</td>\n",
       "      <td>2ª Dose</td>\n",
       "      <td>18</td>\n",
       "    </tr>\n",
       "  </tbody>\n",
       "</table>\n",
       "<p>1488 rows × 3 columns</p>\n",
       "</div>"
      ],
      "text/plain": [
       "            date     dose  quantidade aplicada\n",
       "0            NaN      NaN                    0\n",
       "1     1899-12-30  1ª Dose                    1\n",
       "2     1900-08-21  1ª Dose                    1\n",
       "3     1923-06-02  1ª Dose                    1\n",
       "4     1937-01-25  2ª Dose                    1\n",
       "...          ...      ...                  ...\n",
       "1483  2021-09-24    Única                   36\n",
       "1484  2021-09-24     Dose                  161\n",
       "1485  2021-09-24  1ª Dose               258623\n",
       "1486  2021-09-25  1ª Dose                    5\n",
       "1487  2021-09-25  2ª Dose                   18\n",
       "\n",
       "[1488 rows x 3 columns]"
      ]
     },
     "execution_count": 100,
     "metadata": {},
     "output_type": "execute_result"
    }
   ],
   "source": [
    "dose"
   ]
  },
  {
   "cell_type": "code",
   "execution_count": 88,
   "metadata": {},
   "outputs": [],
   "source": [
    "table_dose = pd.pivot_table(dose, values='quantidade aplicada', index=['date'], columns=['dose'])"
   ]
  },
  {
   "cell_type": "code",
   "execution_count": 90,
   "metadata": {},
   "outputs": [],
   "source": [
    "table_dose =table_dose.fillna(0).reset_index()"
   ]
  },
  {
   "cell_type": "code",
   "execution_count": 91,
   "metadata": {},
   "outputs": [
    {
     "data": {
      "text/html": [
       "<div>\n",
       "<style scoped>\n",
       "    .dataframe tbody tr th:only-of-type {\n",
       "        vertical-align: middle;\n",
       "    }\n",
       "\n",
       "    .dataframe tbody tr th {\n",
       "        vertical-align: top;\n",
       "    }\n",
       "\n",
       "    .dataframe thead th {\n",
       "        text-align: right;\n",
       "    }\n",
       "</style>\n",
       "<table border=\"1\" class=\"dataframe\">\n",
       "  <thead>\n",
       "    <tr style=\"text-align: right;\">\n",
       "      <th>dose</th>\n",
       "      <th>date</th>\n",
       "      <th>1ª Dose</th>\n",
       "      <th>1ª Dose Revacinação</th>\n",
       "      <th>1º Reforço</th>\n",
       "      <th>2ª Dose</th>\n",
       "      <th>2ª Dose Revacinação</th>\n",
       "      <th>3ª Dose</th>\n",
       "      <th>Dose</th>\n",
       "      <th>Dose Adicional</th>\n",
       "      <th>Dose Inicial</th>\n",
       "      <th>Reforço</th>\n",
       "      <th>Única</th>\n",
       "    </tr>\n",
       "  </thead>\n",
       "  <tbody>\n",
       "    <tr>\n",
       "      <th>0</th>\n",
       "      <td>2021-01-18</td>\n",
       "      <td>2169.0</td>\n",
       "      <td>0.0</td>\n",
       "      <td>0.0</td>\n",
       "      <td>125.0</td>\n",
       "      <td>0.0</td>\n",
       "      <td>0.0</td>\n",
       "      <td>0.0</td>\n",
       "      <td>0.0</td>\n",
       "      <td>0.0</td>\n",
       "      <td>0.0</td>\n",
       "      <td>0.0</td>\n",
       "    </tr>\n",
       "    <tr>\n",
       "      <th>1</th>\n",
       "      <td>2021-01-19</td>\n",
       "      <td>59566.0</td>\n",
       "      <td>0.0</td>\n",
       "      <td>0.0</td>\n",
       "      <td>278.0</td>\n",
       "      <td>0.0</td>\n",
       "      <td>0.0</td>\n",
       "      <td>1.0</td>\n",
       "      <td>0.0</td>\n",
       "      <td>0.0</td>\n",
       "      <td>0.0</td>\n",
       "      <td>0.0</td>\n",
       "    </tr>\n",
       "    <tr>\n",
       "      <th>2</th>\n",
       "      <td>2021-01-20</td>\n",
       "      <td>341283.0</td>\n",
       "      <td>0.0</td>\n",
       "      <td>0.0</td>\n",
       "      <td>725.0</td>\n",
       "      <td>0.0</td>\n",
       "      <td>0.0</td>\n",
       "      <td>8.0</td>\n",
       "      <td>0.0</td>\n",
       "      <td>0.0</td>\n",
       "      <td>0.0</td>\n",
       "      <td>0.0</td>\n",
       "    </tr>\n",
       "    <tr>\n",
       "      <th>3</th>\n",
       "      <td>2021-01-21</td>\n",
       "      <td>381782.0</td>\n",
       "      <td>0.0</td>\n",
       "      <td>0.0</td>\n",
       "      <td>763.0</td>\n",
       "      <td>0.0</td>\n",
       "      <td>1.0</td>\n",
       "      <td>1.0</td>\n",
       "      <td>0.0</td>\n",
       "      <td>0.0</td>\n",
       "      <td>0.0</td>\n",
       "      <td>0.0</td>\n",
       "    </tr>\n",
       "    <tr>\n",
       "      <th>4</th>\n",
       "      <td>2021-01-22</td>\n",
       "      <td>342710.0</td>\n",
       "      <td>0.0</td>\n",
       "      <td>0.0</td>\n",
       "      <td>1223.0</td>\n",
       "      <td>0.0</td>\n",
       "      <td>0.0</td>\n",
       "      <td>1.0</td>\n",
       "      <td>2.0</td>\n",
       "      <td>0.0</td>\n",
       "      <td>1.0</td>\n",
       "      <td>0.0</td>\n",
       "    </tr>\n",
       "    <tr>\n",
       "      <th>...</th>\n",
       "      <td>...</td>\n",
       "      <td>...</td>\n",
       "      <td>...</td>\n",
       "      <td>...</td>\n",
       "      <td>...</td>\n",
       "      <td>...</td>\n",
       "      <td>...</td>\n",
       "      <td>...</td>\n",
       "      <td>...</td>\n",
       "      <td>...</td>\n",
       "      <td>...</td>\n",
       "      <td>...</td>\n",
       "    </tr>\n",
       "    <tr>\n",
       "      <th>246</th>\n",
       "      <td>2021-09-21</td>\n",
       "      <td>279006.0</td>\n",
       "      <td>1.0</td>\n",
       "      <td>497.0</td>\n",
       "      <td>757455.0</td>\n",
       "      <td>0.0</td>\n",
       "      <td>8373.0</td>\n",
       "      <td>413.0</td>\n",
       "      <td>2676.0</td>\n",
       "      <td>0.0</td>\n",
       "      <td>34280.0</td>\n",
       "      <td>29.0</td>\n",
       "    </tr>\n",
       "    <tr>\n",
       "      <th>247</th>\n",
       "      <td>2021-09-22</td>\n",
       "      <td>308090.0</td>\n",
       "      <td>3.0</td>\n",
       "      <td>365.0</td>\n",
       "      <td>643601.0</td>\n",
       "      <td>55.0</td>\n",
       "      <td>7676.0</td>\n",
       "      <td>303.0</td>\n",
       "      <td>3781.0</td>\n",
       "      <td>2.0</td>\n",
       "      <td>45649.0</td>\n",
       "      <td>93.0</td>\n",
       "    </tr>\n",
       "    <tr>\n",
       "      <th>248</th>\n",
       "      <td>2021-09-23</td>\n",
       "      <td>244351.0</td>\n",
       "      <td>7.0</td>\n",
       "      <td>383.0</td>\n",
       "      <td>611105.0</td>\n",
       "      <td>0.0</td>\n",
       "      <td>4706.0</td>\n",
       "      <td>237.0</td>\n",
       "      <td>5591.0</td>\n",
       "      <td>0.0</td>\n",
       "      <td>49024.0</td>\n",
       "      <td>56.0</td>\n",
       "    </tr>\n",
       "    <tr>\n",
       "      <th>249</th>\n",
       "      <td>2021-09-24</td>\n",
       "      <td>258623.0</td>\n",
       "      <td>0.0</td>\n",
       "      <td>200.0</td>\n",
       "      <td>447660.0</td>\n",
       "      <td>0.0</td>\n",
       "      <td>2803.0</td>\n",
       "      <td>161.0</td>\n",
       "      <td>4434.0</td>\n",
       "      <td>0.0</td>\n",
       "      <td>39420.0</td>\n",
       "      <td>36.0</td>\n",
       "    </tr>\n",
       "    <tr>\n",
       "      <th>250</th>\n",
       "      <td>2021-09-25</td>\n",
       "      <td>5.0</td>\n",
       "      <td>0.0</td>\n",
       "      <td>0.0</td>\n",
       "      <td>18.0</td>\n",
       "      <td>0.0</td>\n",
       "      <td>0.0</td>\n",
       "      <td>0.0</td>\n",
       "      <td>0.0</td>\n",
       "      <td>0.0</td>\n",
       "      <td>0.0</td>\n",
       "      <td>0.0</td>\n",
       "    </tr>\n",
       "  </tbody>\n",
       "</table>\n",
       "<p>251 rows × 12 columns</p>\n",
       "</div>"
      ],
      "text/plain": [
       "dose        date   1ª Dose  1ª Dose Revacinação  1º Reforço   2ª Dose  \\\n",
       "0     2021-01-18    2169.0                  0.0         0.0     125.0   \n",
       "1     2021-01-19   59566.0                  0.0         0.0     278.0   \n",
       "2     2021-01-20  341283.0                  0.0         0.0     725.0   \n",
       "3     2021-01-21  381782.0                  0.0         0.0     763.0   \n",
       "4     2021-01-22  342710.0                  0.0         0.0    1223.0   \n",
       "..           ...       ...                  ...         ...       ...   \n",
       "246   2021-09-21  279006.0                  1.0       497.0  757455.0   \n",
       "247   2021-09-22  308090.0                  3.0       365.0  643601.0   \n",
       "248   2021-09-23  244351.0                  7.0       383.0  611105.0   \n",
       "249   2021-09-24  258623.0                  0.0       200.0  447660.0   \n",
       "250   2021-09-25       5.0                  0.0         0.0      18.0   \n",
       "\n",
       "dose  2ª Dose Revacinação  3ª Dose   Dose  Dose Adicional  Dose Inicial  \\\n",
       "0                     0.0      0.0    0.0             0.0           0.0   \n",
       "1                     0.0      0.0    1.0             0.0           0.0   \n",
       "2                     0.0      0.0    8.0             0.0           0.0   \n",
       "3                     0.0      1.0    1.0             0.0           0.0   \n",
       "4                     0.0      0.0    1.0             2.0           0.0   \n",
       "..                    ...      ...    ...             ...           ...   \n",
       "246                   0.0   8373.0  413.0          2676.0           0.0   \n",
       "247                  55.0   7676.0  303.0          3781.0           2.0   \n",
       "248                   0.0   4706.0  237.0          5591.0           0.0   \n",
       "249                   0.0   2803.0  161.0          4434.0           0.0   \n",
       "250                   0.0      0.0    0.0             0.0           0.0   \n",
       "\n",
       "dose  Reforço  Única  \n",
       "0         0.0    0.0  \n",
       "1         0.0    0.0  \n",
       "2         0.0    0.0  \n",
       "3         0.0    0.0  \n",
       "4         1.0    0.0  \n",
       "..        ...    ...  \n",
       "246   34280.0   29.0  \n",
       "247   45649.0   93.0  \n",
       "248   49024.0   56.0  \n",
       "249   39420.0   36.0  \n",
       "250       0.0    0.0  \n",
       "\n",
       "[251 rows x 12 columns]"
      ]
     },
     "execution_count": 91,
     "metadata": {},
     "output_type": "execute_result"
    }
   ],
   "source": [
    "table_dose"
   ]
  },
  {
   "cell_type": "code",
   "execution_count": 6,
   "metadata": {
    "scrolled": true
   },
   "outputs": [
    {
     "data": {
      "text/plain": [
       "array([nan, '1ª Dose', '2ª Dose', 'Dose', 'Única', 'Reforço', '3ª Dose',\n",
       "       'Dose Adicional', 'Dose Inicial', '2ª Dose Revacinação',\n",
       "       '1ª Dose Revacinação', '1º Reforço'], dtype=object)"
      ]
     },
     "execution_count": 6,
     "metadata": {},
     "output_type": "execute_result"
    }
   ],
   "source": [
    "dose.dose.unique()"
   ]
  },
  {
   "cell_type": "code",
   "execution_count": 101,
   "metadata": {},
   "outputs": [],
   "source": [
    "dose = dose[dose.date>= '2021-01-18']"
   ]
  },
  {
   "cell_type": "code",
   "execution_count": 102,
   "metadata": {},
   "outputs": [
    {
     "data": {
      "text/html": [
       "<div>\n",
       "<style scoped>\n",
       "    .dataframe tbody tr th:only-of-type {\n",
       "        vertical-align: middle;\n",
       "    }\n",
       "\n",
       "    .dataframe tbody tr th {\n",
       "        vertical-align: top;\n",
       "    }\n",
       "\n",
       "    .dataframe thead th {\n",
       "        text-align: right;\n",
       "    }\n",
       "</style>\n",
       "<table border=\"1\" class=\"dataframe\">\n",
       "  <thead>\n",
       "    <tr style=\"text-align: right;\">\n",
       "      <th></th>\n",
       "      <th>date</th>\n",
       "      <th>dose</th>\n",
       "      <th>quantidade aplicada</th>\n",
       "    </tr>\n",
       "  </thead>\n",
       "  <tbody>\n",
       "    <tr>\n",
       "      <th>202</th>\n",
       "      <td>2021-01-18</td>\n",
       "      <td>1ª Dose</td>\n",
       "      <td>2169</td>\n",
       "    </tr>\n",
       "    <tr>\n",
       "      <th>205</th>\n",
       "      <td>2021-01-19</td>\n",
       "      <td>1ª Dose</td>\n",
       "      <td>59566</td>\n",
       "    </tr>\n",
       "    <tr>\n",
       "      <th>208</th>\n",
       "      <td>2021-01-20</td>\n",
       "      <td>1ª Dose</td>\n",
       "      <td>341283</td>\n",
       "    </tr>\n",
       "    <tr>\n",
       "      <th>210</th>\n",
       "      <td>2021-01-21</td>\n",
       "      <td>1ª Dose</td>\n",
       "      <td>381782</td>\n",
       "    </tr>\n",
       "    <tr>\n",
       "      <th>213</th>\n",
       "      <td>2021-01-22</td>\n",
       "      <td>1ª Dose</td>\n",
       "      <td>342710</td>\n",
       "    </tr>\n",
       "    <tr>\n",
       "      <th>...</th>\n",
       "      <td>...</td>\n",
       "      <td>...</td>\n",
       "      <td>...</td>\n",
       "    </tr>\n",
       "    <tr>\n",
       "      <th>1455</th>\n",
       "      <td>2021-09-21</td>\n",
       "      <td>1ª Dose</td>\n",
       "      <td>279006</td>\n",
       "    </tr>\n",
       "    <tr>\n",
       "      <th>1464</th>\n",
       "      <td>2021-09-22</td>\n",
       "      <td>1ª Dose</td>\n",
       "      <td>308090</td>\n",
       "    </tr>\n",
       "    <tr>\n",
       "      <th>1472</th>\n",
       "      <td>2021-09-23</td>\n",
       "      <td>1ª Dose</td>\n",
       "      <td>244351</td>\n",
       "    </tr>\n",
       "    <tr>\n",
       "      <th>1485</th>\n",
       "      <td>2021-09-24</td>\n",
       "      <td>1ª Dose</td>\n",
       "      <td>258623</td>\n",
       "    </tr>\n",
       "    <tr>\n",
       "      <th>1486</th>\n",
       "      <td>2021-09-25</td>\n",
       "      <td>1ª Dose</td>\n",
       "      <td>5</td>\n",
       "    </tr>\n",
       "  </tbody>\n",
       "</table>\n",
       "<p>251 rows × 3 columns</p>\n",
       "</div>"
      ],
      "text/plain": [
       "            date     dose  quantidade aplicada\n",
       "202   2021-01-18  1ª Dose                 2169\n",
       "205   2021-01-19  1ª Dose                59566\n",
       "208   2021-01-20  1ª Dose               341283\n",
       "210   2021-01-21  1ª Dose               381782\n",
       "213   2021-01-22  1ª Dose               342710\n",
       "...          ...      ...                  ...\n",
       "1455  2021-09-21  1ª Dose               279006\n",
       "1464  2021-09-22  1ª Dose               308090\n",
       "1472  2021-09-23  1ª Dose               244351\n",
       "1485  2021-09-24  1ª Dose               258623\n",
       "1486  2021-09-25  1ª Dose                    5\n",
       "\n",
       "[251 rows x 3 columns]"
      ]
     },
     "execution_count": 102,
     "metadata": {},
     "output_type": "execute_result"
    }
   ],
   "source": [
    "dose[(dose.dose == '1ª Dose') ]"
   ]
  },
  {
   "cell_type": "code",
   "execution_count": 38,
   "metadata": {},
   "outputs": [
    {
     "data": {
      "text/plain": [
       "<matplotlib.legend.Legend at 0x7fddfe9c9760>"
      ]
     },
     "execution_count": 38,
     "metadata": {},
     "output_type": "execute_result"
    },
    {
     "data": {
      "image/png": "[encoded data removed]",
      "text/plain": [
       "<Figure size 1440x432 with 1 Axes>"
      ]
     },
     "metadata": {
      "needs_background": "light"
     },
     "output_type": "display_data"
    }
   ],
   "source": [
    "fig, ax1 = plt.subplots(nrows=1, figsize=(20,6), sharex=True, sharey=False)\n",
    "\n",
    "plt.subplots_adjust(wspace=1.5)\n",
    "\n",
    "\n",
    "langs = pd.to_datetime(dose[dose.dose == '1ª Dose'].date)\n",
    "\n",
    "\n",
    "ax1.bar(langs, dose[dose.dose == '1ª Dose']['quantidade aplicada'],label= '1ª dose',color = 'green')\n",
    "ax1.bar(langs, dose[dose.dose == '2ª Dose']['quantidade aplicada'],label= '2ª dose',color = 'blue')\n",
    "#ax1.plot(langs, dose[dose.dose == 'Única']['quantidade aplicada'],color = 'green')\n",
    "ax1.legend()\n",
    "#ax1.fill_between(langs,df2['RTBA_low'].rolling(window=10).mean(), df2['RTBA_high'].rolling(window=10).mean(), color = 'green',alpha=0.2)\n",
    "#ax1.axhline(y=1)\n",
    "#ax1.set_ylim((0, 10))\n",
    "\n",
    "#ax2.plot(langs, df2['RTRO'].rolling(window=7).mean(),label='RO',color = 'green')\n",
    "#ax2.legend()\n",
    "#ax2.fill_between(langs,df2['RTRO_low'].rolling(window=10).mean(), df2['RTRO_high'].rolling(window=10).mean(), color = 'green',alpha=0.2)\n",
    "#ax2.axhline(y=1)\n",
    "#ax2.set_ylim((0, 10))"
   ]
  },
  {
   "cell_type": "code",
   "execution_count": 83,
   "metadata": {
    "scrolled": true
   },
   "outputs": [
    {
     "data": {
      "text/plain": [
       "<matplotlib.legend.Legend at 0x7fdde3e82730>"
      ]
     },
     "execution_count": 83,
     "metadata": {},
     "output_type": "execute_result"
    },
    {
     "data": {
      "image/png": "[encoded data removed]",
      "text/plain": [
       "<Figure size 1440x432 with 8 Axes>"
      ]
     },
     "metadata": {
      "needs_background": "light"
     },
     "output_type": "display_data"
    }
   ],
   "source": [
    "fig, [ax1,ax2,ax3,ax4,ax5,ax6,ax7,ax8] = plt.subplots(nrows=8, figsize=(20,6), sharex=True, sharey=False)\n",
    "\n",
    "plt.subplots_adjust(wspace=1.5)\n",
    "\n",
    "\n",
    "langs = pd.to_datetime(dose[dose.dose == 'Única'].date)\n",
    "\n",
    "ax1.bar(langs, dose[dose.dose == 'Única']['quantidade aplicada'],label= 'Única', color = 'green')\n",
    "ax1.legend()\n",
    "\n",
    "\n",
    "ax2.bar(pd.to_datetime(dose[dose.dose == 'Reforço'].date), dose[dose.dose == 'Reforço']['quantidade aplicada'],\n",
    "        label= 'Reforço', color = 'green')\n",
    "ax2.legend()\n",
    "\n",
    "ax3.bar(pd.to_datetime(dose[dose.dose == '3ª Dose'].date), dose[dose.dose == '3ª Dose']['quantidade aplicada'],\n",
    "        label= '3ª Dose', color = 'green')\n",
    "ax3.legend()\n",
    "\n",
    "ax4.bar(pd.to_datetime(dose[dose.dose == 'Dose Adicional'].date), dose[dose.dose == 'Dose Adicional']['quantidade aplicada'],\n",
    "        label= 'Dose Adicional', color = 'green')\n",
    "ax4.legend()\n",
    "\n",
    "ax5.bar(pd.to_datetime(dose[dose.dose == 'Dose Inicial'].date), dose[dose.dose == 'Dose Inicial']['quantidade aplicada'],\n",
    "        label= 'Dose Inicial', color = 'green')\n",
    "ax5.legend()\n",
    "\n",
    "ax6.bar(pd.to_datetime(dose[dose.dose == '2ª Dose Revacinação'].date), dose[dose.dose == '2ª Dose Revacinação']['quantidade aplicada'],\n",
    "        label= '2ª Dose Revacinação', color = 'green')\n",
    "ax6.legend()\n",
    "\n",
    "\n",
    "ax7.bar(pd.to_datetime(dose[dose.dose == '1ª Dose Revacinação'].date), dose[dose.dose == '1ª Dose Revacinação']['quantidade aplicada'],\n",
    "      label= '1ª Dose Revacinação', color = 'green')\n",
    "ax7.legend()\n",
    "\n",
    "ax8.bar(pd.to_datetime(dose[dose.dose == '1º Reforço'].date), dose[dose.dose == '1º Reforço']['quantidade aplicada'],\n",
    "        label= '1º Reforço', color = 'green')\n",
    "ax8.legend()\n",
    "\n",
    "ax9.bar(pd.to_datetime(dose[dose.dose == 'Dose'].date), dose[dose.dose == 'Dose']['quantidade aplicada'],\n",
    "        label= 'Dose', color = 'green')\n",
    "ax9.legend()"
   ]
  },
  {
   "cell_type": "code",
   "execution_count": 103,
   "metadata": {},
   "outputs": [
    {
     "data": {
      "text/plain": [
       "137521694"
      ]
     },
     "execution_count": 103,
     "metadata": {},
     "output_type": "execute_result"
    }
   ],
   "source": [
    "dose[dose.dose == '1ª Dose']['quantidade aplicada'].sum()"
   ]
  },
  {
   "cell_type": "code",
   "execution_count": 87,
   "metadata": {},
   "outputs": [
    {
     "data": {
      "text/plain": [
       "1219"
      ]
     },
     "execution_count": 87,
     "metadata": {},
     "output_type": "execute_result"
    }
   ],
   "source": [
    "dose[dose.dose == 'Dose Inicial']['quantidade aplicada'].sum()"
   ]
  },
  {
   "cell_type": "code",
   "execution_count": 84,
   "metadata": {
    "scrolled": true
   },
   "outputs": [
    {
     "data": {
      "text/plain": [
       "28091"
      ]
     },
     "execution_count": 84,
     "metadata": {},
     "output_type": "execute_result"
    }
   ],
   "source": [
    "dose[dose.dose == 'Dose Adicional']['quantidade aplicada'].sum()"
   ]
  },
  {
   "cell_type": "code",
   "execution_count": 85,
   "metadata": {},
   "outputs": [
    {
     "data": {
      "text/plain": [
       "471706"
      ]
     },
     "execution_count": 85,
     "metadata": {},
     "output_type": "execute_result"
    }
   ],
   "source": [
    "dose[dose.dose == 'Reforço']['quantidade aplicada'].sum()"
   ]
  },
  {
   "cell_type": "code",
   "execution_count": null,
   "metadata": {},
   "outputs": [],
   "source": []
  },
  {
   "cell_type": "code",
   "execution_count": null,
   "metadata": {},
   "outputs": [],
   "source": [
    "1 Doses aplicadas e registradas na base nacional do Programa Nacional de Imunizações (PNI).\n",
    "\n",
    "2 Doses aplicadas, informadas nos painéis da Secretarias Estaduais, aguardando registro na base nacional. Atualizado uma vez ao dia. Informação por estado.\n",
    "\n",
    "3 Total de doses aplicadas considerando as informações da na base nacional do Programa Nacional de Imunizações (PNI) ou dos painéis da Secretarias Estaduais, considerando o dado mais atualizado. Atualizado uma vez ao dia. Informação por estado.\n",
    "\n",
    "4 DA - Imunossuprimidos que receberam mais uma dose, além das duas normais ou dose única.\n",
    "\n",
    "5 DR - Idosos e outras pessoas que receberam mais uma dose, além das duas normais ou dose única\n",
    "\n",
    "6 Doses entregues, pelo Ministério da Saúde, aos estados há mais de 7 dias.\n",
    "\n",
    "7 Doses enviadas, pelo Ministério da Saúde, aos estados, nos últimos 7 dias, e em processo de distribuição aos municípios pelos estados."
   ]
  },
  {
   "cell_type": "code",
   "execution_count": 61,
   "metadata": {
    "scrolled": false
   },
   "outputs": [
    {
     "data": {
      "text/plain": [
       "75594084"
      ]
     },
     "execution_count": 61,
     "metadata": {},
     "output_type": "execute_result"
    }
   ],
   "source": [
    "dose[dose.dose == 'Única']['quantidade aplicada'].sum() + dose[dose.dose == '2ª Dose']['quantidade aplicada'].sum()"
   ]
  },
  {
   "cell_type": "code",
   "execution_count": null,
   "metadata": {},
   "outputs": [],
   "source": []
  },
  {
   "cell_type": "code",
   "execution_count": null,
   "metadata": {},
   "outputs": [],
   "source": [
    "'1ª Dose', '2ª Dose', 'Dose', 'Única', 'Reforço', '3ª Dose',\n",
    "       'Dose Adicional', 'Dose Inicial', '2ª Dose Revacinação',\n",
    "       '1ª Dose Revacinação', '1º Reforço'"
   ]
  },
  {
   "cell_type": "code",
   "execution_count": 67,
   "metadata": {},
   "outputs": [],
   "source": [
    "data = pd.read_csv(\"https://raw.githubusercontent.com/wcota/covid19br/master/cases-brazil-states.csv\")\n",
    "data = data[data[\"state\"] == \"TOTAL\"]"
   ]
  },
  {
   "cell_type": "code",
   "execution_count": 75,
   "metadata": {
    "scrolled": true
   },
   "outputs": [
    {
     "data": {
      "text/html": [
       "<div>\n",
       "<style scoped>\n",
       "    .dataframe tbody tr th:only-of-type {\n",
       "        vertical-align: middle;\n",
       "    }\n",
       "\n",
       "    .dataframe tbody tr th {\n",
       "        vertical-align: top;\n",
       "    }\n",
       "\n",
       "    .dataframe thead th {\n",
       "        text-align: right;\n",
       "    }\n",
       "</style>\n",
       "<table border=\"1\" class=\"dataframe\">\n",
       "  <thead>\n",
       "    <tr style=\"text-align: right;\">\n",
       "      <th></th>\n",
       "      <th>epi_week</th>\n",
       "      <th>date</th>\n",
       "      <th>country</th>\n",
       "      <th>state</th>\n",
       "      <th>city</th>\n",
       "      <th>newDeaths</th>\n",
       "      <th>deaths</th>\n",
       "      <th>newCases</th>\n",
       "      <th>totalCases</th>\n",
       "      <th>deathsMS</th>\n",
       "      <th>...</th>\n",
       "      <th>tests</th>\n",
       "      <th>tests_per_100k_inhabitants</th>\n",
       "      <th>vaccinated</th>\n",
       "      <th>vaccinated_per_100_inhabitants</th>\n",
       "      <th>vaccinated_second</th>\n",
       "      <th>vaccinated_second_per_100_inhabitants</th>\n",
       "      <th>vaccinated_single</th>\n",
       "      <th>vaccinated_single_per_100_inhabitants</th>\n",
       "      <th>vaccinated_third</th>\n",
       "      <th>vaccinated_third_per_100_inhabitants</th>\n",
       "    </tr>\n",
       "  </thead>\n",
       "  <tbody>\n",
       "    <tr>\n",
       "      <th>1</th>\n",
       "      <td>9</td>\n",
       "      <td>2020-02-25</td>\n",
       "      <td>Brazil</td>\n",
       "      <td>TOTAL</td>\n",
       "      <td>TOTAL</td>\n",
       "      <td>0</td>\n",
       "      <td>0</td>\n",
       "      <td>1</td>\n",
       "      <td>1</td>\n",
       "      <td>0</td>\n",
       "      <td>...</td>\n",
       "      <td>NaN</td>\n",
       "      <td>NaN</td>\n",
       "      <td>NaN</td>\n",
       "      <td>NaN</td>\n",
       "      <td>NaN</td>\n",
       "      <td>NaN</td>\n",
       "      <td>NaN</td>\n",
       "      <td>NaN</td>\n",
       "      <td>NaN</td>\n",
       "      <td>NaN</td>\n",
       "    </tr>\n",
       "    <tr>\n",
       "      <th>3</th>\n",
       "      <td>9</td>\n",
       "      <td>2020-02-26</td>\n",
       "      <td>Brazil</td>\n",
       "      <td>TOTAL</td>\n",
       "      <td>TOTAL</td>\n",
       "      <td>0</td>\n",
       "      <td>0</td>\n",
       "      <td>0</td>\n",
       "      <td>1</td>\n",
       "      <td>0</td>\n",
       "      <td>...</td>\n",
       "      <td>NaN</td>\n",
       "      <td>NaN</td>\n",
       "      <td>NaN</td>\n",
       "      <td>NaN</td>\n",
       "      <td>NaN</td>\n",
       "      <td>NaN</td>\n",
       "      <td>NaN</td>\n",
       "      <td>NaN</td>\n",
       "      <td>NaN</td>\n",
       "      <td>NaN</td>\n",
       "    </tr>\n",
       "    <tr>\n",
       "      <th>5</th>\n",
       "      <td>9</td>\n",
       "      <td>2020-02-27</td>\n",
       "      <td>Brazil</td>\n",
       "      <td>TOTAL</td>\n",
       "      <td>TOTAL</td>\n",
       "      <td>0</td>\n",
       "      <td>0</td>\n",
       "      <td>0</td>\n",
       "      <td>1</td>\n",
       "      <td>0</td>\n",
       "      <td>...</td>\n",
       "      <td>NaN</td>\n",
       "      <td>NaN</td>\n",
       "      <td>NaN</td>\n",
       "      <td>NaN</td>\n",
       "      <td>NaN</td>\n",
       "      <td>NaN</td>\n",
       "      <td>NaN</td>\n",
       "      <td>NaN</td>\n",
       "      <td>NaN</td>\n",
       "      <td>NaN</td>\n",
       "    </tr>\n",
       "    <tr>\n",
       "      <th>7</th>\n",
       "      <td>9</td>\n",
       "      <td>2020-02-28</td>\n",
       "      <td>Brazil</td>\n",
       "      <td>TOTAL</td>\n",
       "      <td>TOTAL</td>\n",
       "      <td>0</td>\n",
       "      <td>0</td>\n",
       "      <td>1</td>\n",
       "      <td>2</td>\n",
       "      <td>0</td>\n",
       "      <td>...</td>\n",
       "      <td>NaN</td>\n",
       "      <td>NaN</td>\n",
       "      <td>NaN</td>\n",
       "      <td>NaN</td>\n",
       "      <td>NaN</td>\n",
       "      <td>NaN</td>\n",
       "      <td>NaN</td>\n",
       "      <td>NaN</td>\n",
       "      <td>NaN</td>\n",
       "      <td>NaN</td>\n",
       "    </tr>\n",
       "    <tr>\n",
       "      <th>9</th>\n",
       "      <td>9</td>\n",
       "      <td>2020-02-29</td>\n",
       "      <td>Brazil</td>\n",
       "      <td>TOTAL</td>\n",
       "      <td>TOTAL</td>\n",
       "      <td>0</td>\n",
       "      <td>0</td>\n",
       "      <td>0</td>\n",
       "      <td>2</td>\n",
       "      <td>0</td>\n",
       "      <td>...</td>\n",
       "      <td>NaN</td>\n",
       "      <td>NaN</td>\n",
       "      <td>NaN</td>\n",
       "      <td>NaN</td>\n",
       "      <td>NaN</td>\n",
       "      <td>NaN</td>\n",
       "      <td>NaN</td>\n",
       "      <td>NaN</td>\n",
       "      <td>NaN</td>\n",
       "      <td>NaN</td>\n",
       "    </tr>\n",
       "    <tr>\n",
       "      <th>...</th>\n",
       "      <td>...</td>\n",
       "      <td>...</td>\n",
       "      <td>...</td>\n",
       "      <td>...</td>\n",
       "      <td>...</td>\n",
       "      <td>...</td>\n",
       "      <td>...</td>\n",
       "      <td>...</td>\n",
       "      <td>...</td>\n",
       "      <td>...</td>\n",
       "      <td>...</td>\n",
       "      <td>...</td>\n",
       "      <td>...</td>\n",
       "      <td>...</td>\n",
       "      <td>...</td>\n",
       "      <td>...</td>\n",
       "      <td>...</td>\n",
       "      <td>...</td>\n",
       "      <td>...</td>\n",
       "      <td>...</td>\n",
       "      <td>...</td>\n",
       "    </tr>\n",
       "    <tr>\n",
       "      <th>16169</th>\n",
       "      <td>141</td>\n",
       "      <td>2021-10-10</td>\n",
       "      <td>Brazil</td>\n",
       "      <td>TOTAL</td>\n",
       "      <td>TOTAL</td>\n",
       "      <td>151</td>\n",
       "      <td>601285</td>\n",
       "      <td>8412</td>\n",
       "      <td>21580535</td>\n",
       "      <td>601011</td>\n",
       "      <td>...</td>\n",
       "      <td>57522913.0</td>\n",
       "      <td>26965.84927</td>\n",
       "      <td>149512793.0</td>\n",
       "      <td>70.08928</td>\n",
       "      <td>94740950.0</td>\n",
       "      <td>44.41309</td>\n",
       "      <td>4779931.0</td>\n",
       "      <td>2.24076</td>\n",
       "      <td>3116010.0</td>\n",
       "      <td>1.46074</td>\n",
       "    </tr>\n",
       "    <tr>\n",
       "      <th>16197</th>\n",
       "      <td>141</td>\n",
       "      <td>2021-10-11</td>\n",
       "      <td>Brazil</td>\n",
       "      <td>TOTAL</td>\n",
       "      <td>TOTAL</td>\n",
       "      <td>206</td>\n",
       "      <td>601491</td>\n",
       "      <td>6817</td>\n",
       "      <td>21587352</td>\n",
       "      <td>601213</td>\n",
       "      <td>...</td>\n",
       "      <td>57522913.0</td>\n",
       "      <td>26965.84927</td>\n",
       "      <td>149798664.0</td>\n",
       "      <td>70.22329</td>\n",
       "      <td>95303186.0</td>\n",
       "      <td>44.67666</td>\n",
       "      <td>4781832.0</td>\n",
       "      <td>2.24165</td>\n",
       "      <td>3281210.0</td>\n",
       "      <td>1.53818</td>\n",
       "    </tr>\n",
       "    <tr>\n",
       "      <th>16225</th>\n",
       "      <td>141</td>\n",
       "      <td>2021-10-12</td>\n",
       "      <td>Brazil</td>\n",
       "      <td>TOTAL</td>\n",
       "      <td>TOTAL</td>\n",
       "      <td>176</td>\n",
       "      <td>601667</td>\n",
       "      <td>7531</td>\n",
       "      <td>21594883</td>\n",
       "      <td>601398</td>\n",
       "      <td>...</td>\n",
       "      <td>64511151.0</td>\n",
       "      <td>30241.82684</td>\n",
       "      <td>149910126.0</td>\n",
       "      <td>70.27554</td>\n",
       "      <td>95541278.0</td>\n",
       "      <td>44.78827</td>\n",
       "      <td>4783024.0</td>\n",
       "      <td>2.24221</td>\n",
       "      <td>3326730.0</td>\n",
       "      <td>1.55952</td>\n",
       "    </tr>\n",
       "    <tr>\n",
       "      <th>16253</th>\n",
       "      <td>141</td>\n",
       "      <td>2021-10-13</td>\n",
       "      <td>Brazil</td>\n",
       "      <td>TOTAL</td>\n",
       "      <td>TOTAL</td>\n",
       "      <td>206</td>\n",
       "      <td>601873</td>\n",
       "      <td>8372</td>\n",
       "      <td>21603255</td>\n",
       "      <td>601574</td>\n",
       "      <td>...</td>\n",
       "      <td>64511151.0</td>\n",
       "      <td>30241.82684</td>\n",
       "      <td>150017038.0</td>\n",
       "      <td>70.32566</td>\n",
       "      <td>96082338.0</td>\n",
       "      <td>45.04191</td>\n",
       "      <td>4781754.0</td>\n",
       "      <td>2.24161</td>\n",
       "      <td>3545399.0</td>\n",
       "      <td>1.66203</td>\n",
       "    </tr>\n",
       "    <tr>\n",
       "      <th>16281</th>\n",
       "      <td>141</td>\n",
       "      <td>2021-10-14</td>\n",
       "      <td>Brazil</td>\n",
       "      <td>TOTAL</td>\n",
       "      <td>TOTAL</td>\n",
       "      <td>547</td>\n",
       "      <td>602420</td>\n",
       "      <td>14553</td>\n",
       "      <td>21617808</td>\n",
       "      <td>602099</td>\n",
       "      <td>...</td>\n",
       "      <td>64552183.0</td>\n",
       "      <td>30261.06200</td>\n",
       "      <td>150742736.0</td>\n",
       "      <td>70.66586</td>\n",
       "      <td>97480114.0</td>\n",
       "      <td>45.69717</td>\n",
       "      <td>4784252.0</td>\n",
       "      <td>2.24278</td>\n",
       "      <td>3755046.0</td>\n",
       "      <td>1.76031</td>\n",
       "    </tr>\n",
       "  </tbody>\n",
       "</table>\n",
       "<p>598 rows × 26 columns</p>\n",
       "</div>"
      ],
      "text/plain": [
       "       epi_week        date country  state   city  newDeaths  deaths  \\\n",
       "1             9  2020-02-25  Brazil  TOTAL  TOTAL          0       0   \n",
       "3             9  2020-02-26  Brazil  TOTAL  TOTAL          0       0   \n",
       "5             9  2020-02-27  Brazil  TOTAL  TOTAL          0       0   \n",
       "7             9  2020-02-28  Brazil  TOTAL  TOTAL          0       0   \n",
       "9             9  2020-02-29  Brazil  TOTAL  TOTAL          0       0   \n",
       "...         ...         ...     ...    ...    ...        ...     ...   \n",
       "16169       141  2021-10-10  Brazil  TOTAL  TOTAL        151  601285   \n",
       "16197       141  2021-10-11  Brazil  TOTAL  TOTAL        206  601491   \n",
       "16225       141  2021-10-12  Brazil  TOTAL  TOTAL        176  601667   \n",
       "16253       141  2021-10-13  Brazil  TOTAL  TOTAL        206  601873   \n",
       "16281       141  2021-10-14  Brazil  TOTAL  TOTAL        547  602420   \n",
       "\n",
       "       newCases  totalCases  deathsMS  ...       tests  \\\n",
       "1             1           1         0  ...         NaN   \n",
       "3             0           1         0  ...         NaN   \n",
       "5             0           1         0  ...         NaN   \n",
       "7             1           2         0  ...         NaN   \n",
       "9             0           2         0  ...         NaN   \n",
       "...         ...         ...       ...  ...         ...   \n",
       "16169      8412    21580535    601011  ...  57522913.0   \n",
       "16197      6817    21587352    601213  ...  57522913.0   \n",
       "16225      7531    21594883    601398  ...  64511151.0   \n",
       "16253      8372    21603255    601574  ...  64511151.0   \n",
       "16281     14553    21617808    602099  ...  64552183.0   \n",
       "\n",
       "       tests_per_100k_inhabitants   vaccinated  \\\n",
       "1                             NaN          NaN   \n",
       "3                             NaN          NaN   \n",
       "5                             NaN          NaN   \n",
       "7                             NaN          NaN   \n",
       "9                             NaN          NaN   \n",
       "...                           ...          ...   \n",
       "16169                 26965.84927  149512793.0   \n",
       "16197                 26965.84927  149798664.0   \n",
       "16225                 30241.82684  149910126.0   \n",
       "16253                 30241.82684  150017038.0   \n",
       "16281                 30261.06200  150742736.0   \n",
       "\n",
       "       vaccinated_per_100_inhabitants  vaccinated_second  \\\n",
       "1                                 NaN                NaN   \n",
       "3                                 NaN                NaN   \n",
       "5                                 NaN                NaN   \n",
       "7                                 NaN                NaN   \n",
       "9                                 NaN                NaN   \n",
       "...                               ...                ...   \n",
       "16169                        70.08928         94740950.0   \n",
       "16197                        70.22329         95303186.0   \n",
       "16225                        70.27554         95541278.0   \n",
       "16253                        70.32566         96082338.0   \n",
       "16281                        70.66586         97480114.0   \n",
       "\n",
       "       vaccinated_second_per_100_inhabitants  vaccinated_single  \\\n",
       "1                                        NaN                NaN   \n",
       "3                                        NaN                NaN   \n",
       "5                                        NaN                NaN   \n",
       "7                                        NaN                NaN   \n",
       "9                                        NaN                NaN   \n",
       "...                                      ...                ...   \n",
       "16169                               44.41309          4779931.0   \n",
       "16197                               44.67666          4781832.0   \n",
       "16225                               44.78827          4783024.0   \n",
       "16253                               45.04191          4781754.0   \n",
       "16281                               45.69717          4784252.0   \n",
       "\n",
       "       vaccinated_single_per_100_inhabitants  vaccinated_third  \\\n",
       "1                                        NaN               NaN   \n",
       "3                                        NaN               NaN   \n",
       "5                                        NaN               NaN   \n",
       "7                                        NaN               NaN   \n",
       "9                                        NaN               NaN   \n",
       "...                                      ...               ...   \n",
       "16169                                2.24076         3116010.0   \n",
       "16197                                2.24165         3281210.0   \n",
       "16225                                2.24221         3326730.0   \n",
       "16253                                2.24161         3545399.0   \n",
       "16281                                2.24278         3755046.0   \n",
       "\n",
       "       vaccinated_third_per_100_inhabitants  \n",
       "1                                       NaN  \n",
       "3                                       NaN  \n",
       "5                                       NaN  \n",
       "7                                       NaN  \n",
       "9                                       NaN  \n",
       "...                                     ...  \n",
       "16169                               1.46074  \n",
       "16197                               1.53818  \n",
       "16225                               1.55952  \n",
       "16253                               1.66203  \n",
       "16281                               1.76031  \n",
       "\n",
       "[598 rows x 26 columns]"
      ]
     },
     "execution_count": 75,
     "metadata": {},
     "output_type": "execute_result"
    }
   ],
   "source": [
    "data"
   ]
  },
  {
   "cell_type": "code",
   "execution_count": 76,
   "metadata": {
    "scrolled": true
   },
   "outputs": [
    {
     "data": {
      "text/plain": [
       "1                NaN\n",
       "3                NaN\n",
       "5                NaN\n",
       "7                NaN\n",
       "9                NaN\n",
       "            ...     \n",
       "16169    149512793.0\n",
       "16197    149798664.0\n",
       "16225    149910126.0\n",
       "16253    150017038.0\n",
       "16281    150742736.0\n",
       "Name: vaccinated, Length: 598, dtype: float64"
      ]
     },
     "execution_count": 76,
     "metadata": {},
     "output_type": "execute_result"
    }
   ],
   "source": [
    "data['vaccinated']#.diff().sum()"
   ]
  },
  {
   "cell_type": "code",
   "execution_count": 77,
   "metadata": {
    "scrolled": true
   },
   "outputs": [
    {
     "data": {
      "text/plain": [
       "1              NaN\n",
       "3              NaN\n",
       "5              NaN\n",
       "7              NaN\n",
       "9              NaN\n",
       "           ...    \n",
       "16169    4779931.0\n",
       "16197    4781832.0\n",
       "16225    4783024.0\n",
       "16253    4781754.0\n",
       "16281    4784252.0\n",
       "Name: vaccinated_single, Length: 598, dtype: float64"
      ]
     },
     "execution_count": 77,
     "metadata": {},
     "output_type": "execute_result"
    }
   ],
   "source": [
    "data['vaccinated_single']#.diff().sum() + data['vaccinated_second'].diff().sum()"
   ]
  },
  {
   "cell_type": "code",
   "execution_count": 78,
   "metadata": {},
   "outputs": [
    {
     "data": {
      "text/plain": [
       "1               NaN\n",
       "3               NaN\n",
       "5               NaN\n",
       "7               NaN\n",
       "9               NaN\n",
       "            ...    \n",
       "16169    94740950.0\n",
       "16197    95303186.0\n",
       "16225    95541278.0\n",
       "16253    96082338.0\n",
       "16281    97480114.0\n",
       "Name: vaccinated_second, Length: 598, dtype: float64"
      ]
     },
     "execution_count": 78,
     "metadata": {},
     "output_type": "execute_result"
    }
   ],
   "source": [
    "data['vaccinated_second']"
   ]
  },
  {
   "cell_type": "code",
   "execution_count": 79,
   "metadata": {},
   "outputs": [
    {
     "data": {
      "text/plain": [
       "102264366"
      ]
     },
     "execution_count": 79,
     "metadata": {},
     "output_type": "execute_result"
    }
   ],
   "source": [
    "4784252 + 97480114"
   ]
  },
  {
   "cell_type": "code",
   "execution_count": null,
   "metadata": {},
   "outputs": [],
   "source": [
    "total vacinados por wcota = 150.742.736\n",
    "\n",
    "total vacinados base vacinação (nossa e atualizada em 25/09/2021) = 217.873.847\n",
    "\n",
    "total vacinados pelo site do MS = 247.067.891"
   ]
  },
  {
   "cell_type": "code",
   "execution_count": null,
   "metadata": {},
   "outputs": [],
   "source": [
    "total vacinados por wcota dose unica e segunda = 102.264.366\n",
    "\n",
    "total vacinados base vacinação (nossa e atualizada em 25/09/2021) = 75.594.084\n",
    "\n",
    "total vacinados pelo site do MS = 100.280.181"
   ]
  },
  {
   "cell_type": "code",
   "execution_count": null,
   "metadata": {},
   "outputs": [],
   "source": []
  },
  {
   "cell_type": "code",
   "execution_count": 93,
   "metadata": {},
   "outputs": [],
   "source": [
    "df1 = pd.read_csv('/Users/julianeoliveira/Desktop/github/Datasets from the gitcomputations/doses_/doses_primeira_segunda_unica_/primeira_dose_uf.csv')"
   ]
  },
  {
   "cell_type": "code",
   "execution_count": 98,
   "metadata": {},
   "outputs": [
    {
     "data": {
      "text/html": [
       "<div>\n",
       "<style scoped>\n",
       "    .dataframe tbody tr th:only-of-type {\n",
       "        vertical-align: middle;\n",
       "    }\n",
       "\n",
       "    .dataframe tbody tr th {\n",
       "        vertical-align: top;\n",
       "    }\n",
       "\n",
       "    .dataframe thead th {\n",
       "        text-align: right;\n",
       "    }\n",
       "</style>\n",
       "<table border=\"1\" class=\"dataframe\">\n",
       "  <thead>\n",
       "    <tr style=\"text-align: right;\">\n",
       "      <th></th>\n",
       "      <th>date</th>\n",
       "      <th>uf</th>\n",
       "      <th>primeira_dose</th>\n",
       "    </tr>\n",
       "  </thead>\n",
       "  <tbody>\n",
       "    <tr>\n",
       "      <th>0</th>\n",
       "      <td>2021-01-18</td>\n",
       "      <td>RS</td>\n",
       "      <td>212</td>\n",
       "    </tr>\n",
       "    <tr>\n",
       "      <th>1</th>\n",
       "      <td>2021-01-18</td>\n",
       "      <td>MS</td>\n",
       "      <td>25</td>\n",
       "    </tr>\n",
       "    <tr>\n",
       "      <th>2</th>\n",
       "      <td>2021-01-18</td>\n",
       "      <td>SC</td>\n",
       "      <td>21</td>\n",
       "    </tr>\n",
       "    <tr>\n",
       "      <th>3</th>\n",
       "      <td>2021-01-18</td>\n",
       "      <td>BA</td>\n",
       "      <td>120</td>\n",
       "    </tr>\n",
       "    <tr>\n",
       "      <th>4</th>\n",
       "      <td>2021-01-18</td>\n",
       "      <td>AM</td>\n",
       "      <td>12</td>\n",
       "    </tr>\n",
       "  </tbody>\n",
       "</table>\n",
       "</div>"
      ],
      "text/plain": [
       "         date  uf  primeira_dose\n",
       "0  2021-01-18  RS            212\n",
       "1  2021-01-18  MS             25\n",
       "2  2021-01-18  SC             21\n",
       "3  2021-01-18  BA            120\n",
       "4  2021-01-18  AM             12"
      ]
     },
     "execution_count": 98,
     "metadata": {},
     "output_type": "execute_result"
    }
   ],
   "source": [
    "df1.head()"
   ]
  },
  {
   "cell_type": "code",
   "execution_count": 97,
   "metadata": {},
   "outputs": [
    {
     "data": {
      "text/plain": [
       "array(['RS', 'MS', 'SC', 'BA', 'AM', 'SP', 'MT', 'ES', 'MG', 'RR', 'CE',\n",
       "       'AP', 'PB', 'SE', 'MA', 'PI', 'RJ', 'RN', 'TO', 'AL', 'RO', 'PA',\n",
       "       nan, 'AC', 'DF', 'PE', 'PR', 'GO', 'XX'], dtype=object)"
      ]
     },
     "execution_count": 97,
     "metadata": {},
     "output_type": "execute_result"
    }
   ],
   "source": [
    "df1.uf.unique()"
   ]
  },
  {
   "cell_type": "code",
   "execution_count": 96,
   "metadata": {
    "scrolled": true
   },
   "outputs": [
    {
     "data": {
      "text/plain": [
       "217873847"
      ]
     },
     "execution_count": 96,
     "metadata": {},
     "output_type": "execute_result"
    }
   ],
   "source": [
    "df1.primeira_dose.sum()"
   ]
  },
  {
   "cell_type": "code",
   "execution_count": null,
   "metadata": {},
   "outputs": [],
   "source": [
    "217.873.847\n",
    "\n",
    "146.440.107"
   ]
  }
 ],
 "metadata": {
  "kernelspec": {
   "display_name": "Python 3",
   "language": "python",
   "name": "python3"
  },
  "language_info": {
   "codemirror_mode": {
    "name": "ipython",
    "version": 3
   },
   "file_extension": ".py",
   "mimetype": "text/x-python",
   "name": "python",
   "nbconvert_exporter": "python",
   "pygments_lexer": "ipython3",
   "version": "3.8.5"
  }
 },
 "nbformat": 4,
 "nbformat_minor": 4
}
