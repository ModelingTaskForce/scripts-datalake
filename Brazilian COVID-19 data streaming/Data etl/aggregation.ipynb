{
 "cells": [
  {
   "cell_type": "code",
   "execution_count": 1,
   "id": "8d758a96-5977-4c46-abc2-d70aeb37fc8b",
   "metadata": {},
   "outputs": [],
   "source": [
    "import os"
   ]
  },
  {
   "cell_type": "code",
   "execution_count": 60,
   "id": "65dcad65-7b63-4837-892c-fa3313f3e8cc",
   "metadata": {},
   "outputs": [],
   "source": [
    "from functools import reduce"
   ]
  },
  {
   "cell_type": "code",
   "execution_count": 3,
   "id": "a6ab0a66-e819-4bd2-9a74-fbcbb813e1f9",
   "metadata": {},
   "outputs": [],
   "source": [
    "import pyspark.sql.functions as F\n",
    "import pyspark.sql.types as T"
   ]
  },
  {
   "cell_type": "code",
   "execution_count": 2,
   "id": "4bf5ac34-6319-4835-9791-d31cd26958a2",
   "metadata": {},
   "outputs": [
    {
     "name": "stderr",
     "output_type": "stream",
     "text": [
      "22/05/03 10:23:49 WARN Utils: Your hostname, eniac resolves to a loopback address: 127.0.1.1; using 192.168.100.6 instead (on interface wlp3s0)\n",
      "22/05/03 10:23:49 WARN Utils: Set SPARK_LOCAL_IP if you need to bind to another address\n",
      "Using Spark's default log4j profile: org/apache/spark/log4j-defaults.properties\n",
      "Setting default log level to \"WARN\".\n",
      "To adjust logging level use sc.setLogLevel(newLevel). For SparkR, use setLogLevel(newLevel).\n",
      "22/05/03 10:23:50 WARN NativeCodeLoader: Unable to load native-hadoop library for your platform... using builtin-java classes where applicable\n",
      "22/05/03 10:23:50 WARN SparkConf: Note that spark.local.dir will be overridden by the value set by the cluster manager (via SPARK_LOCAL_DIRS in mesos/standalone/kubernetes and LOCAL_DIRS in YARN).\n",
      "22/05/03 10:23:51 WARN Utils: Service 'SparkUI' could not bind on port 4040. Attempting port 4041.\n"
     ]
    }
   ],
   "source": [
    "from config import spark"
   ]
  },
  {
   "cell_type": "code",
   "execution_count": 5,
   "id": "27c13611-0712-4176-b3c6-801fb36f9db6",
   "metadata": {},
   "outputs": [],
   "source": [
    "ref = spark.read.csv('ibp_data', header=True)"
   ]
  },
  {
   "cell_type": "code",
   "execution_count": 7,
   "id": "0c6f8130-74a9-43bf-b030-c400ce43984c",
   "metadata": {},
   "outputs": [],
   "source": [
    "preprocess = '/media/fabio/19940C2755DB566F/PAMepi/datalake/DATALAKE/2022-04-19/preprocess/'"
   ]
  },
  {
   "cell_type": "code",
   "execution_count": 8,
   "id": "f72fe261-42ca-42cf-93eb-2ff774dbe3e2",
   "metadata": {},
   "outputs": [],
   "source": [
    "vac = spark.read.csv(os.path.join(preprocess, 'vacinacao'), header=True)"
   ]
  },
  {
   "cell_type": "code",
   "execution_count": 9,
   "id": "de8cb082-f420-40f0-8772-ba8646069a4e",
   "metadata": {},
   "outputs": [],
   "source": [
    "srag = spark.read.csv(os.path.join(preprocess, 'srag'), header=True)"
   ]
  },
  {
   "cell_type": "code",
   "execution_count": 11,
   "id": "20480651-161c-4f5e-a196-7bb2e7d5690f",
   "metadata": {},
   "outputs": [],
   "source": [
    "sg = spark.read.csv(os.path.join(preprocess, 'sindrome_gripal'), header=True)"
   ]
  },
  {
   "cell_type": "code",
   "execution_count": 12,
   "id": "84a6d7d4-ad9d-40bb-9445-bfb8c92c84dc",
   "metadata": {},
   "outputs": [],
   "source": [
    "wcota = spark.read.csv(os.path.join(preprocess, 'wcota'), header=True)"
   ]
  },
  {
   "cell_type": "code",
   "execution_count": 14,
   "id": "d1e246db-79c4-4c6f-82e0-77c026d462b1",
   "metadata": {},
   "outputs": [],
   "source": [
    "mobility = spark.read.csv(os.path.join(preprocess, 'google_mobility'), header=True)"
   ]
  },
  {
   "cell_type": "code",
   "execution_count": 17,
   "id": "d619318c-2b97-4dc2-890c-ff989e3d46fe",
   "metadata": {},
   "outputs": [],
   "source": [
    "ref = ref.withColumnRenamed('code', 'code_mun_ibge')"
   ]
  },
  {
   "cell_type": "code",
   "execution_count": 37,
   "id": "5c792044-2ac1-40bb-b31b-7bdf6d448126",
   "metadata": {},
   "outputs": [],
   "source": [
    "wcota = wcota.withColumn('code_mun_ibge', F.regexp_extract('code_mun_ibge', '\\d{6}', 0))"
   ]
  },
  {
   "cell_type": "code",
   "execution_count": 48,
   "id": "092ea09d-c8ac-4f5c-aecb-e322eb5b1d0a",
   "metadata": {},
   "outputs": [
    {
     "data": {
      "text/plain": [
       "['dates', 'Cod', 'Nome', 'Pop', 'code_mun_ibge', 'UF', 'ip_vl_n']"
      ]
     },
     "execution_count": 48,
     "metadata": {},
     "output_type": "execute_result"
    }
   ],
   "source": [
    "ref.columns"
   ]
  },
  {
   "cell_type": "code",
   "execution_count": 65,
   "id": "4dc1cbf4-8005-4c74-a881-ab390839e4e6",
   "metadata": {},
   "outputs": [],
   "source": [
    "ref = ref.withColumnRenamed('Cod', 'code_full_mun_ibge') \\\n",
    "    .withColumnRenamed('Nome', 'mun_name') \\\n",
    "    .withColumnRenamed('UF', 'uf') \\\n",
    "    .withColumnRenamed('Pop', 'pop') \\\n",
    "    .withColumnRenamed('dates', 'date')"
   ]
  },
  {
   "cell_type": "code",
   "execution_count": 66,
   "id": "962ea55d-c90c-4b82-807f-d4b409825ca2",
   "metadata": {},
   "outputs": [],
   "source": [
    "ref = ref.withColumn('uf_code', F.regexp_extract('code_mun_ibge', '\\d{2}', 0))"
   ]
  },
  {
   "cell_type": "code",
   "execution_count": 67,
   "id": "f562fd39-d0b5-419f-a9cb-edaf939bfc2f",
   "metadata": {},
   "outputs": [
    {
     "name": "stdout",
     "output_type": "stream",
     "text": [
      "+----------+------------------+--------------------------+-----+-------------+---+-------+-------+\n",
      "|date      |code_full_mun_ibge|mun_name                  |pop  |code_mun_ibge|uf |ip_vl_n|uf_code|\n",
      "+----------+------------------+--------------------------+-----+-------------+---+-------+-------+\n",
      "|2022-01-12|1100015           |Alta Floresta D'Oeste (RO)|22516|110001       |RO |0.086  |11     |\n",
      "+----------+------------------+--------------------------+-----+-------------+---+-------+-------+\n",
      "only showing top 1 row\n",
      "\n"
     ]
    }
   ],
   "source": [
    "ref.show(1, truncate=False)"
   ]
  },
  {
   "cell_type": "code",
   "execution_count": 71,
   "id": "b758bbc6-269a-4f27-b777-e9d75f85646b",
   "metadata": {},
   "outputs": [
    {
     "name": "stdout",
     "output_type": "stream",
     "text": [
      "-RECORD 0----------------------------------------------------------------\n",
      " date                                               | 2021-03-31         \n",
      " mun_name                                           | São José da Tapera \n",
      " uf                                                 | Alagoas            \n",
      " retail_and_recreation_percent_change_from_baseline | 0                  \n",
      " grocery_and_pharmacy_percent_change_from_baseline  | 0                  \n",
      " parks_percent_change_from_baseline                 | 0                  \n",
      " transit_stations_percent_change_from_baseline      | 0                  \n",
      " workplaces_percent_change_from_baseline            | 1                  \n",
      " residential_percent_change_from_baseline           | 0                  \n",
      "only showing top 1 row\n",
      "\n"
     ]
    }
   ],
   "source": [
    "mobility.show(1, vertical=True)"
   ]
  },
  {
   "cell_type": "code",
   "execution_count": 68,
   "id": "b93f2770-9575-43f4-a5c8-0f31c9962dd8",
   "metadata": {},
   "outputs": [],
   "source": [
    "result = reduce(lambda df1, df2: df1.join(df2, how='left', on=['date', 'code_mun_ibge']), [ref, vac, sg, srag, wcota])"
   ]
  },
  {
   "cell_type": "code",
   "execution_count": 74,
   "id": "b00a0230-d7e0-484d-84dc-28d46e47881e",
   "metadata": {},
   "outputs": [
    {
     "name": "stderr",
     "output_type": "stream",
     "text": [
      "                                                                                \r"
     ]
    }
   ],
   "source": [
    "result.join(mobility, on=['date', 'mun_name', 'uf'], how='left').orderBy('date').coalesce(1).write.csv(os.path.join('/media/fabio/19940C2755DB566F/PAMepi/datalake/DATALAKE/2022-04-19/', 'result'), header=True)"
   ]
  },
  {
   "cell_type": "code",
   "execution_count": null,
   "id": "1c4f688f-bc9d-4dbd-ade7-3f768793f528",
   "metadata": {},
   "outputs": [],
   "source": []
  }
 ],
 "metadata": {
  "kernelspec": {
   "display_name": "Python 3 (ipykernel)",
   "language": "python",
   "name": "python3"
  },
  "language_info": {
   "codemirror_mode": {
    "name": "ipython",
    "version": 3
   },
   "file_extension": ".py",
   "mimetype": "text/x-python",
   "name": "python",
   "nbconvert_exporter": "python",
   "pygments_lexer": "ipython3",
   "version": "3.10.4"
  }
 },
 "nbformat": 4,
 "nbformat_minor": 5
}
