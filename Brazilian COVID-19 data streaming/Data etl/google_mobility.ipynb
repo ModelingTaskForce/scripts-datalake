{
 "cells": [
  {
   "cell_type": "code",
   "execution_count": 1,
   "id": "50b096b3-d945-4f8a-8fbe-2980ae0482d2",
   "metadata": {},
   "outputs": [],
   "source": [
    "import os"
   ]
  },
  {
   "cell_type": "code",
   "execution_count": 2,
   "id": "b505f499-b93f-41ff-818b-80e491c57ebb",
   "metadata": {},
   "outputs": [],
   "source": [
    "import pyspark.sql.functions as F\n",
    "import pyspark.sql.types as T"
   ]
  },
  {
   "cell_type": "code",
   "execution_count": 3,
   "id": "174b9bde-d5b6-4cfe-9a71-9bb7b05912f5",
   "metadata": {},
   "outputs": [
    {
     "name": "stderr",
     "output_type": "stream",
     "text": [
      "22/04/25 18:27:04 WARN Utils: Your hostname, eniac resolves to a loopback address: 127.0.1.1; using 192.168.100.6 instead (on interface wlp3s0)\n",
      "22/04/25 18:27:04 WARN Utils: Set SPARK_LOCAL_IP if you need to bind to another address\n",
      "Using Spark's default log4j profile: org/apache/spark/log4j-defaults.properties\n",
      "Setting default log level to \"WARN\".\n",
      "To adjust logging level use sc.setLogLevel(newLevel). For SparkR, use setLogLevel(newLevel).\n",
      "22/04/25 18:27:04 WARN NativeCodeLoader: Unable to load native-hadoop library for your platform... using builtin-java classes where applicable\n",
      "22/04/25 18:27:04 WARN SparkConf: Note that spark.local.dir will be overridden by the value set by the cluster manager (via SPARK_LOCAL_DIRS in mesos/standalone/kubernetes and LOCAL_DIRS in YARN).\n"
     ]
    }
   ],
   "source": [
    "from config import spark"
   ]
  },
  {
   "cell_type": "code",
   "execution_count": 4,
   "id": "3a1dd257-34ad-4aa1-942e-0698ff7d7b40",
   "metadata": {},
   "outputs": [],
   "source": [
    "datalake = '/media/fabio/19940C2755DB566F/PAMepi/datalake/DATALAKE'"
   ]
  },
  {
   "cell_type": "code",
   "execution_count": 5,
   "id": "793f0405-4504-448c-a3ee-acc126dd2a79",
   "metadata": {},
   "outputs": [],
   "source": [
    "version = '2022-04-19/'"
   ]
  },
  {
   "cell_type": "code",
   "execution_count": 6,
   "id": "d25753f0-77b8-481a-b756-f408b790b9fe",
   "metadata": {},
   "outputs": [],
   "source": [
    "df = spark.read.csv(os.path.join(datalake, version, 'google_mobility'), header=True)"
   ]
  },
  {
   "cell_type": "code",
   "execution_count": 7,
   "id": "6f75e522-7874-405c-9e17-ab86a5d9a371",
   "metadata": {},
   "outputs": [],
   "source": [
    "df = df.where(F.col('country_region') == 'Brazil')"
   ]
  },
  {
   "cell_type": "code",
   "execution_count": 8,
   "id": "4efb29be-0515-4120-b2b7-70682ee120bb",
   "metadata": {},
   "outputs": [],
   "source": [
    "df = df.withColumn('sub_region_1', F.regexp_replace('sub_region_1', 'State of ', ''))"
   ]
  },
  {
   "cell_type": "code",
   "execution_count": 10,
   "id": "4e3ce1ea-20ef-44ef-a8ba-c2db644edc53",
   "metadata": {},
   "outputs": [],
   "source": [
    "df = df.withColumnRenamed('sub_region_1', 'uf').withColumnRenamed('sub_region_2', 'mun_name')"
   ]
  },
  {
   "cell_type": "code",
   "execution_count": 12,
   "id": "3c5c4b2b-7afb-4940-863a-a38e549d22d3",
   "metadata": {},
   "outputs": [],
   "source": [
    "columns = [\n",
    "    'retail_and_recreation_percent_change_from_baseline',\n",
    "    'grocery_and_pharmacy_percent_change_from_baseline',\n",
    "    'parks_percent_change_from_baseline',\n",
    "    'transit_stations_percent_change_from_baseline',\n",
    "    'workplaces_percent_change_from_baseline',\n",
    "    'residential_percent_change_from_baseline',\n",
    "]"
   ]
  },
  {
   "cell_type": "code",
   "execution_count": 13,
   "id": "f69d73e0-2efa-4d5f-bbaa-601d0e2db3f0",
   "metadata": {},
   "outputs": [
    {
     "name": "stderr",
     "output_type": "stream",
     "text": [
      "                                                                                \r"
     ]
    }
   ],
   "source": [
    "df.groupby('date', 'mun_name', 'uf') \\\n",
    "    .agg(*[F.count(c).alias(c) for c in columns]) \\\n",
    "    .filter((F.col('date') >= '2020-01-01') & (F.col('date') <= '2022-04-19')) \\\n",
    "    .orderBy('date') \\\n",
    "    .write.csv(os.path.join(datalake, version, 'preprocess', 'google_mobility'), header=True, mode='overwrite')"
   ]
  }
 ],
 "metadata": {
  "kernelspec": {
   "display_name": "Python 3 (ipykernel)",
   "language": "python",
   "name": "python3"
  },
  "language_info": {
   "codemirror_mode": {
    "name": "ipython",
    "version": 3
   },
   "file_extension": ".py",
   "mimetype": "text/x-python",
   "name": "python",
   "nbconvert_exporter": "python",
   "pygments_lexer": "ipython3",
   "version": "3.10.4"
  }
 },
 "nbformat": 4,
 "nbformat_minor": 5
}
