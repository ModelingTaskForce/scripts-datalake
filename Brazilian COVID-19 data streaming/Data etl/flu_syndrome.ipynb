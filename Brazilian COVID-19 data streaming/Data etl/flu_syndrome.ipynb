{
 "cells": [
  {
   "cell_type": "markdown",
   "id": "51a008ee",
   "metadata": {},
   "source": [
    "## Sindrome gripal"
   ]
  },
  {
   "cell_type": "markdown",
   "id": "84fa7b25",
   "metadata": {},
   "source": [
    "Agregando o dataset *Sindrome Gripal*"
   ]
  },
  {
   "cell_type": "code",
   "execution_count": 1,
   "id": "87db158d",
   "metadata": {},
   "outputs": [],
   "source": [
    "# importando bibliotecas do sistema"
   ]
  },
  {
   "cell_type": "code",
   "execution_count": 2,
   "id": "e1e1a897",
   "metadata": {},
   "outputs": [],
   "source": [
    "from functools import reduce\n",
    "import os"
   ]
  },
  {
   "cell_type": "code",
   "execution_count": 3,
   "id": "3131d260",
   "metadata": {},
   "outputs": [],
   "source": [
    "# importando funções e tipos do pyspark"
   ]
  },
  {
   "cell_type": "code",
   "execution_count": 4,
   "id": "af9f18eb",
   "metadata": {},
   "outputs": [],
   "source": [
    "import pyspark.sql.functions as F\n",
    "import pyspark.sql.types as T"
   ]
  },
  {
   "cell_type": "code",
   "execution_count": 5,
   "id": "ade0defe",
   "metadata": {},
   "outputs": [],
   "source": [
    "# importando scripts proprios  [!] nesse caso são minhas configurações [!]"
   ]
  },
  {
   "cell_type": "code",
   "execution_count": 6,
   "id": "bad91636",
   "metadata": {},
   "outputs": [
    {
     "name": "stderr",
     "output_type": "stream",
     "text": [
      "22/04/25 18:36:08 WARN Utils: Your hostname, eniac resolves to a loopback address: 127.0.1.1; using 192.168.100.6 instead (on interface wlp3s0)\n",
      "22/04/25 18:36:08 WARN Utils: Set SPARK_LOCAL_IP if you need to bind to another address\n",
      "Using Spark's default log4j profile: org/apache/spark/log4j-defaults.properties\n",
      "Setting default log level to \"WARN\".\n",
      "To adjust logging level use sc.setLogLevel(newLevel). For SparkR, use setLogLevel(newLevel).\n",
      "22/04/25 18:36:08 WARN NativeCodeLoader: Unable to load native-hadoop library for your platform... using builtin-java classes where applicable\n",
      "22/04/25 18:36:08 WARN SparkConf: Note that spark.local.dir will be overridden by the value set by the cluster manager (via SPARK_LOCAL_DIRS in mesos/standalone/kubernetes and LOCAL_DIRS in YARN).\n",
      "22/04/25 18:36:09 WARN Utils: Service 'SparkUI' could not bind on port 4040. Attempting port 4041.\n"
     ]
    }
   ],
   "source": [
    "from config import spark"
   ]
  },
  {
   "cell_type": "code",
   "execution_count": 7,
   "id": "a4aca963",
   "metadata": {},
   "outputs": [],
   "source": [
    "# setando minha pasta pdrão [!] altere aqui onde você salva suas coisas [!]"
   ]
  },
  {
   "cell_type": "code",
   "execution_count": 8,
   "id": "3a7902de",
   "metadata": {},
   "outputs": [],
   "source": [
    "datalake = '/media/fabio/19940C2755DB566F/PAMepi/datalake/DATALAKE'"
   ]
  },
  {
   "cell_type": "code",
   "execution_count": 9,
   "id": "95258e32",
   "metadata": {},
   "outputs": [],
   "source": [
    "version = '2022-04-19/'"
   ]
  },
  {
   "cell_type": "code",
   "execution_count": 10,
   "id": "48288e8f",
   "metadata": {},
   "outputs": [],
   "source": [
    "# carregando todos os datasets disponiveis do sindrome gripal 2020 - 2021 - 2022"
   ]
  },
  {
   "cell_type": "code",
   "execution_count": 11,
   "id": "fccd7733",
   "metadata": {},
   "outputs": [
    {
     "name": "stderr",
     "output_type": "stream",
     "text": [
      "                                                                                \r"
     ]
    }
   ],
   "source": [
    "sg20 = spark.read.csv(os.path.join(datalake, version, 'sindrome_gripal-2020'), header=True, sep=';')\n",
    "sg21 = spark.read.csv(os.path.join(datalake, version, 'sindrome_gripal-2021'), header=True, sep=';')\n",
    "sg22 = spark.read.csv(os.path.join(datalake, version, 'sindrome_gripal-2022'), header=True, sep=';')"
   ]
  },
  {
   "cell_type": "code",
   "execution_count": 12,
   "id": "b71af77b-5cbd-4138-8521-f9de4043313e",
   "metadata": {},
   "outputs": [],
   "source": [
    "df = reduce(lambda sg, sg1: sg.unionAll(sg1), [sg20, sg21, sg22])"
   ]
  },
  {
   "cell_type": "code",
   "execution_count": 13,
   "id": "8ef2a6c9",
   "metadata": {},
   "outputs": [],
   "source": [
    "# pegando as colunas que importam p/ melhor visualização"
   ]
  },
  {
   "cell_type": "code",
   "execution_count": 14,
   "id": "e2894dbc",
   "metadata": {},
   "outputs": [],
   "source": [
    "COLUMNS = [\n",
    "    'dataInicioSintomas',\n",
    "    'dataColetaTeste1',\n",
    "    'dataColetaTeste2',\n",
    "    'dataColetaTeste3',\n",
    "    'dataColetaTeste4',\n",
    "    'dataNotificacao',\n",
    "    'municipioIBGE',\n",
    "    'municipioNotificacaoIBGE',\n",
    "    'evolucaoCaso',\n",
    "    'classificacaoFinal'\n",
    "]"
   ]
  },
  {
   "cell_type": "code",
   "execution_count": 15,
   "id": "5483d32f",
   "metadata": {},
   "outputs": [],
   "source": [
    "df = df.select(COLUMNS)"
   ]
  },
  {
   "cell_type": "code",
   "execution_count": 16,
   "id": "eabc223d",
   "metadata": {},
   "outputs": [],
   "source": [
    "# criando a coluna data a partir das colunas dataInicioSintomas, dataColetaTeste4, dataColetaTeste3... \n",
    "# em ultimo caso a data sera preenchida com dataNotificacao"
   ]
  },
  {
   "cell_type": "code",
   "execution_count": 17,
   "id": "c3115a3e",
   "metadata": {},
   "outputs": [],
   "source": [
    "df = df.withColumn(\n",
    "    'date',\n",
    "    F.when(\n",
    "        F.col('dataInicioSintomas').isNotNull(),\n",
    "        F.lit(F.col('dataInicioSintomas'))\n",
    "    ).when(\n",
    "        F.col('dataInicioSintomas').isNull(),\n",
    "        F.when(\n",
    "            F.col('dataColetaTeste4').isNotNull(),\n",
    "            F.lit(F.col('dataColetaTeste4'))\n",
    "        ).when(\n",
    "            F.col('dataColetaTeste4').isNull(),\n",
    "            F.when(\n",
    "                F.col('dataColetaTeste3').isNotNull(),\n",
    "                F.lit(F.col('dataColetaTeste3'))\n",
    "            ).when(\n",
    "                F.col('dataColetaTeste3').isNull(),\n",
    "                F.when(\n",
    "                    F.col('dataColetaTeste2').isNotNull(),\n",
    "                    F.lit(F.col('dataColetaTeste2'))\n",
    "                ).when(\n",
    "                    F.col('dataColetaTeste2').isNull(),\n",
    "                    F.lit(F.col('dataColetaTeste1'))\n",
    "                ).otherwise(F.col('dataNotificacao'))\n",
    "            )\n",
    "        )\n",
    "    )\n",
    ")"
   ]
  },
  {
   "cell_type": "code",
   "execution_count": 18,
   "id": "e2edeae7",
   "metadata": {},
   "outputs": [],
   "source": [
    "# preenchendo codigos de residencia faltantes com os de notificacao"
   ]
  },
  {
   "cell_type": "code",
   "execution_count": 19,
   "id": "d0d1e3e2",
   "metadata": {},
   "outputs": [],
   "source": [
    "df = df.withColumn(\n",
    "    'municipioIBGE',\n",
    "    F.when(\n",
    "        F.col('municipioIBGE').isNull(),\n",
    "        F.lit(F.col('municipioNotificacaoIBGE'))\n",
    "    ).otherwise(F.col('municipioIBGE'))\n",
    ")"
   ]
  },
  {
   "cell_type": "code",
   "execution_count": 20,
   "id": "ecce3962",
   "metadata": {},
   "outputs": [],
   "source": [
    "df = df.withColumnRenamed('municipioIBGE', 'code_mun_ibge')"
   ]
  },
  {
   "cell_type": "code",
   "execution_count": 21,
   "id": "ff51c567",
   "metadata": {},
   "outputs": [],
   "source": [
    "# criando algumas colunas mais simples"
   ]
  },
  {
   "cell_type": "code",
   "execution_count": 22,
   "id": "879e9d45",
   "metadata": {},
   "outputs": [],
   "source": [
    "df = df.withColumn('newCases_SG', F.when(F.col('classificacaoFinal').startswith('Conf'), F.lit(1)))\n",
    "df = df.withColumn('new_des_SG', F.when(F.col('classificacaoFinal') == 'Descartado', F.lit(1)))\n",
    "df = df.withColumn('new_undefined_SG', F.when(F.col('classificacaoFinal').isNull(), F.lit(1)))"
   ]
  },
  {
   "cell_type": "code",
   "execution_count": 23,
   "id": "7e92b0e7",
   "metadata": {},
   "outputs": [],
   "source": [
    "# óbitos [ covid - descartados - nao definidos ]"
   ]
  },
  {
   "cell_type": "code",
   "execution_count": 24,
   "id": "ddb34751",
   "metadata": {},
   "outputs": [],
   "source": [
    "df = df.withColumn(\n",
    "    'newDeath_SG',\n",
    "    F.when(\n",
    "        (F.col('newCases_SG').isNotNull()) &\n",
    "        (F.col('evolucaoCaso') == 'Óbito'), F.lit(1)\n",
    "    )\n",
    ").withColumn(\n",
    "    'newDeath_des_SG',\n",
    "    F.when(\n",
    "        (F.col('new_des_SG').isNotNull()) &\n",
    "        (F.col('evolucaoCaso') == 'Óbito'), F.lit(1)\n",
    "    )\n",
    ").withColumn(\n",
    "    'newDeath_undefined_SG',\n",
    "    F.when(\n",
    "        (F.col('new_undefined_SG').isNotNull()) &\n",
    "        (F.col('evolucaoCaso') == 'Óbito'), F.lit(1)\n",
    "    )\n",
    ")"
   ]
  },
  {
   "cell_type": "code",
   "execution_count": 25,
   "id": "88de6802",
   "metadata": {},
   "outputs": [],
   "source": [
    "# recuperados [ covid - descartados - nao definidos ]"
   ]
  },
  {
   "cell_type": "code",
   "execution_count": 26,
   "id": "de8c42d9",
   "metadata": {},
   "outputs": [],
   "source": [
    "df = df.withColumn(\n",
    "    'new_recovered_SG',\n",
    "    F.when(\n",
    "        (F.col('newCases_SG').isNotNull()) &\n",
    "        (F.col('evolucaoCaso') == 'Cura'), F.lit(1)\n",
    "    )\n",
    ").withColumn(\n",
    "    'new_recovered_des_SG',\n",
    "    F.when(\n",
    "        (F.col('new_des_SG').isNotNull()) &\n",
    "        (F.col('evolucaoCaso') == 'Cura'), F.lit(1)\n",
    "    )\n",
    ").withColumn(\n",
    "    'new_recovered_undefined_SG',\n",
    "    F.when(\n",
    "        (F.col('new_undefined_SG').isNotNull()) &\n",
    "        (F.col('evolucaoCaso') == 'Cura'), F.lit(1)\n",
    "    )\n",
    ")"
   ]
  },
  {
   "cell_type": "code",
   "execution_count": 27,
   "id": "4d035439",
   "metadata": {},
   "outputs": [],
   "source": [
    "# uti [ covid - descartados - nao definidos ]"
   ]
  },
  {
   "cell_type": "code",
   "execution_count": 28,
   "id": "b8e02d6a",
   "metadata": {},
   "outputs": [],
   "source": [
    "df = df.withColumn(\n",
    "    'hosp_uti_SG',\n",
    "    F.when(\n",
    "        (F.col('newCases_SG').isNotNull()) &\n",
    "        (F.col('evolucaoCaso') == 'Internado em UTI'),\n",
    "        F.lit(1)\n",
    "    )\n",
    ").withColumn(\n",
    "    'hosp_uti_des_SG',\n",
    "    F.when(\n",
    "        (F.col('new_des_sg').isNotNull()) &\n",
    "        (F.col('evolucaoCaso') == 'Internado em UTI'),\n",
    "        F.lit(1)\n",
    "    )\n",
    ").withColumn(\n",
    "    'hosp_uti_undefined_SG',\n",
    "    F.when(\n",
    "        (F.col('new_undefined_SG').isNotNull()) &\n",
    "        (F.col('evolucaoCaso') == 'Internado em UTI'),\n",
    "        F.lit(1)\n",
    "    )\n",
    ")"
   ]
  },
  {
   "cell_type": "code",
   "execution_count": 29,
   "id": "a0ec2812",
   "metadata": {},
   "outputs": [],
   "source": [
    "# tratamento domiciliar [ covid - descartados - nao definidos ]"
   ]
  },
  {
   "cell_type": "code",
   "execution_count": 30,
   "id": "98711a59",
   "metadata": {},
   "outputs": [],
   "source": [
    "df = df.withColumn(\n",
    "    'dom_trat_SG',\n",
    "    F.when(\n",
    "        (F.col('newCases_SG').isNotNull()) &\n",
    "        (F.col('evolucaoCaso') == 'Em tratamento domiciliar'),\n",
    "        F.lit(1)\n",
    "    )\n",
    ").withColumn(\n",
    "    'dom_trat_des_SG',\n",
    "    F.when(\n",
    "        (F.col('new_des_sg').isNotNull()) &\n",
    "        (F.col('evolucaoCaso') == 'Em tratamento domiciliar'),\n",
    "        F.lit(1)\n",
    "    )\n",
    ").withColumn(\n",
    "    'dom_trat_undefined_SG',\n",
    "    F.when(\n",
    "        (F.col('new_undefined_sg').isNotNull()) &\n",
    "        (F.col('evolucaoCaso') == 'Em tratamento domiciliar'),\n",
    "        F.lit(1)\n",
    "    )\n",
    ")"
   ]
  },
  {
   "cell_type": "code",
   "execution_count": 31,
   "id": "9844de71",
   "metadata": {},
   "outputs": [],
   "source": [
    "# clinico [ covid - descartados - nao definidos ]"
   ]
  },
  {
   "cell_type": "code",
   "execution_count": 32,
   "id": "057b90ea",
   "metadata": {},
   "outputs": [],
   "source": [
    "df = df.withColumn(\n",
    "    'hos_clinc_SG',\n",
    "    F.when(\n",
    "        (F.col('newCases_SG').isNotNull()) &\n",
    "        (F.col('evolucaoCaso') == 'Internado'),\n",
    "        F.lit(1)\n",
    "    )\n",
    ").withColumn(\n",
    "    'hos_clinc_des_SG',\n",
    "    F.when(\n",
    "        (F.col('new_des_SG').isNotNull()) &\n",
    "        (F.col('evolucaoCaso') == 'Internado'),\n",
    "        F.lit(1)\n",
    "    )\n",
    ").withColumn(\n",
    "    'hos_clinc_undefined_SG',\n",
    "    F.when(\n",
    "        (F.col('new_undefined_SG').isNotNull()) &\n",
    "        (F.col('evolucaoCaso') == 'Internado'),\n",
    "        F.lit(1)\n",
    "    )\n",
    ")"
   ]
  },
  {
   "cell_type": "code",
   "execution_count": 33,
   "id": "be8e92f6",
   "metadata": {},
   "outputs": [],
   "source": [
    "# essas colunas foram mapeadas só pra facilitar o processo de agregação"
   ]
  },
  {
   "cell_type": "code",
   "execution_count": 34,
   "id": "78959872",
   "metadata": {},
   "outputs": [],
   "source": [
    "new_columns = [\n",
    "    'newCases_SG', 'new_des_SG', 'new_undefined_SG',\n",
    "    'newDeath_SG', 'newDeath_des_SG', 'newDeath_undefined_SG',\n",
    "    'new_recovered_SG', 'new_recovered_des_SG', 'new_recovered_undefined_SG',\n",
    "    'hosp_uti_SG', 'hosp_uti_des_SG', 'hosp_uti_undefined_SG',\n",
    "    'dom_trat_SG', 'dom_trat_des_SG', 'dom_trat_undefined_SG',\n",
    "    'hos_clinc_SG', 'hos_clinc_des_SG', 'hos_clinc_undefined_SG',\n",
    "\n",
    "]"
   ]
  },
  {
   "cell_type": "code",
   "execution_count": 35,
   "id": "42278ada",
   "metadata": {},
   "outputs": [
    {
     "name": "stderr",
     "output_type": "stream",
     "text": [
      "                                                                                \r"
     ]
    }
   ],
   "source": [
    "df.groupby('date', 'code_mun_ibge').agg(\n",
    "    *[F.count(col).alias(col) for col in new_columns]\n",
    ").filter(F.col('date') >= '2020-01-01').orderBy('date') \\\n",
    ".write.csv(os.path.join(datalake, version, 'preprocess', 'sindrome_gripal'), header=True, mode='overwrite')"
   ]
  }
 ],
 "metadata": {
  "kernelspec": {
   "display_name": "Python 3 (ipykernel)",
   "language": "python",
   "name": "python3"
  },
  "language_info": {
   "codemirror_mode": {
    "name": "ipython",
    "version": 3
   },
   "file_extension": ".py",
   "mimetype": "text/x-python",
   "name": "python",
   "nbconvert_exporter": "python",
   "pygments_lexer": "ipython3",
   "version": "3.10.4"
  }
 },
 "nbformat": 4,
 "nbformat_minor": 5
}
