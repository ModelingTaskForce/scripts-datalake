{
 "cells": [
  {
   "cell_type": "code",
   "execution_count": 1,
   "id": "879abc98",
   "metadata": {},
   "outputs": [],
   "source": [
    "from functools import reduce\n",
    "import os\n",
    "from datetime import datetime"
   ]
  },
  {
   "cell_type": "code",
   "execution_count": 2,
   "id": "54208ee7",
   "metadata": {},
   "outputs": [],
   "source": [
    "import pyspark.sql.functions as F\n",
    "import pyspark.sql.types as T"
   ]
  },
  {
   "cell_type": "code",
   "execution_count": 3,
   "id": "2041b59f",
   "metadata": {},
   "outputs": [
    {
     "name": "stderr",
     "output_type": "stream",
     "text": [
      "22/04/25 17:35:24 WARN Utils: Your hostname, eniac resolves to a loopback address: 127.0.1.1; using 192.168.100.6 instead (on interface wlp3s0)\n",
      "22/04/25 17:35:24 WARN Utils: Set SPARK_LOCAL_IP if you need to bind to another address\n",
      "Using Spark's default log4j profile: org/apache/spark/log4j-defaults.properties\n",
      "Setting default log level to \"WARN\".\n",
      "To adjust logging level use sc.setLogLevel(newLevel). For SparkR, use setLogLevel(newLevel).\n",
      "22/04/25 17:35:25 WARN NativeCodeLoader: Unable to load native-hadoop library for your platform... using builtin-java classes where applicable\n",
      "22/04/25 17:35:25 WARN SparkConf: Note that spark.local.dir will be overridden by the value set by the cluster manager (via SPARK_LOCAL_DIRS in mesos/standalone/kubernetes and LOCAL_DIRS in YARN).\n"
     ]
    }
   ],
   "source": [
    "from config import spark"
   ]
  },
  {
   "cell_type": "code",
   "execution_count": 4,
   "id": "0842b236",
   "metadata": {},
   "outputs": [],
   "source": [
    "datalake = '/media/fabio/19940C2755DB566F/PAMepi/datalake/DATALAKE/'"
   ]
  },
  {
   "cell_type": "code",
   "execution_count": 5,
   "id": "bf9ab01a",
   "metadata": {},
   "outputs": [],
   "source": [
    "version = '2022-04-19'"
   ]
  },
  {
   "cell_type": "code",
   "execution_count": 6,
   "id": "e7c4b61d",
   "metadata": {},
   "outputs": [],
   "source": [
    "dfs = [\n",
    "    spark.read.csv(os.path.join(datalake, version, 'SRAG', file), header=True, sep=';')\n",
    "    for file in os.listdir(os.path.join(datalake, version, 'SRAG'))\n",
    "]"
   ]
  },
  {
   "cell_type": "code",
   "execution_count": 7,
   "id": "b12ec05a",
   "metadata": {},
   "outputs": [],
   "source": [
    "df = reduce(lambda d1, d2: d1.unionByName(d2, allowMissingColumns=True), dfs)"
   ]
  },
  {
   "cell_type": "code",
   "execution_count": 8,
   "id": "bc3ef361-5857-4a0b-b185-fe1eef6df38c",
   "metadata": {},
   "outputs": [],
   "source": [
    "df = df.withColumn('LVAC', F.lit(None))"
   ]
  },
  {
   "cell_type": "code",
   "execution_count": 9,
   "id": "3801c9f9-4962-484d-b552-d5a754e2e6b2",
   "metadata": {},
   "outputs": [],
   "source": [
    "coronavac_list = [\n",
    "    'CORONAVAC', 'BUTANTAN',  'SINOVAC', 'IB', 'SINO', 'BUTA',\n",
    "    'CORAVAC', 'CORONA', 'CORONO', 'BUATN', 'CORANA', 'BUNTAN',\n",
    "    'BUTU', 'SIONOVAC', 'CORONSVAC', 'COROVACAC', 'COORNAVAC',\n",
    "    'COVONAVA', 'CORFONAVAC', 'TANTAN', 'SIVOVAC', 'CORO', 'CONO',\n",
    "    'BHUTANTAN', 'CORANOVAC', 'CORNAVAC', 'CINOFARMA', 'BT',\n",
    "    'BUTNTAN', 'SIVONAC', 'I.B.', 'CRONAVAC', 'SINAVAC',\n",
    "    'SINVAC', 'CORNONAVAC', 'BUT',\n",
    "]\n",
    "\n",
    "astrazeneca_list = [\n",
    "    'ZENECA', 'OXFOR', 'ZENICA', 'FIOCRUZ', 'CRUZ', 'AZT',\n",
    "    'CHADOX1', \"INSTITUTO SERUM\", 'COVISHILD', 'COVISHIELD',\n",
    "    'ASTR', 'ATZ', 'FORD', 'OXF', '0XF', 'COVISHEID',\n",
    "    'COVISCHELD', 'ATRAZENCA', 'FIOCROZ', 'OSWALDO', 'SHIELD',\n",
    "    'INDIA', 'FIOCFRUZ', 'CRIZ', 'ABX0529', 'OXOFRD', 'FIO RUZ',\n",
    "    'COVIDCHIELD', 'CORVISHELD', 'COREISHIEL', 'ATRAZANICA',\n",
    "    'FIOCURZ', 'INSTITUTO SERIUM', 'AZ', 'BIOMANGUINHO',\n",
    "    'FIO CRUOZ', 'CHADOX', 'COVISHIED', 'SERUM', 'FIOCRUS'\n",
    "]\n",
    "\n",
    "pfizer_list = [\n",
    "    'FIZER', 'PFZES', 'PFIZAR', 'PIZER', 'IZER', 'BIONTECH',          \n",
    "    'PZIFER', 'FAZER', 'EZER', 'PFI', 'PFZ', 'PFA', 'FAYZER',\n",
    "    'PZF', 'PZI',  'BIOTECNO', 'BNT162B2', 'PAIFFER', 'BIOTECH',\n",
    "    'COMIRNATY', 'PFYZER', 'BIO N TECH', 'PZHIER', 'FAISER' \n",
    "]\n",
    "\n",
    "janssen_list = [\n",
    "    'JANSSEN', 'JANSEN', 'UNICA', 'JAH', 'JANSE', 'JENS', 'JANHSEN',\n",
    "    'JASSEN', 'JONHSON', 'JONSSON', 'JANSON', 'JHONSON', 'JOHNSON',\n",
    "    'JOHSON', 'JHONNSONN', 'JONHOSON', 'JHANSSEN', 'JHANSEN',\n",
    "    'JONSSEN', 'JHONSOM', 'JASEN', 'JANSSER',  'JHONSSEN',\n",
    "    'JANSSEM', 'JONSHON', 'JANNSEN',\n",
    "]\n",
    "\n",
    "others = []"
   ]
  },
  {
   "cell_type": "code",
   "execution_count": 10,
   "id": "7e2868aa-9261-42c4-85a3-0c8b75f9f4ec",
   "metadata": {},
   "outputs": [],
   "source": [
    "# 0 = astrazeneca, 1 = coronavac, 2 = pfizer, 3 = janssen\n",
    "df = df.withColumn(\n",
    "    'vac_number',\n",
    "    F.when(\n",
    "        (df.LAB_PR_COV).isin(astrazeneca_list),\n",
    "        F.lit(0)\n",
    "    ).when(\n",
    "        (df.LAB_PR_COV).isin(coronavac_list),\n",
    "        F.lit(1)\n",
    "    ).when(\n",
    "        (df.LAB_PR_COV).isin(pfizer_list),\n",
    "        F.lit(2)\n",
    "    ).when(\n",
    "        (df.LAB_PR_COV).isin(janssen_list),\n",
    "        F.lit(3)\n",
    "    ).otherwise(F.lit(None))\n",
    ")"
   ]
  },
  {
   "cell_type": "code",
   "execution_count": 11,
   "id": "877c72af",
   "metadata": {},
   "outputs": [],
   "source": [
    "df = df.withColumn(\n",
    "    'DT_INTERNA',\n",
    "    F.when(\n",
    "        F.col('DT_INTERNA').isNull(),\n",
    "        F.col('DT_ENTUTI')\n",
    "    ).otherwise(F.col('DT_INTERNA'))\n",
    ")"
   ]
  },
  {
   "cell_type": "code",
   "execution_count": 12,
   "id": "1de9db48",
   "metadata": {},
   "outputs": [],
   "source": [
    "df = df.withColumn(\n",
    "    'DT_ENTUTI',\n",
    "    F.when(\n",
    "        (F.col('DT_ENTUTI').isNull()) &\n",
    "        (F.col('UTI') == 1),\n",
    "        F.col('DT_INTERNA')\n",
    "    ).otherwise(F.col('DT_ENTUTI'))\n",
    ")"
   ]
  },
  {
   "cell_type": "code",
   "execution_count": 13,
   "id": "3917e863",
   "metadata": {},
   "outputs": [],
   "source": [
    "df = df.withColumn(\n",
    "    'DT_SAIDUTI',\n",
    "    F.when(\n",
    "        (F.col('DT_SAIDUTI').isNull()) &\n",
    "        (F.col('DT_ENTUTI').isNotNull()),\n",
    "        F.col('DT_EVOLUCA')\n",
    "    ).otherwise(F.col('DT_SAIDUTI'))\n",
    ")\n",
    "\n",
    "df = df.withColumn(\n",
    "    'DT_SAIDUTI',\n",
    "    F.when(\n",
    "        (F.col('DT_SAIDUTI').isNull()) &\n",
    "        (F.col('DT_ENTUTI').isNotNull()),\n",
    "        F.col('DT_ENCERRA')\n",
    "    ).otherwise(F.col('DT_SAIDUTI'))\n",
    ")"
   ]
  },
  {
   "cell_type": "code",
   "execution_count": 14,
   "id": "f96efa73",
   "metadata": {},
   "outputs": [],
   "source": [
    "df = df.withColumn(\n",
    "    'DT_EVOLUCA',\n",
    "    F.when(\n",
    "        F.col('DT_EVOLUCA').isNull(),\n",
    "        F.col('DT_ENCERRA')\n",
    "    ).otherwise(F.col('DT_EVOLUCA'))\n",
    ")\n",
    "\n",
    "df = df.withColumn(\n",
    "    'DT_EVOLUCA',\n",
    "    F.when(\n",
    "        F.col('DT_EVOLUCA').isNull(),\n",
    "        F.col('DT_ENCERRA')\n",
    "    ).otherwise(F.col('DT_SAIDUTI'))\n",
    ")"
   ]
  },
  {
   "cell_type": "code",
   "execution_count": 15,
   "id": "e0678f67-c7c1-4fad-869c-98e1ea93b458",
   "metadata": {},
   "outputs": [],
   "source": [
    "data = [ col for col in df.columns if col.startswith('DT_') ]\n",
    "data.append('DOSE_1_COV')\n",
    "data.append('DOSE_2_COV')"
   ]
  },
  {
   "cell_type": "code",
   "execution_count": 16,
   "id": "988d9a69-db90-4b26-9ea0-cad964b07f3b",
   "metadata": {},
   "outputs": [],
   "source": [
    "for col in data:\n",
    "    df = df.withColumn(\n",
    "        col,\n",
    "        F.when(\n",
    "            F.col(col).isNotNull(), \n",
    "            F.to_date(col, 'dd/MM/yyyy')\n",
    "        ).otherwise(F.col(col))\n",
    "    )"
   ]
  },
  {
   "cell_type": "code",
   "execution_count": 17,
   "id": "c2404d2c-6db8-4d48-bc96-b8da5cd2ae77",
   "metadata": {},
   "outputs": [],
   "source": [
    "df = df.withColumn(\n",
    "    'date',\n",
    "    F.when(\n",
    "        F.col('DT_SIN_PRI').isNotNull(), \n",
    "        F.col('DT_SIN_PRI')\n",
    "    ).when(\n",
    "        F.col('DT_SIN_PRI').isNull(),\n",
    "        F.when(\n",
    "            F.col('DT_COLETA').isNotNull(),\n",
    "            F.col('DT_COLETA')\n",
    "        ).when(\n",
    "            F.col('DT_COLETA').isNull(),\n",
    "            F.col('DT_PCR')\n",
    "        ).when(\n",
    "            F.col('DT_NOTIFIC').isNotNull(),\n",
    "            F.col('DT_NOTIFIC')\n",
    "        )\n",
    "    )\n",
    ")"
   ]
  },
  {
   "cell_type": "code",
   "execution_count": 18,
   "id": "4162fa3f-92cb-4def-bda6-3be6e2783100",
   "metadata": {},
   "outputs": [],
   "source": [
    "df = df.withColumn('newCases_SRAG', F.when(F.col('CLASSI_FIN') == 5, F.lit(1)))"
   ]
  },
  {
   "cell_type": "code",
   "execution_count": 19,
   "id": "f3aac93d-5cc6-413b-9c71-0de4aa74f21d",
   "metadata": {},
   "outputs": [],
   "source": [
    "df = df.withColumn(\n",
    "    'new_des_SRAG',\n",
    "    F.when(\n",
    "        (F.col('CLASSI_FIN') == 1) |\n",
    "        (F.col('CLASSI_FIN') == 2) |\n",
    "        (F.col('CLASSI_FIN') == 3),\n",
    "        F.lit(1)\n",
    "    )\n",
    ")"
   ]
  },
  {
   "cell_type": "code",
   "execution_count": 20,
   "id": "f8114dc6-42ad-4707-b9d7-1f8002a3c4ac",
   "metadata": {},
   "outputs": [],
   "source": [
    "df = df.withColumn(\n",
    "    'new_undefined_SRAG',\n",
    "    F.when(\n",
    "        (F.col('CLASSI_FIN') == 4) | \n",
    "        (F.col('CLASSI_FIN').isNull()),\n",
    "        F.lit(1)\n",
    "    )\n",
    ")"
   ]
  },
  {
   "cell_type": "code",
   "execution_count": 21,
   "id": "87a8604c-3a76-45de-99e3-c85e45c63efa",
   "metadata": {},
   "outputs": [],
   "source": [
    "df = df.withColumn(\n",
    "    'newDeath_SRAG',\n",
    "    F.when(\n",
    "        (F.col('newCases_SRAG').isNotNull()) &\n",
    "        (F.col('EVOLUCAO') == 2),\n",
    "        F.lit(1)\n",
    "    )\n",
    ")\n",
    "\n",
    "df = df.withColumn(\n",
    "    'newDeath_des_SRAG',\n",
    "    F.when(\n",
    "        (F.col('new_des_SRAG').isNotNull()) &\n",
    "        (F.col('EVOLUCAO') == 2),\n",
    "        F.lit(1)\n",
    "    )\n",
    ")\n",
    "\n",
    "df = df.withColumn(\n",
    "    'newDeath_undefined_SRAG',\n",
    "    F.when(\n",
    "        (F.col('new_undefined_SRAG').isNotNull()) &\n",
    "        (F.col('EVOLUCAO') == 2),\n",
    "        F.lit(1)\n",
    "    )\n",
    ")"
   ]
  },
  {
   "cell_type": "code",
   "execution_count": 22,
   "id": "4990496d-a11b-434c-85ea-ab60109d0f12",
   "metadata": {},
   "outputs": [],
   "source": [
    "df = df.withColumn(\n",
    "    'new_recovered_SRAG',\n",
    "    F.when(\n",
    "        (F.col('newCases_SRAG').isNotNull()) &\n",
    "        (F.col('EVOLUCAO') == 1),\n",
    "        F.lit(1)\n",
    "    )\n",
    ")\n",
    "\n",
    "df = df.withColumn(\n",
    "    'new_recovered_des_SRAG',\n",
    "    F.when(\n",
    "        (F.col('new_des_SRAG').isNotNull()) &\n",
    "        (F.col('EVOLUCAO') == 1),\n",
    "        F.lit(1)\n",
    "    )\n",
    ")\n",
    "\n",
    "df = df.withColumn(\n",
    "    'new_recovered_undefined_SRAG',\n",
    "    F.when(\n",
    "        (F.col('new_undefined_SRAG').isNotNull()) &\n",
    "        (F.col('EVOLUCAO') == 1),\n",
    "        F.lit(1)\n",
    "    )\n",
    ")"
   ]
  },
  {
   "cell_type": "code",
   "execution_count": 23,
   "id": "413055a6-5268-40c1-b2e4-611914cc43b6",
   "metadata": {},
   "outputs": [],
   "source": [
    "df = df.withColumn(\n",
    "    'num_ind_vac_SRAG',\n",
    "    F.when(\n",
    "        F.col('VACINA_COV') == 1,\n",
    "        F.lit(1)\n",
    "    )\n",
    ")"
   ]
  },
  {
   "cell_type": "code",
   "execution_count": 24,
   "id": "dd5b6a2f-3566-43af-91f3-a1958e62662f",
   "metadata": {},
   "outputs": [],
   "source": [
    "df = df.withColumn(\n",
    "    'num_ind_incom_vac_SRAG',\n",
    "    F.when(\n",
    "        (F.col('DOSE_1_COV').isNotNull()) &\n",
    "        (F.col('DOSE_2_COV').isNull()) &\n",
    "        (F.col('num_ind_vac_SRAG').isNotNull()) &\n",
    "        (F.col('vac_number') != 3),\n",
    "        F.lit(1)\n",
    "    )\n",
    ")"
   ]
  },
  {
   "cell_type": "code",
   "execution_count": 25,
   "id": "5880b6a5-cf7c-404f-8ea3-753d5378bfe7",
   "metadata": {},
   "outputs": [],
   "source": [
    "df = df.withColumn(\n",
    "    'num_ind_com_vac_SRAG',\n",
    "    F.when(\n",
    "        ((F.col('DOSE_1_COV').isNotNull()) &\n",
    "        (F.col('DOSE_2_COV').isNotNull()) &\n",
    "        (F.col('num_ind_vac_SRAG').isNotNull())) |\n",
    "        (F.col('vac_number') == 3),\n",
    "        F.lit(1)\n",
    "    )\n",
    ")"
   ]
  },
  {
   "cell_type": "code",
   "execution_count": 26,
   "id": "45f35ff5-7e3c-4c7c-96a8-2db0781ab06c",
   "metadata": {},
   "outputs": [],
   "source": [
    "df = df.withColumn('comp', F.lit('2022-04-19'))"
   ]
  },
  {
   "cell_type": "code",
   "execution_count": 27,
   "id": "e4525dac-1ce7-4e40-826e-f9a852468649",
   "metadata": {},
   "outputs": [],
   "source": [
    "df = df.withColumn(\n",
    "    'num_ind_incom_delay_less2_vac_SRAG',\n",
    "    F.when(\n",
    "        F.col('num_ind_incom_vac_SRAG').isNotNull(),\n",
    "        F.when(\n",
    "            F.months_between(F.col('comp'), F.col('DOSE_1_COV')) < 2,\n",
    "            F.lit(1)\n",
    "        )        \n",
    "    )\n",
    ")\n",
    "\n",
    "df = df.withColumn(\n",
    "    'num_ind_incom_delay_2_6_vac_SRAG',\n",
    "    F.when(\n",
    "        F.col('num_ind_incom_vac_SRAG').isNotNull(),\n",
    "        F.when(\n",
    "            (F.months_between(F.col('comp'), F.col('DOSE_1_COV')) >= 2) &\n",
    "            (F.months_between(F.col('comp'), F.col('DOSE_1_COV')) < 6),\n",
    "            F.lit(1)\n",
    "        )        \n",
    "    )\n",
    ")\n",
    "\n",
    "df = df.withColumn(\n",
    "    'num_ind_incom_delay_more6_vac_SRAG',\n",
    "    F.when(\n",
    "        F.col('num_ind_incom_vac_SRAG').isNotNull(),\n",
    "        F.when(\n",
    "            F.months_between(F.col('comp'), F.col('DOSE_1_COV')) >= 6,\n",
    "            F.lit(1)\n",
    "        )        \n",
    "    )\n",
    ")"
   ]
  },
  {
   "cell_type": "code",
   "execution_count": 28,
   "id": "7d5140dc-636a-48b3-b5c2-2c1acec46a83",
   "metadata": {},
   "outputs": [],
   "source": [
    "df = df.withColumn(\n",
    "    'num_dose_sec_uni_delay_less2_vac_SRAG',\n",
    "    F.when(\n",
    "        F.col('num_ind_com_vac_SRAG').isNotNull(),\n",
    "        F.when(\n",
    "            F.col('DOSE_2_COV').isNotNull(),\n",
    "            F.when(\n",
    "                F.months_between(F.col('comp'), F.col('DOSE_2_COV')) < 2,\n",
    "                F.lit(1)\n",
    "            ).when(\n",
    "                F.col('DOSE_2_COV').isNull(),\n",
    "                F.when(\n",
    "                    F.col('DOSE_1_COV').isNotNull(),\n",
    "                    F.when(\n",
    "                        F.months_between(F.col('comp'), F.col('DOSE_1_COV')) < 2,\n",
    "                        F.lit(1)\n",
    "                    )\n",
    "                )\n",
    "            )\n",
    "        )\n",
    "    )\n",
    "\n",
    ")\n",
    "df = df.withColumn(\n",
    "    'num_dose_sec_uni_delay_2_6_vac_SRAG',\n",
    "    F.when(\n",
    "        F.col('num_ind_com_vac_SRAG').isNotNull(),\n",
    "        F.when(\n",
    "            F.col('DOSE_2_COV').isNotNull(),\n",
    "            F.when(\n",
    "                (F.months_between(F.col('comp'), F.col('DOSE_2_COV')) >= 2) &\n",
    "                (F.months_between(F.col('comp'), F.col('DOSE_2_COV')) < 6),\n",
    "                F.lit(1)\n",
    "            ).when(\n",
    "                F.col('DOSE_2_COV').isNull(),\n",
    "                F.when(\n",
    "                    F.col('DOSE_1_COV').isNotNull(),\n",
    "                    F.when(\n",
    "                        (F.months_between(F.col('comp'), F.col('DOSE_2_COV')) >= 2) &\n",
    "                        (F.months_between(F.col('comp'), F.col('DOSE_2_COV')) < 6),\n",
    "                        F.lit(1)\n",
    "                    )\n",
    "                )\n",
    "            )\n",
    "        )\n",
    "    )\n",
    ")\n",
    "\n",
    "df = df.withColumn(\n",
    "    'num_dose_sec_uni_delay_more6_vac_SRAG',\n",
    "    F.when(\n",
    "        F.col('num_ind_com_vac_SRAG').isNotNull(),\n",
    "        F.when(\n",
    "            F.col('DOSE_2_COV').isNotNull(),\n",
    "            F.when(\n",
    "                F.months_between(F.col('comp'), F.col('DOSE_2_COV')) >= 6,\n",
    "                F.lit(1)\n",
    "            ).when(\n",
    "                F.col('DOSE_2_COV').isNull(),\n",
    "                F.when(\n",
    "                    F.col('DOSE_1_COV').isNotNull(),\n",
    "                    F.when(\n",
    "                        F.months_between(F.col('comp'), F.col('DOSE_1_COV')) >= 6,\n",
    "                        F.lit(1)\n",
    "                    )\n",
    "                )\n",
    "            )\n",
    "        )\n",
    "    )\n",
    ")"
   ]
  },
  {
   "cell_type": "code",
   "execution_count": 29,
   "id": "0a0e333b-d562-456c-87e0-fd790296dd51",
   "metadata": {},
   "outputs": [],
   "source": [
    "df = df.withColumn(\n",
    "    'ocu_ICU_SRAG',\n",
    "    F.when(\n",
    "        (F.col('newCases_SRAG').isNotNull()) &\n",
    "        (F.col('UTI') == 1),\n",
    "        F.lit(1)\n",
    "    )\n",
    ")"
   ]
  },
  {
   "cell_type": "code",
   "execution_count": 30,
   "id": "0e3250d0-2b7a-4a84-8d43-5be293d50a5c",
   "metadata": {},
   "outputs": [],
   "source": [
    "df = df.withColumn(\n",
    "    'ocup_clinc_SRAG',\n",
    "    F.when(\n",
    "        (F.col('newCases_SRAG').isNotNull()) &\n",
    "        (F.col('UTI') == 2),\n",
    "        F.lit(1)\n",
    "    )\n",
    ")"
   ]
  },
  {
   "cell_type": "code",
   "execution_count": 31,
   "id": "82ddc242-4667-41d7-a85c-608c3d6f9602",
   "metadata": {},
   "outputs": [],
   "source": [
    "df = df.withColumn(\n",
    "    'newDeath_clinc_SRAG',\n",
    "    F.when(\n",
    "        (F.col('newCases_SRAG').isNotNull()) &\n",
    "        (F.col('UTI') == 2) &\n",
    "        (F.col('EVOLUCAO') == 2),\n",
    "        F.lit(1)\n",
    "    )\n",
    ")\n",
    "\n",
    "df = df.withColumn(\n",
    "    'newDeath_UTI_SRAG',\n",
    "    F.when(\n",
    "        (F.col('newCases_SRAG').isNotNull()) &\n",
    "        (F.col('UTI') == 1) &\n",
    "        (F.col('EVOLUCAO') == 2),\n",
    "        F.lit(1)\n",
    "    )\n",
    ")"
   ]
  },
  {
   "cell_type": "code",
   "execution_count": 32,
   "id": "a76e30aa-7f72-474c-b9e0-0831f08e6a1e",
   "metadata": {},
   "outputs": [],
   "source": [
    "df = df.withColumn(\n",
    "    'newDeath_recovered_SRAG',\n",
    "    F.when(\n",
    "        (F.col('newCases_SRAG').isNotNull()) &\n",
    "        (F.col('UTI') == 2) &\n",
    "        (F.col('EVOLUCAO') == 1),\n",
    "        F.lit(1)\n",
    "    )\n",
    ")\n",
    "\n",
    "df = df.withColumn(\n",
    "    'newDeath_recovered_UTI_SRAG',\n",
    "    F.when(\n",
    "        (F.col('newCases_SRAG').isNotNull()) &\n",
    "        (F.col('UTI') == 1) &\n",
    "        (F.col('EVOLUCAO') == 1),\n",
    "        F.lit(1)\n",
    "    )\n",
    ")"
   ]
  },
  {
   "cell_type": "code",
   "execution_count": 33,
   "id": "7176e111-a8bb-4904-b6cb-dae31a410086",
   "metadata": {},
   "outputs": [],
   "source": [
    "df = df.withColumn(\n",
    "    'CO_MUN_RES',\n",
    "    F.when(\n",
    "        F.col('CO_MUN_RES').isNull(),\n",
    "        F.col('CO_MUN_NOT')\n",
    "    ).otherwise(F.col('CO_MUN_RES'))\n",
    ").withColumnRenamed('CO_MUN_RES', 'code_mun_ibge')"
   ]
  },
  {
   "cell_type": "code",
   "execution_count": 34,
   "id": "bc9b89ed-1d55-4060-8f1e-6593621bb68c",
   "metadata": {},
   "outputs": [],
   "source": [
    "columns = [\n",
    "    'newDeath_recovered_UTI_SRAG',\n",
    "     'newDeath_recovered_SRAG',\n",
    "     'newDeath_UTI_SRAG',\n",
    "     'newDeath_clinc_SRAG',\n",
    "     'ocup_clinc_SRAG',\n",
    "     'ocu_ICU_SRAG',\n",
    "     'num_dose_sec_uni_delay_more6_vac_SRAG',\n",
    "     'num_dose_sec_uni_delay_2_6_vac_SRAG',\n",
    "     'num_dose_sec_uni_delay_less2_vac_SRAG',\n",
    "     'num_ind_incom_delay_more6_vac_SRAG',\n",
    "     'num_ind_incom_delay_2_6_vac_SRAG',\n",
    "     'num_ind_incom_delay_less2_vac_SRAG',\n",
    "     'num_ind_com_vac_SRAG',\n",
    "     'num_ind_incom_vac_SRAG',\n",
    "     'num_ind_vac_SRAG',\n",
    "     'new_recovered_undefined_SRAG',\n",
    "     'new_recovered_des_SRAG',\n",
    "     'new_recovered_SRAG',\n",
    "     'newDeath_undefined_SRAG',\n",
    "     'newDeath_des_SRAG',\n",
    "     'newDeath_SRAG',\n",
    "     'new_undefined_SRAG',\n",
    "     'new_des_SRAG',\n",
    "     'newCases_SRAG'\n",
    "]"
   ]
  },
  {
   "cell_type": "code",
   "execution_count": 35,
   "id": "9c473a39-1974-4e76-90ba-cb119f508dd7",
   "metadata": {},
   "outputs": [
    {
     "name": "stderr",
     "output_type": "stream",
     "text": [
      "22/04/25 17:35:35 WARN package: Truncated the string representation of a plan since it was too large. This behavior can be adjusted by setting 'spark.sql.debug.maxToStringFields'.\n",
      "                                                                                \r"
     ]
    }
   ],
   "source": [
    "df.groupby('date', 'code_mun_ibge') \\\n",
    ".agg(\n",
    "    *[F.count(c).alias(c) for c in columns],\n",
    "    F.sum('ocu_ICU_SRAG').alias('num_ind_UTI_SRAG'),\n",
    "    F.sum('ocup_clinc_SRAG').alias('num_ind_clin_SRAG')\n",
    ").filter(F.col('date') >= '2020-01-01') \\\n",
    ".orderBy('date') \\\n",
    ".write.csv(os.path.join(datalake, version, 'preprocess', 'srag'), header=True, mode='overwrite')"
   ]
  }
 ],
 "metadata": {
  "kernelspec": {
   "display_name": "Python 3 (ipykernel)",
   "language": "python",
   "name": "python3"
  },
  "language_info": {
   "codemirror_mode": {
    "name": "ipython",
    "version": 3
   },
   "file_extension": ".py",
   "mimetype": "text/x-python",
   "name": "python",
   "nbconvert_exporter": "python",
   "pygments_lexer": "ipython3",
   "version": "3.10.4"
  }
 },
 "nbformat": 4,
 "nbformat_minor": 5
}
