{
 "cells": [
  {
   "cell_type": "markdown",
   "metadata": {},
   "source": [
    "# Packages required"
   ]
  },
  {
   "cell_type": "code",
   "execution_count": 1,
   "metadata": {},
   "outputs": [],
   "source": [
    "import findspark\n",
    "findspark.init(\"/home/juliane_oliveira/spark-2.3.1-bin-hadoop2.7\")"
   ]
  },
  {
   "cell_type": "code",
   "execution_count": 2,
   "metadata": {},
   "outputs": [],
   "source": [
    "\n",
    "import os\n",
    "from datetime import date\n",
    "import functools\n",
    "from IPython.core.display import display, HTML\n",
    "import findspark\n",
    "findspark.init()\n",
    "from pyspark.sql import SparkSession\n",
    "import pyspark.sql.functions as F\n",
    "import pyspark.sql.types as T\n",
    "\n",
    "from pyspark.sql.functions import count, isnan, mean, col, countDistinct, format_number, dayofmonth, hour, dayofyear, month, year, weekofyear, date_format, when,datediff, months_between\n",
    "\n",
    "import re \n",
    "from functools import reduce"
   ]
  },
  {
   "cell_type": "markdown",
   "metadata": {},
   "source": [
    "# Functions"
   ]
  },
  {
   "cell_type": "code",
   "execution_count": 3,
   "metadata": {},
   "outputs": [],
   "source": [
    "#function to combine all dfs Alternativo\n",
    "def unionAll(dfs):\n",
    "    return reduce(lambda df1,df2: df1.union(df2.select(df1.columns)), dfs)"
   ]
  },
  {
   "cell_type": "code",
   "execution_count": 4,
   "metadata": {},
   "outputs": [],
   "source": [
    "# aumentando a largura do notebook"
   ]
  },
  {
   "cell_type": "code",
   "execution_count": 5,
   "metadata": {},
   "outputs": [
    {
     "data": {
      "text/html": [
       "<style>.container { width:100% !important; }</style>"
      ],
      "text/plain": [
       "<IPython.core.display.HTML object>"
      ]
     },
     "metadata": {},
     "output_type": "display_data"
    }
   ],
   "source": [
    "display(HTML(\"<style>.container { width:100% !important; }</style>\"))"
   ]
  },
  {
   "cell_type": "markdown",
   "metadata": {},
   "source": [
    "# Starting spark"
   ]
  },
  {
   "cell_type": "code",
   "execution_count": 6,
   "metadata": {},
   "outputs": [],
   "source": [
    "spark = SparkSession.builder.appName('Sindrome Gripal').getOrCreate()"
   ]
  },
  {
   "cell_type": "markdown",
   "metadata": {},
   "source": [
    "# Reading and creating the dataframe"
   ]
  },
  {
   "cell_type": "code",
   "execution_count": 21,
   "metadata": {},
   "outputs": [],
   "source": [
    "path = \"/media/juliane_oliveira/My Passport/PAMEpi_datalake/raw_data_covid19_version-21-11-23/data-notificacao_sindrome_gripal/\"\n",
    "path_to_export = \"/media/juliane_oliveira/My Passport/GitHub/Data of git computations/\""
   ]
  },
  {
   "cell_type": "code",
   "execution_count": 22,
   "metadata": {},
   "outputs": [],
   "source": [
    "import glob \n",
    "files = glob.glob(path + '*', recursive=False)"
   ]
  },
  {
   "cell_type": "code",
   "execution_count": 9,
   "metadata": {},
   "outputs": [
    {
     "name": "stdout",
     "output_type": "stream",
     "text": [
      "78\n"
     ]
    }
   ],
   "source": [
    "# contando arquivos carregados corretamente\n",
    "print(len(files))"
   ]
  },
  {
   "cell_type": "code",
   "execution_count": 10,
   "metadata": {},
   "outputs": [],
   "source": [
    "# Read data"
   ]
  },
  {
   "cell_type": "code",
   "execution_count": 23,
   "metadata": {},
   "outputs": [],
   "source": [
    "dfs = []\n",
    "    \n",
    "for base in files:\n",
    "    dfs.append(spark.read.csv(base, header = True, sep=';', encoding=\"ISO-8859-1\", inferSchema = True))\n",
    "    #print(\"Number of files read: {}\".format(len(dfs)))\n",
    "    #print('{:*{align}{width}}'.format('Processing files', align='^', width='112'))"
   ]
  },
  {
   "cell_type": "code",
   "execution_count": 24,
   "metadata": {},
   "outputs": [],
   "source": [
    "dfs = unionAll(dfs)"
   ]
  },
  {
   "cell_type": "code",
   "execution_count": 25,
   "metadata": {
    "scrolled": true
   },
   "outputs": [
    {
     "data": {
      "text/html": [
       "<div>\n",
       "<style scoped>\n",
       "    .dataframe tbody tr th:only-of-type {\n",
       "        vertical-align: middle;\n",
       "    }\n",
       "\n",
       "    .dataframe tbody tr th {\n",
       "        vertical-align: top;\n",
       "    }\n",
       "\n",
       "    .dataframe thead th {\n",
       "        text-align: right;\n",
       "    }\n",
       "</style>\n",
       "<table border=\"1\" class=\"dataframe\">\n",
       "  <thead>\n",
       "    <tr style=\"text-align: right;\">\n",
       "      <th></th>\n",
       "      <th>ÿid</th>\n",
       "      <th>dataNotificacao</th>\n",
       "      <th>dataInicioSintomas</th>\n",
       "      <th>dataNascimento</th>\n",
       "      <th>sintomas</th>\n",
       "      <th>profissionalSaude</th>\n",
       "      <th>cbo</th>\n",
       "      <th>condicoes</th>\n",
       "      <th>estadoTeste</th>\n",
       "      <th>dataTeste</th>\n",
       "      <th>...</th>\n",
       "      <th>estadoNotificacao</th>\n",
       "      <th>estadoNotificacaoIBGE</th>\n",
       "      <th>municipioNotificacao</th>\n",
       "      <th>municipioNotificacaoIBGE</th>\n",
       "      <th>excluido</th>\n",
       "      <th>validado</th>\n",
       "      <th>idade</th>\n",
       "      <th>dataEncerramento</th>\n",
       "      <th>evolucaoCaso</th>\n",
       "      <th>classificacaoFinal</th>\n",
       "    </tr>\n",
       "  </thead>\n",
       "  <tbody>\n",
       "    <tr>\n",
       "      <th>0</th>\n",
       "      <td>gINnMy6CdU</td>\n",
       "      <td>2020-06-17T20:08:30.197Z</td>\n",
       "      <td>2020-06-08T03:00:00.000Z</td>\n",
       "      <td>1989-12-26T02:00:00.000Z</td>\n",
       "      <td>Dor de Garganta, Febre, Outros</td>\n",
       "      <td>Não</td>\n",
       "      <td>null</td>\n",
       "      <td>null</td>\n",
       "      <td>Concluído</td>\n",
       "      <td>2020-06-16T03:00:00.000Z</td>\n",
       "      <td>...</td>\n",
       "      <td>Acre</td>\n",
       "      <td>12</td>\n",
       "      <td>Tarauacá</td>\n",
       "      <td>1200609</td>\n",
       "      <td>undefined</td>\n",
       "      <td>undefined</td>\n",
       "      <td>31</td>\n",
       "      <td>2020-06-17 00:00:00</td>\n",
       "      <td>Em tratamento domiciliar</td>\n",
       "      <td>Confirmado Laboratorial</td>\n",
       "    </tr>\n",
       "    <tr>\n",
       "      <th>1</th>\n",
       "      <td>TiABR1GOmb</td>\n",
       "      <td>2020-06-13T03:00:00.000Z</td>\n",
       "      <td>2020-06-07T03:00:00.000Z</td>\n",
       "      <td>1998-11-14T02:00:00.000Z</td>\n",
       "      <td>Dispneia, Dor de Garganta</td>\n",
       "      <td>Não</td>\n",
       "      <td>null</td>\n",
       "      <td>null</td>\n",
       "      <td>Concluído</td>\n",
       "      <td>2020-06-13T03:00:00.000Z</td>\n",
       "      <td>...</td>\n",
       "      <td>Acre</td>\n",
       "      <td>12</td>\n",
       "      <td>Capixaba</td>\n",
       "      <td>1200179</td>\n",
       "      <td>undefined</td>\n",
       "      <td>undefined</td>\n",
       "      <td>22</td>\n",
       "      <td>None</td>\n",
       "      <td>None</td>\n",
       "      <td>None</td>\n",
       "    </tr>\n",
       "    <tr>\n",
       "      <th>2</th>\n",
       "      <td>RG9f49BW1b</td>\n",
       "      <td>2020-06-12T05:00:00.000Z</td>\n",
       "      <td>2020-05-29T05:00:00.000Z</td>\n",
       "      <td>1954-01-28T05:00:00.000Z</td>\n",
       "      <td>Febre, Outros</td>\n",
       "      <td>Não</td>\n",
       "      <td>null</td>\n",
       "      <td>Doenças cardíacas crônicas</td>\n",
       "      <td>Concluído</td>\n",
       "      <td>2020-06-12T05:00:00.000Z</td>\n",
       "      <td>...</td>\n",
       "      <td>Acre</td>\n",
       "      <td>12</td>\n",
       "      <td>Cruzeiro do Sul</td>\n",
       "      <td>1200203</td>\n",
       "      <td>undefined</td>\n",
       "      <td>undefined</td>\n",
       "      <td>67</td>\n",
       "      <td>None</td>\n",
       "      <td>None</td>\n",
       "      <td>None</td>\n",
       "    </tr>\n",
       "    <tr>\n",
       "      <th>3</th>\n",
       "      <td>F66wawHqyP</td>\n",
       "      <td>2020-05-09T05:00:00.000Z</td>\n",
       "      <td>2020-05-02T05:00:00.000Z</td>\n",
       "      <td>1984-07-16T05:00:00.000Z</td>\n",
       "      <td>Febre, Tosse</td>\n",
       "      <td>Não</td>\n",
       "      <td>null</td>\n",
       "      <td>null</td>\n",
       "      <td>Concluído</td>\n",
       "      <td>2020-05-09T05:00:00.000Z</td>\n",
       "      <td>...</td>\n",
       "      <td>Acre</td>\n",
       "      <td>12</td>\n",
       "      <td>Rio Branco</td>\n",
       "      <td>1200401</td>\n",
       "      <td>undefined</td>\n",
       "      <td>undefined</td>\n",
       "      <td>37</td>\n",
       "      <td>2020-05-27 02:00:00</td>\n",
       "      <td>Cura</td>\n",
       "      <td>Confirmado Laboratorial</td>\n",
       "    </tr>\n",
       "    <tr>\n",
       "      <th>4</th>\n",
       "      <td>Gq5GXKSRZY</td>\n",
       "      <td>2020-05-23T03:00:00.000Z</td>\n",
       "      <td>2020-05-10T03:00:00.000Z</td>\n",
       "      <td>1991-09-21T03:00:00.000Z</td>\n",
       "      <td>Outros</td>\n",
       "      <td>Sim</td>\n",
       "      <td>1312 - Gestores e especialistas de operações e...</td>\n",
       "      <td>null</td>\n",
       "      <td>Concluído</td>\n",
       "      <td>2020-05-23T04:00:00.000Z</td>\n",
       "      <td>...</td>\n",
       "      <td>Acre</td>\n",
       "      <td>12</td>\n",
       "      <td>Capixaba</td>\n",
       "      <td>1200179</td>\n",
       "      <td>undefined</td>\n",
       "      <td>undefined</td>\n",
       "      <td>29</td>\n",
       "      <td>None</td>\n",
       "      <td>None</td>\n",
       "      <td>Descartado</td>\n",
       "    </tr>\n",
       "  </tbody>\n",
       "</table>\n",
       "<p>5 rows × 29 columns</p>\n",
       "</div>"
      ],
      "text/plain": [
       "          ÿid           dataNotificacao        dataInicioSintomas  \\\n",
       "0  gINnMy6CdU  2020-06-17T20:08:30.197Z  2020-06-08T03:00:00.000Z   \n",
       "1  TiABR1GOmb  2020-06-13T03:00:00.000Z  2020-06-07T03:00:00.000Z   \n",
       "2  RG9f49BW1b  2020-06-12T05:00:00.000Z  2020-05-29T05:00:00.000Z   \n",
       "3  F66wawHqyP  2020-05-09T05:00:00.000Z  2020-05-02T05:00:00.000Z   \n",
       "4  Gq5GXKSRZY  2020-05-23T03:00:00.000Z  2020-05-10T03:00:00.000Z   \n",
       "\n",
       "             dataNascimento                        sintomas profissionalSaude  \\\n",
       "0  1989-12-26T02:00:00.000Z  Dor de Garganta, Febre, Outros               Não   \n",
       "1  1998-11-14T02:00:00.000Z       Dispneia, Dor de Garganta               Não   \n",
       "2  1954-01-28T05:00:00.000Z                   Febre, Outros               Não   \n",
       "3  1984-07-16T05:00:00.000Z                    Febre, Tosse               Não   \n",
       "4  1991-09-21T03:00:00.000Z                          Outros               Sim   \n",
       "\n",
       "                                                 cbo  \\\n",
       "0                                               null   \n",
       "1                                               null   \n",
       "2                                               null   \n",
       "3                                               null   \n",
       "4  1312 - Gestores e especialistas de operações e...   \n",
       "\n",
       "                    condicoes estadoTeste                 dataTeste  ...  \\\n",
       "0                        null   Concluído  2020-06-16T03:00:00.000Z  ...   \n",
       "1                        null   Concluído  2020-06-13T03:00:00.000Z  ...   \n",
       "2  Doenças cardíacas crônicas   Concluído  2020-06-12T05:00:00.000Z  ...   \n",
       "3                        null   Concluído  2020-05-09T05:00:00.000Z  ...   \n",
       "4                        null   Concluído  2020-05-23T04:00:00.000Z  ...   \n",
       "\n",
       "  estadoNotificacao estadoNotificacaoIBGE municipioNotificacao  \\\n",
       "0              Acre                    12             Tarauacá   \n",
       "1              Acre                    12             Capixaba   \n",
       "2              Acre                    12      Cruzeiro do Sul   \n",
       "3              Acre                    12           Rio Branco   \n",
       "4              Acre                    12             Capixaba   \n",
       "\n",
       "  municipioNotificacaoIBGE   excluido   validado idade     dataEncerramento  \\\n",
       "0                  1200609  undefined  undefined    31  2020-06-17 00:00:00   \n",
       "1                  1200179  undefined  undefined    22                 None   \n",
       "2                  1200203  undefined  undefined    67                 None   \n",
       "3                  1200401  undefined  undefined    37  2020-05-27 02:00:00   \n",
       "4                  1200179  undefined  undefined    29                 None   \n",
       "\n",
       "               evolucaoCaso       classificacaoFinal  \n",
       "0  Em tratamento domiciliar  Confirmado Laboratorial  \n",
       "1                      None                     None  \n",
       "2                      None                     None  \n",
       "3                      Cura  Confirmado Laboratorial  \n",
       "4                      None               Descartado  \n",
       "\n",
       "[5 rows x 29 columns]"
      ]
     },
     "execution_count": 25,
     "metadata": {},
     "output_type": "execute_result"
    }
   ],
   "source": [
    "dfs.limit(5).toPandas()  #dfs.show(5)"
   ]
  },
  {
   "cell_type": "markdown",
   "metadata": {},
   "source": [
    "# Basic description"
   ]
  },
  {
   "cell_type": "code",
   "execution_count": 14,
   "metadata": {},
   "outputs": [
    {
     "name": "stdout",
     "output_type": "stream",
     "text": [
      "total de linhas: 65378930\n"
     ]
    }
   ],
   "source": [
    "print(f'total de linhas: {dfs.count()}')"
   ]
  },
  {
   "cell_type": "code",
   "execution_count": 15,
   "metadata": {},
   "outputs": [
    {
     "name": "stdout",
     "output_type": "stream",
     "text": [
      "numero de colunas: 29\n"
     ]
    }
   ],
   "source": [
    "print(f'numero de colunas: {len(dfs.columns)}')"
   ]
  },
  {
   "cell_type": "code",
   "execution_count": 16,
   "metadata": {
    "scrolled": false
   },
   "outputs": [
    {
     "name": "stdout",
     "output_type": "stream",
     "text": [
      "root\n",
      " |-- ÿid: string (nullable = true)\n",
      " |-- dataNotificacao: string (nullable = true)\n",
      " |-- dataInicioSintomas: string (nullable = true)\n",
      " |-- dataNascimento: string (nullable = true)\n",
      " |-- sintomas: string (nullable = true)\n",
      " |-- profissionalSaude: string (nullable = true)\n",
      " |-- cbo: string (nullable = true)\n",
      " |-- condicoes: string (nullable = true)\n",
      " |-- estadoTeste: string (nullable = true)\n",
      " |-- dataTeste: string (nullable = true)\n",
      " |-- tipoTeste: string (nullable = true)\n",
      " |-- resultadoTeste: string (nullable = true)\n",
      " |-- paisOrigem: string (nullable = true)\n",
      " |-- sexo: string (nullable = true)\n",
      " |-- estado: string (nullable = true)\n",
      " |-- estadoIBGE: string (nullable = true)\n",
      " |-- municipio: string (nullable = true)\n",
      " |-- municipioIBGE: string (nullable = true)\n",
      " |-- origem: string (nullable = true)\n",
      " |-- estadoNotificacao: string (nullable = true)\n",
      " |-- estadoNotificacaoIBGE: string (nullable = true)\n",
      " |-- municipioNotificacao: string (nullable = true)\n",
      " |-- municipioNotificacaoIBGE: string (nullable = true)\n",
      " |-- excluido: string (nullable = true)\n",
      " |-- validado: string (nullable = true)\n",
      " |-- idade: string (nullable = true)\n",
      " |-- dataEncerramento: string (nullable = true)\n",
      " |-- evolucaoCaso: string (nullable = true)\n",
      " |-- classificacaoFinal: string (nullable = true)\n",
      "\n"
     ]
    }
   ],
   "source": [
    "dfs.printSchema()"
   ]
  },
  {
   "cell_type": "markdown",
   "metadata": {},
   "source": [
    "## contagem dos nulls / nan"
   ]
  },
  {
   "cell_type": "code",
   "execution_count": 12,
   "metadata": {
    "scrolled": false
   },
   "outputs": [],
   "source": [
    "#dfs.select([F.count(F.when(F.isnan(c) | F.col(c).isNull(), c)).alias(c) for c in dfs.columns]).limit(1).toPandas().T"
   ]
  },
  {
   "cell_type": "markdown",
   "metadata": {},
   "source": [
    "# Harmonizations"
   ]
  },
  {
   "cell_type": "markdown",
   "metadata": {},
   "source": [
    "## Rename columns"
   ]
  },
  {
   "cell_type": "code",
   "execution_count": 26,
   "metadata": {},
   "outputs": [],
   "source": [
    "rename_columns = {\n",
    "    'dataNascimento': 'dt_nasc', 'dataNotificacao': 'dt_ntf', 'dataInicioSintomas': 'dt_sint',\n",
    "    'dataTeste': 'dt_teste', 'tipoTeste': 'tp_teste', 'resultadoTeste': 'res_teste',\n",
    "    'classificacaoFinal': 'class_final', 'evolucaoCaso': 'ev_caso', 'estadoNotificacao': 'est_ntf',\n",
    "}"
   ]
  },
  {
   "cell_type": "code",
   "execution_count": 27,
   "metadata": {},
   "outputs": [],
   "source": [
    "for old_col, new_col in rename_columns.items():\n",
    "    dfs = dfs.withColumnRenamed(old_col, new_col)"
   ]
  },
  {
   "cell_type": "code",
   "execution_count": 35,
   "metadata": {
    "scrolled": true
   },
   "outputs": [
    {
     "name": "stdout",
     "output_type": "stream",
     "text": [
      "root\n",
      " |-- ÿid: string (nullable = true)\n",
      " |-- dt_ntf: string (nullable = true)\n",
      " |-- dt_sint: string (nullable = true)\n",
      " |-- dt_nasc: string (nullable = true)\n",
      " |-- sintomas: string (nullable = true)\n",
      " |-- profissionalSaude: string (nullable = true)\n",
      " |-- cbo: string (nullable = true)\n",
      " |-- condicoes: string (nullable = true)\n",
      " |-- estadoTeste: string (nullable = true)\n",
      " |-- dt_teste: string (nullable = true)\n",
      " |-- tp_teste: integer (nullable = true)\n",
      " |-- res_teste: integer (nullable = true)\n",
      " |-- paisOrigem: string (nullable = true)\n",
      " |-- sexo: integer (nullable = true)\n",
      " |-- estado: string (nullable = true)\n",
      " |-- estadoIBGE: string (nullable = true)\n",
      " |-- municipio: string (nullable = true)\n",
      " |-- municipioIBGE: string (nullable = true)\n",
      " |-- origem: string (nullable = true)\n",
      " |-- est_ntf: string (nullable = true)\n",
      " |-- estadoNotificacaoIBGE: string (nullable = true)\n",
      " |-- municipioNotificacao: string (nullable = true)\n",
      " |-- municipioNotificacaoIBGE: string (nullable = true)\n",
      " |-- excluido: string (nullable = true)\n",
      " |-- validado: string (nullable = true)\n",
      " |-- idade: string (nullable = true)\n",
      " |-- dataEncerramento: string (nullable = true)\n",
      " |-- ev_caso: integer (nullable = true)\n",
      " |-- class_final: integer (nullable = true)\n",
      "\n"
     ]
    }
   ],
   "source": [
    "dfs.printSchema()"
   ]
  },
  {
   "cell_type": "markdown",
   "metadata": {},
   "source": [
    "## Rename categories of final classification"
   ]
  },
  {
   "cell_type": "code",
   "execution_count": 22,
   "metadata": {},
   "outputs": [
    {
     "name": "stdout",
     "output_type": "stream",
     "text": [
      "+----------------------------------+--------+\n",
      "|class_final                       |count   |\n",
      "+----------------------------------+--------+\n",
      "|Confirmado por Critério Clínico   |269128  |\n",
      "|Confirmado                        |2       |\n",
      "|null                              |34807754|\n",
      "|Confirmado Clinico-Epidemiologico |11      |\n",
      "|Confirmado Clínico-Epidemiológico |391007  |\n",
      "|Confirmado Laboratorial           |13261300|\n",
      "|Confirmado Clinico-Imagem         |1       |\n",
      "|Síndrome Gripal Não Especificada  |3424962 |\n",
      "|Confirmação Clínico Epidemiológico|259     |\n",
      "|Sindrome Gripal Nao Especificada  |14      |\n",
      "|Confirmado Clínico-Imagem         |17622   |\n",
      "|Descartado                        |13190693|\n",
      "|Confirmação Laboratorial          |16177   |\n",
      "+----------------------------------+--------+\n",
      "\n"
     ]
    }
   ],
   "source": [
    "dfs.groupby('class_final').count().show(truncate=False)"
   ]
  },
  {
   "cell_type": "code",
   "execution_count": 29,
   "metadata": {},
   "outputs": [],
   "source": [
    "dfs = dfs.withColumn('class_final', F.when((dfs['class_final'] == 'Confirmado por Critério Clínico'), F.lit(3)) \\\n",
    "                    .when((dfs['class_final'] == 'Confirmado'), F.lit(1)) \\\n",
    "                    .when((dfs['class_final'] == 'Confirmado Clinico-Epidemiologico'), F.lit(2)) \\\n",
    "                    .when((dfs['class_final'] == 'Confirmação Clínico-Epidemiológico'), F.lit(2)) \\\n",
    "                    .when((dfs['class_final'] == 'Confirmado Laboratorial'), F.lit(4)) \\\n",
    "                    .when((dfs['class_final'] == 'Confirmado Clinico-Imagem'), F.lit(5)) \\\n",
    "                    .when((dfs['class_final'] == 'Síndrome Gripal Não Especificada'), F.lit(6)) \\\n",
    "                    .when((dfs['class_final'] == 'Confirmação Clínico Epidemiológico'), F.lit(2)) \\\n",
    "                    .when((dfs['class_final'] == 'Sindrome Gripal Nao Especificada'), F.lit(6)) \\\n",
    "                    .when((dfs['class_final'] == 'Confirmado Clínico-Imagem'), F.lit(5)) \\\n",
    "                    .when((dfs['class_final'] == 'Descartado'), F.lit(7)) \\\n",
    "                    .when((dfs['class_final'] == 'Confirmação Laboratorial'), F.lit(4)))"
   ]
  },
  {
   "cell_type": "markdown",
   "metadata": {},
   "source": [
    "'Confirmado' -- > 1\n",
    "\n",
    "'Confirmado Clinico-Epidemiologico' --> 2\n",
    "\n",
    "'Confirmado por Critério Clínico' --> 3\n",
    "\n",
    "'Confirmado Laboratorial' --> 4\n",
    "\n",
    "'Confirmado Clinico-Imagem' --> 5\n",
    "\n",
    "'Síndrome Gripal Não Especificada' --> 6\n",
    "\n",
    "'Descartado' --> 7"
   ]
  },
  {
   "cell_type": "code",
   "execution_count": 24,
   "metadata": {},
   "outputs": [
    {
     "name": "stdout",
     "output_type": "stream",
     "text": [
      "+-----------+--------+\n",
      "|class_final|count   |\n",
      "+-----------+--------+\n",
      "|null       |35198761|\n",
      "|1          |2       |\n",
      "|6          |3424976 |\n",
      "|3          |269128  |\n",
      "|5          |17623   |\n",
      "|4          |13277477|\n",
      "|7          |13190693|\n",
      "|2          |270     |\n",
      "+-----------+--------+\n",
      "\n"
     ]
    }
   ],
   "source": [
    "dfs.groupby('class_final').count().show(truncate=False)"
   ]
  },
  {
   "cell_type": "markdown",
   "metadata": {},
   "source": [
    "## Rename categories of laboratory test result"
   ]
  },
  {
   "cell_type": "code",
   "execution_count": 30,
   "metadata": {},
   "outputs": [],
   "source": [
    "dfs = dfs.withColumn('res_teste', F.when((dfs['res_teste'] == 'Positivo'), F.lit(1)) \\\n",
    "                   .when((dfs['res_teste'] == 'undefined') | (dfs['res_teste'] == 'Inconclusivo ou Indefinido'), F.lit(9)) \\\n",
    "                   .when((dfs['res_teste'] == 'Negativo'), F.lit(2)))"
   ]
  },
  {
   "cell_type": "markdown",
   "metadata": {},
   "source": [
    "## Rename cathegories type of test"
   ]
  },
  {
   "cell_type": "code",
   "execution_count": 26,
   "metadata": {
    "scrolled": true
   },
   "outputs": [
    {
     "name": "stdout",
     "output_type": "stream",
     "text": [
      "+-----------------------------------------------------+--------+\n",
      "|tp_teste                                             |count   |\n",
      "+-----------------------------------------------------+--------+\n",
      "|RT-PCR                                               |25768453|\n",
      "|Imunoensaio por Eletroquimioluminescência - ECLIA IgG|63260   |\n",
      "|Imunoensaio por Eletroquimioluminescência \u0013 ECLIA    |17025   |\n",
      "|null                                                 |540     |\n",
      "|Quimioluminescência - CLIA                           |26989   |\n",
      "|Teste rápido                                         |80      |\n",
      "|Enzimaimunoensaio - ELISA IgM                        |48701   |\n",
      "|Enzimaimunoensaio \u0013 ELISA                            |11788   |\n",
      "|TESTE RÁPIDO - ANTICORPO                             |18943283|\n",
      "|Concluído                                            |1       |\n",
      "|TESTE RÁPIDO - ANTÍGENO                              |10933254|\n",
      "|undefined                                            |6       |\n",
      "|null                                                 |9565550 |\n",
      "+-----------------------------------------------------+--------+\n",
      "\n"
     ]
    }
   ],
   "source": [
    "dfs.groupby('tp_teste').count().show(truncate=False)"
   ]
  },
  {
   "cell_type": "code",
   "execution_count": 32,
   "metadata": {},
   "outputs": [],
   "source": [
    "dfs = dfs.withColumn('tp_teste', F.when((dfs['tp_teste'] == 'RT-PCR'), F.lit(1)) \\\n",
    "                    .when((dfs['tp_teste'] == 'Imunoensaio por Eletroquimioluminescência - ECLIA IgG') | (dfs['tp_teste'] == 'Imunoensaio por Eletroquimioluminescência  ECLIA'), F.lit(2)) \\\n",
    "                    .when((dfs['tp_teste'] == 'Quimioluminescência - CLIA'), F.lit(3)) \\\n",
    "                    .when((dfs['tp_teste'] == 'Teste rápido'), F.lit(4)) \\\n",
    "                    .when((dfs['tp_teste'] == 'Enzimaimunoensaio - ELISA IgM'), F.lit(5)) \\\n",
    "                    .when((dfs['tp_teste'] == 'Enzimaimunoensaio   ELISA'), F.lit(5)) \\\n",
    "                    .when((dfs['tp_teste'] == 'TESTE RÁPIDO - ANTICORPO'), F.lit(6)) \\\n",
    "                    .when((dfs['tp_teste'] == 'Concluído'), F.lit(7)) \\\n",
    "                    .when((dfs['tp_teste'] == 'TESTE RÁPIDO - ANTÍGENO'), F.lit(4)) \\\n",
    "                    .when((dfs['tp_teste'] == 'undefined'), F.lit(9)))"
   ]
  },
  {
   "cell_type": "markdown",
   "metadata": {},
   "source": [
    "## Rename cathegories of the evolution of the case"
   ]
  },
  {
   "cell_type": "code",
   "execution_count": 23,
   "metadata": {},
   "outputs": [],
   "source": [
    "#dfs.groupby('ev_caso').count().show(truncate=False)"
   ]
  },
  {
   "cell_type": "code",
   "execution_count": 33,
   "metadata": {},
   "outputs": [],
   "source": [
    "dfs = dfs.withColumn('ev_caso', F.when((dfs['ev_caso'] == 'Óbito'), F.lit(1)) \\\n",
    "                  .when((dfs['ev_caso'] == 'Cura'), F.lit(2)) \\\n",
    "                  .when((dfs['ev_caso'] == 'Internado em UTI'), F.lit(3)) \\\n",
    "                  .when((dfs['ev_caso'] == 'Internado'), F.lit(4)) \\\n",
    "                  .when((dfs['ev_caso'] == 'Ignorado'), F.lit(9)) \\\n",
    "                  .when((dfs['ev_caso'] == 'Cancelado'), F.lit(5)) \\\n",
    "                  .when((dfs['ev_caso'] == 'Em tratamento domiciliar'), F.lit(6)))"
   ]
  },
  {
   "cell_type": "code",
   "execution_count": null,
   "metadata": {},
   "outputs": [],
   "source": [
    "dfs.groupby('ev_caso').count().show()"
   ]
  },
  {
   "cell_type": "markdown",
   "metadata": {},
   "source": [
    "## Rename cathegory of gender"
   ]
  },
  {
   "cell_type": "code",
   "execution_count": null,
   "metadata": {},
   "outputs": [],
   "source": [
    "dfs.groupby('sexo').count().show()"
   ]
  },
  {
   "cell_type": "code",
   "execution_count": 34,
   "metadata": {},
   "outputs": [],
   "source": [
    "dfs = dfs.withColumn('sexo', F.when((dfs['sexo'] == 'Feminino'), F.lit(1)) \\\n",
    "                   .when((dfs['sexo'] == 'Masculino') | (dfs['sexo'] == 'M'), F.lit(2)) \\\n",
    "                   .when((dfs['sexo'] == 'Indefinido') | (dfs['sexo'] == 'undefined'), F.lit(9)))"
   ]
  },
  {
   "cell_type": "code",
   "execution_count": null,
   "metadata": {},
   "outputs": [],
   "source": [
    "dfs.groupby('sexo').count().show()"
   ]
  },
  {
   "cell_type": "markdown",
   "metadata": {},
   "source": [
    "# symptoms "
   ]
  },
  {
   "cell_type": "code",
   "execution_count": 59,
   "metadata": {},
   "outputs": [
    {
     "name": "stdout",
     "output_type": "stream",
     "text": [
      "+--------------------+------+\n",
      "|            sintomas| count|\n",
      "+--------------------+------+\n",
      "|Outros, Tosse, Di...|  1129|\n",
      "|Tosse, Outros, Do...| 30177|\n",
      "|Febre, Dor de Gar...| 36792|\n",
      "|Dor de Cabeça, Ou...|600446|\n",
      "|Febre, Tosse, Dor...|  2953|\n",
      "|Febre, Dor de Cab...|  1516|\n",
      "|Coriza, Dor de Ca...|   398|\n",
      "|Febre, Tosse, Dor...|  6297|\n",
      "|Dor de Cabeça, Fe...|  2641|\n",
      "|Dor de Cabeça, Di...|   240|\n",
      "|Dor de Cabeça, Co...|   771|\n",
      "|Outros, Dispneia,...|   678|\n",
      "|Dor de Garganta, ...|    76|\n",
      "|Tosse, Distúrbios...| 16787|\n",
      "|Dor de Garganta, ...|  2279|\n",
      "|Tosse, Dor de Cab...|   220|\n",
      "|Dor de Cabeça, Di...|  2304|\n",
      "|Tosse, Febre, Dor...|  8546|\n",
      "|Dispneia, Dor de ...|     1|\n",
      "|Febre, Dor de Gar...|    62|\n",
      "+--------------------+------+\n",
      "only showing top 20 rows\n",
      "\n"
     ]
    }
   ],
   "source": [
    "dfs.groupby('sintomas').count().show()"
   ]
  },
  {
   "cell_type": "markdown",
   "metadata": {},
   "source": [
    "# Periodo de cobertura da base"
   ]
  },
  {
   "cell_type": "code",
   "execution_count": 13,
   "metadata": {},
   "outputs": [],
   "source": [
    "list_var_date = ['dt_sint', 'dt_nasc', 'dt_ntf', 'dt_teste']"
   ]
  },
  {
   "cell_type": "code",
   "execution_count": null,
   "metadata": {},
   "outputs": [],
   "source": [
    "for col in list_var_date:\n",
    "    dfs = dfs.withColumn(col, F.col(col).cast(T.DateType()))"
   ]
  },
  {
   "cell_type": "markdown",
   "metadata": {},
   "source": [
    "## Date of notification"
   ]
  },
  {
   "cell_type": "code",
   "execution_count": 25,
   "metadata": {},
   "outputs": [],
   "source": [
    "#dfs.groupBy(year(dfs['dataNotificacao']),month(dfs['dataNotificacao'])).count().show(100)"
   ]
  },
  {
   "cell_type": "code",
   "execution_count": 15,
   "metadata": {
    "scrolled": false
   },
   "outputs": [
    {
     "name": "stdout",
     "output_type": "stream",
     "text": [
      "+---------------------+--------+\n",
      "|year(dataNotificacao)|   count|\n",
      "+---------------------+--------+\n",
      "|                 1959|       1|\n",
      "|                 2003|       1|\n",
      "|                 1974|       1|\n",
      "|                 2015|       1|\n",
      "|                 2022|       1|\n",
      "|                 1942|       1|\n",
      "|                 null|   35991|\n",
      "|                 1988|       2|\n",
      "|                 1994|       1|\n",
      "|                 1973|       1|\n",
      "|                 2019|       1|\n",
      "|                 1971|       1|\n",
      "|                 1991|       1|\n",
      "|                 1989|       1|\n",
      "|                 1998|       2|\n",
      "|                 1965|       1|\n",
      "|                 2020|32152435|\n",
      "|                 1985|       2|\n",
      "|                 1970|     304|\n",
      "|                 2009|       1|\n",
      "|                 1995|       1|\n",
      "|                 1980|       1|\n",
      "|                 1983|       2|\n",
      "|                 2000|       1|\n",
      "|                 2011|       1|\n",
      "|                 1976|       2|\n",
      "|                 2008|       1|\n",
      "|                 2002|       6|\n",
      "|                 2021|33190164|\n",
      "|                 1993|       1|\n",
      "+---------------------+--------+\n",
      "\n"
     ]
    }
   ],
   "source": [
    "dfs.groupBy(year(dfs['dataNotificacao'])).count().show(100)"
   ]
  },
  {
   "cell_type": "code",
   "execution_count": 50,
   "metadata": {
    "scrolled": true
   },
   "outputs": [
    {
     "name": "stdout",
     "output_type": "stream",
     "text": [
      "percentage of nulls on date of notification 0.05504984556951299\n"
     ]
    }
   ],
   "source": [
    "print('percentage of nulls on date of notification' ,35991*100/65378930)"
   ]
  },
  {
   "cell_type": "code",
   "execution_count": 32,
   "metadata": {},
   "outputs": [],
   "source": [
    "df1 = dfs.filter((dfs['dataNotificacao'] >= '2020-02-20') & (dfs['dataNotificacao'] < date.today()))"
   ]
  },
  {
   "cell_type": "code",
   "execution_count": 33,
   "metadata": {
    "scrolled": false
   },
   "outputs": [
    {
     "data": {
      "text/plain": [
       "65339643"
      ]
     },
     "execution_count": 33,
     "metadata": {},
     "output_type": "execute_result"
    }
   ],
   "source": [
    "print('number of valid values', df1.count())"
   ]
  },
  {
   "cell_type": "code",
   "execution_count": 49,
   "metadata": {},
   "outputs": [
    {
     "name": "stdout",
     "output_type": "stream",
     "text": [
      "percentage of inconsistency 0.005041379539249113\n"
     ]
    }
   ],
   "source": [
    "print( 'percentage of inconsistency', 3296*100/65378930)"
   ]
  },
  {
   "cell_type": "markdown",
   "metadata": {},
   "source": [
    "## Date of symptoms"
   ]
  },
  {
   "cell_type": "code",
   "execution_count": 16,
   "metadata": {
    "scrolled": true
   },
   "outputs": [
    {
     "name": "stdout",
     "output_type": "stream",
     "text": [
      "+------------------------+--------+\n",
      "|year(dataInicioSintomas)|   count|\n",
      "+------------------------+--------+\n",
      "|                    1959|       2|\n",
      "|                    1990|       8|\n",
      "|                    1975|      60|\n",
      "|                    2025|       3|\n",
      "|                    1977|     188|\n",
      "|                    2027|       2|\n",
      "|                    2200|       1|\n",
      "|                    2003|      17|\n",
      "|                    2007|       8|\n",
      "|                    2052|       1|\n",
      "|                    2018|     339|\n",
      "|                    1974|       5|\n",
      "|                    2015|     109|\n",
      "|                    2023|       3|\n",
      "|                    2006|      10|\n",
      "|                    2920|       1|\n",
      "|                    2022|      29|\n",
      "|                    1978|       2|\n",
      "|                    1961|       1|\n",
      "|                    2013|      47|\n",
      "|                    1899|     135|\n",
      "|                    3020|       2|\n",
      "|                    null| 1092901|\n",
      "|                    2102|       2|\n",
      "|                    1952|       1|\n",
      "|                    1956|       1|\n",
      "|                    1988|      11|\n",
      "|                    1997|       6|\n",
      "|                    1994|      61|\n",
      "|                    9090|       1|\n",
      "|                    1968|       1|\n",
      "|                    2014|      85|\n",
      "|                    1951|       1|\n",
      "|                    1973|       5|\n",
      "|                    1979|       6|\n",
      "|                    2019|    2479|\n",
      "|                    1971|       7|\n",
      "|                    1950|       1|\n",
      "|                    1966|       2|\n",
      "|                    2004|     150|\n",
      "|                    1991|       5|\n",
      "|                    1967|       4|\n",
      "|                    1969|       1|\n",
      "|                    1982|       4|\n",
      "|                    2029|       1|\n",
      "|                    2202|       4|\n",
      "|                    1957|       1|\n",
      "|                    8202|       2|\n",
      "|                    1996|       7|\n",
      "|                    1989|       2|\n",
      "|                    2030|       2|\n",
      "|                    1943|       2|\n",
      "|                    1998|       8|\n",
      "|                    1963|       1|\n",
      "|                    2921|       2|\n",
      "|                    1965|       2|\n",
      "|                    2020|32327794|\n",
      "|                    1985|       6|\n",
      "|                    1960|       2|\n",
      "|                    1970|    1259|\n",
      "|                    1921|       9|\n",
      "|                    2120|       1|\n",
      "|                    2012|      61|\n",
      "|                    1987|       4|\n",
      "|                    1941|       1|\n",
      "|                    2050|     126|\n",
      "|                    2009|      15|\n",
      "|                    2201|       2|\n",
      "|                    2016|     136|\n",
      "|                    1936|       1|\n",
      "|                    1920|       2|\n",
      "|                    1995|       5|\n",
      "|                    1980|       3|\n",
      "|                    2121|      35|\n",
      "|                    6202|       2|\n",
      "|                    2001|      33|\n",
      "|                    2024|       1|\n",
      "|                    1972|       4|\n",
      "|                    1992|       7|\n",
      "|                    1958|       1|\n",
      "|                    1983|      10|\n",
      "|                    2005|       5|\n",
      "|                    1954|       4|\n",
      "|                    1984|       7|\n",
      "|                    1935|       1|\n",
      "|                    2000|      13|\n",
      "|                    1964|       4|\n",
      "|                    2010|     232|\n",
      "|                    1981|       5|\n",
      "|                    1986|       7|\n",
      "|                    2011|      43|\n",
      "|                    1976|       1|\n",
      "|                    3021|       2|\n",
      "|                    2008|      13|\n",
      "|                    1940|       1|\n",
      "|                    2017|     165|\n",
      "|                    1999|       5|\n",
      "|                    1948|       1|\n",
      "|                    1962|       1|\n",
      "|                    2002|     128|\n",
      "|                    1928|       2|\n",
      "|                    2021|31952023|\n",
      "|                    1993|       5|\n",
      "+------------------------+--------+\n",
      "\n"
     ]
    }
   ],
   "source": [
    "dfs.groupBy(year(dfs['dataInicioSintomas'])).count().show(1000)"
   ]
  },
  {
   "cell_type": "code",
   "execution_count": 44,
   "metadata": {},
   "outputs": [
    {
     "data": {
      "text/plain": [
       "64209071"
      ]
     },
     "execution_count": 44,
     "metadata": {},
     "output_type": "execute_result"
    }
   ],
   "source": [
    "dfs.filter((dfs['dataInicioSintomas'] >= '2020-02-20') & (dfs['dataInicioSintomas'] < date.today())).count()"
   ]
  },
  {
   "cell_type": "code",
   "execution_count": 45,
   "metadata": {},
   "outputs": [
    {
     "name": "stdout",
     "output_type": "stream",
     "text": [
      "percentage of valid values in date of first symptoms 98.21064829295922\n"
     ]
    }
   ],
   "source": [
    "print('percentage of valid values in date of first symptoms', 64209071*100/65378930)"
   ]
  },
  {
   "cell_type": "code",
   "execution_count": 23,
   "metadata": {},
   "outputs": [
    {
     "data": {
      "text/plain": [
       "1.6716410011604657"
      ]
     },
     "execution_count": 23,
     "metadata": {},
     "output_type": "execute_result"
    }
   ],
   "source": [
    "print('percentage of null in date of first symptoms' , 1092901*100/65378930)"
   ]
  },
  {
   "cell_type": "code",
   "execution_count": 52,
   "metadata": {
    "scrolled": true
   },
   "outputs": [
    {
     "data": {
      "text/plain": [
       "0.11771070588031955"
      ]
     },
     "execution_count": 52,
     "metadata": {},
     "output_type": "execute_result"
    }
   ],
   "source": [
    "76958*100/(65378930)"
   ]
  },
  {
   "cell_type": "markdown",
   "metadata": {},
   "source": [
    "##  Date of test"
   ]
  },
  {
   "cell_type": "code",
   "execution_count": 17,
   "metadata": {
    "scrolled": true
   },
   "outputs": [
    {
     "name": "stdout",
     "output_type": "stream",
     "text": [
      "+---------------+--------+\n",
      "|year(dataTeste)|   count|\n",
      "+---------------+--------+\n",
      "|           1959|       4|\n",
      "|           1990|      24|\n",
      "|           1975|      67|\n",
      "|           1977|     201|\n",
      "|           2003|       7|\n",
      "|           2007|      11|\n",
      "|           2018|      16|\n",
      "|           1974|      11|\n",
      "|           2015|       8|\n",
      "|           2023|       1|\n",
      "|           1955|       6|\n",
      "|           2006|       8|\n",
      "|           1978|      14|\n",
      "|           2022|       2|\n",
      "|           1961|       2|\n",
      "|           2013|      10|\n",
      "|           1939|       5|\n",
      "|           1899|     181|\n",
      "|           null|12082513|\n",
      "|           1952|       2|\n",
      "|           1956|       2|\n",
      "|           1988|      15|\n",
      "|           1997|       7|\n",
      "|           1994|      80|\n",
      "|           1968|      14|\n",
      "|           2014|       9|\n",
      "|           1951|       2|\n",
      "|           1973|      12|\n",
      "|           1979|      15|\n",
      "|           1946|       3|\n",
      "|           1947|       1|\n",
      "|           2019|     221|\n",
      "|           1971|      10|\n",
      "|           1950|       3|\n",
      "|           1949|       1|\n",
      "|           1966|       7|\n",
      "|           2004|     152|\n",
      "|            202|       3|\n",
      "|           1991|      19|\n",
      "|           1967|       9|\n",
      "|           1969|      12|\n",
      "|           1982|      16|\n",
      "|           1957|       5|\n",
      "|           1945|       1|\n",
      "|           2202|       3|\n",
      "|           8202|       1|\n",
      "|           1989|      18|\n",
      "|           1943|       2|\n",
      "|           1996|       9|\n",
      "|           1998|      10|\n",
      "|           1963|      10|\n",
      "|           1965|       7|\n",
      "|           2020|27066474|\n",
      "|           1985|      17|\n",
      "|           1960|       6|\n",
      "|           1970|      55|\n",
      "|           1921|       5|\n",
      "|           2012|      99|\n",
      "|           1987|      26|\n",
      "|           1941|       1|\n",
      "|           2050|     126|\n",
      "|           2009|       5|\n",
      "|           2016|       8|\n",
      "|           1936|       1|\n",
      "|           1920|      60|\n",
      "|           1995|      10|\n",
      "|           5202|       1|\n",
      "|           1980|      23|\n",
      "|           1953|       3|\n",
      "|           2121|       1|\n",
      "|           2001|      75|\n",
      "|           1972|      12|\n",
      "|           1992|      15|\n",
      "|           1958|       9|\n",
      "|           1983|      21|\n",
      "|           2005|      28|\n",
      "|           1954|       3|\n",
      "|            201|       2|\n",
      "|           1984|      22|\n",
      "|           1935|       1|\n",
      "|           2000|      63|\n",
      "|           1964|       4|\n",
      "|           2010|     251|\n",
      "|           1981|      16|\n",
      "|           1986|      22|\n",
      "|           2011|      49|\n",
      "|           1976|       6|\n",
      "|           2008|       7|\n",
      "|           2017|      10|\n",
      "|           1999|      10|\n",
      "|           1948|       4|\n",
      "|           1962|       8|\n",
      "|           2002|     266|\n",
      "|           1928|       3|\n",
      "|           2021|26227318|\n",
      "|           1993|      12|\n",
      "+---------------+--------+\n",
      "\n"
     ]
    }
   ],
   "source": [
    "dfs.groupBy(year(dfs['dataTeste'])).count().show(100) "
   ]
  },
  {
   "cell_type": "code",
   "execution_count": 53,
   "metadata": {},
   "outputs": [
    {
     "data": {
      "text/plain": [
       "53259570"
      ]
     },
     "execution_count": 53,
     "metadata": {},
     "output_type": "execute_result"
    }
   ],
   "source": [
    "dfs.filter((dfs['dataTeste'] >= '2020-02-20') & (dfs['dataTeste'] < date.today())).count()"
   ]
  },
  {
   "cell_type": "code",
   "execution_count": 54,
   "metadata": {},
   "outputs": [
    {
     "data": {
      "text/plain": [
       "81.46289637961343"
      ]
     },
     "execution_count": 54,
     "metadata": {},
     "output_type": "execute_result"
    }
   ],
   "source": [
    "53259570*100/65378930"
   ]
  },
  {
   "cell_type": "code",
   "execution_count": 57,
   "metadata": {},
   "outputs": [
    {
     "data": {
      "text/plain": [
       "0.05635913588674516"
      ]
     },
     "execution_count": 57,
     "metadata": {},
     "output_type": "execute_result"
    }
   ],
   "source": [
    "36847*100/65378930"
   ]
  },
  {
   "cell_type": "code",
   "execution_count": 58,
   "metadata": {},
   "outputs": [
    {
     "data": {
      "text/plain": [
       "18.480744484499823"
      ]
     },
     "execution_count": 58,
     "metadata": {},
     "output_type": "execute_result"
    }
   ],
   "source": [
    "12082513*100/65378930"
   ]
  },
  {
   "cell_type": "markdown",
   "metadata": {},
   "source": [
    "# Analysis for the paper 2"
   ]
  },
  {
   "cell_type": "code",
   "execution_count": 37,
   "metadata": {},
   "outputs": [
    {
     "name": "stdout",
     "output_type": "stream",
     "text": [
      "root\n",
      " |-- ÿid: string (nullable = true)\n",
      " |-- dt_ntf: string (nullable = true)\n",
      " |-- dt_sint: string (nullable = true)\n",
      " |-- dt_nasc: string (nullable = true)\n",
      " |-- sintomas: string (nullable = true)\n",
      " |-- profissionalSaude: string (nullable = true)\n",
      " |-- cbo: string (nullable = true)\n",
      " |-- condicoes: string (nullable = true)\n",
      " |-- estadoTeste: string (nullable = true)\n",
      " |-- dt_teste: string (nullable = true)\n",
      " |-- tp_teste: integer (nullable = true)\n",
      " |-- res_teste: integer (nullable = true)\n",
      " |-- paisOrigem: string (nullable = true)\n",
      " |-- sexo: integer (nullable = true)\n",
      " |-- estado: string (nullable = true)\n",
      " |-- estadoIBGE: string (nullable = true)\n",
      " |-- municipio: string (nullable = true)\n",
      " |-- municipioIBGE: string (nullable = true)\n",
      " |-- origem: string (nullable = true)\n",
      " |-- est_ntf: string (nullable = true)\n",
      " |-- estadoNotificacaoIBGE: string (nullable = true)\n",
      " |-- municipioNotificacao: string (nullable = true)\n",
      " |-- municipioNotificacaoIBGE: string (nullable = true)\n",
      " |-- excluido: string (nullable = true)\n",
      " |-- validado: string (nullable = true)\n",
      " |-- idade: string (nullable = true)\n",
      " |-- dataEncerramento: string (nullable = true)\n",
      " |-- ev_caso: integer (nullable = true)\n",
      " |-- class_final: integer (nullable = true)\n",
      "\n"
     ]
    }
   ],
   "source": [
    "dfs.printSchema()"
   ]
  },
  {
   "cell_type": "markdown",
   "metadata": {},
   "source": [
    "## Filtering valid date range"
   ]
  },
  {
   "cell_type": "code",
   "execution_count": 38,
   "metadata": {},
   "outputs": [],
   "source": [
    "df1 = dfs.filter((dfs['dt_ntf'] >= '2020-02-20') & (dfs['dt_ntf'] < date.today()))"
   ]
  },
  {
   "cell_type": "code",
   "execution_count": 51,
   "metadata": {},
   "outputs": [
    {
     "data": {
      "text/plain": [
       "65339643"
      ]
     },
     "execution_count": 51,
     "metadata": {},
     "output_type": "execute_result"
    }
   ],
   "source": [
    "df1.count()"
   ]
  },
  {
   "cell_type": "code",
   "execution_count": 48,
   "metadata": {
    "scrolled": true
   },
   "outputs": [
    {
     "name": "stdout",
     "output_type": "stream",
     "text": [
      "+-----------+--------+\n",
      "|class_final|count   |\n",
      "+-----------+--------+\n",
      "|null       |35175255|\n",
      "|1          |2       |\n",
      "|6          |3422378 |\n",
      "|3          |268952  |\n",
      "|5          |17612   |\n",
      "|4          |13271106|\n",
      "|7          |13184068|\n",
      "|2          |270     |\n",
      "+-----------+--------+\n",
      "\n"
     ]
    }
   ],
   "source": [
    "df1.groupby('class_final').count().show(truncate=False)"
   ]
  },
  {
   "cell_type": "code",
   "execution_count": 52,
   "metadata": {},
   "outputs": [
    {
     "data": {
      "text/plain": [
       "16606446"
      ]
     },
     "execution_count": 52,
     "metadata": {},
     "output_type": "execute_result"
    }
   ],
   "source": [
    "13184068 + 3422378 # descartado e inderteminado"
   ]
  },
  {
   "cell_type": "code",
   "execution_count": 53,
   "metadata": {},
   "outputs": [
    {
     "data": {
      "text/plain": [
       "13557942"
      ]
     },
     "execution_count": 53,
     "metadata": {},
     "output_type": "execute_result"
    }
   ],
   "source": [
    "2+268952 +17612+13271106+270 # confirmado"
   ]
  },
  {
   "cell_type": "markdown",
   "metadata": {},
   "source": [
    "### Fiter confirmed\n",
    "\n",
    "'Confirmado' -- > 1\n",
    "\n",
    "'Confirmado Clinico-Epidemiologico' --> 2\n",
    "\n",
    "'Confirmado por Critério Clínico' --> 3\n",
    "\n",
    "'Confirmado Laboratorial' --> 4\n",
    "\n",
    "'Confirmado Clinico-Imagem' --> 5\n",
    "\n",
    "'Síndrome Gripal Não Especificada' --> 6\n",
    "\n",
    "'Descartado' --> 7"
   ]
  },
  {
   "cell_type": "code",
   "execution_count": 46,
   "metadata": {},
   "outputs": [],
   "source": [
    "df1_conf = df1.filter((df1['class_final'] == 1) | (df1['class_final'] == 2) | (df1['class_final'] == 3)| (df1['class_final'] == 4)| (df1['class_final'] == 5))\n",
    "        "
   ]
  },
  {
   "cell_type": "code",
   "execution_count": 47,
   "metadata": {
    "scrolled": true
   },
   "outputs": [
    {
     "data": {
      "text/plain": [
       "13557942"
      ]
     },
     "execution_count": 47,
     "metadata": {},
     "output_type": "execute_result"
    }
   ],
   "source": [
    "df1_conf.count()"
   ]
  },
  {
   "cell_type": "code",
   "execution_count": 49,
   "metadata": {
    "scrolled": true
   },
   "outputs": [
    {
     "name": "stdout",
     "output_type": "stream",
     "text": [
      "+-----------+--------+\n",
      "|class_final|count   |\n",
      "+-----------+--------+\n",
      "|1          |2       |\n",
      "|3          |268952  |\n",
      "|5          |17612   |\n",
      "|4          |13271106|\n",
      "|2          |270     |\n",
      "+-----------+--------+\n",
      "\n"
     ]
    }
   ],
   "source": [
    "df1_conf.groupby('class_final').count().show(truncate=False)"
   ]
  },
  {
   "cell_type": "code",
   "execution_count": null,
   "metadata": {},
   "outputs": [],
   "source": [
    "'Óbito' --> 1\n",
    "'Cura' --> 2\n",
    "'Internado em UTI' --> 3\n",
    "'Internado'), F.lit(3)) \\\n",
    "                  .when((dfs['ev_caso'] == 'Ignorado'), F.lit(9)) \\\n",
    "                  .when((dfs['ev_caso'] == 'Cancelado'), F.lit(4)) \\\n",
    "                  .when((dfs['ev_caso'] == 'Em tratamento domiciliar'), F.lit(5)))"
   ]
  },
  {
   "cell_type": "code",
   "execution_count": 50,
   "metadata": {},
   "outputs": [
    {
     "name": "stdout",
     "output_type": "stream",
     "text": [
      "+-------+-------+\n",
      "|ev_caso|  count|\n",
      "+-------+-------+\n",
      "|   null|2074950|\n",
      "|      1| 105319|\n",
      "|      3|  28503|\n",
      "|      5|1179083|\n",
      "|      9| 655867|\n",
      "|      4| 338059|\n",
      "|      2|9176161|\n",
      "+-------+-------+\n",
      "\n"
     ]
    }
   ],
   "source": [
    "df1_conf.groupby('ev_caso').count().show()"
   ]
  },
  {
   "cell_type": "code",
   "execution_count": null,
   "metadata": {},
   "outputs": [],
   "source": []
  }
 ],
 "metadata": {
  "kernelspec": {
   "display_name": "Python 3",
   "language": "python",
   "name": "python3"
  },
  "language_info": {
   "codemirror_mode": {
    "name": "ipython",
    "version": 3
   },
   "file_extension": ".py",
   "mimetype": "text/x-python",
   "name": "python",
   "nbconvert_exporter": "python",
   "pygments_lexer": "ipython3",
   "version": "3.8.5"
  }
 },
 "nbformat": 4,
 "nbformat_minor": 2
}
